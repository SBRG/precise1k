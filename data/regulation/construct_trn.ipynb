{
 "cells": [
  {
   "cell_type": "markdown",
   "metadata": {
    "toc": true
   },
   "source": [
    "<h1>Table of Contents<span class=\"tocSkip\"></span></h1>\n",
    "<div class=\"toc\"><ul class=\"toc-item\"><li><span><a href=\"#RegulonDB\" data-toc-modified-id=\"RegulonDB-1\"><span class=\"toc-item-num\">1&nbsp;&nbsp;</span>RegulonDB</a></span><ul class=\"toc-item\"><li><span><a href=\"#Convert-RegulonDB-names-to-b-numbers\" data-toc-modified-id=\"Convert-RegulonDB-names-to-b-numbers-1.1\"><span class=\"toc-item-num\">1.1&nbsp;&nbsp;</span>Convert RegulonDB names to b-numbers</a></span></li><li><span><a href=\"#Get-TF-Gene-interactions\" data-toc-modified-id=\"Get-TF-Gene-interactions-1.2\"><span class=\"toc-item-num\">1.2&nbsp;&nbsp;</span>Get TF-Gene interactions</a></span></li><li><span><a href=\"#Get-Sigma-Gene-interactions\" data-toc-modified-id=\"Get-Sigma-Gene-interactions-1.3\"><span class=\"toc-item-num\">1.3&nbsp;&nbsp;</span>Get Sigma-Gene interactions</a></span></li><li><span><a href=\"#Add-smallRNA-regulation\" data-toc-modified-id=\"Add-smallRNA-regulation-1.4\"><span class=\"toc-item-num\">1.4&nbsp;&nbsp;</span>Add smallRNA regulation</a></span></li><li><span><a href=\"#Put-it-all-together\" data-toc-modified-id=\"Put-it-all-together-1.5\"><span class=\"toc-item-num\">1.5&nbsp;&nbsp;</span>Put it all together</a></span></li><li><span><a href=\"#Combine-effects-when-duplicated\" data-toc-modified-id=\"Combine-effects-when-duplicated-1.6\"><span class=\"toc-item-num\">1.6&nbsp;&nbsp;</span>Combine effects when duplicated</a></span></li></ul></li><li><span><a href=\"#Ecocyc\" data-toc-modified-id=\"Ecocyc-2\"><span class=\"toc-item-num\">2&nbsp;&nbsp;</span>Ecocyc</a></span><ul class=\"toc-item\"><li><span><a href=\"#Load-dataset\" data-toc-modified-id=\"Load-dataset-2.1\"><span class=\"toc-item-num\">2.1&nbsp;&nbsp;</span>Load dataset</a></span></li><li><span><a href=\"#Capitalize-first-letter-of-regulator\" data-toc-modified-id=\"Capitalize-first-letter-of-regulator-2.2\"><span class=\"toc-item-num\">2.2&nbsp;&nbsp;</span>Capitalize first letter of regulator</a></span></li><li><span><a href=\"#Rename-a-few-regulators\" data-toc-modified-id=\"Rename-a-few-regulators-2.3\"><span class=\"toc-item-num\">2.3&nbsp;&nbsp;</span>Rename a few regulators</a></span></li><li><span><a href=\"#Format-similar-to-RegulonDB\" data-toc-modified-id=\"Format-similar-to-RegulonDB-2.4\"><span class=\"toc-item-num\">2.4&nbsp;&nbsp;</span>Format similar to RegulonDB</a></span></li></ul></li><li><span><a href=\"#Add-Additional-regulators-that-were-missed-in-the-full-TRN\" data-toc-modified-id=\"Add-Additional-regulators-that-were-missed-in-the-full-TRN-3\"><span class=\"toc-item-num\">3&nbsp;&nbsp;</span>Add Additional regulators that were missed in the full TRN</a></span><ul class=\"toc-item\"><li><span><a href=\"#OmpR\" data-toc-modified-id=\"OmpR-3.1\"><span class=\"toc-item-num\">3.1&nbsp;&nbsp;</span>OmpR</a></span></li><li><span><a href=\"#YieP\" data-toc-modified-id=\"YieP-3.2\"><span class=\"toc-item-num\">3.2&nbsp;&nbsp;</span>YieP</a></span></li><li><span><a href=\"#YgbI\" data-toc-modified-id=\"YgbI-3.3\"><span class=\"toc-item-num\">3.3&nbsp;&nbsp;</span>YgbI</a></span></li><li><span><a href=\"#ppGpp\" data-toc-modified-id=\"ppGpp-3.4\"><span class=\"toc-item-num\">3.4&nbsp;&nbsp;</span>ppGpp</a></span></li></ul></li><li><span><a href=\"#Regulators-from-Ye-Gao's-yTF-ChIP-exo-Studies\" data-toc-modified-id=\"Regulators-from-Ye-Gao's-yTF-ChIP-exo-Studies-4\"><span class=\"toc-item-num\">4&nbsp;&nbsp;</span>Regulators from Ye Gao's yTF ChIP-exo Studies</a></span><ul class=\"toc-item\"><li><span><a href=\"#Remove-YbaO-(same-as-DecR,-which-EcoCyc-has)\" data-toc-modified-id=\"Remove-YbaO-(same-as-DecR,-which-EcoCyc-has)-4.1\"><span class=\"toc-item-num\">4.1&nbsp;&nbsp;</span>Remove YbaO (same as DecR, which EcoCyc has)</a></span></li></ul></li><li><span><a href=\"#Merge-the-TRNs\" data-toc-modified-id=\"Merge-the-TRNs-5\"><span class=\"toc-item-num\">5&nbsp;&nbsp;</span>Merge the TRNs</a></span></li></ul></div>"
   ]
  },
  {
   "cell_type": "code",
   "execution_count": 1,
   "metadata": {},
   "outputs": [],
   "source": [
    "import pandas as pd\n",
    "import numpy as np\n",
    "from tqdm import tqdm_notebook as tqdm\n",
    "import re\n",
    "import os"
   ]
  },
  {
   "cell_type": "markdown",
   "metadata": {},
   "source": [
    "# RegulonDB"
   ]
  },
  {
   "cell_type": "code",
   "execution_count": 2,
   "metadata": {},
   "outputs": [],
   "source": [
    "def read_regulon_file(filename):\n",
    "    # Read file\n",
    "    with open(filename,'r') as f:\n",
    "        lines = f.readlines()\n",
    "    \n",
    "    # Get table start position\n",
    "    comment = True\n",
    "    i = 0\n",
    "    while comment:\n",
    "        if lines[i].startswith('#'):\n",
    "            i += 1\n",
    "        else:\n",
    "            comment=False\n",
    "            \n",
    "#     # Get column names       \n",
    "#     names = [line[5:-1] for line in lines if re.match('# \\d',line)]\n",
    "\n",
    "    return pd.read_csv(filename,index_col=None,skiprows=i,sep='\\t',header=None,#names=names,\n",
    "                       quoting=3)"
   ]
  },
  {
   "cell_type": "markdown",
   "metadata": {},
   "source": [
    "## Convert RegulonDB names to b-numbers"
   ]
  },
  {
   "cell_type": "code",
   "execution_count": 3,
   "metadata": {},
   "outputs": [],
   "source": [
    "DF_gene_info = pd.read_csv('../precise2/gene_info.csv',index_col=0)"
   ]
  },
  {
   "cell_type": "code",
   "execution_count": 4,
   "metadata": {},
   "outputs": [],
   "source": [
    "DF_genes = read_regulon_file('GeneProductSet.txt')\n",
    "DF_genes.columns = ['regdb_id','name','bnumber','left','right','strand','product','ev','pmid','evidence','bnumbers','dbxref']"
   ]
  },
  {
   "cell_type": "code",
   "execution_count": 5,
   "metadata": {},
   "outputs": [
    {
     "data": {
      "text/html": [
       "<div>\n",
       "<style scoped>\n",
       "    .dataframe tbody tr th:only-of-type {\n",
       "        vertical-align: middle;\n",
       "    }\n",
       "\n",
       "    .dataframe tbody tr th {\n",
       "        vertical-align: top;\n",
       "    }\n",
       "\n",
       "    .dataframe thead th {\n",
       "        text-align: right;\n",
       "    }\n",
       "</style>\n",
       "<table border=\"1\" class=\"dataframe\">\n",
       "  <thead>\n",
       "    <tr style=\"text-align: right;\">\n",
       "      <th></th>\n",
       "      <th>gene_name</th>\n",
       "      <th>old_locus_tag</th>\n",
       "      <th>start</th>\n",
       "      <th>end</th>\n",
       "      <th>strand</th>\n",
       "      <th>gene_product</th>\n",
       "      <th>COG</th>\n",
       "      <th>uniprot</th>\n",
       "    </tr>\n",
       "    <tr>\n",
       "      <th>locus_tag</th>\n",
       "      <th></th>\n",
       "      <th></th>\n",
       "      <th></th>\n",
       "      <th></th>\n",
       "      <th></th>\n",
       "      <th></th>\n",
       "      <th></th>\n",
       "      <th></th>\n",
       "    </tr>\n",
       "  </thead>\n",
       "  <tbody>\n",
       "    <tr>\n",
       "      <th>b4053</th>\n",
       "      <td>alr</td>\n",
       "      <td>NaN</td>\n",
       "      <td>4265782</td>\n",
       "      <td>4266861</td>\n",
       "      <td>+</td>\n",
       "      <td>alanine racemase 1</td>\n",
       "      <td>Amino acid transport and metabolism</td>\n",
       "      <td>P0A6B4</td>\n",
       "    </tr>\n",
       "  </tbody>\n",
       "</table>\n",
       "</div>"
      ],
      "text/plain": [
       "          gene_name  old_locus_tag    start      end strand  \\\n",
       "locus_tag                                                     \n",
       "b4053           alr            NaN  4265782  4266861      +   \n",
       "\n",
       "                 gene_product                                  COG uniprot  \n",
       "locus_tag                                                                   \n",
       "b4053      alanine racemase 1  Amino acid transport and metabolism  P0A6B4  "
      ]
     },
     "execution_count": 5,
     "metadata": {},
     "output_type": "execute_result"
    }
   ],
   "source": [
    "# Check that all genes in the gene table have b-numbers\n",
    "DF_gene_info[~DF_gene_info.index.isin(DF_genes.bnumber)]"
   ]
  },
  {
   "cell_type": "code",
   "execution_count": 6,
   "metadata": {},
   "outputs": [],
   "source": [
    "name2num = DF_genes[['name','bnumber']].set_index('name')['bnumber'].to_dict()\n",
    "name2num['alr'] = 'b4053' # Missing in regulonDB bnumber column"
   ]
  },
  {
   "cell_type": "markdown",
   "metadata": {},
   "source": [
    "## Get TF-Gene interactions"
   ]
  },
  {
   "cell_type": "code",
   "execution_count": 7,
   "metadata": {},
   "outputs": [],
   "source": [
    "DF_TF_gene = read_regulon_file('network_tf_gene.txt')\n",
    "DF_TF_gene.columns = ['Regulator','gene_name','effect','ev','evidence']\n",
    "DF_TF_gene.drop('ev',axis=1,inplace=True)\n",
    "\n",
    "# Rename some regulators\n",
    "DF_TF_gene.Regulator.replace({'Dan':'TtdR',\n",
    "                              'MatA':'EcpR',\n",
    "                              'YiaJ':'PlaR',\n",
    "                             'FNR':'Fnr',\n",
    "                             'CRP':'Crp'},inplace=True)\n",
    "DF_TF_gene['source'] = 'RegulonDB_TF'"
   ]
  },
  {
   "cell_type": "markdown",
   "metadata": {},
   "source": [
    "## Get Sigma-Gene interactions"
   ]
  },
  {
   "cell_type": "code",
   "execution_count": 8,
   "metadata": {},
   "outputs": [],
   "source": [
    "DF_sigma = read_regulon_file('network_sigma_gene.txt')\n",
    "DF_sigma.columns = ['Regulator','gene_name','effect','ev','evidence']\n",
    "DF_sigma.drop('evidence',axis=1,inplace=True)\n",
    "\n",
    "# Split up commas in regulator (e.g. Sigma24,Sigma70)\n",
    "DF_sigma = DF_sigma.assign(Regulator=DF_sigma.Regulator.str.split(', ')).explode('Regulator')\n",
    "\n",
    "# Replace Sigma with gene names\n",
    "DF_sigma.Regulator.replace({'Sigma19':'FecI',\n",
    "                            'Sigma24':'RpoE',\n",
    "                            'Sigma28':'FliA',\n",
    "                            'Sigma32':'RpoH',\n",
    "                            'Sigma38':'RpoS',\n",
    "                            'Sigma54':'RpoN',\n",
    "                            'Sigma70':'RpoD'},inplace=True)\n",
    "DF_sigma['source'] = 'RegulonDB_sigma'"
   ]
  },
  {
   "cell_type": "code",
   "execution_count": 9,
   "metadata": {},
   "outputs": [
    {
     "data": {
      "text/html": [
       "<div>\n",
       "<style scoped>\n",
       "    .dataframe tbody tr th:only-of-type {\n",
       "        vertical-align: middle;\n",
       "    }\n",
       "\n",
       "    .dataframe tbody tr th {\n",
       "        vertical-align: top;\n",
       "    }\n",
       "\n",
       "    .dataframe thead th {\n",
       "        text-align: right;\n",
       "    }\n",
       "</style>\n",
       "<table border=\"1\" class=\"dataframe\">\n",
       "  <thead>\n",
       "    <tr style=\"text-align: right;\">\n",
       "      <th></th>\n",
       "      <th>Regulator</th>\n",
       "      <th>gene_name</th>\n",
       "      <th>effect</th>\n",
       "      <th>ev</th>\n",
       "      <th>source</th>\n",
       "    </tr>\n",
       "  </thead>\n",
       "  <tbody>\n",
       "    <tr>\n",
       "      <th>0</th>\n",
       "      <td>RpoE</td>\n",
       "      <td>ahpF</td>\n",
       "      <td>activator</td>\n",
       "      <td>[AIPP, TIM]</td>\n",
       "      <td>RegulonDB_sigma</td>\n",
       "    </tr>\n",
       "    <tr>\n",
       "      <th>1</th>\n",
       "      <td>RpoE</td>\n",
       "      <td>apaG</td>\n",
       "      <td>activator</td>\n",
       "      <td>[NAS, TASES]</td>\n",
       "      <td>RegulonDB_sigma</td>\n",
       "    </tr>\n",
       "    <tr>\n",
       "      <th>2</th>\n",
       "      <td>RpoE</td>\n",
       "      <td>apaH</td>\n",
       "      <td>activator</td>\n",
       "      <td>[NAS, TASES]</td>\n",
       "      <td>RegulonDB_sigma</td>\n",
       "    </tr>\n",
       "    <tr>\n",
       "      <th>3</th>\n",
       "      <td>RpoE</td>\n",
       "      <td>bacA</td>\n",
       "      <td>activator</td>\n",
       "      <td>[AIPP, TIM]</td>\n",
       "      <td>RegulonDB_sigma</td>\n",
       "    </tr>\n",
       "    <tr>\n",
       "      <th>4</th>\n",
       "      <td>RpoE</td>\n",
       "      <td>bamA</td>\n",
       "      <td>activator</td>\n",
       "      <td>[AIPP, HIPP, RS-EPT-CBR, TIM]</td>\n",
       "      <td>RegulonDB_sigma</td>\n",
       "    </tr>\n",
       "  </tbody>\n",
       "</table>\n",
       "</div>"
      ],
      "text/plain": [
       "  Regulator gene_name     effect                             ev  \\\n",
       "0      RpoE      ahpF  activator                    [AIPP, TIM]   \n",
       "1      RpoE      apaG  activator                   [NAS, TASES]   \n",
       "2      RpoE      apaH  activator                   [NAS, TASES]   \n",
       "3      RpoE      bacA  activator                    [AIPP, TIM]   \n",
       "4      RpoE      bamA  activator  [AIPP, HIPP, RS-EPT-CBR, TIM]   \n",
       "\n",
       "            source  \n",
       "0  RegulonDB_sigma  \n",
       "1  RegulonDB_sigma  \n",
       "2  RegulonDB_sigma  \n",
       "3  RegulonDB_sigma  \n",
       "4  RegulonDB_sigma  "
      ]
     },
     "execution_count": 9,
     "metadata": {},
     "output_type": "execute_result"
    }
   ],
   "source": [
    "DF_sigma.head()"
   ]
  },
  {
   "cell_type": "markdown",
   "metadata": {},
   "source": [
    "## Add smallRNA regulation"
   ]
  },
  {
   "cell_type": "code",
   "execution_count": 10,
   "metadata": {},
   "outputs": [],
   "source": [
    "DF_srna = read_regulon_file('sRNABindingSiteSet.txt')\n",
    "DF_srna.columns = ['regdb_id','Regulator','gene_name','left','right','strand','effect','seq','type','mechanism','ev','evidence']\n",
    "DF_srna = DF_srna[['Regulator','gene_name','effect','evidence']]\n",
    "DF_srna['source'] = 'RegulonDB_sRNA'"
   ]
  },
  {
   "cell_type": "code",
   "execution_count": 11,
   "metadata": {},
   "outputs": [
    {
     "data": {
      "text/html": [
       "<div>\n",
       "<style scoped>\n",
       "    .dataframe tbody tr th:only-of-type {\n",
       "        vertical-align: middle;\n",
       "    }\n",
       "\n",
       "    .dataframe tbody tr th {\n",
       "        vertical-align: top;\n",
       "    }\n",
       "\n",
       "    .dataframe thead th {\n",
       "        text-align: right;\n",
       "    }\n",
       "</style>\n",
       "<table border=\"1\" class=\"dataframe\">\n",
       "  <thead>\n",
       "    <tr style=\"text-align: right;\">\n",
       "      <th></th>\n",
       "      <th>Regulator</th>\n",
       "      <th>gene_name</th>\n",
       "      <th>effect</th>\n",
       "      <th>evidence</th>\n",
       "      <th>source</th>\n",
       "    </tr>\n",
       "  </thead>\n",
       "  <tbody>\n",
       "    <tr>\n",
       "      <th>0</th>\n",
       "      <td>ryhB</td>\n",
       "      <td>sodB</td>\n",
       "      <td>-</td>\n",
       "      <td>NaN</td>\n",
       "      <td>RegulonDB_sRNA</td>\n",
       "    </tr>\n",
       "    <tr>\n",
       "      <th>1</th>\n",
       "      <td>ryhB</td>\n",
       "      <td>uof</td>\n",
       "      <td>-</td>\n",
       "      <td>Weak</td>\n",
       "      <td>RegulonDB_sRNA</td>\n",
       "    </tr>\n",
       "    <tr>\n",
       "      <th>2</th>\n",
       "      <td>ryhB</td>\n",
       "      <td>sdhD</td>\n",
       "      <td>-</td>\n",
       "      <td>Weak</td>\n",
       "      <td>RegulonDB_sRNA</td>\n",
       "    </tr>\n",
       "    <tr>\n",
       "      <th>3</th>\n",
       "      <td>ryhB</td>\n",
       "      <td>bfr</td>\n",
       "      <td>-</td>\n",
       "      <td>NaN</td>\n",
       "      <td>RegulonDB_sRNA</td>\n",
       "    </tr>\n",
       "    <tr>\n",
       "      <th>4</th>\n",
       "      <td>ryhB</td>\n",
       "      <td>fumA</td>\n",
       "      <td>-</td>\n",
       "      <td>Weak</td>\n",
       "      <td>RegulonDB_sRNA</td>\n",
       "    </tr>\n",
       "  </tbody>\n",
       "</table>\n",
       "</div>"
      ],
      "text/plain": [
       "  Regulator gene_name effect evidence          source\n",
       "0      ryhB      sodB      -      NaN  RegulonDB_sRNA\n",
       "1      ryhB       uof      -     Weak  RegulonDB_sRNA\n",
       "2      ryhB      sdhD      -     Weak  RegulonDB_sRNA\n",
       "3      ryhB       bfr      -      NaN  RegulonDB_sRNA\n",
       "4      ryhB      fumA      -     Weak  RegulonDB_sRNA"
      ]
     },
     "execution_count": 11,
     "metadata": {},
     "output_type": "execute_result"
    }
   ],
   "source": [
    "DF_srna.head()"
   ]
  },
  {
   "cell_type": "markdown",
   "metadata": {},
   "source": [
    "## Put it all together"
   ]
  },
  {
   "cell_type": "code",
   "execution_count": 12,
   "metadata": {},
   "outputs": [],
   "source": [
    "DF_combined = pd.concat([DF_TF_gene,DF_sigma,DF_srna])\n",
    "\n",
    "# Replace effects with symbols\n",
    "DF_combined.effect.replace({'repressor':'-','activator':'+','unknown':'?',None:'?'},inplace=True)\n",
    "\n",
    "# Replace evidence with numbers\n",
    "DF_combined.evidence.replace({'Weak':0,'Strong':1,'Confirmed':2},inplace=True)\n",
    "\n",
    "# Fill empty evidence with Weak\n",
    "DF_combined.evidence.fillna(0,inplace=True)\n",
    "\n",
    "# Add b-numbers and remove genes without a b-number (cryptic genes)\n",
    "DF_combined['bnumber'] = DF_combined.gene_name.replace(name2num)\n",
    "DF_combined.bnumber.replace({'None':np.nan},inplace=True)\n",
    "DF_combined = DF_combined[DF_combined.bnumber.notnull()]"
   ]
  },
  {
   "cell_type": "code",
   "execution_count": 13,
   "metadata": {},
   "outputs": [
    {
     "data": {
      "text/html": [
       "<div>\n",
       "<style scoped>\n",
       "    .dataframe tbody tr th:only-of-type {\n",
       "        vertical-align: middle;\n",
       "    }\n",
       "\n",
       "    .dataframe tbody tr th {\n",
       "        vertical-align: top;\n",
       "    }\n",
       "\n",
       "    .dataframe thead th {\n",
       "        text-align: right;\n",
       "    }\n",
       "</style>\n",
       "<table border=\"1\" class=\"dataframe\">\n",
       "  <thead>\n",
       "    <tr style=\"text-align: right;\">\n",
       "      <th></th>\n",
       "      <th>Regulator</th>\n",
       "      <th>gene_name</th>\n",
       "      <th>effect</th>\n",
       "      <th>evidence</th>\n",
       "      <th>source</th>\n",
       "      <th>ev</th>\n",
       "      <th>bnumber</th>\n",
       "    </tr>\n",
       "  </thead>\n",
       "  <tbody>\n",
       "    <tr>\n",
       "      <th>0</th>\n",
       "      <td>AccB</td>\n",
       "      <td>accB</td>\n",
       "      <td>-</td>\n",
       "      <td>0.0</td>\n",
       "      <td>RegulonDB_TF</td>\n",
       "      <td>NaN</td>\n",
       "      <td>b3255</td>\n",
       "    </tr>\n",
       "    <tr>\n",
       "      <th>1</th>\n",
       "      <td>AccB</td>\n",
       "      <td>accC</td>\n",
       "      <td>-</td>\n",
       "      <td>0.0</td>\n",
       "      <td>RegulonDB_TF</td>\n",
       "      <td>NaN</td>\n",
       "      <td>b3256</td>\n",
       "    </tr>\n",
       "    <tr>\n",
       "      <th>2</th>\n",
       "      <td>AcrR</td>\n",
       "      <td>acrA</td>\n",
       "      <td>-</td>\n",
       "      <td>1.0</td>\n",
       "      <td>RegulonDB_TF</td>\n",
       "      <td>NaN</td>\n",
       "      <td>b0463</td>\n",
       "    </tr>\n",
       "    <tr>\n",
       "      <th>3</th>\n",
       "      <td>AcrR</td>\n",
       "      <td>acrB</td>\n",
       "      <td>-</td>\n",
       "      <td>1.0</td>\n",
       "      <td>RegulonDB_TF</td>\n",
       "      <td>NaN</td>\n",
       "      <td>b0462</td>\n",
       "    </tr>\n",
       "    <tr>\n",
       "      <th>4</th>\n",
       "      <td>AcrR</td>\n",
       "      <td>acrR</td>\n",
       "      <td>-</td>\n",
       "      <td>1.0</td>\n",
       "      <td>RegulonDB_TF</td>\n",
       "      <td>NaN</td>\n",
       "      <td>b0464</td>\n",
       "    </tr>\n",
       "  </tbody>\n",
       "</table>\n",
       "</div>"
      ],
      "text/plain": [
       "  Regulator gene_name effect  evidence        source   ev bnumber\n",
       "0      AccB      accB      -       0.0  RegulonDB_TF  NaN   b3255\n",
       "1      AccB      accC      -       0.0  RegulonDB_TF  NaN   b3256\n",
       "2      AcrR      acrA      -       1.0  RegulonDB_TF  NaN   b0463\n",
       "3      AcrR      acrB      -       1.0  RegulonDB_TF  NaN   b0462\n",
       "4      AcrR      acrR      -       1.0  RegulonDB_TF  NaN   b0464"
      ]
     },
     "execution_count": 13,
     "metadata": {},
     "output_type": "execute_result"
    }
   ],
   "source": [
    "DF_combined.head()"
   ]
  },
  {
   "cell_type": "markdown",
   "metadata": {},
   "source": [
    "## Combine effects when duplicated"
   ]
  },
  {
   "cell_type": "code",
   "execution_count": 14,
   "metadata": {},
   "outputs": [],
   "source": [
    "list2struct = []\n",
    "for (reg,gene,bnum,source),group in DF_combined.groupby(['Regulator','gene_name','bnumber','source']):\n",
    "    evidence = max(group.evidence)\n",
    "    effect = ''.join(set(group.effect))\n",
    "    if effect == '-+' or effect == '+-':\n",
    "        effect = '?'\n",
    "    elif effect == '?-':\n",
    "        effect = '-'\n",
    "    elif effect == '-?':\n",
    "        effect = '-'\n",
    "    elif effect == '?+':\n",
    "        effect = '+'\n",
    "    elif effect == '+?':\n",
    "        effect = '+'\n",
    "    list2struct.append([reg,gene,bnum,effect,evidence,source])\n",
    "\n",
    "DF_regulonDB = pd.DataFrame(list2struct,columns=['regulator','gene_name','gene_id','effect','evidence','source'])\n",
    "\n",
    "# Ensure that all interactions are unique\n",
    "assert(len(DF_regulonDB) == len(DF_regulonDB.drop_duplicates(['regulator','gene_id'])))"
   ]
  },
  {
   "cell_type": "markdown",
   "metadata": {},
   "source": [
    "# Ecocyc"
   ]
  },
  {
   "cell_type": "markdown",
   "metadata": {},
   "source": [
    "## Load dataset"
   ]
  },
  {
   "cell_type": "code",
   "execution_count": 15,
   "metadata": {},
   "outputs": [],
   "source": [
    "DF_raw_ecocyc = pd.read_csv('ecocyc_regulator_table.txt',sep='\\t')\n",
    "DF_raw_ecocyc.columns = ['ecocyc_tf','full_regulator','ecocyc_reg','regulator','ecocyc_genes','gene_name','gene_id']\n",
    "DF_raw_ecocyc = DF_raw_ecocyc[['full_regulator','regulator','gene_name','gene_id']]\n",
    "\n",
    "# Add non-gene regulators\n",
    "DF_raw_ecocyc.regulator = DF_raw_ecocyc.regulator.fillna(DF_raw_ecocyc.full_regulator)"
   ]
  },
  {
   "cell_type": "code",
   "execution_count": 16,
   "metadata": {},
   "outputs": [
    {
     "data": {
      "text/html": [
       "<div>\n",
       "<style scoped>\n",
       "    .dataframe tbody tr th:only-of-type {\n",
       "        vertical-align: middle;\n",
       "    }\n",
       "\n",
       "    .dataframe tbody tr th {\n",
       "        vertical-align: top;\n",
       "    }\n",
       "\n",
       "    .dataframe thead th {\n",
       "        text-align: right;\n",
       "    }\n",
       "</style>\n",
       "<table border=\"1\" class=\"dataframe\">\n",
       "  <thead>\n",
       "    <tr style=\"text-align: right;\">\n",
       "      <th></th>\n",
       "      <th>full_regulator</th>\n",
       "      <th>regulator</th>\n",
       "      <th>gene_name</th>\n",
       "      <th>gene_id</th>\n",
       "    </tr>\n",
       "  </thead>\n",
       "  <tbody>\n",
       "    <tr>\n",
       "      <th>0</th>\n",
       "      <td>30S ribosomal subunit protein S1</td>\n",
       "      <td>rpsA</td>\n",
       "      <td>rpsA</td>\n",
       "      <td>b0911</td>\n",
       "    </tr>\n",
       "    <tr>\n",
       "      <th>1</th>\n",
       "      <td>30S ribosomal subunit protein S15</td>\n",
       "      <td>rpsO</td>\n",
       "      <td>rpsO</td>\n",
       "      <td>b3165</td>\n",
       "    </tr>\n",
       "    <tr>\n",
       "      <th>2</th>\n",
       "      <td>30S ribosomal subunit protein S2</td>\n",
       "      <td>rpsB</td>\n",
       "      <td>tsf // rpsB // tff</td>\n",
       "      <td>b0170 // b0169 // b4414</td>\n",
       "    </tr>\n",
       "    <tr>\n",
       "      <th>3</th>\n",
       "      <td>30S ribosomal subunit protein S4</td>\n",
       "      <td>rpsD</td>\n",
       "      <td>rplQ // rpsK // rpsD // rpsM</td>\n",
       "      <td>b3294 // b3297 // b3296 // b3298</td>\n",
       "    </tr>\n",
       "    <tr>\n",
       "      <th>4</th>\n",
       "      <td>30S ribosomal subunit protein S7</td>\n",
       "      <td>rpsG</td>\n",
       "      <td>fusA // tufA // rpsG // rpsL</td>\n",
       "      <td>b3340 // b3339 // b3341 // b3342</td>\n",
       "    </tr>\n",
       "  </tbody>\n",
       "</table>\n",
       "</div>"
      ],
      "text/plain": [
       "                      full_regulator regulator                     gene_name  \\\n",
       "0   30S ribosomal subunit protein S1      rpsA                          rpsA   \n",
       "1  30S ribosomal subunit protein S15      rpsO                          rpsO   \n",
       "2   30S ribosomal subunit protein S2      rpsB            tsf // rpsB // tff   \n",
       "3   30S ribosomal subunit protein S4      rpsD  rplQ // rpsK // rpsD // rpsM   \n",
       "4   30S ribosomal subunit protein S7      rpsG  fusA // tufA // rpsG // rpsL   \n",
       "\n",
       "                            gene_id  \n",
       "0                             b0911  \n",
       "1                             b3165  \n",
       "2           b0170 // b0169 // b4414  \n",
       "3  b3294 // b3297 // b3296 // b3298  \n",
       "4  b3340 // b3339 // b3341 // b3342  "
      ]
     },
     "execution_count": 16,
     "metadata": {},
     "output_type": "execute_result"
    }
   ],
   "source": [
    "DF_raw_ecocyc.head()"
   ]
  },
  {
   "cell_type": "markdown",
   "metadata": {},
   "source": [
    "## Capitalize first letter of regulator"
   ]
  },
  {
   "cell_type": "code",
   "execution_count": 17,
   "metadata": {},
   "outputs": [],
   "source": [
    "# Ignore sRNAs\n",
    "sRNA_list = DF_srna.Regulator.unique()\n",
    "\n",
    "def capitalize_proteins(x):\n",
    "    if x in sRNA_list:\n",
    "        return x\n",
    "    else:\n",
    "        return x[0].upper()+x[1:]\n",
    "\n",
    "DF_raw_ecocyc.regulator = DF_raw_ecocyc.regulator.apply(capitalize_proteins)"
   ]
  },
  {
   "cell_type": "markdown",
   "metadata": {},
   "source": [
    "## Rename a few regulators"
   ]
  },
  {
   "cell_type": "code",
   "execution_count": 18,
   "metadata": {},
   "outputs": [],
   "source": [
    "DF_raw_ecocyc.regulator = DF_raw_ecocyc.regulator.replace({'H<SUP>+</SUP>':'H+',\n",
    "                                                           'Mn<SUP>2+</SUP>':'Mn2+',\n",
    "                                                           '<i>S</i>-adenosyl-L-methionine':'SAM',\n",
    "                                                           'An L-histidyl-[tRNA<SUP>His</SUP>]':'His-tRNA',\n",
    "                                                           'An L-isoleucyl-[tRNA<SUP>Ile</SUP>]':'Ile-tRNA',\n",
    "                                                           'An L-leucyl-[tRNA<SUP>Leu</SUP>]':'Leu-tRNA',\n",
    "                                                           'An L-phenylalanyl-[tRNA<SUP>Phe</SUP>]':'Phe-tRNA',\n",
    "                                                           'An L-threonyl-[tRNA<SUP>Thr</SUP>]':'Thr-tRNA',\n",
    "                                                           'An L-tryptophanyl-[tRNA<SUP>Trp</SUP>]':'Trp-tRNA',\n",
    "                                                           'An L-valyl-[tRNA<SUP>Val</SUP>]':'Val-tRNA',\n",
    "                                                           'Hns':'H-NS',\n",
    "                                                           'GlnG':'NtrC',\n",
    "                                                           'PpGpp':'ppGpp',\n",
    "                                                           'AccA // accD':'AccDA',\n",
    "                                                           'Sxy // crp':'CRP-Sxy',\n",
    "                                                           'YafQ // dinJ':'DinJ-YafQ',\n",
    "                                                           'HupA // hupB':'HU',\n",
    "                                                           'IhfA // ihfB':'IHF',\n",
    "                                                           'FlhD // flhC':'FlhDC',\n",
    "                                                           'RcsB // gadE':'GadE-RcsB',\n",
    "                                                           'HigA // higB':'HigBA',\n",
    "                                                           'HipB // hipA':'HipAB',\n",
    "                                                           'MazF // mazE':'MazE-MazF',\n",
    "                                                           'RcsB // rcsA':'RcsAB',\n",
    "                                                           'BglJ // rcsB':'RcsB-BglJ',\n",
    "                                                           'RelB // relE':'RelB-RelE',\n",
    "                                                           'RpsR // rpsF':'RpsR-RpsF',\n",
    "                                                           'SelB // selC':'SelB-Sec-tRNA',\n",
    "                                                           'YoeB // yefM':'YefM-YoeB'\n",
    "                                                           })"
   ]
  },
  {
   "cell_type": "markdown",
   "metadata": {},
   "source": [
    "## Format similar to RegulonDB"
   ]
  },
  {
   "cell_type": "code",
   "execution_count": 19,
   "metadata": {},
   "outputs": [],
   "source": [
    "list2struct = []\n",
    "for i,row in DF_raw_ecocyc.iterrows():\n",
    "    genes = row.gene_name.split(' // ')\n",
    "    for phantom in ['sroD','raiZ','tpke11','insCD5']:\n",
    "        if phantom in genes:\n",
    "            genes.remove(phantom)\n",
    "        \n",
    "    bnums = row.gene_id.split(' // ')\n",
    "    assert(len(genes) == len(bnums))\n",
    "    for j in range(len(genes)):\n",
    "        list2struct.append([row.regulator,genes[j],bnums[j]])\n",
    "DF_ecocyc = pd.DataFrame(list2struct,columns=['regulator','gene_name','gene_id'])"
   ]
  },
  {
   "cell_type": "code",
   "execution_count": 20,
   "metadata": {},
   "outputs": [],
   "source": [
    "DF_ecocyc = DF_ecocyc[['regulator','gene_name','gene_id']]\n",
    "DF_ecocyc['evidence'] = None\n",
    "DF_ecocyc['effect'] = None\n",
    "DF_ecocyc['source'] = 'Ecocyc'"
   ]
  },
  {
   "cell_type": "code",
   "execution_count": 21,
   "metadata": {},
   "outputs": [
    {
     "data": {
      "text/html": [
       "<div>\n",
       "<style scoped>\n",
       "    .dataframe tbody tr th:only-of-type {\n",
       "        vertical-align: middle;\n",
       "    }\n",
       "\n",
       "    .dataframe tbody tr th {\n",
       "        vertical-align: top;\n",
       "    }\n",
       "\n",
       "    .dataframe thead th {\n",
       "        text-align: right;\n",
       "    }\n",
       "</style>\n",
       "<table border=\"1\" class=\"dataframe\">\n",
       "  <thead>\n",
       "    <tr style=\"text-align: right;\">\n",
       "      <th></th>\n",
       "      <th>regulator</th>\n",
       "      <th>gene_name</th>\n",
       "      <th>gene_id</th>\n",
       "      <th>evidence</th>\n",
       "      <th>effect</th>\n",
       "      <th>source</th>\n",
       "    </tr>\n",
       "  </thead>\n",
       "  <tbody>\n",
       "    <tr>\n",
       "      <th>0</th>\n",
       "      <td>RpsA</td>\n",
       "      <td>rpsA</td>\n",
       "      <td>b0911</td>\n",
       "      <td>None</td>\n",
       "      <td>None</td>\n",
       "      <td>Ecocyc</td>\n",
       "    </tr>\n",
       "    <tr>\n",
       "      <th>1</th>\n",
       "      <td>RpsO</td>\n",
       "      <td>rpsO</td>\n",
       "      <td>b3165</td>\n",
       "      <td>None</td>\n",
       "      <td>None</td>\n",
       "      <td>Ecocyc</td>\n",
       "    </tr>\n",
       "    <tr>\n",
       "      <th>2</th>\n",
       "      <td>RpsB</td>\n",
       "      <td>tsf</td>\n",
       "      <td>b0170</td>\n",
       "      <td>None</td>\n",
       "      <td>None</td>\n",
       "      <td>Ecocyc</td>\n",
       "    </tr>\n",
       "    <tr>\n",
       "      <th>3</th>\n",
       "      <td>RpsB</td>\n",
       "      <td>rpsB</td>\n",
       "      <td>b0169</td>\n",
       "      <td>None</td>\n",
       "      <td>None</td>\n",
       "      <td>Ecocyc</td>\n",
       "    </tr>\n",
       "    <tr>\n",
       "      <th>4</th>\n",
       "      <td>RpsB</td>\n",
       "      <td>tff</td>\n",
       "      <td>b4414</td>\n",
       "      <td>None</td>\n",
       "      <td>None</td>\n",
       "      <td>Ecocyc</td>\n",
       "    </tr>\n",
       "  </tbody>\n",
       "</table>\n",
       "</div>"
      ],
      "text/plain": [
       "  regulator gene_name gene_id evidence effect  source\n",
       "0      RpsA      rpsA   b0911     None   None  Ecocyc\n",
       "1      RpsO      rpsO   b3165     None   None  Ecocyc\n",
       "2      RpsB       tsf   b0170     None   None  Ecocyc\n",
       "3      RpsB      rpsB   b0169     None   None  Ecocyc\n",
       "4      RpsB       tff   b4414     None   None  Ecocyc"
      ]
     },
     "execution_count": 21,
     "metadata": {},
     "output_type": "execute_result"
    }
   ],
   "source": [
    "DF_ecocyc.head()"
   ]
  },
  {
   "cell_type": "markdown",
   "metadata": {},
   "source": [
    "# Add Additional regulators that were missed in the full TRN"
   ]
  },
  {
   "cell_type": "markdown",
   "metadata": {},
   "source": [
    "## OmpR"
   ]
  },
  {
   "cell_type": "code",
   "execution_count": 22,
   "metadata": {},
   "outputs": [],
   "source": [
    "ompR_act = ['ompF','csgD','csgE','csgF','csgG','narU','narZ','narY','narW','narV','dtpA','znuA','ompC','micF']\n",
    "ompR_rep = ['copA','nmpC','yccT','htpX','yobB','exoX','nuoN','galP','alx','malE','malF','malG']"
   ]
  },
  {
   "cell_type": "code",
   "execution_count": 23,
   "metadata": {},
   "outputs": [],
   "source": [
    "list2struct = [['OmpR',gene,name2num[gene],1,'+','PMID:28526842'] for gene in ompR_act] + \\\n",
    "             [['OmpR',gene,name2num[gene],1,'-','PMID:28526842'] for gene in ompR_rep]"
   ]
  },
  {
   "cell_type": "code",
   "execution_count": 24,
   "metadata": {},
   "outputs": [],
   "source": [
    "DF_ompR = pd.DataFrame(list2struct,columns=DF_ecocyc.columns)"
   ]
  },
  {
   "cell_type": "markdown",
   "metadata": {},
   "source": [
    "## YieP"
   ]
  },
  {
   "cell_type": "code",
   "execution_count": 25,
   "metadata": {},
   "outputs": [],
   "source": [
    "yieP_rep = ['ykgE','ykgF','ykgG','yohJ','yohK','adiY']\n",
    "list2struct = [['YieP',gene,name2num[gene],1,'-','PMID:33149261'] for gene in yieP_rep]\n",
    "DF_yieP = pd.DataFrame(list2struct,columns=DF_ecocyc.columns)"
   ]
  },
  {
   "cell_type": "markdown",
   "metadata": {},
   "source": [
    "## YgbI"
   ]
  },
  {
   "cell_type": "code",
   "execution_count": 26,
   "metadata": {},
   "outputs": [],
   "source": [
    "ygbI_rep = ['ygbI','ygbJ','ygbK','ygbL','ygbM','ygbN']\n",
    "list2struct = [['YgbI',gene,name2num[gene],1,'-','PMID:31797920'] for gene in ygbI_rep]\n",
    "DF_ygbI = pd.DataFrame(list2struct,columns=DF_ecocyc.columns)"
   ]
  },
  {
   "cell_type": "markdown",
   "metadata": {},
   "source": [
    "## ppGpp"
   ]
  },
  {
   "cell_type": "code",
   "execution_count": 27,
   "metadata": {},
   "outputs": [
    {
     "data": {
      "text/plain": [
       "757"
      ]
     },
     "execution_count": 27,
     "metadata": {},
     "output_type": "execute_result"
    }
   ],
   "source": [
    "# Load dataset - Downloaded from Sanchez-Vasquez et al 2019\n",
    "DF_ppGpp = pd.read_excel('dataset_s01_from_sanchez_vasquez_2019.xlsx',engine='openpyxl',sheet_name='Data')\n",
    "\n",
    "# Get 757 genes described to be directly regulated by ppGpp\n",
    "ppGpp_act = DF_ppGpp[DF_ppGpp['1+2+ 5 min Category'] == 'A'].Synonym.values\n",
    "ppGpp_rep = DF_ppGpp[DF_ppGpp['1+2+ 5 min Category'] == 'B'].Synonym.values\n",
    "len(ppGpp_act)+len(ppGpp_rep)"
   ]
  },
  {
   "cell_type": "code",
   "execution_count": 28,
   "metadata": {},
   "outputs": [],
   "source": [
    "num2name = {v:k for k,v in name2num.items()}"
   ]
  },
  {
   "cell_type": "code",
   "execution_count": 29,
   "metadata": {},
   "outputs": [],
   "source": [
    "list2struct = [['ppGpp',num2name[gene],gene,1,'+','PMID:30971496'] for gene in ppGpp_act] + \\\n",
    "             [['ppGpp',num2name[gene],gene,1,'-','PMID:30971496'] for gene in ppGpp_rep]"
   ]
  },
  {
   "cell_type": "code",
   "execution_count": 30,
   "metadata": {},
   "outputs": [],
   "source": [
    "DF_ppGpp = pd.DataFrame(list2struct,columns=DF_ecocyc.columns)"
   ]
  },
  {
   "cell_type": "code",
   "execution_count": 31,
   "metadata": {},
   "outputs": [
    {
     "data": {
      "text/html": [
       "<div>\n",
       "<style scoped>\n",
       "    .dataframe tbody tr th:only-of-type {\n",
       "        vertical-align: middle;\n",
       "    }\n",
       "\n",
       "    .dataframe tbody tr th {\n",
       "        vertical-align: top;\n",
       "    }\n",
       "\n",
       "    .dataframe thead th {\n",
       "        text-align: right;\n",
       "    }\n",
       "</style>\n",
       "<table border=\"1\" class=\"dataframe\">\n",
       "  <thead>\n",
       "    <tr style=\"text-align: right;\">\n",
       "      <th></th>\n",
       "      <th>regulator</th>\n",
       "      <th>gene_name</th>\n",
       "      <th>gene_id</th>\n",
       "      <th>evidence</th>\n",
       "      <th>effect</th>\n",
       "      <th>source</th>\n",
       "    </tr>\n",
       "  </thead>\n",
       "  <tbody>\n",
       "    <tr>\n",
       "      <th>0</th>\n",
       "      <td>ppGpp</td>\n",
       "      <td>ydgI</td>\n",
       "      <td>b1605</td>\n",
       "      <td>1</td>\n",
       "      <td>+</td>\n",
       "      <td>PMID:30971496</td>\n",
       "    </tr>\n",
       "    <tr>\n",
       "      <th>1</th>\n",
       "      <td>ppGpp</td>\n",
       "      <td>mgtA</td>\n",
       "      <td>b4242</td>\n",
       "      <td>1</td>\n",
       "      <td>+</td>\n",
       "      <td>PMID:30971496</td>\n",
       "    </tr>\n",
       "    <tr>\n",
       "      <th>2</th>\n",
       "      <td>ppGpp</td>\n",
       "      <td>deaD</td>\n",
       "      <td>b3162</td>\n",
       "      <td>1</td>\n",
       "      <td>+</td>\n",
       "      <td>PMID:30971496</td>\n",
       "    </tr>\n",
       "    <tr>\n",
       "      <th>3</th>\n",
       "      <td>ppGpp</td>\n",
       "      <td>lysP</td>\n",
       "      <td>b2156</td>\n",
       "      <td>1</td>\n",
       "      <td>+</td>\n",
       "      <td>PMID:30971496</td>\n",
       "    </tr>\n",
       "    <tr>\n",
       "      <th>4</th>\n",
       "      <td>ppGpp</td>\n",
       "      <td>ybiT</td>\n",
       "      <td>b0820</td>\n",
       "      <td>1</td>\n",
       "      <td>+</td>\n",
       "      <td>PMID:30971496</td>\n",
       "    </tr>\n",
       "    <tr>\n",
       "      <th>...</th>\n",
       "      <td>...</td>\n",
       "      <td>...</td>\n",
       "      <td>...</td>\n",
       "      <td>...</td>\n",
       "      <td>...</td>\n",
       "      <td>...</td>\n",
       "    </tr>\n",
       "    <tr>\n",
       "      <th>752</th>\n",
       "      <td>ppGpp</td>\n",
       "      <td>eutD</td>\n",
       "      <td>b2458</td>\n",
       "      <td>1</td>\n",
       "      <td>-</td>\n",
       "      <td>PMID:30971496</td>\n",
       "    </tr>\n",
       "    <tr>\n",
       "      <th>753</th>\n",
       "      <td>ppGpp</td>\n",
       "      <td>gltA</td>\n",
       "      <td>b0720</td>\n",
       "      <td>1</td>\n",
       "      <td>-</td>\n",
       "      <td>PMID:30971496</td>\n",
       "    </tr>\n",
       "    <tr>\n",
       "      <th>754</th>\n",
       "      <td>ppGpp</td>\n",
       "      <td>katG</td>\n",
       "      <td>b3942</td>\n",
       "      <td>1</td>\n",
       "      <td>-</td>\n",
       "      <td>PMID:30971496</td>\n",
       "    </tr>\n",
       "    <tr>\n",
       "      <th>755</th>\n",
       "      <td>ppGpp</td>\n",
       "      <td>yafD</td>\n",
       "      <td>b0209</td>\n",
       "      <td>1</td>\n",
       "      <td>-</td>\n",
       "      <td>PMID:30971496</td>\n",
       "    </tr>\n",
       "    <tr>\n",
       "      <th>756</th>\n",
       "      <td>ppGpp</td>\n",
       "      <td>putA</td>\n",
       "      <td>b1014</td>\n",
       "      <td>1</td>\n",
       "      <td>-</td>\n",
       "      <td>PMID:30971496</td>\n",
       "    </tr>\n",
       "  </tbody>\n",
       "</table>\n",
       "<p>757 rows × 6 columns</p>\n",
       "</div>"
      ],
      "text/plain": [
       "    regulator gene_name gene_id  evidence effect         source\n",
       "0       ppGpp      ydgI   b1605         1      +  PMID:30971496\n",
       "1       ppGpp      mgtA   b4242         1      +  PMID:30971496\n",
       "2       ppGpp      deaD   b3162         1      +  PMID:30971496\n",
       "3       ppGpp      lysP   b2156         1      +  PMID:30971496\n",
       "4       ppGpp      ybiT   b0820         1      +  PMID:30971496\n",
       "..        ...       ...     ...       ...    ...            ...\n",
       "752     ppGpp      eutD   b2458         1      -  PMID:30971496\n",
       "753     ppGpp      gltA   b0720         1      -  PMID:30971496\n",
       "754     ppGpp      katG   b3942         1      -  PMID:30971496\n",
       "755     ppGpp      yafD   b0209         1      -  PMID:30971496\n",
       "756     ppGpp      putA   b1014         1      -  PMID:30971496\n",
       "\n",
       "[757 rows x 6 columns]"
      ]
     },
     "execution_count": 31,
     "metadata": {},
     "output_type": "execute_result"
    }
   ],
   "source": [
    "DF_ppGpp"
   ]
  },
  {
   "cell_type": "markdown",
   "metadata": {},
   "source": [
    "# Regulators from Ye Gao's yTF ChIP-exo Studies"
   ]
  },
  {
   "cell_type": "code",
   "execution_count": 32,
   "metadata": {},
   "outputs": [
    {
     "data": {
      "text/html": [
       "<div>\n",
       "<style scoped>\n",
       "    .dataframe tbody tr th:only-of-type {\n",
       "        vertical-align: middle;\n",
       "    }\n",
       "\n",
       "    .dataframe tbody tr th {\n",
       "        vertical-align: top;\n",
       "    }\n",
       "\n",
       "    .dataframe thead th {\n",
       "        text-align: right;\n",
       "    }\n",
       "</style>\n",
       "<table border=\"1\" class=\"dataframe\">\n",
       "  <thead>\n",
       "    <tr style=\"text-align: right;\">\n",
       "      <th></th>\n",
       "      <th>gene_id</th>\n",
       "      <th>regulator</th>\n",
       "      <th>gene_name</th>\n",
       "      <th>evidence</th>\n",
       "      <th>effect</th>\n",
       "      <th>source</th>\n",
       "    </tr>\n",
       "  </thead>\n",
       "  <tbody>\n",
       "    <tr>\n",
       "      <th>0</th>\n",
       "      <td>b0088</td>\n",
       "      <td>YidZ</td>\n",
       "      <td>murD</td>\n",
       "      <td>0</td>\n",
       "      <td>?</td>\n",
       "      <td>Gao2021</td>\n",
       "    </tr>\n",
       "    <tr>\n",
       "      <th>1</th>\n",
       "      <td>b0134</td>\n",
       "      <td>YidZ</td>\n",
       "      <td>panB</td>\n",
       "      <td>0</td>\n",
       "      <td>?</td>\n",
       "      <td>Gao2021</td>\n",
       "    </tr>\n",
       "    <tr>\n",
       "      <th>2</th>\n",
       "      <td>b0189</td>\n",
       "      <td>YidZ</td>\n",
       "      <td>rof</td>\n",
       "      <td>0</td>\n",
       "      <td>?</td>\n",
       "      <td>Gao2021</td>\n",
       "    </tr>\n",
       "    <tr>\n",
       "      <th>3</th>\n",
       "      <td>b0282</td>\n",
       "      <td>YidZ</td>\n",
       "      <td>yagP</td>\n",
       "      <td>0</td>\n",
       "      <td>?</td>\n",
       "      <td>Gao2021</td>\n",
       "    </tr>\n",
       "    <tr>\n",
       "      <th>4</th>\n",
       "      <td>b0344</td>\n",
       "      <td>YidZ</td>\n",
       "      <td>lacZ</td>\n",
       "      <td>0</td>\n",
       "      <td>?</td>\n",
       "      <td>Gao2021</td>\n",
       "    </tr>\n",
       "  </tbody>\n",
       "</table>\n",
       "</div>"
      ],
      "text/plain": [
       "  gene_id regulator gene_name  evidence effect   source\n",
       "0   b0088      YidZ      murD         0      ?  Gao2021\n",
       "1   b0134      YidZ      panB         0      ?  Gao2021\n",
       "2   b0189      YidZ       rof         0      ?  Gao2021\n",
       "3   b0282      YidZ      yagP         0      ?  Gao2021\n",
       "4   b0344      YidZ      lacZ         0      ?  Gao2021"
      ]
     },
     "execution_count": 32,
     "metadata": {},
     "output_type": "execute_result"
    }
   ],
   "source": [
    "# re-format and re-name columns\n",
    "DF_gao_s4 = pd.read_excel('gao_dataset_s4.xlsx', engine='openpyxl', sheet_name='pre_formatted')\n",
    "DF_gao_s4 = DF_gao_s4.drop(columns=['Start', 'End', 'S/N']).rename(\n",
    "    columns={'b_number': 'gene_id', 'protein': 'regulator'})\n",
    "DF_gao_s4['gene_name'] = DF_gao_s4['gene_id'].apply(lambda gene_id: num2name.get(gene_id, None))\n",
    "DF_gao_s4['evidence'] = 0\n",
    "DF_gao_s4['effect'] = '?'\n",
    "DF_gao_s4['source'] = 'Gao2021'\n",
    "DF_gao_s4.head()"
   ]
  },
  {
   "cell_type": "code",
   "execution_count": 33,
   "metadata": {},
   "outputs": [
    {
     "data": {
      "text/html": [
       "<div>\n",
       "<style scoped>\n",
       "    .dataframe tbody tr th:only-of-type {\n",
       "        vertical-align: middle;\n",
       "    }\n",
       "\n",
       "    .dataframe tbody tr th {\n",
       "        vertical-align: top;\n",
       "    }\n",
       "\n",
       "    .dataframe thead th {\n",
       "        text-align: right;\n",
       "    }\n",
       "</style>\n",
       "<table border=\"1\" class=\"dataframe\">\n",
       "  <thead>\n",
       "    <tr style=\"text-align: right;\">\n",
       "      <th></th>\n",
       "      <th>gene_id</th>\n",
       "      <th>regulator</th>\n",
       "      <th>gene_name</th>\n",
       "      <th>evidence</th>\n",
       "      <th>effect</th>\n",
       "      <th>source</th>\n",
       "    </tr>\n",
       "  </thead>\n",
       "  <tbody>\n",
       "    <tr>\n",
       "      <th>0</th>\n",
       "      <td>b0065</td>\n",
       "      <td>YeiE</td>\n",
       "      <td>yabI</td>\n",
       "      <td>0</td>\n",
       "      <td>?</td>\n",
       "      <td>Gao2021</td>\n",
       "    </tr>\n",
       "    <tr>\n",
       "      <th>1</th>\n",
       "      <td>b0072</td>\n",
       "      <td>YeiE</td>\n",
       "      <td>leuC</td>\n",
       "      <td>0</td>\n",
       "      <td>?</td>\n",
       "      <td>Gao2021</td>\n",
       "    </tr>\n",
       "    <tr>\n",
       "      <th>2</th>\n",
       "      <td>b0077</td>\n",
       "      <td>YeiE</td>\n",
       "      <td>ilvI</td>\n",
       "      <td>0</td>\n",
       "      <td>?</td>\n",
       "      <td>Gao2021</td>\n",
       "    </tr>\n",
       "    <tr>\n",
       "      <th>3</th>\n",
       "      <td>b0343</td>\n",
       "      <td>YeiE</td>\n",
       "      <td>lacY</td>\n",
       "      <td>0</td>\n",
       "      <td>?</td>\n",
       "      <td>Gao2021</td>\n",
       "    </tr>\n",
       "    <tr>\n",
       "      <th>4</th>\n",
       "      <td>b0411</td>\n",
       "      <td>YeiE</td>\n",
       "      <td>tsx</td>\n",
       "      <td>0</td>\n",
       "      <td>?</td>\n",
       "      <td>Gao2021</td>\n",
       "    </tr>\n",
       "  </tbody>\n",
       "</table>\n",
       "</div>"
      ],
      "text/plain": [
       "  gene_id regulator gene_name  evidence effect   source\n",
       "0   b0065      YeiE      yabI         0      ?  Gao2021\n",
       "1   b0072      YeiE      leuC         0      ?  Gao2021\n",
       "2   b0077      YeiE      ilvI         0      ?  Gao2021\n",
       "3   b0343      YeiE      lacY         0      ?  Gao2021\n",
       "4   b0411      YeiE       tsx         0      ?  Gao2021"
      ]
     },
     "execution_count": 33,
     "metadata": {},
     "output_type": "execute_result"
    }
   ],
   "source": [
    "# re-format and re-name columns\n",
    "DF_gao_s5 = pd.read_excel('gao_dataset_s5.xlsx', engine='openpyxl', sheet_name='pre_formatted')\n",
    "DF_gao_s5 = DF_gao_s5.drop(columns=['Transcription Unit']).rename(\n",
    "    columns={'b_number': 'gene_id', 'protein': 'regulator'})\n",
    "DF_gao_s5['gene_name'] = DF_gao_s5['gene_id'].apply(lambda gene_id: num2name.get(gene_id, None))\n",
    "DF_gao_s5['evidence'] = 0\n",
    "DF_gao_s5['effect'] = '?'\n",
    "DF_gao_s5['source'] = 'Gao2021'\n",
    "DF_gao_s5.head()"
   ]
  },
  {
   "cell_type": "markdown",
   "metadata": {},
   "source": [
    "## Remove YbaO (same as DecR, which EcoCyc has)"
   ]
  },
  {
   "cell_type": "code",
   "execution_count": 35,
   "metadata": {},
   "outputs": [],
   "source": [
    "DF_gao_s5 = DF_gao_s5[DF_gao_s5['regulator'] != 'YbaO']"
   ]
  },
  {
   "cell_type": "markdown",
   "metadata": {},
   "source": [
    "# Merge the TRNs"
   ]
  },
  {
   "cell_type": "code",
   "execution_count": 36,
   "metadata": {},
   "outputs": [],
   "source": [
    "DF_TRN = pd.concat([DF_regulonDB,DF_ecocyc,DF_ompR,DF_yieP,DF_ygbI,DF_ppGpp,DF_gao_s4,DF_gao_s5]).reset_index(drop=True)\n",
    "\n",
    "# Sort by Evidence level and remove duplicate regulation\n",
    "DF_TRN = DF_TRN.sort_values('evidence').drop_duplicates(['regulator','gene_name','gene_id'])\n",
    "DF_TRN = DF_TRN.reset_index(drop=True)"
   ]
  },
  {
   "cell_type": "code",
   "execution_count": 37,
   "metadata": {
    "scrolled": true
   },
   "outputs": [
    {
     "data": {
      "text/html": [
       "<div>\n",
       "<style scoped>\n",
       "    .dataframe tbody tr th:only-of-type {\n",
       "        vertical-align: middle;\n",
       "    }\n",
       "\n",
       "    .dataframe tbody tr th {\n",
       "        vertical-align: top;\n",
       "    }\n",
       "\n",
       "    .dataframe thead th {\n",
       "        text-align: right;\n",
       "    }\n",
       "</style>\n",
       "<table border=\"1\" class=\"dataframe\">\n",
       "  <thead>\n",
       "    <tr style=\"text-align: right;\">\n",
       "      <th></th>\n",
       "      <th>regulator</th>\n",
       "      <th>gene_name</th>\n",
       "      <th>gene_id</th>\n",
       "      <th>effect</th>\n",
       "      <th>evidence</th>\n",
       "      <th>source</th>\n",
       "    </tr>\n",
       "  </thead>\n",
       "  <tbody>\n",
       "    <tr>\n",
       "      <th>count</th>\n",
       "      <td>10795</td>\n",
       "      <td>10789</td>\n",
       "      <td>10795</td>\n",
       "      <td>8799</td>\n",
       "      <td>8799.0</td>\n",
       "      <td>10795</td>\n",
       "    </tr>\n",
       "    <tr>\n",
       "      <th>unique</th>\n",
       "      <td>371</td>\n",
       "      <td>3411</td>\n",
       "      <td>3404</td>\n",
       "      <td>3</td>\n",
       "      <td>3.0</td>\n",
       "      <td>9</td>\n",
       "    </tr>\n",
       "    <tr>\n",
       "      <th>top</th>\n",
       "      <td>RpoD</td>\n",
       "      <td>csgE</td>\n",
       "      <td>b1037</td>\n",
       "      <td>+</td>\n",
       "      <td>0.0</td>\n",
       "      <td>RegulonDB_TF</td>\n",
       "    </tr>\n",
       "    <tr>\n",
       "      <th>freq</th>\n",
       "      <td>1698</td>\n",
       "      <td>25</td>\n",
       "      <td>25</td>\n",
       "      <td>5256</td>\n",
       "      <td>5377.0</td>\n",
       "      <td>4426</td>\n",
       "    </tr>\n",
       "  </tbody>\n",
       "</table>\n",
       "</div>"
      ],
      "text/plain": [
       "       regulator gene_name gene_id effect  evidence        source\n",
       "count      10795     10789   10795   8799    8799.0         10795\n",
       "unique       371      3411    3404      3       3.0             9\n",
       "top         RpoD      csgE   b1037      +       0.0  RegulonDB_TF\n",
       "freq        1698        25      25   5256    5377.0          4426"
      ]
     },
     "execution_count": 37,
     "metadata": {},
     "output_type": "execute_result"
    }
   ],
   "source": [
    "DF_TRN.describe()"
   ]
  },
  {
   "cell_type": "code",
   "execution_count": 38,
   "metadata": {},
   "outputs": [],
   "source": [
    "DF_TRN.to_csv('TRN.csv',index=False)"
   ]
  },
  {
   "cell_type": "code",
   "execution_count": null,
   "metadata": {},
   "outputs": [],
   "source": []
  }
 ],
 "metadata": {
  "kernelspec": {
   "display_name": "Python 3",
   "language": "python",
   "name": "python3"
  },
  "language_info": {
   "codemirror_mode": {
    "name": "ipython",
    "version": 3
   },
   "file_extension": ".py",
   "mimetype": "text/x-python",
   "name": "python",
   "nbconvert_exporter": "python",
   "pygments_lexer": "ipython3",
   "version": "3.8.5"
  },
  "toc": {
   "base_numbering": 1,
   "nav_menu": {},
   "number_sections": true,
   "sideBar": true,
   "skip_h1_title": false,
   "title_cell": "Table of Contents",
   "title_sidebar": "Contents",
   "toc_cell": true,
   "toc_position": {},
   "toc_section_display": true,
   "toc_window_display": true
  }
 },
 "nbformat": 4,
 "nbformat_minor": 2
}
