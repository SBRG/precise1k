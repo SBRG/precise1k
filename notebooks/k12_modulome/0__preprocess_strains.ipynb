{
 "cells": [
  {
   "cell_type": "markdown",
   "metadata": {},
   "source": [
    "# Import Packages"
   ]
  },
  {
   "cell_type": "code",
   "execution_count": 1,
   "metadata": {},
   "outputs": [],
   "source": [
    "# built-in modules\n",
    "import os\n",
    "\n",
    "# third-party modules (pip install required)\n",
    "import pandas as pd"
   ]
  },
  {
   "cell_type": "markdown",
   "metadata": {},
   "source": [
    "# Load SRA Metadata\n",
    "\n",
    "This is obtained from Step 1 of Modulome Workflow (https://github.com/avsastry/modulome-workflow/tree/main/1_download_metadata)"
   ]
  },
  {
   "cell_type": "code",
   "execution_count": 2,
   "metadata": {},
   "outputs": [],
   "source": [
    "def data_dir(*file):\n",
    "    return os.path.join('..', 'data', *file)"
   ]
  },
  {
   "cell_type": "code",
   "execution_count": 3,
   "metadata": {},
   "outputs": [],
   "source": [
    "DF_metadata = pd.read_csv(data_dir('Escherichia_coli_20220127.tsv'), sep='\\t', index_col=0)"
   ]
  },
  {
   "cell_type": "code",
   "execution_count": 4,
   "metadata": {},
   "outputs": [],
   "source": [
    "DF_metadata.BioProject.value_counts().to_csv(data_dir('bioproject_list.csv'))"
   ]
  },
  {
   "cell_type": "markdown",
   "metadata": {},
   "source": [
    "# Manually Curate BioProjects\n",
    "\n",
    "- Annotate strain/substrain\n",
    "- Remove non-RNA-seq or weird experimental design projects\n",
    "- Attach publications, if any"
   ]
  },
  {
   "cell_type": "markdown",
   "metadata": {},
   "source": [
    "# Use Curated BioProject List to Isolate K-12 BioProjects"
   ]
  },
  {
   "cell_type": "code",
   "execution_count": 5,
   "metadata": {},
   "outputs": [
    {
     "data": {
      "text/html": [
       "<div>\n",
       "<style scoped>\n",
       "    .dataframe tbody tr th:only-of-type {\n",
       "        vertical-align: middle;\n",
       "    }\n",
       "\n",
       "    .dataframe tbody tr th {\n",
       "        vertical-align: top;\n",
       "    }\n",
       "\n",
       "    .dataframe thead th {\n",
       "        text-align: right;\n",
       "    }\n",
       "</style>\n",
       "<table border=\"1\" class=\"dataframe\">\n",
       "  <thead>\n",
       "    <tr style=\"text-align: right;\">\n",
       "      <th></th>\n",
       "      <th>Number of Samples</th>\n",
       "      <th>Reference Genome</th>\n",
       "      <th>Strain</th>\n",
       "      <th>Publication</th>\n",
       "      <th>PRECISE-1K</th>\n",
       "      <th>K-12 Modulome</th>\n",
       "      <th>Notes</th>\n",
       "    </tr>\n",
       "    <tr>\n",
       "      <th>BioProject</th>\n",
       "      <th></th>\n",
       "      <th></th>\n",
       "      <th></th>\n",
       "      <th></th>\n",
       "      <th></th>\n",
       "      <th></th>\n",
       "      <th></th>\n",
       "    </tr>\n",
       "  </thead>\n",
       "  <tbody>\n",
       "    <tr>\n",
       "      <th>PRJNA532938</th>\n",
       "      <td>318</td>\n",
       "      <td>U00096.2</td>\n",
       "      <td>W0153</td>\n",
       "      <td>https://www.ncbi.nlm.nih.gov/pmc/articles/PMC8...</td>\n",
       "      <td>False</td>\n",
       "      <td>False</td>\n",
       "      <td>NaN</td>\n",
       "    </tr>\n",
       "    <tr>\n",
       "      <th>PRJNA707564</th>\n",
       "      <td>165</td>\n",
       "      <td>NC_000913.3</td>\n",
       "      <td>RB001</td>\n",
       "      <td>https://www.ncbi.nlm.nih.gov/pmc/articles/PMC8...</td>\n",
       "      <td>False</td>\n",
       "      <td>False</td>\n",
       "      <td>Clinical isolates</td>\n",
       "    </tr>\n",
       "    <tr>\n",
       "      <th>PRJNA368968</th>\n",
       "      <td>152</td>\n",
       "      <td>NC_012967.1</td>\n",
       "      <td>B REL606</td>\n",
       "      <td>https://www.ncbi.nlm.nih.gov/pmc/articles/PMC5...</td>\n",
       "      <td>False</td>\n",
       "      <td>False</td>\n",
       "      <td>NaN</td>\n",
       "    </tr>\n",
       "    <tr>\n",
       "      <th>PRJNA604190</th>\n",
       "      <td>135</td>\n",
       "      <td>NC_000913.3</td>\n",
       "      <td>K-12 MG1655</td>\n",
       "      <td>https://www.ncbi.nlm.nih.gov/pmc/articles/PMC7...</td>\n",
       "      <td>False</td>\n",
       "      <td>True</td>\n",
       "      <td>NaN</td>\n",
       "    </tr>\n",
       "    <tr>\n",
       "      <th>PRJNA638918</th>\n",
       "      <td>108</td>\n",
       "      <td>Multiple</td>\n",
       "      <td>Multiple</td>\n",
       "      <td>https://www.ncbi.nlm.nih.gov/pmc/articles/PMC8...</td>\n",
       "      <td>False</td>\n",
       "      <td>False</td>\n",
       "      <td>Pathogens</td>\n",
       "    </tr>\n",
       "  </tbody>\n",
       "</table>\n",
       "</div>"
      ],
      "text/plain": [
       "             Number of Samples Reference Genome       Strain  \\\n",
       "BioProject                                                     \n",
       "PRJNA532938                318         U00096.2        W0153   \n",
       "PRJNA707564                165      NC_000913.3        RB001   \n",
       "PRJNA368968                152      NC_012967.1     B REL606   \n",
       "PRJNA604190                135      NC_000913.3  K-12 MG1655   \n",
       "PRJNA638918                108         Multiple     Multiple   \n",
       "\n",
       "                                                   Publication PRECISE-1K  \\\n",
       "BioProject                                                                  \n",
       "PRJNA532938  https://www.ncbi.nlm.nih.gov/pmc/articles/PMC8...      False   \n",
       "PRJNA707564  https://www.ncbi.nlm.nih.gov/pmc/articles/PMC8...      False   \n",
       "PRJNA368968  https://www.ncbi.nlm.nih.gov/pmc/articles/PMC5...      False   \n",
       "PRJNA604190  https://www.ncbi.nlm.nih.gov/pmc/articles/PMC7...      False   \n",
       "PRJNA638918  https://www.ncbi.nlm.nih.gov/pmc/articles/PMC8...      False   \n",
       "\n",
       "            K-12 Modulome             Notes   \n",
       "BioProject                                    \n",
       "PRJNA532938         False                NaN  \n",
       "PRJNA707564         False  Clinical isolates  \n",
       "PRJNA368968         False                NaN  \n",
       "PRJNA604190          True                NaN  \n",
       "PRJNA638918         False          Pathogens  "
      ]
     },
     "execution_count": 5,
     "metadata": {},
     "output_type": "execute_result"
    }
   ],
   "source": [
    "DF_project_list = pd.read_csv(data_dir('bioproject_list_curated.csv'), index_col=0)\n",
    "DF_project_list.head()"
   ]
  },
  {
   "cell_type": "code",
   "execution_count": 14,
   "metadata": {},
   "outputs": [],
   "source": [
    "# ensure we don't pick up datasets already in PRECISE-1K\n",
    "k12_datasets = DF_project_list[(DF_project_list['K-12 Modulome']) & (~DF_project_list['PRECISE-1K'].fillna(False))].index\n",
    "k12_metadata = DF_metadata[DF_metadata.BioProject.isin(k12_datasets)].copy()\n",
    "# add columns we may use later\n",
    "k12_metadata['R1'] = None\n",
    "k12_metadata['R2'] = None\n",
    "k12_metadata['swift'] = None\n",
    "k12_metadata.to_csv(data_dir('K12', 'K12_metadata.tsv'), sep='\\t')"
   ]
  }
 ],
 "metadata": {
  "kernelspec": {
   "display_name": "Python 3 (ipykernel)",
   "language": "python",
   "name": "python3"
  },
  "language_info": {
   "codemirror_mode": {
    "name": "ipython",
    "version": 3
   },
   "file_extension": ".py",
   "mimetype": "text/x-python",
   "name": "python",
   "nbconvert_exporter": "python",
   "pygments_lexer": "ipython3",
   "version": "3.9.10"
  },
  "toc": {
   "base_numbering": 1,
   "nav_menu": {},
   "number_sections": false,
   "sideBar": false,
   "skip_h1_title": false,
   "title_cell": "Table of Contents",
   "title_sidebar": "Contents",
   "toc_cell": false,
   "toc_position": {},
   "toc_section_display": false,
   "toc_window_display": false
  }
 },
 "nbformat": 4,
 "nbformat_minor": 4
}
