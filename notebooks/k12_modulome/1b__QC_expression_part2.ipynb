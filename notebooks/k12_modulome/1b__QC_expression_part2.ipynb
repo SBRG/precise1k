{
 "cells": [
  {
   "cell_type": "markdown",
   "metadata": {},
   "source": [
    "# Import Packages "
   ]
  },
  {
   "cell_type": "code",
   "execution_count": 1,
   "metadata": {},
   "outputs": [],
   "source": [
    "# built-in packages\n",
    "import itertools\n",
    "from os import path\n",
    "\n",
    "# third-party packages (install required)\n",
    "import matplotlib.pyplot as plt\n",
    "import numpy as np\n",
    "import pandas as pd\n",
    "from scipy import stats\n",
    "import seaborn as sns\n",
    "from tqdm.notebook import tqdm\n",
    "\n",
    "sns.set_style('ticks')"
   ]
  },
  {
   "cell_type": "markdown",
   "metadata": {},
   "source": [
    "# Load Data"
   ]
  },
  {
   "cell_type": "code",
   "execution_count": 2,
   "metadata": {},
   "outputs": [],
   "source": [
    "MODULOME_PATH = '../../data/k12_modulome'"
   ]
  },
  {
   "cell_type": "code",
   "execution_count": 3,
   "metadata": {},
   "outputs": [],
   "source": [
    "logTPM_file = path.join(MODULOME_PATH,'log_tpm.csv') # Enter log-TPM filename here\n",
    "all_metadata_file = path.join(MODULOME_PATH, 'metadata_qc_part1_all.tsv') # Enter full metadata filename here\n",
    "metadata_file = path.join(MODULOME_PATH,'metadata_qc_part1_curated.tsv') # Enter curated metadata filename here"
   ]
  },
  {
   "cell_type": "markdown",
   "metadata": {},
   "source": [
    "## Load Expression Data"
   ]
  },
  {
   "cell_type": "code",
   "execution_count": 4,
   "metadata": {},
   "outputs": [
    {
     "name": "stdout",
     "output_type": "stream",
     "text": [
      "Number of genes: 4355\n",
      "Number of samples: 3125\n"
     ]
    },
    {
     "data": {
      "text/html": [
       "<div>\n",
       "<style scoped>\n",
       "    .dataframe tbody tr th:only-of-type {\n",
       "        vertical-align: middle;\n",
       "    }\n",
       "\n",
       "    .dataframe tbody tr th {\n",
       "        vertical-align: top;\n",
       "    }\n",
       "\n",
       "    .dataframe thead th {\n",
       "        text-align: right;\n",
       "    }\n",
       "</style>\n",
       "<table border=\"1\" class=\"dataframe\">\n",
       "  <thead>\n",
       "    <tr style=\"text-align: right;\">\n",
       "      <th></th>\n",
       "      <th>DRX021104</th>\n",
       "      <th>DRX021105</th>\n",
       "      <th>DRX021106</th>\n",
       "      <th>DRX021107</th>\n",
       "      <th>DRX021108</th>\n",
       "      <th>DRX021109</th>\n",
       "      <th>DRX021110</th>\n",
       "      <th>DRX021111</th>\n",
       "      <th>DRX021112</th>\n",
       "      <th>DRX021113</th>\n",
       "      <th>...</th>\n",
       "      <th>SRX9847190</th>\n",
       "      <th>SRX9847191</th>\n",
       "      <th>SRX9847192</th>\n",
       "      <th>SRX9847193</th>\n",
       "      <th>SRX9847194</th>\n",
       "      <th>SRX9847195</th>\n",
       "      <th>SRX9847196</th>\n",
       "      <th>SRX9847197</th>\n",
       "      <th>SRX9847198</th>\n",
       "      <th>SRX9847199</th>\n",
       "    </tr>\n",
       "    <tr>\n",
       "      <th>Geneid</th>\n",
       "      <th></th>\n",
       "      <th></th>\n",
       "      <th></th>\n",
       "      <th></th>\n",
       "      <th></th>\n",
       "      <th></th>\n",
       "      <th></th>\n",
       "      <th></th>\n",
       "      <th></th>\n",
       "      <th></th>\n",
       "      <th></th>\n",
       "      <th></th>\n",
       "      <th></th>\n",
       "      <th></th>\n",
       "      <th></th>\n",
       "      <th></th>\n",
       "      <th></th>\n",
       "      <th></th>\n",
       "      <th></th>\n",
       "      <th></th>\n",
       "      <th></th>\n",
       "    </tr>\n",
       "  </thead>\n",
       "  <tbody>\n",
       "    <tr>\n",
       "      <th>b0001</th>\n",
       "      <td>7.029959</td>\n",
       "      <td>6.622736</td>\n",
       "      <td>7.432303</td>\n",
       "      <td>6.381883</td>\n",
       "      <td>6.804199</td>\n",
       "      <td>6.916179</td>\n",
       "      <td>7.397104</td>\n",
       "      <td>6.908232</td>\n",
       "      <td>7.054338</td>\n",
       "      <td>7.071349</td>\n",
       "      <td>...</td>\n",
       "      <td>8.566702</td>\n",
       "      <td>9.380866</td>\n",
       "      <td>8.252813</td>\n",
       "      <td>9.074773</td>\n",
       "      <td>9.486670</td>\n",
       "      <td>9.108823</td>\n",
       "      <td>11.594074</td>\n",
       "      <td>11.638712</td>\n",
       "      <td>10.342377</td>\n",
       "      <td>12.011251</td>\n",
       "    </tr>\n",
       "    <tr>\n",
       "      <th>b0002</th>\n",
       "      <td>5.747732</td>\n",
       "      <td>5.355841</td>\n",
       "      <td>5.600802</td>\n",
       "      <td>5.836251</td>\n",
       "      <td>5.934542</td>\n",
       "      <td>5.710201</td>\n",
       "      <td>6.076589</td>\n",
       "      <td>5.931383</td>\n",
       "      <td>6.106830</td>\n",
       "      <td>6.062702</td>\n",
       "      <td>...</td>\n",
       "      <td>8.689193</td>\n",
       "      <td>8.384986</td>\n",
       "      <td>8.246861</td>\n",
       "      <td>8.808543</td>\n",
       "      <td>7.313813</td>\n",
       "      <td>6.988476</td>\n",
       "      <td>8.701928</td>\n",
       "      <td>8.745391</td>\n",
       "      <td>8.872444</td>\n",
       "      <td>9.033943</td>\n",
       "    </tr>\n",
       "    <tr>\n",
       "      <th>b0003</th>\n",
       "      <td>6.980948</td>\n",
       "      <td>6.462644</td>\n",
       "      <td>6.892203</td>\n",
       "      <td>7.042173</td>\n",
       "      <td>7.114765</td>\n",
       "      <td>6.950374</td>\n",
       "      <td>7.165159</td>\n",
       "      <td>7.099663</td>\n",
       "      <td>7.171863</td>\n",
       "      <td>7.226719</td>\n",
       "      <td>...</td>\n",
       "      <td>8.565724</td>\n",
       "      <td>8.173506</td>\n",
       "      <td>8.079899</td>\n",
       "      <td>8.089667</td>\n",
       "      <td>7.033023</td>\n",
       "      <td>6.838851</td>\n",
       "      <td>8.487988</td>\n",
       "      <td>8.535580</td>\n",
       "      <td>8.929818</td>\n",
       "      <td>8.968621</td>\n",
       "    </tr>\n",
       "    <tr>\n",
       "      <th>b0004</th>\n",
       "      <td>7.082538</td>\n",
       "      <td>6.667796</td>\n",
       "      <td>6.953646</td>\n",
       "      <td>7.146234</td>\n",
       "      <td>7.194022</td>\n",
       "      <td>7.195211</td>\n",
       "      <td>7.450556</td>\n",
       "      <td>7.061534</td>\n",
       "      <td>7.336129</td>\n",
       "      <td>7.483060</td>\n",
       "      <td>...</td>\n",
       "      <td>8.545026</td>\n",
       "      <td>8.332171</td>\n",
       "      <td>8.191644</td>\n",
       "      <td>8.168586</td>\n",
       "      <td>7.443634</td>\n",
       "      <td>7.206327</td>\n",
       "      <td>8.363149</td>\n",
       "      <td>8.415361</td>\n",
       "      <td>8.998691</td>\n",
       "      <td>8.754739</td>\n",
       "    </tr>\n",
       "    <tr>\n",
       "      <th>b0005</th>\n",
       "      <td>4.434483</td>\n",
       "      <td>4.109176</td>\n",
       "      <td>4.475982</td>\n",
       "      <td>4.758536</td>\n",
       "      <td>4.735403</td>\n",
       "      <td>4.328734</td>\n",
       "      <td>4.469072</td>\n",
       "      <td>4.698514</td>\n",
       "      <td>4.938426</td>\n",
       "      <td>4.710403</td>\n",
       "      <td>...</td>\n",
       "      <td>4.935025</td>\n",
       "      <td>5.066220</td>\n",
       "      <td>4.852146</td>\n",
       "      <td>4.570050</td>\n",
       "      <td>4.726430</td>\n",
       "      <td>4.473129</td>\n",
       "      <td>4.875793</td>\n",
       "      <td>5.037875</td>\n",
       "      <td>5.401024</td>\n",
       "      <td>5.796026</td>\n",
       "    </tr>\n",
       "  </tbody>\n",
       "</table>\n",
       "<p>5 rows × 3125 columns</p>\n",
       "</div>"
      ],
      "text/plain": [
       "        DRX021104  DRX021105  DRX021106  DRX021107  DRX021108  DRX021109  \\\n",
       "Geneid                                                                     \n",
       "b0001    7.029959   6.622736   7.432303   6.381883   6.804199   6.916179   \n",
       "b0002    5.747732   5.355841   5.600802   5.836251   5.934542   5.710201   \n",
       "b0003    6.980948   6.462644   6.892203   7.042173   7.114765   6.950374   \n",
       "b0004    7.082538   6.667796   6.953646   7.146234   7.194022   7.195211   \n",
       "b0005    4.434483   4.109176   4.475982   4.758536   4.735403   4.328734   \n",
       "\n",
       "        DRX021110  DRX021111  DRX021112  DRX021113  ...  SRX9847190  \\\n",
       "Geneid                                              ...               \n",
       "b0001    7.397104   6.908232   7.054338   7.071349  ...    8.566702   \n",
       "b0002    6.076589   5.931383   6.106830   6.062702  ...    8.689193   \n",
       "b0003    7.165159   7.099663   7.171863   7.226719  ...    8.565724   \n",
       "b0004    7.450556   7.061534   7.336129   7.483060  ...    8.545026   \n",
       "b0005    4.469072   4.698514   4.938426   4.710403  ...    4.935025   \n",
       "\n",
       "        SRX9847191  SRX9847192  SRX9847193  SRX9847194  SRX9847195  \\\n",
       "Geneid                                                               \n",
       "b0001     9.380866    8.252813    9.074773    9.486670    9.108823   \n",
       "b0002     8.384986    8.246861    8.808543    7.313813    6.988476   \n",
       "b0003     8.173506    8.079899    8.089667    7.033023    6.838851   \n",
       "b0004     8.332171    8.191644    8.168586    7.443634    7.206327   \n",
       "b0005     5.066220    4.852146    4.570050    4.726430    4.473129   \n",
       "\n",
       "        SRX9847196  SRX9847197  SRX9847198  SRX9847199  \n",
       "Geneid                                                  \n",
       "b0001    11.594074   11.638712   10.342377   12.011251  \n",
       "b0002     8.701928    8.745391    8.872444    9.033943  \n",
       "b0003     8.487988    8.535580    8.929818    8.968621  \n",
       "b0004     8.363149    8.415361    8.998691    8.754739  \n",
       "b0005     4.875793    5.037875    5.401024    5.796026  \n",
       "\n",
       "[5 rows x 3125 columns]"
      ]
     },
     "execution_count": 4,
     "metadata": {},
     "output_type": "execute_result"
    }
   ],
   "source": [
    "DF_log_tpm = pd.read_csv(logTPM_file,index_col=0).fillna(0)\n",
    "print('Number of genes:',DF_log_tpm.shape[0])\n",
    "print('Number of samples:',DF_log_tpm.shape[1])\n",
    "DF_log_tpm.head()"
   ]
  },
  {
   "cell_type": "markdown",
   "metadata": {},
   "source": [
    "## Load Metadata"
   ]
  },
  {
   "cell_type": "code",
   "execution_count": 5,
   "metadata": {},
   "outputs": [
    {
     "name": "stdout",
     "output_type": "stream",
     "text": [
      "Number of samples with curated metadata: 2312\n"
     ]
    },
    {
     "data": {
      "text/html": [
       "<div>\n",
       "<style scoped>\n",
       "    .dataframe tbody tr th:only-of-type {\n",
       "        vertical-align: middle;\n",
       "    }\n",
       "\n",
       "    .dataframe tbody tr th {\n",
       "        vertical-align: top;\n",
       "    }\n",
       "\n",
       "    .dataframe thead th {\n",
       "        text-align: right;\n",
       "    }\n",
       "</style>\n",
       "<table border=\"1\" class=\"dataframe\">\n",
       "  <thead>\n",
       "    <tr style=\"text-align: right;\">\n",
       "      <th></th>\n",
       "      <th>Run</th>\n",
       "      <th>ReleaseDate</th>\n",
       "      <th>LoadDate</th>\n",
       "      <th>spots</th>\n",
       "      <th>bases</th>\n",
       "      <th>spots_with_mates</th>\n",
       "      <th>avgLength</th>\n",
       "      <th>size_MB</th>\n",
       "      <th>AssemblyName</th>\n",
       "      <th>download_path</th>\n",
       "      <th>...</th>\n",
       "      <th>pH</th>\n",
       "      <th>project</th>\n",
       "      <th>reference_condition</th>\n",
       "      <th>species</th>\n",
       "      <th>species_tax_id</th>\n",
       "      <th>strain_description</th>\n",
       "      <th>strain_tax_id</th>\n",
       "      <th>supplement</th>\n",
       "      <th>temperature</th>\n",
       "      <th>time</th>\n",
       "    </tr>\n",
       "  </thead>\n",
       "  <tbody>\n",
       "    <tr>\n",
       "      <th>DRX021104</th>\n",
       "      <td>DRR023050</td>\n",
       "      <td>8/8/21 13:10</td>\n",
       "      <td>8/8/21 13:09</td>\n",
       "      <td>15144738</td>\n",
       "      <td>3059237076</td>\n",
       "      <td>15144738</td>\n",
       "      <td>202</td>\n",
       "      <td>1823</td>\n",
       "      <td>NaN</td>\n",
       "      <td>https://sra-download.ncbi.nlm.nih.gov/traces/d...</td>\n",
       "      <td>...</td>\n",
       "      <td>7.0</td>\n",
       "      <td>mtase</td>\n",
       "      <td>empty_exp</td>\n",
       "      <td>NaN</td>\n",
       "      <td>NaN</td>\n",
       "      <td>MG1655 del_mrr del_hsdR del_hsdM del_hsdS del_...</td>\n",
       "      <td>NaN</td>\n",
       "      <td>NaN</td>\n",
       "      <td>37.0</td>\n",
       "      <td>NaN</td>\n",
       "    </tr>\n",
       "    <tr>\n",
       "      <th>DRX021105</th>\n",
       "      <td>DRR023051</td>\n",
       "      <td>8/8/21 13:10</td>\n",
       "      <td>8/8/21 13:11</td>\n",
       "      <td>14421218</td>\n",
       "      <td>2913086036</td>\n",
       "      <td>14421218</td>\n",
       "      <td>202</td>\n",
       "      <td>1725</td>\n",
       "      <td>NaN</td>\n",
       "      <td>https://sra-download.ncbi.nlm.nih.gov/traces/d...</td>\n",
       "      <td>...</td>\n",
       "      <td>7.0</td>\n",
       "      <td>mtase</td>\n",
       "      <td>empty_exp</td>\n",
       "      <td>NaN</td>\n",
       "      <td>NaN</td>\n",
       "      <td>MG1655 del_mrr del_hsdR del_hsdM del_hsdS del_...</td>\n",
       "      <td>NaN</td>\n",
       "      <td>NaN</td>\n",
       "      <td>37.0</td>\n",
       "      <td>NaN</td>\n",
       "    </tr>\n",
       "    <tr>\n",
       "      <th>DRX021106</th>\n",
       "      <td>DRR023052</td>\n",
       "      <td>8/8/21 13:10</td>\n",
       "      <td>8/8/21 13:12</td>\n",
       "      <td>8195758</td>\n",
       "      <td>1655543116</td>\n",
       "      <td>8195758</td>\n",
       "      <td>202</td>\n",
       "      <td>988</td>\n",
       "      <td>NaN</td>\n",
       "      <td>https://sra-download.ncbi.nlm.nih.gov/traces/d...</td>\n",
       "      <td>...</td>\n",
       "      <td>7.0</td>\n",
       "      <td>mtase</td>\n",
       "      <td>empty_exp</td>\n",
       "      <td>NaN</td>\n",
       "      <td>NaN</td>\n",
       "      <td>MG1655 del_mrr del_hsdR del_hsdM del_hsdS del_...</td>\n",
       "      <td>NaN</td>\n",
       "      <td>NaN</td>\n",
       "      <td>37.0</td>\n",
       "      <td>NaN</td>\n",
       "    </tr>\n",
       "    <tr>\n",
       "      <th>DRX021107</th>\n",
       "      <td>DRR023053</td>\n",
       "      <td>8/8/21 13:10</td>\n",
       "      <td>8/8/21 13:10</td>\n",
       "      <td>12529904</td>\n",
       "      <td>2531040608</td>\n",
       "      <td>12529904</td>\n",
       "      <td>202</td>\n",
       "      <td>1507</td>\n",
       "      <td>NaN</td>\n",
       "      <td>https://sra-download.ncbi.nlm.nih.gov/traces/d...</td>\n",
       "      <td>...</td>\n",
       "      <td>7.0</td>\n",
       "      <td>mtase</td>\n",
       "      <td>empty_exp</td>\n",
       "      <td>NaN</td>\n",
       "      <td>NaN</td>\n",
       "      <td>MG1655 del_mrr del_hsdR del_hsdM del_hsdS del_...</td>\n",
       "      <td>NaN</td>\n",
       "      <td>NaN</td>\n",
       "      <td>37.0</td>\n",
       "      <td>NaN</td>\n",
       "    </tr>\n",
       "    <tr>\n",
       "      <th>DRX021108</th>\n",
       "      <td>DRR023054</td>\n",
       "      <td>8/8/21 13:10</td>\n",
       "      <td>8/8/21 13:10</td>\n",
       "      <td>7137702</td>\n",
       "      <td>1441815804</td>\n",
       "      <td>7137702</td>\n",
       "      <td>202</td>\n",
       "      <td>855</td>\n",
       "      <td>NaN</td>\n",
       "      <td>https://sra-download.ncbi.nlm.nih.gov/traces/d...</td>\n",
       "      <td>...</td>\n",
       "      <td>7.0</td>\n",
       "      <td>mtase</td>\n",
       "      <td>empty_exp</td>\n",
       "      <td>NaN</td>\n",
       "      <td>NaN</td>\n",
       "      <td>MG1655 del_mrr del_hsdR del_hsdM del_hsdS del_...</td>\n",
       "      <td>NaN</td>\n",
       "      <td>NaN</td>\n",
       "      <td>37.0</td>\n",
       "      <td>NaN</td>\n",
       "    </tr>\n",
       "  </tbody>\n",
       "</table>\n",
       "<p>5 rows × 81 columns</p>\n",
       "</div>"
      ],
      "text/plain": [
       "                 Run   ReleaseDate      LoadDate     spots       bases  \\\n",
       "DRX021104  DRR023050  8/8/21 13:10  8/8/21 13:09  15144738  3059237076   \n",
       "DRX021105  DRR023051  8/8/21 13:10  8/8/21 13:11  14421218  2913086036   \n",
       "DRX021106  DRR023052  8/8/21 13:10  8/8/21 13:12   8195758  1655543116   \n",
       "DRX021107  DRR023053  8/8/21 13:10  8/8/21 13:10  12529904  2531040608   \n",
       "DRX021108  DRR023054  8/8/21 13:10  8/8/21 13:10   7137702  1441815804   \n",
       "\n",
       "           spots_with_mates  avgLength  size_MB AssemblyName  \\\n",
       "DRX021104          15144738        202     1823          NaN   \n",
       "DRX021105          14421218        202     1725          NaN   \n",
       "DRX021106           8195758        202      988          NaN   \n",
       "DRX021107          12529904        202     1507          NaN   \n",
       "DRX021108           7137702        202      855          NaN   \n",
       "\n",
       "                                               download_path  ...   pH  \\\n",
       "DRX021104  https://sra-download.ncbi.nlm.nih.gov/traces/d...  ...  7.0   \n",
       "DRX021105  https://sra-download.ncbi.nlm.nih.gov/traces/d...  ...  7.0   \n",
       "DRX021106  https://sra-download.ncbi.nlm.nih.gov/traces/d...  ...  7.0   \n",
       "DRX021107  https://sra-download.ncbi.nlm.nih.gov/traces/d...  ...  7.0   \n",
       "DRX021108  https://sra-download.ncbi.nlm.nih.gov/traces/d...  ...  7.0   \n",
       "\n",
       "          project reference_condition species species_tax_id  \\\n",
       "DRX021104   mtase           empty_exp     NaN            NaN   \n",
       "DRX021105   mtase           empty_exp     NaN            NaN   \n",
       "DRX021106   mtase           empty_exp     NaN            NaN   \n",
       "DRX021107   mtase           empty_exp     NaN            NaN   \n",
       "DRX021108   mtase           empty_exp     NaN            NaN   \n",
       "\n",
       "                                          strain_description  strain_tax_id  \\\n",
       "DRX021104  MG1655 del_mrr del_hsdR del_hsdM del_hsdS del_...            NaN   \n",
       "DRX021105  MG1655 del_mrr del_hsdR del_hsdM del_hsdS del_...            NaN   \n",
       "DRX021106  MG1655 del_mrr del_hsdR del_hsdM del_hsdS del_...            NaN   \n",
       "DRX021107  MG1655 del_mrr del_hsdR del_hsdM del_hsdS del_...            NaN   \n",
       "DRX021108  MG1655 del_mrr del_hsdR del_hsdM del_hsdS del_...            NaN   \n",
       "\n",
       "          supplement temperature time  \n",
       "DRX021104        NaN        37.0  NaN  \n",
       "DRX021105        NaN        37.0  NaN  \n",
       "DRX021106        NaN        37.0  NaN  \n",
       "DRX021107        NaN        37.0  NaN  \n",
       "DRX021108        NaN        37.0  NaN  \n",
       "\n",
       "[5 rows x 81 columns]"
      ]
     },
     "execution_count": 5,
     "metadata": {},
     "output_type": "execute_result"
    }
   ],
   "source": [
    "DF_metadata = pd.read_csv(metadata_file,index_col=0,sep='\\t')\n",
    "print('Number of samples with curated metadata:',DF_metadata.shape[0])\n",
    "DF_metadata.head()"
   ]
  },
  {
   "cell_type": "code",
   "execution_count": 6,
   "metadata": {},
   "outputs": [],
   "source": [
    "DF_metadata_all = pd.read_csv(all_metadata_file,index_col=0,sep='\\t')"
   ]
  },
  {
   "cell_type": "markdown",
   "metadata": {},
   "source": [
    "## Remove Samples lacking Metadata"
   ]
  },
  {
   "cell_type": "markdown",
   "metadata": {},
   "source": [
    "After curation, some samples either did not have enough replicates or metadata to warrant inclusion in this database."
   ]
  },
  {
   "cell_type": "code",
   "execution_count": 7,
   "metadata": {},
   "outputs": [
    {
     "name": "stdout",
     "output_type": "stream",
     "text": [
      "New number of samples with curated metadata: 1816\n"
     ]
    },
    {
     "data": {
      "text/html": [
       "<div>\n",
       "<style scoped>\n",
       "    .dataframe tbody tr th:only-of-type {\n",
       "        vertical-align: middle;\n",
       "    }\n",
       "\n",
       "    .dataframe tbody tr th {\n",
       "        vertical-align: top;\n",
       "    }\n",
       "\n",
       "    .dataframe thead th {\n",
       "        text-align: right;\n",
       "    }\n",
       "</style>\n",
       "<table border=\"1\" class=\"dataframe\">\n",
       "  <thead>\n",
       "    <tr style=\"text-align: right;\">\n",
       "      <th></th>\n",
       "      <th>Run</th>\n",
       "      <th>ReleaseDate</th>\n",
       "      <th>LoadDate</th>\n",
       "      <th>spots</th>\n",
       "      <th>bases</th>\n",
       "      <th>spots_with_mates</th>\n",
       "      <th>avgLength</th>\n",
       "      <th>size_MB</th>\n",
       "      <th>AssemblyName</th>\n",
       "      <th>download_path</th>\n",
       "      <th>...</th>\n",
       "      <th>pH</th>\n",
       "      <th>project</th>\n",
       "      <th>reference_condition</th>\n",
       "      <th>species</th>\n",
       "      <th>species_tax_id</th>\n",
       "      <th>strain_description</th>\n",
       "      <th>strain_tax_id</th>\n",
       "      <th>supplement</th>\n",
       "      <th>temperature</th>\n",
       "      <th>time</th>\n",
       "    </tr>\n",
       "  </thead>\n",
       "  <tbody>\n",
       "    <tr>\n",
       "      <th>DRX021104</th>\n",
       "      <td>DRR023050</td>\n",
       "      <td>8/8/21 13:10</td>\n",
       "      <td>8/8/21 13:09</td>\n",
       "      <td>15144738</td>\n",
       "      <td>3059237076</td>\n",
       "      <td>15144738</td>\n",
       "      <td>202</td>\n",
       "      <td>1823</td>\n",
       "      <td>NaN</td>\n",
       "      <td>https://sra-download.ncbi.nlm.nih.gov/traces/d...</td>\n",
       "      <td>...</td>\n",
       "      <td>7.0</td>\n",
       "      <td>mtase</td>\n",
       "      <td>empty_exp</td>\n",
       "      <td>NaN</td>\n",
       "      <td>NaN</td>\n",
       "      <td>MG1655 del_mrr del_hsdR del_hsdM del_hsdS del_...</td>\n",
       "      <td>NaN</td>\n",
       "      <td>NaN</td>\n",
       "      <td>37.0</td>\n",
       "      <td>NaN</td>\n",
       "    </tr>\n",
       "    <tr>\n",
       "      <th>DRX021105</th>\n",
       "      <td>DRR023051</td>\n",
       "      <td>8/8/21 13:10</td>\n",
       "      <td>8/8/21 13:11</td>\n",
       "      <td>14421218</td>\n",
       "      <td>2913086036</td>\n",
       "      <td>14421218</td>\n",
       "      <td>202</td>\n",
       "      <td>1725</td>\n",
       "      <td>NaN</td>\n",
       "      <td>https://sra-download.ncbi.nlm.nih.gov/traces/d...</td>\n",
       "      <td>...</td>\n",
       "      <td>7.0</td>\n",
       "      <td>mtase</td>\n",
       "      <td>empty_exp</td>\n",
       "      <td>NaN</td>\n",
       "      <td>NaN</td>\n",
       "      <td>MG1655 del_mrr del_hsdR del_hsdM del_hsdS del_...</td>\n",
       "      <td>NaN</td>\n",
       "      <td>NaN</td>\n",
       "      <td>37.0</td>\n",
       "      <td>NaN</td>\n",
       "    </tr>\n",
       "    <tr>\n",
       "      <th>DRX021106</th>\n",
       "      <td>DRR023052</td>\n",
       "      <td>8/8/21 13:10</td>\n",
       "      <td>8/8/21 13:12</td>\n",
       "      <td>8195758</td>\n",
       "      <td>1655543116</td>\n",
       "      <td>8195758</td>\n",
       "      <td>202</td>\n",
       "      <td>988</td>\n",
       "      <td>NaN</td>\n",
       "      <td>https://sra-download.ncbi.nlm.nih.gov/traces/d...</td>\n",
       "      <td>...</td>\n",
       "      <td>7.0</td>\n",
       "      <td>mtase</td>\n",
       "      <td>empty_exp</td>\n",
       "      <td>NaN</td>\n",
       "      <td>NaN</td>\n",
       "      <td>MG1655 del_mrr del_hsdR del_hsdM del_hsdS del_...</td>\n",
       "      <td>NaN</td>\n",
       "      <td>NaN</td>\n",
       "      <td>37.0</td>\n",
       "      <td>NaN</td>\n",
       "    </tr>\n",
       "    <tr>\n",
       "      <th>DRX021107</th>\n",
       "      <td>DRR023053</td>\n",
       "      <td>8/8/21 13:10</td>\n",
       "      <td>8/8/21 13:10</td>\n",
       "      <td>12529904</td>\n",
       "      <td>2531040608</td>\n",
       "      <td>12529904</td>\n",
       "      <td>202</td>\n",
       "      <td>1507</td>\n",
       "      <td>NaN</td>\n",
       "      <td>https://sra-download.ncbi.nlm.nih.gov/traces/d...</td>\n",
       "      <td>...</td>\n",
       "      <td>7.0</td>\n",
       "      <td>mtase</td>\n",
       "      <td>empty_exp</td>\n",
       "      <td>NaN</td>\n",
       "      <td>NaN</td>\n",
       "      <td>MG1655 del_mrr del_hsdR del_hsdM del_hsdS del_...</td>\n",
       "      <td>NaN</td>\n",
       "      <td>NaN</td>\n",
       "      <td>37.0</td>\n",
       "      <td>NaN</td>\n",
       "    </tr>\n",
       "    <tr>\n",
       "      <th>DRX021108</th>\n",
       "      <td>DRR023054</td>\n",
       "      <td>8/8/21 13:10</td>\n",
       "      <td>8/8/21 13:10</td>\n",
       "      <td>7137702</td>\n",
       "      <td>1441815804</td>\n",
       "      <td>7137702</td>\n",
       "      <td>202</td>\n",
       "      <td>855</td>\n",
       "      <td>NaN</td>\n",
       "      <td>https://sra-download.ncbi.nlm.nih.gov/traces/d...</td>\n",
       "      <td>...</td>\n",
       "      <td>7.0</td>\n",
       "      <td>mtase</td>\n",
       "      <td>empty_exp</td>\n",
       "      <td>NaN</td>\n",
       "      <td>NaN</td>\n",
       "      <td>MG1655 del_mrr del_hsdR del_hsdM del_hsdS del_...</td>\n",
       "      <td>NaN</td>\n",
       "      <td>NaN</td>\n",
       "      <td>37.0</td>\n",
       "      <td>NaN</td>\n",
       "    </tr>\n",
       "  </tbody>\n",
       "</table>\n",
       "<p>5 rows × 81 columns</p>\n",
       "</div>"
      ],
      "text/plain": [
       "                 Run   ReleaseDate      LoadDate     spots       bases  \\\n",
       "DRX021104  DRR023050  8/8/21 13:10  8/8/21 13:09  15144738  3059237076   \n",
       "DRX021105  DRR023051  8/8/21 13:10  8/8/21 13:11  14421218  2913086036   \n",
       "DRX021106  DRR023052  8/8/21 13:10  8/8/21 13:12   8195758  1655543116   \n",
       "DRX021107  DRR023053  8/8/21 13:10  8/8/21 13:10  12529904  2531040608   \n",
       "DRX021108  DRR023054  8/8/21 13:10  8/8/21 13:10   7137702  1441815804   \n",
       "\n",
       "           spots_with_mates  avgLength  size_MB AssemblyName  \\\n",
       "DRX021104          15144738        202     1823          NaN   \n",
       "DRX021105          14421218        202     1725          NaN   \n",
       "DRX021106           8195758        202      988          NaN   \n",
       "DRX021107          12529904        202     1507          NaN   \n",
       "DRX021108           7137702        202      855          NaN   \n",
       "\n",
       "                                               download_path  ...   pH  \\\n",
       "DRX021104  https://sra-download.ncbi.nlm.nih.gov/traces/d...  ...  7.0   \n",
       "DRX021105  https://sra-download.ncbi.nlm.nih.gov/traces/d...  ...  7.0   \n",
       "DRX021106  https://sra-download.ncbi.nlm.nih.gov/traces/d...  ...  7.0   \n",
       "DRX021107  https://sra-download.ncbi.nlm.nih.gov/traces/d...  ...  7.0   \n",
       "DRX021108  https://sra-download.ncbi.nlm.nih.gov/traces/d...  ...  7.0   \n",
       "\n",
       "          project reference_condition species species_tax_id  \\\n",
       "DRX021104   mtase           empty_exp     NaN            NaN   \n",
       "DRX021105   mtase           empty_exp     NaN            NaN   \n",
       "DRX021106   mtase           empty_exp     NaN            NaN   \n",
       "DRX021107   mtase           empty_exp     NaN            NaN   \n",
       "DRX021108   mtase           empty_exp     NaN            NaN   \n",
       "\n",
       "                                          strain_description  strain_tax_id  \\\n",
       "DRX021104  MG1655 del_mrr del_hsdR del_hsdM del_hsdS del_...            NaN   \n",
       "DRX021105  MG1655 del_mrr del_hsdR del_hsdM del_hsdS del_...            NaN   \n",
       "DRX021106  MG1655 del_mrr del_hsdR del_hsdM del_hsdS del_...            NaN   \n",
       "DRX021107  MG1655 del_mrr del_hsdR del_hsdM del_hsdS del_...            NaN   \n",
       "DRX021108  MG1655 del_mrr del_hsdR del_hsdM del_hsdS del_...            NaN   \n",
       "\n",
       "          supplement temperature time  \n",
       "DRX021104        NaN        37.0  NaN  \n",
       "DRX021105        NaN        37.0  NaN  \n",
       "DRX021106        NaN        37.0  NaN  \n",
       "DRX021107        NaN        37.0  NaN  \n",
       "DRX021108        NaN        37.0  NaN  \n",
       "\n",
       "[5 rows x 81 columns]"
      ]
     },
     "execution_count": 7,
     "metadata": {},
     "output_type": "execute_result"
    }
   ],
   "source": [
    "DF_metadata_passed_step4 = DF_metadata[~DF_metadata['drop'].fillna(False)].copy()\n",
    "print('New number of samples with curated metadata:',DF_metadata_passed_step4.shape[0])\n",
    "DF_metadata_passed_step4.head()"
   ]
  },
  {
   "cell_type": "markdown",
   "metadata": {},
   "source": [
    "# Check Manual Curation\n",
    "Since manual curation is error-prone, we want to make sure that all samples have labels for their project and condition. In addition, there should only be one reference condition in each project, and it should be in the project itself.\n",
    "\n",
    "Any samples that fail these checks will be printed below."
   ]
  },
  {
   "cell_type": "code",
   "execution_count": 8,
   "metadata": {},
   "outputs": [],
   "source": [
    "assert(DF_metadata_passed_step4.project.notnull().all())\n",
    "assert(DF_metadata_passed_step4.condition.notnull().all())\n",
    "\n",
    "for name,group in DF_metadata_passed_step4.groupby('project'):\n",
    "    ref_cond = group.reference_condition.unique()\n",
    "    \n",
    "    # Ensure that there is only one reference condition per project\n",
    "    if not len(ref_cond) == 1:\n",
    "        print('Multiple reference conditions for:, name')\n",
    "    \n",
    "    # Ensure the reference condition is in fact in the project\n",
    "    ref_cond = ref_cond[0]\n",
    "    if not ref_cond in group.condition.tolist():\n",
    "        print('Reference condition not in project:', name)"
   ]
  },
  {
   "cell_type": "markdown",
   "metadata": {},
   "source": [
    "Next, make a new column called ``full_name`` that gives every experimental condition a unique, human-readable identifier."
   ]
  },
  {
   "cell_type": "code",
   "execution_count": 9,
   "metadata": {},
   "outputs": [],
   "source": [
    "DF_metadata_passed_step4['full_name'] = DF_metadata_passed_step4['project'].str.cat(DF_metadata_passed_step4['condition'],sep=':')"
   ]
  },
  {
   "cell_type": "markdown",
   "metadata": {},
   "source": [
    "# Remove Samples lacking Replicates"
   ]
  },
  {
   "cell_type": "markdown",
   "metadata": {},
   "source": [
    "First, find sample names that have at least two replicates."
   ]
  },
  {
   "cell_type": "code",
   "execution_count": 10,
   "metadata": {},
   "outputs": [
    {
     "name": "stdout",
     "output_type": "stream",
     "text": [
      "Index(['rockhopper:wt_glyc', 'evo_acid_w:wt', 'rrna_stress:del_7prrn_BBB',\n",
      "       't7_time:t7_5min', 'rockhopper:wt_glyc_aMG'],\n",
      "      dtype='object')\n"
     ]
    }
   ],
   "source": [
    "counts = DF_metadata_passed_step4.full_name.value_counts()\n",
    "keep_samples = counts[counts >= 2].index\n",
    "print(keep_samples[:5])"
   ]
  },
  {
   "cell_type": "markdown",
   "metadata": {},
   "source": [
    "Only keep these samples"
   ]
  },
  {
   "cell_type": "code",
   "execution_count": 11,
   "metadata": {},
   "outputs": [
    {
     "name": "stdout",
     "output_type": "stream",
     "text": [
      "New number of samples with curated metadata: 1816\n"
     ]
    },
    {
     "data": {
      "text/html": [
       "<div>\n",
       "<style scoped>\n",
       "    .dataframe tbody tr th:only-of-type {\n",
       "        vertical-align: middle;\n",
       "    }\n",
       "\n",
       "    .dataframe tbody tr th {\n",
       "        vertical-align: top;\n",
       "    }\n",
       "\n",
       "    .dataframe thead th {\n",
       "        text-align: right;\n",
       "    }\n",
       "</style>\n",
       "<table border=\"1\" class=\"dataframe\">\n",
       "  <thead>\n",
       "    <tr style=\"text-align: right;\">\n",
       "      <th></th>\n",
       "      <th>Run</th>\n",
       "      <th>ReleaseDate</th>\n",
       "      <th>LoadDate</th>\n",
       "      <th>spots</th>\n",
       "      <th>bases</th>\n",
       "      <th>spots_with_mates</th>\n",
       "      <th>avgLength</th>\n",
       "      <th>size_MB</th>\n",
       "      <th>AssemblyName</th>\n",
       "      <th>download_path</th>\n",
       "      <th>...</th>\n",
       "      <th>pH</th>\n",
       "      <th>project</th>\n",
       "      <th>reference_condition</th>\n",
       "      <th>species</th>\n",
       "      <th>species_tax_id</th>\n",
       "      <th>strain_description</th>\n",
       "      <th>strain_tax_id</th>\n",
       "      <th>supplement</th>\n",
       "      <th>temperature</th>\n",
       "      <th>time</th>\n",
       "    </tr>\n",
       "  </thead>\n",
       "  <tbody>\n",
       "    <tr>\n",
       "      <th>DRX021104</th>\n",
       "      <td>DRR023050</td>\n",
       "      <td>8/8/21 13:10</td>\n",
       "      <td>8/8/21 13:09</td>\n",
       "      <td>15144738</td>\n",
       "      <td>3059237076</td>\n",
       "      <td>15144738</td>\n",
       "      <td>202</td>\n",
       "      <td>1823</td>\n",
       "      <td>NaN</td>\n",
       "      <td>https://sra-download.ncbi.nlm.nih.gov/traces/d...</td>\n",
       "      <td>...</td>\n",
       "      <td>7.0</td>\n",
       "      <td>mtase</td>\n",
       "      <td>empty_exp</td>\n",
       "      <td>NaN</td>\n",
       "      <td>NaN</td>\n",
       "      <td>MG1655 del_mrr del_hsdR del_hsdM del_hsdS del_...</td>\n",
       "      <td>NaN</td>\n",
       "      <td>NaN</td>\n",
       "      <td>37.0</td>\n",
       "      <td>NaN</td>\n",
       "    </tr>\n",
       "    <tr>\n",
       "      <th>DRX021105</th>\n",
       "      <td>DRR023051</td>\n",
       "      <td>8/8/21 13:10</td>\n",
       "      <td>8/8/21 13:11</td>\n",
       "      <td>14421218</td>\n",
       "      <td>2913086036</td>\n",
       "      <td>14421218</td>\n",
       "      <td>202</td>\n",
       "      <td>1725</td>\n",
       "      <td>NaN</td>\n",
       "      <td>https://sra-download.ncbi.nlm.nih.gov/traces/d...</td>\n",
       "      <td>...</td>\n",
       "      <td>7.0</td>\n",
       "      <td>mtase</td>\n",
       "      <td>empty_exp</td>\n",
       "      <td>NaN</td>\n",
       "      <td>NaN</td>\n",
       "      <td>MG1655 del_mrr del_hsdR del_hsdM del_hsdS del_...</td>\n",
       "      <td>NaN</td>\n",
       "      <td>NaN</td>\n",
       "      <td>37.0</td>\n",
       "      <td>NaN</td>\n",
       "    </tr>\n",
       "    <tr>\n",
       "      <th>DRX021106</th>\n",
       "      <td>DRR023052</td>\n",
       "      <td>8/8/21 13:10</td>\n",
       "      <td>8/8/21 13:12</td>\n",
       "      <td>8195758</td>\n",
       "      <td>1655543116</td>\n",
       "      <td>8195758</td>\n",
       "      <td>202</td>\n",
       "      <td>988</td>\n",
       "      <td>NaN</td>\n",
       "      <td>https://sra-download.ncbi.nlm.nih.gov/traces/d...</td>\n",
       "      <td>...</td>\n",
       "      <td>7.0</td>\n",
       "      <td>mtase</td>\n",
       "      <td>empty_exp</td>\n",
       "      <td>NaN</td>\n",
       "      <td>NaN</td>\n",
       "      <td>MG1655 del_mrr del_hsdR del_hsdM del_hsdS del_...</td>\n",
       "      <td>NaN</td>\n",
       "      <td>NaN</td>\n",
       "      <td>37.0</td>\n",
       "      <td>NaN</td>\n",
       "    </tr>\n",
       "    <tr>\n",
       "      <th>DRX021107</th>\n",
       "      <td>DRR023053</td>\n",
       "      <td>8/8/21 13:10</td>\n",
       "      <td>8/8/21 13:10</td>\n",
       "      <td>12529904</td>\n",
       "      <td>2531040608</td>\n",
       "      <td>12529904</td>\n",
       "      <td>202</td>\n",
       "      <td>1507</td>\n",
       "      <td>NaN</td>\n",
       "      <td>https://sra-download.ncbi.nlm.nih.gov/traces/d...</td>\n",
       "      <td>...</td>\n",
       "      <td>7.0</td>\n",
       "      <td>mtase</td>\n",
       "      <td>empty_exp</td>\n",
       "      <td>NaN</td>\n",
       "      <td>NaN</td>\n",
       "      <td>MG1655 del_mrr del_hsdR del_hsdM del_hsdS del_...</td>\n",
       "      <td>NaN</td>\n",
       "      <td>NaN</td>\n",
       "      <td>37.0</td>\n",
       "      <td>NaN</td>\n",
       "    </tr>\n",
       "    <tr>\n",
       "      <th>DRX021108</th>\n",
       "      <td>DRR023054</td>\n",
       "      <td>8/8/21 13:10</td>\n",
       "      <td>8/8/21 13:10</td>\n",
       "      <td>7137702</td>\n",
       "      <td>1441815804</td>\n",
       "      <td>7137702</td>\n",
       "      <td>202</td>\n",
       "      <td>855</td>\n",
       "      <td>NaN</td>\n",
       "      <td>https://sra-download.ncbi.nlm.nih.gov/traces/d...</td>\n",
       "      <td>...</td>\n",
       "      <td>7.0</td>\n",
       "      <td>mtase</td>\n",
       "      <td>empty_exp</td>\n",
       "      <td>NaN</td>\n",
       "      <td>NaN</td>\n",
       "      <td>MG1655 del_mrr del_hsdR del_hsdM del_hsdS del_...</td>\n",
       "      <td>NaN</td>\n",
       "      <td>NaN</td>\n",
       "      <td>37.0</td>\n",
       "      <td>NaN</td>\n",
       "    </tr>\n",
       "  </tbody>\n",
       "</table>\n",
       "<p>5 rows × 81 columns</p>\n",
       "</div>"
      ],
      "text/plain": [
       "                 Run   ReleaseDate      LoadDate     spots       bases  \\\n",
       "DRX021104  DRR023050  8/8/21 13:10  8/8/21 13:09  15144738  3059237076   \n",
       "DRX021105  DRR023051  8/8/21 13:10  8/8/21 13:11  14421218  2913086036   \n",
       "DRX021106  DRR023052  8/8/21 13:10  8/8/21 13:12   8195758  1655543116   \n",
       "DRX021107  DRR023053  8/8/21 13:10  8/8/21 13:10  12529904  2531040608   \n",
       "DRX021108  DRR023054  8/8/21 13:10  8/8/21 13:10   7137702  1441815804   \n",
       "\n",
       "           spots_with_mates  avgLength  size_MB AssemblyName  \\\n",
       "DRX021104          15144738        202     1823          NaN   \n",
       "DRX021105          14421218        202     1725          NaN   \n",
       "DRX021106           8195758        202      988          NaN   \n",
       "DRX021107          12529904        202     1507          NaN   \n",
       "DRX021108           7137702        202      855          NaN   \n",
       "\n",
       "                                               download_path  ...   pH  \\\n",
       "DRX021104  https://sra-download.ncbi.nlm.nih.gov/traces/d...  ...  7.0   \n",
       "DRX021105  https://sra-download.ncbi.nlm.nih.gov/traces/d...  ...  7.0   \n",
       "DRX021106  https://sra-download.ncbi.nlm.nih.gov/traces/d...  ...  7.0   \n",
       "DRX021107  https://sra-download.ncbi.nlm.nih.gov/traces/d...  ...  7.0   \n",
       "DRX021108  https://sra-download.ncbi.nlm.nih.gov/traces/d...  ...  7.0   \n",
       "\n",
       "          project reference_condition species species_tax_id  \\\n",
       "DRX021104   mtase           empty_exp     NaN            NaN   \n",
       "DRX021105   mtase           empty_exp     NaN            NaN   \n",
       "DRX021106   mtase           empty_exp     NaN            NaN   \n",
       "DRX021107   mtase           empty_exp     NaN            NaN   \n",
       "DRX021108   mtase           empty_exp     NaN            NaN   \n",
       "\n",
       "                                          strain_description  strain_tax_id  \\\n",
       "DRX021104  MG1655 del_mrr del_hsdR del_hsdM del_hsdS del_...            NaN   \n",
       "DRX021105  MG1655 del_mrr del_hsdR del_hsdM del_hsdS del_...            NaN   \n",
       "DRX021106  MG1655 del_mrr del_hsdR del_hsdM del_hsdS del_...            NaN   \n",
       "DRX021107  MG1655 del_mrr del_hsdR del_hsdM del_hsdS del_...            NaN   \n",
       "DRX021108  MG1655 del_mrr del_hsdR del_hsdM del_hsdS del_...            NaN   \n",
       "\n",
       "          supplement temperature time  \n",
       "DRX021104        NaN        37.0  NaN  \n",
       "DRX021105        NaN        37.0  NaN  \n",
       "DRX021106        NaN        37.0  NaN  \n",
       "DRX021107        NaN        37.0  NaN  \n",
       "DRX021108        NaN        37.0  NaN  \n",
       "\n",
       "[5 rows x 81 columns]"
      ]
     },
     "execution_count": 11,
     "metadata": {},
     "output_type": "execute_result"
    }
   ],
   "source": [
    "DF_metadata_passed_step4 = DF_metadata_passed_step4[DF_metadata_passed_step4.full_name.isin(keep_samples)]\n",
    "print('New number of samples with curated metadata:',DF_metadata_passed_step4.shape[0])\n",
    "DF_metadata_passed_step4.head()"
   ]
  },
  {
   "cell_type": "code",
   "execution_count": 12,
   "metadata": {},
   "outputs": [],
   "source": [
    "DF_metadata_all['passed_curation'] = DF_metadata_all.index.isin(DF_metadata_passed_step4.index)"
   ]
  },
  {
   "cell_type": "markdown",
   "metadata": {},
   "source": [
    "# Replicate Correlations"
   ]
  },
  {
   "cell_type": "code",
   "execution_count": 13,
   "metadata": {},
   "outputs": [],
   "source": [
    "DF_log_tpm = DF_log_tpm[DF_metadata_passed_step4.index]"
   ]
  },
  {
   "cell_type": "markdown",
   "metadata": {},
   "source": [
    "## Compute Pearson R Correlations"
   ]
  },
  {
   "cell_type": "markdown",
   "metadata": {},
   "source": [
    "Biological replicates should have a Pearson R correlation above 0.95. For samples with more than 2 replicates, the replicates must have R >= 0.95 with at least one other replicate or it will be dropped. The correlation threshold can be changed below:"
   ]
  },
  {
   "cell_type": "code",
   "execution_count": 14,
   "metadata": {},
   "outputs": [],
   "source": [
    "rcutoff = 0.95"
   ]
  },
  {
   "cell_type": "markdown",
   "metadata": {},
   "source": [
    "The following code computes correlations between all samples and collects correlations between replicates and non-replicates."
   ]
  },
  {
   "cell_type": "code",
   "execution_count": 15,
   "metadata": {},
   "outputs": [
    {
     "data": {
      "application/vnd.jupyter.widget-view+json": {
       "model_id": "7c792cf6263e45218a411ceb34362e87",
       "version_major": 2,
       "version_minor": 0
      },
      "text/plain": [
       "  0%|          | 0/1648020.0 [00:00<?, ?it/s]"
      ]
     },
     "metadata": {},
     "output_type": "display_data"
    }
   ],
   "source": [
    "rep_corrs = {}\n",
    "rand_corrs = {}\n",
    "\n",
    "num_comparisons = len(DF_metadata_passed_step4)*(len(DF_metadata_passed_step4)-1)/2\n",
    "\n",
    "for exp1,exp2 in tqdm(itertools.combinations(DF_metadata_passed_step4.index,2),total=num_comparisons):\n",
    "    if DF_metadata_passed_step4.loc[exp1,'full_name'] == DF_metadata_passed_step4.loc[exp2,'full_name']:\n",
    "        rep_corrs[(exp1,exp2)] = stats.pearsonr(DF_log_tpm[exp1],DF_log_tpm[exp2])[0]\n",
    "    else:\n",
    "        rand_corrs[(exp1,exp2)] = stats.pearsonr(DF_log_tpm[exp1],DF_log_tpm[exp2])[0]"
   ]
  },
  {
   "cell_type": "markdown",
   "metadata": {},
   "source": [
    "Correlations can be plotted on a histogram"
   ]
  },
  {
   "cell_type": "code",
   "execution_count": 16,
   "metadata": {},
   "outputs": [
    {
     "name": "stdout",
     "output_type": "stream",
     "text": [
      "Median Pearson R between replicates: 0.98\n"
     ]
    },
    {
     "data": {
      "image/png": "[encoded data removed]",
      "text/plain": [
       "<Figure size 360x360 with 2 Axes>"
      ]
     },
     "metadata": {},
     "output_type": "display_data"
    }
   ],
   "source": [
    "fig,ax = plt.subplots(figsize=(5,5))\n",
    "ax2 = ax.twinx()\n",
    "ax2.hist(rep_corrs.values(),bins=50,range=(0.2,1),alpha=0.8,color='green',linewidth=0)\n",
    "ax.hist(rand_corrs.values(),bins=50,range=(0.2,1),alpha=0.8,color='blue',linewidth=0)\n",
    "ax.set_title('Pearson R correlation between experiments',fontsize=14)\n",
    "ax.set_xlabel('Pearson R correlation',fontsize=14)\n",
    "ax.set_ylabel('Different Conditions',fontsize=14)\n",
    "ax2.set_ylabel('Known Replicates',fontsize=14)\n",
    "\n",
    "med_corr = np.median([v for k,v in rep_corrs.items()])\n",
    "print('Median Pearson R between replicates: {:.2f}'.format(med_corr))"
   ]
  },
  {
   "cell_type": "markdown",
   "metadata": {},
   "source": [
    "Remove samples without any high-correlation replicates"
   ]
  },
  {
   "cell_type": "code",
   "execution_count": 29,
   "metadata": {},
   "outputs": [],
   "source": [
    "corr_thresh = 0.95\n",
    "dissimilar = []\n",
    "for full_cond_name, condition_df in DF_metadata_passed_step4.groupby('full_name'):\n",
    "    rep_corrs_cond = {cond_tup: corr for cond_tup, corr in rep_corrs.items() if cond_tup[0] in condition_df.index or cond_tup[1] in condition_df.index}\n",
    "    # if there's nothing, there weren't any replicates, this \"passes\"\n",
    "    if condition_df.shape[0] == 1:\n",
    "        continue\n",
    "    # or if there's just 2, it's simple\n",
    "    elif condition_df.shape[0] == 2:\n",
    "        for (cond1, cond2), corr in rep_corrs_cond.items():\n",
    "            if corr < corr_thresh:\n",
    "                dissimilar.extend([cond1, cond2])\n",
    "    # if there's 3 or more replicates, take the ones with the best correlation greedily\n",
    "    elif condition_df.shape[0] > 2:\n",
    "        # only need to worry about dissimilar if there's at least one below threshold\n",
    "        sorted_rep_corrs = sorted(rep_corrs_cond.items(), key=lambda tup: tup[1], reverse=True)\n",
    "\n",
    "        (top_cond1, top_cond2), top_corr = sorted_rep_corrs[0]\n",
    "        to_keep = []\n",
    "        if top_corr >= corr_thresh:\n",
    "            to_keep = [top_cond1, top_cond2]\n",
    "            for (cond1, cond2), corr in sorted_rep_corrs[1:]:\n",
    "                if cond1 in (top_cond1, top_cond2) or cond2 in (top_cond1, top_cond2):\n",
    "                    if corr >= corr_thresh:\n",
    "                        to_keep.extend([cond1, cond2])\n",
    "        dissimilar.extend(set(condition_df.index).difference(set(to_keep)))\n",
    "        \n",
    "dissimilar = set(dissimilar)"
   ]
  },
  {
   "cell_type": "code",
   "execution_count": 30,
   "metadata": {},
   "outputs": [],
   "source": [
    "# Save this information in both the original metadata dataframe and the new metadata dataframe\n",
    "DF_metadata_all['passed_replicate_correlations'] = ~DF_metadata_all.index.isin(dissimilar)\n",
    "DF_metadata_passed_step4['passed_replicate_correlations'] = ~DF_metadata_passed_step4.index.isin(dissimilar)"
   ]
  },
  {
   "cell_type": "code",
   "execution_count": 31,
   "metadata": {},
   "outputs": [
    {
     "name": "stdout",
     "output_type": "stream",
     "text": [
      "# Samples that passed replicate correlations: 1675\n"
     ]
    }
   ],
   "source": [
    "DF_metadata_final = DF_metadata_passed_step4[DF_metadata_passed_step4['passed_replicate_correlations']]\n",
    "print('# Samples that passed replicate correlations:',len(DF_metadata_final))"
   ]
  },
  {
   "cell_type": "markdown",
   "metadata": {},
   "source": [
    "## Check for Reference Conditions\n",
    "If a reference condition was removed due to poor replicate correlations, a new reference condition needs to be defined.\n",
    "\n",
    "Again, any samples that fail these checks will be printed below."
   ]
  },
  {
   "cell_type": "code",
   "execution_count": 32,
   "metadata": {},
   "outputs": [
    {
     "name": "stdout",
     "output_type": "stream",
     "text": [
      "Only one condition in: camps\n",
      "Only one condition in: hns_stpA\n",
      "Only one condition in: mazF_OE\n",
      "Only one condition in: pixR\n",
      "Only one condition in: putida_silver\n",
      "Only one condition in: sdsR_ryeA\n"
     ]
    }
   ],
   "source": [
    "project_exprs = []\n",
    "for name,group in DF_metadata_final.groupby('project'):\n",
    "    \n",
    "    # Get reference condition\n",
    "    ref_cond = group.reference_condition.iloc[0]\n",
    "    \n",
    "    # Ensure the reference condition is still in the project\n",
    "    if ref_cond not in group.condition.tolist():\n",
    "        print('Reference condition missing from:', name)\n",
    "    \n",
    "    # Check that each project has at least two conditions (a reference and at least one test condition)\n",
    "    if len(group.condition.unique()) <= 1:\n",
    "        print('Only one condition in:', name)"
   ]
  },
  {
   "cell_type": "markdown",
   "metadata": {},
   "source": [
    "If necessary, choose a new condition for failed projects and re-run notebook."
   ]
  },
  {
   "cell_type": "markdown",
   "metadata": {},
   "source": [
    "# Center Dataset to Reference Conditions"
   ]
  },
  {
   "cell_type": "code",
   "execution_count": 33,
   "metadata": {},
   "outputs": [],
   "source": [
    "DF_log_tpm_final = DF_log_tpm[DF_metadata_final.index]"
   ]
  },
  {
   "cell_type": "code",
   "execution_count": 34,
   "metadata": {},
   "outputs": [],
   "source": [
    "project_exprs = []\n",
    "for name,group in DF_metadata_final.groupby('project'):\n",
    "    \n",
    "    # Get reference condition\n",
    "    ref_cond = group.reference_condition.iloc[0]\n",
    "    \n",
    "    # Get reference condition sample ids\n",
    "    ref_samples = group[group.condition == ref_cond].index\n",
    "    \n",
    "    # Get reference condition expression\n",
    "    ref_expr = DF_log_tpm_final[ref_samples].mean(axis=1)\n",
    "    \n",
    "    # Subtract reference expression from project\n",
    "    project_exprs.append(DF_log_tpm_final[group.index].sub(ref_expr,axis=0))\n",
    "\n",
    "DF_log_tpm_norm = pd.concat(project_exprs,axis=1)"
   ]
  },
  {
   "cell_type": "markdown",
   "metadata": {},
   "source": [
    "# Save Final Datasets"
   ]
  },
  {
   "cell_type": "code",
   "execution_count": 35,
   "metadata": {},
   "outputs": [],
   "source": [
    "DF_log_tpm_final.to_csv(path.join(MODULOME_PATH,'log_tpm_qc.csv'))\n",
    "DF_log_tpm_norm.to_csv(path.join(MODULOME_PATH,'log_tpm_norm.csv'))\n",
    "DF_metadata_final.to_csv(path.join(MODULOME_PATH,'metadata_qc_part2.csv'))\n",
    "DF_metadata_all.to_csv(path.join(MODULOME_PATH,'metadata_qc_part2_all.csv'))"
   ]
  },
  {
   "cell_type": "markdown",
   "metadata": {
    "tags": []
   },
   "source": [
    "# Append PRECISE-1K"
   ]
  },
  {
   "cell_type": "code",
   "execution_count": 36,
   "metadata": {},
   "outputs": [],
   "source": [
    "P1K_PATH = '../../data/precise1k/'"
   ]
  },
  {
   "cell_type": "code",
   "execution_count": 37,
   "metadata": {},
   "outputs": [],
   "source": [
    "p1k_metadata = pd.read_csv(path.join(P1K_PATH, 'metadata_qc.csv'), index_col=0)\n",
    "p1k_log_tpm = pd.read_csv(path.join(P1K_PATH, 'log_tpm_qc.csv'), index_col=0)\n",
    "p1k_log_tpm_norm = pd.read_csv(path.join(P1K_PATH, 'log_tpm_norm_qc.csv'), index_col=0)"
   ]
  },
  {
   "cell_type": "markdown",
   "metadata": {},
   "source": [
    "## to Project-Centered Modulome"
   ]
  },
  {
   "cell_type": "code",
   "execution_count": 38,
   "metadata": {},
   "outputs": [],
   "source": [
    "merged_log_tpm_norm = p1k_log_tpm_norm.merge(DF_log_tpm_norm, left_index=True, right_index=True, how='inner')"
   ]
  },
  {
   "cell_type": "code",
   "execution_count": 39,
   "metadata": {},
   "outputs": [],
   "source": [
    "merged_log_tpm_norm.to_csv(path.join(MODULOME_PATH, 'log_tpm_norm_with_p1k.csv'))"
   ]
  },
  {
   "cell_type": "markdown",
   "metadata": {},
   "source": [
    "## to PRECISE-1K-centered Modulome\n",
    "\n",
    "In this case, we will use the NON-normalized version and normalize using PRECISE-1K's control condition\n",
    "\n",
    "PCA plot of expression from modulome shows small enough batch effects for this"
   ]
  },
  {
   "cell_type": "code",
   "execution_count": 40,
   "metadata": {},
   "outputs": [],
   "source": [
    "merged_log_tpm = p1k_log_tpm.merge(DF_log_tpm_final, left_index=True, right_index=True, how='inner')"
   ]
  },
  {
   "cell_type": "code",
   "execution_count": 41,
   "metadata": {},
   "outputs": [],
   "source": [
    "# Define centering reference condition as \"control\" project, growth in M9 medium with glucose\n",
    "reference = ['p1k_00001','p1k_00002']\n",
    "\n",
    "# Subtract mean expression of reference from entire dataset\n",
    "DF_log_tpm_norm_p1k_ctrl = merged_log_tpm.sub(merged_log_tpm[reference].mean(axis=1),axis=0)"
   ]
  },
  {
   "cell_type": "code",
   "execution_count": 42,
   "metadata": {},
   "outputs": [],
   "source": [
    "DF_log_tpm_norm_p1k_ctrl.to_csv(path.join(MODULOME_PATH, 'log_tpm_norm_with_p1k_ctrl.csv'))"
   ]
  },
  {
   "cell_type": "code",
   "execution_count": null,
   "metadata": {},
   "outputs": [],
   "source": []
  }
 ],
 "metadata": {
  "kernelspec": {
   "display_name": "Python 3 (ipykernel)",
   "language": "python",
   "name": "python3"
  },
  "language_info": {
   "codemirror_mode": {
    "name": "ipython",
    "version": 3
   },
   "file_extension": ".py",
   "mimetype": "text/x-python",
   "name": "python",
   "nbconvert_exporter": "python",
   "pygments_lexer": "ipython3",
   "version": "3.10.2"
  },
  "toc": {
   "base_numbering": 1,
   "nav_menu": {},
   "number_sections": true,
   "sideBar": true,
   "skip_h1_title": false,
   "title_cell": "Table of Contents",
   "title_sidebar": "Contents",
   "toc_cell": true,
   "toc_position": {},
   "toc_section_display": true,
   "toc_window_display": false
  }
 },
 "nbformat": 4,
 "nbformat_minor": 4
}
