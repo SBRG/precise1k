{
 "cells": [
  {
   "cell_type": "markdown",
   "metadata": {},
   "source": [
    "# Import Packages"
   ]
  },
  {
   "cell_type": "code",
   "execution_count": 1,
   "metadata": {},
   "outputs": [],
   "source": [
    "# built-in\n",
    "from ast import literal_eval\n",
    "import os.path\n",
    "\n",
    "# third-party (pip install required)\n",
    "import numpy as np\n",
    "import pandas as pd\n",
    "from pymodulon.compare import compare_ica\n",
    "from pymodulon.core import IcaData\n",
    "from pymodulon.io import load_json_model, save_to_json\n",
    "from pymodulon.util import explained_variance\n",
    "from tqdm.notebook import tqdm"
   ]
  },
  {
   "cell_type": "code",
   "execution_count": 2,
   "metadata": {},
   "outputs": [],
   "source": [
    "# Enter the location of your data here\n",
    "P1K_PATH = '../../data/precise1k/'\n",
    "K12_PATH = '../../data/k12_modulome/'\n",
    "ANNOTATION_PATH = '../../data/annotation'"
   ]
  },
  {
   "cell_type": "markdown",
   "metadata": {},
   "source": [
    "# Merge Metadata\n",
    "\n",
    "Still need to combine metadata from PRECISE-1K and K-12 Modulome"
   ]
  },
  {
   "cell_type": "code",
   "execution_count": 3,
   "metadata": {},
   "outputs": [],
   "source": [
    "p1k_metadata = pd.read_csv(os.path.join(P1K_PATH, 'metadata_qc.csv'), index_col=0)\n",
    "k12_metadata = pd.read_csv(os.path.join(K12_PATH, 'metadata_qc.csv'), index_col=0)\n",
    "# modify K-12 metadata to mesh well with P1K\n",
    "k12_metadata = k12_metadata[[\n",
    "    'Run', 'ReleaseDate', 'LibraryLayout', 'Platform', 'Model', 'BioProject', 'BioSample', 'ScientificName',\n",
    "    'passed_fastqc', 'passed_reads_mapped_to_CDS', 'passed_global_correlation', 'GEO Sample',\n",
    "    'GEO Series', 'PMID', 'additional_notes', 'aerobicity', 'approx_OD', 'base_media',\n",
    "    'carbon_source', 'condition', 'culture_type', 'dilution_rate', 'full_name', 'growth_phase',\n",
    "    'nitrogen_source', 'pH', 'project', 'reference_condition', 'strain_description', 'supplement',\n",
    "    'temperature', 'time', 'passed_replicate_correlations'\n",
    "]]\n",
    "k12_metadata = k12_metadata.rename(columns={\n",
    "    'ReleaseDate': 'run_date',\n",
    "    'Model': 'Sequencing Machine',\n",
    "    'GEO Series': 'GEO',\n",
    "    'additional_notes': 'Additional Details',\n",
    "    'base_media': 'Base Media', \n",
    "    'carbon_source': 'Carbon Source (g/L)',\n",
    "    'culture_type': 'Culture Type',\n",
    "    'nitrogen_source': 'Nitrogen Source (g/L)',\n",
    "    'temperature': 'Temperature (C)',\n",
    "    'strain_description': 'Strain Description',\n",
    "    'supplement': 'Supplement'\n",
    "})\n",
    "\n",
    "current_count = {}\n",
    "\n",
    "def rep_id(row):\n",
    "    proj, cond = row['project'], row['condition']\n",
    "    proj_cond = f'{proj}__{cond}'\n",
    "    if proj_cond not in current_count:\n",
    "        current_count[proj_cond] = 1\n",
    "    else:\n",
    "        current_count[proj_cond] += 1\n",
    "    return current_count[proj_cond]\n",
    "\n",
    "def sample_id(row):\n",
    "    proj, cond, rep_id = row['project'], row['condition'], row['rep_id']\n",
    "    return f'{proj}__{cond}__{rep_id}'\n",
    "\n",
    "k12_metadata = k12_metadata.assign(\n",
    "    rep_id=k12_metadata.apply(rep_id, axis=1)\n",
    ")\n",
    "k12_metadata = k12_metadata.assign(\n",
    "    sample_id=k12_metadata.apply(sample_id, axis=1)\n",
    ")\n",
    "\n",
    "merged_metadata = pd.concat([p1k_metadata, k12_metadata])"
   ]
  },
  {
   "cell_type": "code",
   "execution_count": 4,
   "metadata": {},
   "outputs": [],
   "source": [
    "merged_metadata.to_csv(os.path.join(K12_PATH, 'metadata_qc_with_p1k.csv'))"
   ]
  },
  {
   "cell_type": "markdown",
   "metadata": {},
   "source": [
    "# Create IcaData"
   ]
  },
  {
   "cell_type": "code",
   "execution_count": 5,
   "metadata": {},
   "outputs": [
    {
     "name": "stderr",
     "output_type": "stream",
     "text": [
      "WARNING:root:The characters '+' and '/' are used for combining regulons and cannot be in regulator names. These characters will be replaced with ';'\n",
      "WARNING:root:The following genes are in the TRN but not in your M matrix: {'b1265', 'b3851', 'b4134', 'b0670', 'b2189', 'b4718', 'b0205', 'b3277', 'b4270', 'b4611', 'b4439', 'b4665', 'b3968', 'b4454', 'b2348', 'b3970', 'b3796', 'b3545', 'b4010', 'b4597', 'b3969', 'b4435', 'b4698', 'b2864', 'b4458', 'b3119', 'b4431', 'b0672', 'b1230', 'b2591', 'b3758', 'b4717', 'b1417', 'b4427', 'b2598', 'b0536', 'b4447', 'b4164', 'b4759', 'b4457', 'b1986', 'b4673', 'b1909', 'b4637', 'b2692', 'b1910', 'b4736', 'b3707', 'b2694', 'b1911', 'b0216', 'b4165', 'b2018', 'b4441', 'b4716', 'b1665', 'b0744', 'b4722', 'b1229', 'b3756', 'b3978', 'b4670', 'b0665', 'b2396', 'b1576', 'b4667', 'b3797', 'b4440', 'b4617', 'b4009', 'b2815', 'b0204', 'b4449', 'b3276', 'b4429', 'b4412', 'b3976', 'b0001', 'b4609', 'b4687', 'b4685', 'b4505', 'b4613', 'b2403', 'b2652', 'b3979', 'b2404', 'b3799', 'b3123', 'b4763', 'b2915', 'b4702', 'b4691', 'b4741', 'b2695', 'b1977', 'b3971', 'b4436', 'b3977', 'b4459', 'b4663', 'b0971', 'b2589', 'b4618', 'b4664', 'b0371', 'b4616', 'b4599', 'b1954', 'b0075', 'b2691', 'b3174', 'b4408', 'b4666', 'b3672', 'b2590', 'b4513', 'b1455', 'b2401', 'b2397', 'b3069', 'b4163', 'b4433', 'b2621', 'b4608', 'b4592', 'b0201', 'b0553', 'b3864', 'b3272', 'b4008', 'b1989', 'b0883', 'b2693', 'b3171', 'b0244', 'b3798', 'b4585', 'b4697', 'b1032', 'b1231', 'b4624', 'b4760', 'b0673', 'b4421', 'b4719', 'b0664', 'b3759', 'b3757', 'b4445', 'b3489', 'b4417', 'b3853', 'b4426', 'b4699', 'b3855', 'b4414', 'b4762', 'b1666', 'b2588', 'b1510', 'b0666', 'b2228', 'b4442', 'b4764', 'b4803', 'b1975', 'b1715', 'b4669', 'b4413', 'b4668', 'b4416', 'b3275', 'b4415', 'b4707', 'b4369', 'b4368', 'b4370', 'b4625', 'b3278', 'b3766', 'b0203', 'b2814', 'b0743', 'b4456', 'b4444', 'b3854', 'b4452', 'b4577', 'b4704', 'b2911', 'b3274', 'b4640', 'b3273', 'b4007', 'b0202', 'b3852', 'b0745', 'b4443', 'b2402', 'b0668', 'b2967', 'b2816', 'b4437', 'b3046', 'b4451', 'b3658', 'b4432', 'b4438', 'b4450', 'b0617'}\n",
      "WARNING:root:Optimizing iModulon thresholds, may take 2-3 minutes...\n"
     ]
    }
   ],
   "source": [
    "ica_data = IcaData(\n",
    "    M=os.path.join(K12_PATH,'M.csv'),\n",
    "    A=os.path.join(K12_PATH,'A.csv'),\n",
    "    gene_table=os.path.join(ANNOTATION_PATH,'gene_info.csv'),\n",
    "    sample_table=os.path.join(K12_PATH,'metadata_qc_with_p1k.csv'),\n",
    "    trn=os.path.join(ANNOTATION_PATH,'TRN.csv'),\n",
    "    optimize_cutoff=True\n",
    ")"
   ]
  },
  {
   "cell_type": "markdown",
   "metadata": {
    "tags": []
   },
   "source": [
    "# Explained Variance\n",
    "\n",
    "Need to temporarily add the X matrix for this"
   ]
  },
  {
   "cell_type": "code",
   "execution_count": 6,
   "metadata": {},
   "outputs": [],
   "source": [
    "ica_data.X = pd.read_csv(os.path.join(K12_PATH, 'log_tpm_norm_with_p1k_ctrl.csv'), index_col=0)"
   ]
  },
  {
   "cell_type": "code",
   "execution_count": 7,
   "metadata": {},
   "outputs": [],
   "source": [
    "exp_vars = [explained_variance(ica_data, imodulons=[imod]) for imod in ica_data.imodulon_names]"
   ]
  },
  {
   "cell_type": "code",
   "execution_count": 8,
   "metadata": {},
   "outputs": [],
   "source": [
    "ica_data.imodulon_table['exp_var'] = exp_vars"
   ]
  },
  {
   "cell_type": "code",
   "execution_count": 9,
   "metadata": {},
   "outputs": [],
   "source": [
    "ica_data._x = None"
   ]
  },
  {
   "cell_type": "markdown",
   "metadata": {},
   "source": [
    "# iModulon Size"
   ]
  },
  {
   "cell_type": "code",
   "execution_count": 10,
   "metadata": {},
   "outputs": [],
   "source": [
    "ica_data.imodulon_table['imodulon_size'] = [ica_data.view_imodulon(imod).shape[0]\n",
    "                                            for imod in ica_data.imodulon_names]"
   ]
  },
  {
   "cell_type": "markdown",
   "metadata": {},
   "source": [
    "# Previous Dataset Comparison"
   ]
  },
  {
   "cell_type": "markdown",
   "metadata": {
    "tags": []
   },
   "source": [
    "## Load Previous Datasets"
   ]
  },
  {
   "cell_type": "code",
   "execution_count": 11,
   "metadata": {},
   "outputs": [],
   "source": [
    "precise1 = load_json_model('../../data/precise/precise.json.gz')\n",
    "precise2 = load_json_model('../../data/precise2/precise2.json.gz')\n",
    "precise1k = load_json_model(os.path.join(P1K_PATH, 'precise1k.json.gz'))"
   ]
  },
  {
   "cell_type": "markdown",
   "metadata": {
    "tags": []
   },
   "source": [
    "## Run Correlation Comparisons"
   ]
  },
  {
   "cell_type": "code",
   "execution_count": 12,
   "metadata": {},
   "outputs": [],
   "source": [
    "match_rows = []\n",
    "for match in compare_ica(precise1.M, ica_data.M, method='pearson')[0]:\n",
    "    match_rows.append({\n",
    "        'dataset': 'PRECISE',\n",
    "        'iM': match[0],\n",
    "        'p1k_im': match[1],\n",
    "        'method': 'pearson',\n",
    "        'corr': match[2]\n",
    "    })\n",
    "for match in compare_ica(precise1.M, ica_data.M, method='spearman')[0]:\n",
    "    match_rows.append({\n",
    "        'dataset': 'PRECISE',\n",
    "        'iM': match[0],\n",
    "        'p1k_im': match[1],\n",
    "        'method': 'spearman',\n",
    "        'corr': match[2]\n",
    "    })\n",
    "for match in compare_ica(precise2.M, ica_data.M, method='pearson')[0]:\n",
    "    match_rows.append({\n",
    "        'dataset': 'PRECISE 2.0',\n",
    "        'iM': match[0],\n",
    "        'p1k_im': match[1],\n",
    "        'method': 'pearson',\n",
    "        'corr': match[2]\n",
    "    })\n",
    "for match in compare_ica(precise2.M, ica_data.M, method='spearman')[0]:\n",
    "    match_rows.append({\n",
    "        'dataset': 'PRECISE 2.0',\n",
    "        'iM': match[0],\n",
    "        'p1k_im': match[1],\n",
    "        'method': 'spearman',\n",
    "        'corr': match[2]\n",
    "    })\n",
    "for match in compare_ica(precise1k.M, ica_data.M, method='pearson')[0]:\n",
    "    match_rows.append({\n",
    "        'dataset': 'PRECISE-1K',\n",
    "        'iM': match[0],\n",
    "        'p1k_im': match[1],\n",
    "        'method': 'pearson',\n",
    "        'corr': match[2]\n",
    "    })\n",
    "for match in compare_ica(precise1k.M, ica_data.M, method='spearman')[0]:\n",
    "    match_rows.append({\n",
    "        'dataset': 'PRECISE-1K',\n",
    "        'iM': match[0],\n",
    "        'p1k_im': match[1],\n",
    "        'method': 'spearman',\n",
    "        'corr': match[2]\n",
    "    })\n",
    "    \n",
    "match_df = pd.DataFrame(match_rows)"
   ]
  },
  {
   "cell_type": "code",
   "execution_count": 13,
   "metadata": {},
   "outputs": [],
   "source": [
    "for im, im_row in ica_data.imodulon_table.iterrows():\n",
    "    im_match = match_df[match_df['p1k_im'] == im]\n",
    "    if not im_match.empty:\n",
    "        for dataset, dataset_match_df in im_match.groupby('dataset'):\n",
    "            max_corr = np.argmax(dataset_match_df['corr'])\n",
    "            max_corr_im = dataset_match_df.iloc[max_corr]['iM']\n",
    "            max_corr_im_df = dataset_match_df[dataset_match_df['iM'] == max_corr_im]\n",
    "            for _, max_corr_row in max_corr_im_df.iterrows():\n",
    "                ica_data.imodulon_table.loc[im, max_corr_row['dataset']] = max_corr_row['iM']\n",
    "                ica_data.imodulon_table.loc[im, f\"{max_corr_row['dataset']}_{max_corr_row['method']}\"] = max_corr_row['corr']"
   ]
  },
  {
   "cell_type": "markdown",
   "metadata": {
    "tags": []
   },
   "source": [
    "## Re-run TRN Enrichment per P1K Parameters"
   ]
  },
  {
   "cell_type": "code",
   "execution_count": 14,
   "metadata": {
    "scrolled": true,
    "tags": []
   },
   "outputs": [
    {
     "name": "stdout",
     "output_type": "stream",
     "text": [
      "(1/194) 0 -> Phage Shock\n",
      "(2/194) 1 -> Magnesium\n",
      "(3/194) 2 -> Tyr/Trp/Phe\n",
      "(4/194) 3 -> Maltose\n",
      "(5/194) 4 -> UC-1\n",
      "(6/194) 5 -> Microaerobic\n",
      "(7/194) 6 -> Cysteine-1\n",
      "(8/194) 7 -> Curli-1\n",
      "(9/194) 8 -> Xylose\n",
      "(10/194) 9 -> cydB/appC KO\n",
      "(11/194) 10 -> Glycolate\n",
      "(12/194) 11 -> Lysine/T2SS\n",
      "(13/194) 12 -> ykgR\n",
      "(14/194) 13 -> Thiamine-1\n",
      "(15/194) 14 -> Cra\n",
      "(16/194) 15 -> Methionine\n",
      "(17/194) 16 -> ytiC\n",
      "(18/194) 17 -> FucR/AllR/AraC\n",
      "(19/194) 18 -> DNA Damage\n",
      "(20/194) 19 -> Molybdenum\n",
      "(21/194) 20 -> Nitrate/Nitrite\n",
      "(22/194) 21 -> BasR\n",
      "(23/194) 22 -> GadXW\n",
      "(25/194) 24 -> IS1\n",
      "(26/194) 25 -> Rhamnose\n",
      "(27/194) 26 -> Dipeptide\n",
      "(28/194) 27 -> ROS TALE Del-1\n",
      "(29/194) 28 -> Cytochrome c\n",
      "(30/194) 29 -> Pyrimidine\n",
      "(31/194) 30 -> Membrane\n",
      "(32/194) 31 -> DhaR\n",
      "(33/194) 32 -> GlcNAc\n",
      "(34/194) 33 -> Tryptophanase\n",
      "(35/194) 34 -> ROS TALE Del-2\n",
      "(36/194) 35 -> crp KO-1\n",
      "(37/194) 36 -> Fnr-1\n",
      "(38/194) 37 -> cyoB/kdpE/qseB KO\n",
      "(39/194) 38 -> Arginine\n",
      "(40/194) 39 -> Fimbriae\n",
      "(41/194) 40 -> PaaX\n",
      "(42/194) 41 -> FlhDC-2\n",
      "(43/194) 42 -> Fnr-3\n",
      "(44/194) 43 -> cydB/appC KO\n",
      "(45/194) 44 -> Phosphate-1\n",
      "(46/194) 45 -> Leucine\n",
      "(47/194) 46 -> Sorbitol\n",
      "(49/194) 48 -> SSW SNPs\n",
      "(50/194) 49 -> UC-4\n",
      "(51/194) 50 -> Salicylic Acid\n",
      "(52/194) 51 -> Osmoprotectant\n",
      "(53/194) 52 -> Zinc-1\n",
      "(54/194) 53 -> entC/ubiC KO-1\n",
      "(55/194) 54 -> Glutamine\n",
      "(56/194) 55 -> Glyoxylate\n",
      "(57/194) 56 -> Glycerol\n",
      "(58/194) 57 -> N Reduction\n",
      "(59/194) 58 -> Copper\n",
      "(61/194) 60 -> Nucleotide Stress\n",
      "(62/194) 61 -> Sialic Acid\n",
      "(63/194) 62 -> Acetate\n",
      "(64/194) 63 -> ROS TALE Amp\n",
      "(66/194) 65 -> BW25113\n",
      "(67/194) 66 -> UC-1\n",
      "(68/194) 67 -> Fur-2\n",
      "(69/194) 68 -> FliA\n",
      "(70/194) 69 -> Ile/Val\n",
      "(71/194) 70 -> Gluconate\n",
      "(72/194) 71 -> ldrC\n",
      "(73/194) 72 -> Galactose\n",
      "(74/194) 73 -> RpoH\n",
      "(75/194) 74 -> Thr/Ser-1\n",
      "(78/194) 77 -> Suf System\n",
      "(79/194) 78 -> Histidine\n",
      "(80/194) 79 -> FlhDC-1\n",
      "(84/194) 83 -> cyoB/ndh/nuoB KO-2\n",
      "(86/194) 85 -> Cellulose\n",
      "(87/194) 86 -> Glutarate\n",
      "(88/194) 87 -> Phosphate-2\n",
      "(90/194) 89 -> pts KO\n",
      "(91/194) 90 -> Crp-1\n",
      "(92/194) 91 -> NrdR\n",
      "(93/194) 92 -> YmfT\n",
      "(94/194) 93 -> Pyruvate-1\n",
      "(95/194) 94 -> baeR KO\n",
      "(96/194) 95 -> sdh KO\n",
      "(97/194) 96 -> Translation\n",
      "(98/194) 97 -> OxyR\n",
      "(99/194) 98 -> Quorum Sensing\n",
      "(101/194) 100 -> UC-9\n",
      "(102/194) 101 -> Cold Shock\n",
      "(103/194) 102 -> ppGpp\n",
      "(104/194) 103 -> Nucleoside\n",
      "(105/194) 104 -> LPS\n",
      "(106/194) 105 -> NtrC-2\n",
      "(108/194) 107 -> Biotin\n",
      "(109/194) 108 -> YgbI\n",
      "(110/194) 109 -> YieP\n",
      "(111/194) 110 -> Efflux Pump\n",
      "(113/194) 112 -> Sugar Diacid\n",
      "(114/194) 113 -> RpoS\n",
      "(115/194) 114 -> Ferric Citrate\n",
      "(117/194) 116 -> Putrescine\n",
      "(118/194) 117 -> Lrp\n",
      "(119/194) 118 -> Sulfoquinovose\n",
      "(121/194) 120 -> Fatty Acid\n",
      "(122/194) 121 -> NO Stress\n",
      "(123/194) 122 -> ArcA\n",
      "(124/194) 123 -> FDH-O\n",
      "(125/194) 124 -> NtrC-3\n",
      "(126/194) 125 -> Purine\n",
      "(127/194) 126 -> CP4-44\n",
      "(128/194) 127 -> Cysteine-2\n",
      "(129/194) 128 -> FDH-N/NRA\n",
      "(130/194) 129 -> FDH-O\n",
      "(131/194) 130 -> NtrC-1\n",
      "(132/194) 131 -> Tryptophan\n",
      "(133/194) 132 -> e14 Del\n",
      "(134/194) 133 -> NDH-1\n",
      "(135/194) 134 -> Isc System\n",
      "(136/194) 135 -> pgi KO\n",
      "(137/194) 136 -> FHL\n",
      "(139/194) 138 -> Glycine\n",
      "(140/194) 139 -> yjjZ\n",
      "(141/194) 140 -> Superoxide\n",
      "(142/194) 141 -> Acid Shock RNA\n",
      "(143/194) 142 -> ydaG\n",
      "(144/194) 143 -> Zinc-2\n",
      "(145/194) 144 -> RpoE\n",
      "(147/194) 146 -> Biofilm\n",
      "(149/194) 148 -> EvgA\n",
      "(150/194) 149 -> Fnr-2\n",
      "(151/194) 150 -> gcvB\n",
      "(152/194) 151 -> PAL 26 Del\n",
      "(155/194) 154 -> Sulfate\n",
      "(156/194) 155 -> Potassium\n",
      "(157/194) 156 -> Nickel/Cobalt\n",
      "(158/194) 157 -> Nitrogen\n",
      "(159/194) 158 -> Thr/Ser-1\n",
      "(160/194) 159 -> Nickel\n",
      "(161/194) 160 -> Ribose\n",
      "(162/194) 161 -> IS Elements-2\n",
      "(163/194) 162 -> Fur-1\n",
      "(165/194) 164 -> Flagella\n",
      "(166/194) 165 -> Capsule\n",
      "(167/194) 166 -> CpxR\n",
      "(169/194) 168 -> Oxidoreductase\n",
      "(170/194) 169 -> Propionate\n",
      "(173/194) 172 -> YgeV\n",
      "(174/194) 173 -> UC-2\n",
      "(176/194) 175 -> Pyruvate-2\n",
      "(177/194) 176 -> Crp-2\n",
      "(178/194) 177 -> DhaR\n",
      "(179/194) 178 -> IS Elements-1\n",
      "(183/194) 182 -> IS5\n",
      "(188/194) 187 -> Leu/Val/Ile\n",
      "(189/194) 188 -> minicoli KOs\n",
      "(190/194) 189 -> Cold Shock\n",
      "(191/194) 190 -> Resistance\n",
      "(192/194) 191 -> Lrp\n"
     ]
    }
   ],
   "source": [
    "always_copy_cols = [\n",
    "    'enrichment_category', 'system_category', 'functional_category', 'function', 'confidence',\n",
    "    'note', 'single_gene_dominant_technical', 'tcs', 'regulon_discovery', 'ko'\n",
    "]\n",
    "\n",
    "for i, (im, im_row) in enumerate(ica_data.imodulon_table.iterrows()):\n",
    "    if pd.notna(im_row['PRECISE-1K']):\n",
    "        p1k_im_row = precise1k.imodulon_table.loc[im_row['PRECISE-1K']]\n",
    "        print(f\"({i+1}/{ica_data.imodulon_table.shape[0]}) {im} -> {im_row['PRECISE-1K']}\")\n",
    "        ica_data.imodulon_table.loc[im, always_copy_cols] = precise1k.imodulon_table.loc[im_row['PRECISE-1K'], always_copy_cols]\n",
    "        if pd.notna(p1k_im_row['trn_enrich_max_regs']):\n",
    "            enrich_res = ica_data.compute_trn_enrichment(im, max_regs=int(p1k_im_row['trn_enrich_max_regs']),\n",
    "                                            evidence=literal_eval(p1k_im_row['trn_enrich_evidence']), force=True,\n",
    "                                            method=p1k_im_row['trn_enrich_method'])\n",
    "            enrich_res_with_reg = enrich_res[enrich_res['regulator'] == p1k_im_row['regulator']]\n",
    "            if enrich_res_with_reg.empty:\n",
    "                continue\n",
    "            ica_data.imodulon_table.loc[\n",
    "                im,\n",
    "                ['regulator', 'pvalue', 'qvalue', 'precision', 'recall', 'f1score', 'TP', 'regulon_size', 'n_regs']\n",
    "            ] = enrich_res_with_reg.iloc[0][[\n",
    "                'regulator', 'pvalue', 'qvalue', 'precision', 'recall', 'f1score', 'TP', 'regulon_size', 'n_regs'\n",
    "            ]]\n",
    "            ica_data.imodulon_table.loc[\n",
    "                im,\n",
    "                [\n",
    "                    'trn_enrich_max_regs',\n",
    "                    'trn_enrich_evidence',\n",
    "                    'trn_enrich_method'\n",
    "                ]\n",
    "            ] = [\n",
    "                p1k_im_row['trn_enrich_max_regs'],\n",
    "                p1k_im_row['trn_enrich_evidence'],\n",
    "                p1k_im_row['trn_enrich_method']\n",
    "            ]\n",
    "        elif pd.notna(p1k_im_row['compute_regulon_evidence']):\n",
    "            enrich_res = ica_data.compute_regulon_enrichment(im, p1k_im_row['regulator'], evidence=literal_eval(p1k_im_row['compute_regulon_evidence']))\n",
    "            ica_data.imodulon_table.loc[\n",
    "                im,\n",
    "                ['pvalue', 'precision', 'recall', 'f1score', 'TP', 'regulon_size', 'n_regs']\n",
    "            ] = enrich_res[\n",
    "                ['pvalue', 'precision', 'recall', 'f1score', 'TP', 'regulon_size', 'n_regs']\n",
    "            ]\n",
    "            ica_data.imodulon_table.loc[im, 'regulator'] = p1k_im_row['regulator']\n",
    "            ica_data.imodulon_table.loc[im, 'compute_regulon_evidence'] = p1k_im_row['compute_regulon_evidence']"
   ]
  },
  {
   "cell_type": "markdown",
   "metadata": {},
   "source": [
    "# Rename iModulons"
   ]
  },
  {
   "cell_type": "code",
   "execution_count": 15,
   "metadata": {},
   "outputs": [
    {
     "name": "stderr",
     "output_type": "stream",
     "text": [
      "WARNING:root:Duplicate iModulon names detected. iModulon 4 will be renamed to UC-1-1\n",
      "WARNING:root:Duplicate iModulon names detected. iModulon 9 will be renamed to cydB/appC KO-1\n",
      "WARNING:root:Duplicate iModulon names detected. iModulon 31 will be renamed to DhaR-1\n",
      "WARNING:root:Duplicate iModulon names detected. iModulon 43 will be renamed to cydB/appC KO-2\n",
      "WARNING:root:Duplicate iModulon names detected. iModulon 66 will be renamed to UC-1-2\n",
      "WARNING:root:Duplicate iModulon names detected. iModulon 74 will be renamed to Thr/Ser-1-1\n",
      "WARNING:root:Duplicate iModulon names detected. iModulon 101 will be renamed to Cold Shock-1\n",
      "WARNING:root:Duplicate iModulon names detected. iModulon 117 will be renamed to Lrp-1\n",
      "WARNING:root:Duplicate iModulon names detected. iModulon 123 will be renamed to FDH-O-1\n",
      "WARNING:root:Duplicate iModulon names detected. iModulon 129 will be renamed to FDH-O-2\n",
      "WARNING:root:Duplicate iModulon names detected. iModulon 158 will be renamed to Thr/Ser-1-2\n",
      "WARNING:root:Duplicate iModulon names detected. iModulon 177 will be renamed to DhaR-2\n",
      "WARNING:root:Duplicate iModulon names detected. iModulon 189 will be renamed to Cold Shock-2\n",
      "WARNING:root:Duplicate iModulon names detected. iModulon 191 will be renamed to Lrp-2\n"
     ]
    }
   ],
   "source": [
    "rename_dict = {}\n",
    "\n",
    "for im, im_row in ica_data.imodulon_table.iterrows():\n",
    "    if pd.notna(im_row['PRECISE-1K']):\n",
    "        rename_dict[im] = im_row['PRECISE-1K']\n",
    "        \n",
    "ica_data.rename_imodulons(rename_dict)\n",
    "\n",
    "rename_dict2 = {}\n",
    "for im in ica_data.imodulon_names:\n",
    "    if not isinstance(im, str):\n",
    "        rename_dict2[im] = str(im)\n",
    "ica_data.rename_imodulons(rename_dict2)"
   ]
  },
  {
   "cell_type": "markdown",
   "metadata": {},
   "source": [
    "# Re-Save M/A Matrices and iModulon Table"
   ]
  },
  {
   "cell_type": "code",
   "execution_count": 16,
   "metadata": {},
   "outputs": [],
   "source": [
    "ica_data.imodulon_table.to_csv(os.path.join(K12_PATH,'imodulon_table.csv'))\n",
    "ica_data.A.to_csv(os.path.join(K12_PATH,'A.csv'))\n",
    "ica_data.M.to_csv(os.path.join(K12_PATH,'M.csv'))"
   ]
  },
  {
   "cell_type": "markdown",
   "metadata": {},
   "source": [
    "# Save IcaData Object"
   ]
  },
  {
   "cell_type": "markdown",
   "metadata": {},
   "source": [
    "This will save your iModulon table, your thresholds, and any other information stored in the ica_data object."
   ]
  },
  {
   "cell_type": "code",
   "execution_count": 17,
   "metadata": {},
   "outputs": [],
   "source": [
    "save_to_json(ica_data, os.path.join(K12_PATH,'k12_modulome'), compress=True)"
   ]
  },
  {
   "cell_type": "code",
   "execution_count": null,
   "metadata": {},
   "outputs": [],
   "source": []
  }
 ],
 "metadata": {
  "kernelspec": {
   "display_name": "Python 3 (ipykernel)",
   "language": "python",
   "name": "python3"
  },
  "language_info": {
   "codemirror_mode": {
    "name": "ipython",
    "version": 3
   },
   "file_extension": ".py",
   "mimetype": "text/x-python",
   "name": "python",
   "nbconvert_exporter": "python",
   "pygments_lexer": "ipython3",
   "version": "3.10.2"
  },
  "toc": {
   "base_numbering": 1,
   "nav_menu": {},
   "number_sections": true,
   "sideBar": true,
   "skip_h1_title": false,
   "title_cell": "Table of Contents",
   "title_sidebar": "Contents",
   "toc_cell": true,
   "toc_position": {},
   "toc_section_display": true,
   "toc_window_display": true
  }
 },
 "nbformat": 4,
 "nbformat_minor": 4
}
