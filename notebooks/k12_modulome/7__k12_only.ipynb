{
 "cells": [
  {
   "cell_type": "markdown",
   "id": "680dc227-f965-4363-a200-7b1c22ab56c3",
   "metadata": {},
   "source": [
    "# Import Packages"
   ]
  },
  {
   "cell_type": "code",
   "execution_count": 147,
   "id": "f31ab246-fce5-4307-97b7-bc6ecab7d214",
   "metadata": {},
   "outputs": [],
   "source": [
    "# built-in packages\n",
    "from ast import literal_eval\n",
    "import itertools\n",
    "import os\n",
    "from pathlib import Path\n",
    "import re\n",
    "\n",
    "# third-party packages (install required)\n",
    "import matplotlib.pyplot as plt\n",
    "import numpy as np\n",
    "import pandas as pd\n",
    "from pymodulon.compare import compare_ica\n",
    "from pymodulon.core import IcaData\n",
    "from pymodulon.io import load_json_model, save_to_json\n",
    "from pymodulon.util import explained_variance\n",
    "from scipy import stats\n",
    "import seaborn as sns\n",
    "from tqdm.notebook import tqdm"
   ]
  },
  {
   "cell_type": "code",
   "execution_count": 136,
   "id": "39547dbd-9237-48d8-84d7-6eb7eee0c7d2",
   "metadata": {},
   "outputs": [],
   "source": [
    "# Directory containing ICA outputs\n",
    "P1K_PATH = '../../data/precise1k/'\n",
    "K12_PATH = '../../data/k12_modulome/'\n",
    "ANNOTATION_PATH = '../../data/annotation'\n",
    "DATA_DIR_PROJ_REF = '../../data/k12_modulome/optica_k12_only/'\n",
    "DATA_DIR_P1K_CTRL = '../../data/k12_modulome/optica_k12_only_p1k_ctrl/'\n",
    "FIG_PATH = 'summarize_imodulons_figs'"
   ]
  },
  {
   "cell_type": "markdown",
   "id": "15595a19-b950-411a-876a-637ff7830fe8",
   "metadata": {},
   "source": [
    "# Load P1K and Public K-12"
   ]
  },
  {
   "cell_type": "code",
   "execution_count": 70,
   "id": "39fc78f8-bbb6-4b7f-b1eb-9702993352f8",
   "metadata": {},
   "outputs": [],
   "source": [
    "p1k = load_json_model(Path(P1K_PATH, 'precise1k.json.gz').as_posix())\n",
    "k12 = load_json_model(Path(K12_PATH, 'k12_modulome.json.gz').as_posix())"
   ]
  },
  {
   "cell_type": "markdown",
   "id": "7ad01359-bfb2-408f-bc70-fd77061f4e34",
   "metadata": {},
   "source": [
    "# Choose Dimensionality"
   ]
  },
  {
   "cell_type": "markdown",
   "id": "e3f6d7a3-5817-4b29-9bfb-1dffb45aa454",
   "metadata": {},
   "source": [
    "## Project Reference"
   ]
  },
  {
   "cell_type": "markdown",
   "id": "fd18bd3c-bb4f-4052-8d7a-d7e52fd66135",
   "metadata": {},
   "source": [
    "### Load Data"
   ]
  },
  {
   "cell_type": "code",
   "execution_count": 5,
   "id": "a0c0234c-e518-4f8f-ba43-6705a8b1bc0a",
   "metadata": {},
   "outputs": [],
   "source": [
    "def load_M(dim):\n",
    "    return pd.read_csv(os.path.join(DATA_DIR_PROJ_REF,str(dim),'S.csv'),index_col=0)\n",
    "\n",
    "def load_A(dim):\n",
    "    return pd.read_csv(os.path.join(DATA_DIR_PROJ_REF,str(dim),'A.csv'),index_col=0)"
   ]
  },
  {
   "cell_type": "code",
   "execution_count": 6,
   "id": "3c81303a-ff78-40dd-a870-4db553060b97",
   "metadata": {},
   "outputs": [],
   "source": [
    "dims = sorted([int(x) for x in os.listdir(DATA_DIR_PROJ_REF) if 'DS' not in x and int(x) <= 380])\n",
    "M_data = [load_M(dim) for dim in dims]\n",
    "A_data = [load_A(dim) for dim in dims]"
   ]
  },
  {
   "cell_type": "code",
   "execution_count": 8,
   "id": "d7be000f-deeb-40bb-823b-a6d995d56dd9",
   "metadata": {},
   "outputs": [],
   "source": [
    "n_components = [m.shape[1] for m in M_data]"
   ]
  },
  {
   "cell_type": "markdown",
   "id": "d27d7f4e-85a7-4b10-8c7c-98b3eb7ff34f",
   "metadata": {},
   "source": [
    "### Compare Dimensionalities"
   ]
  },
  {
   "cell_type": "code",
   "execution_count": 9,
   "id": "d2afdffe-71a8-493d-8121-024aff88834a",
   "metadata": {},
   "outputs": [],
   "source": [
    "final_m = M_data[-1]\n",
    "thresh = 0.7"
   ]
  },
  {
   "cell_type": "code",
   "execution_count": 10,
   "id": "62b72bda-44ab-4660-9ebf-26e37ac9419d",
   "metadata": {},
   "outputs": [
    {
     "data": {
      "application/vnd.jupyter.widget-view+json": {
       "model_id": "9066e65ab1504905bdb9105a62f4b0be",
       "version_major": 2,
       "version_minor": 0
      },
      "text/plain": [
       "  0%|          | 0/29 [00:00<?, ?it/s]"
      ]
     },
     "metadata": {},
     "output_type": "display_data"
    }
   ],
   "source": [
    "n_final_mods = []\n",
    "for m in tqdm(M_data):\n",
    "    corrs = pd.DataFrame(index=final_m.columns,columns=m.columns)\n",
    "    for col1 in final_m.columns:\n",
    "        for col2 in m.columns:\n",
    "            corrs.loc[col1,col2] = abs(stats.pearsonr(final_m[col1],m[col2])[0])\n",
    "    n_final_mods.append(len(np.where(corrs > thresh)[0]))"
   ]
  },
  {
   "cell_type": "markdown",
   "id": "e867179a-89de-4e6c-8da3-a481cf9e32c4",
   "metadata": {},
   "source": [
    "### Find \"single-gene\" iModulons\n",
    "At a high enough dimensionality, some iModulons track the expression trajectory of a single iModulon"
   ]
  },
  {
   "cell_type": "code",
   "execution_count": 11,
   "id": "0c062286-c7c1-4528-a713-f7f3b95f0277",
   "metadata": {},
   "outputs": [
    {
     "data": {
      "application/vnd.jupyter.widget-view+json": {
       "model_id": "0f6f75d4cf3a44a1866e7c9e5954dea9",
       "version_major": 2,
       "version_minor": 0
      },
      "text/plain": [
       "  0%|          | 0/29 [00:00<?, ?it/s]"
      ]
     },
     "metadata": {},
     "output_type": "display_data"
    }
   ],
   "source": [
    "n_single_genes = []\n",
    "for m in tqdm(M_data):\n",
    "    counter = 0\n",
    "    for col in m.columns:\n",
    "        sorted_genes = abs(m[col]).sort_values(ascending=False)\n",
    "        if sorted_genes.iloc[0] > 2 * sorted_genes.iloc[1]:\n",
    "            counter += 1\n",
    "    n_single_genes.append(counter)"
   ]
  },
  {
   "cell_type": "markdown",
   "id": "116d9e04-19ef-4431-9925-c0a7328cb1ba",
   "metadata": {},
   "source": [
    "### Plot Components"
   ]
  },
  {
   "cell_type": "code",
   "execution_count": 12,
   "id": "083e7162-f448-41f6-8fc8-0852277875bc",
   "metadata": {},
   "outputs": [],
   "source": [
    "non_single_components = np.array(n_components) - np.array(n_single_genes)"
   ]
  },
  {
   "cell_type": "code",
   "execution_count": 13,
   "id": "60f3d37c-6e2b-4352-8064-6ae45bfc65e9",
   "metadata": {},
   "outputs": [],
   "source": [
    "DF_stats = pd.DataFrame([n_components,n_final_mods,non_single_components,n_single_genes],\n",
    "                        index=['Robust Components','Final Components','Multi-gene Components',\n",
    "                        'Single Gene Components'],\n",
    "                        columns=dims).T\n",
    "DF_stats.sort_index(inplace=True)"
   ]
  },
  {
   "cell_type": "code",
   "execution_count": 14,
   "id": "299bace5-9870-408e-943d-4b772c1b44d1",
   "metadata": {},
   "outputs": [
    {
     "name": "stdout",
     "output_type": "stream",
     "text": [
      "Optimal Dimensionality: 220\n"
     ]
    }
   ],
   "source": [
    "dimensionality = DF_stats[DF_stats['Final Components'] >= DF_stats['Multi-gene Components']].iloc[0].name\n",
    "print('Optimal Dimensionality:',dimensionality)"
   ]
  },
  {
   "cell_type": "code",
   "execution_count": 15,
   "id": "f8bb0d8b-46d4-43e3-8673-b083c50fd98c",
   "metadata": {
    "scrolled": true
   },
   "outputs": [
    {
     "data": {
      "text/plain": [
       "<matplotlib.legend.Legend at 0x16c425c60>"
      ]
     },
     "execution_count": 15,
     "metadata": {},
     "output_type": "execute_result"
    },
    {
     "data": {
      "image/png": "[encoded data removed]",
      "text/plain": [
       "<Figure size 640x480 with 1 Axes>"
      ]
     },
     "metadata": {},
     "output_type": "display_data"
    }
   ],
   "source": [
    "plt.plot(dims,n_components,label='Robust Components')\n",
    "plt.plot(dims,n_final_mods,label='Final Components')\n",
    "plt.plot(dims,non_single_components,label='Non-single-gene Components')\n",
    "plt.plot(dims,n_single_genes,label='Single Gene Components')\n",
    "\n",
    "plt.vlines(dimensionality,0,max(n_components),linestyle='dashed')\n",
    "\n",
    "plt.xlabel('Dimensionality')\n",
    "plt.ylabel('# Components')\n",
    "plt.legend(bbox_to_anchor=(1,1))"
   ]
  },
  {
   "cell_type": "markdown",
   "id": "448c1f08-8e03-49db-9ca3-45d2f37e4337",
   "metadata": {},
   "source": [
    "## P1K Ctrl Reference"
   ]
  },
  {
   "cell_type": "markdown",
   "id": "573977fa-3b01-444f-8a22-59c72957dd3b",
   "metadata": {},
   "source": [
    "### Load Data"
   ]
  },
  {
   "cell_type": "code",
   "execution_count": 16,
   "id": "eaa0bfcf-c28a-473b-9f4e-44fae3641f40",
   "metadata": {},
   "outputs": [],
   "source": [
    "def load_M(dim):\n",
    "    return pd.read_csv(os.path.join(DATA_DIR_P1K_CTRL,str(dim),'S.csv'),index_col=0)\n",
    "\n",
    "def load_A(dim):\n",
    "    return pd.read_csv(os.path.join(DATA_DIR_P1K_CTRL,str(dim),'A.csv'),index_col=0)"
   ]
  },
  {
   "cell_type": "code",
   "execution_count": 17,
   "id": "19211ab0-d77b-49b5-b307-1ac2929b7065",
   "metadata": {},
   "outputs": [],
   "source": [
    "dims = sorted([int(x) for x in os.listdir(DATA_DIR_P1K_CTRL) if 'DS' not in x and int(x) <= 380])\n",
    "M_data = [load_M(dim) for dim in dims]\n",
    "A_data = [load_A(dim) for dim in dims]"
   ]
  },
  {
   "cell_type": "code",
   "execution_count": 18,
   "id": "e3fa4d59-cfe1-4010-a248-8df7893e59a1",
   "metadata": {},
   "outputs": [],
   "source": [
    "n_components = [m.shape[1] for m in M_data]"
   ]
  },
  {
   "cell_type": "markdown",
   "id": "cdafd969-308d-48fa-aa7d-f80934943b44",
   "metadata": {},
   "source": [
    "### Compare Dimensionalities"
   ]
  },
  {
   "cell_type": "code",
   "execution_count": 19,
   "id": "df833c24-a66d-48d4-ae91-1c171d46ed37",
   "metadata": {},
   "outputs": [],
   "source": [
    "final_m = M_data[-1]\n",
    "thresh = 0.7"
   ]
  },
  {
   "cell_type": "code",
   "execution_count": 20,
   "id": "9305aa1b-e057-450b-bd46-a19eff525b77",
   "metadata": {},
   "outputs": [
    {
     "data": {
      "application/vnd.jupyter.widget-view+json": {
       "model_id": "33c553901f3f4133a272187376ad4957",
       "version_major": 2,
       "version_minor": 0
      },
      "text/plain": [
       "  0%|          | 0/29 [00:00<?, ?it/s]"
      ]
     },
     "metadata": {},
     "output_type": "display_data"
    }
   ],
   "source": [
    "n_final_mods = []\n",
    "for m in tqdm(M_data):\n",
    "    corrs = pd.DataFrame(index=final_m.columns,columns=m.columns)\n",
    "    for col1 in final_m.columns:\n",
    "        for col2 in m.columns:\n",
    "            corrs.loc[col1,col2] = abs(stats.pearsonr(final_m[col1],m[col2])[0])\n",
    "    n_final_mods.append(len(np.where(corrs > thresh)[0]))"
   ]
  },
  {
   "cell_type": "markdown",
   "id": "9469eef4-0abd-44fc-9a73-61417e159882",
   "metadata": {},
   "source": [
    "### Find \"single-gene\" iModulons\n",
    "At a high enough dimensionality, some iModulons track the expression trajectory of a single iModulon"
   ]
  },
  {
   "cell_type": "code",
   "execution_count": 21,
   "id": "29d18062-6447-4d33-958a-4e553b2ba80c",
   "metadata": {},
   "outputs": [
    {
     "data": {
      "application/vnd.jupyter.widget-view+json": {
       "model_id": "39538236a42045efaef13417a1971b6c",
       "version_major": 2,
       "version_minor": 0
      },
      "text/plain": [
       "  0%|          | 0/29 [00:00<?, ?it/s]"
      ]
     },
     "metadata": {},
     "output_type": "display_data"
    }
   ],
   "source": [
    "n_single_genes = []\n",
    "for m in tqdm(M_data):\n",
    "    counter = 0\n",
    "    for col in m.columns:\n",
    "        sorted_genes = abs(m[col]).sort_values(ascending=False)\n",
    "        if sorted_genes.iloc[0] > 2 * sorted_genes.iloc[1]:\n",
    "            counter += 1\n",
    "    n_single_genes.append(counter)"
   ]
  },
  {
   "cell_type": "markdown",
   "id": "4cea14db-d281-4054-a320-8702058fc53d",
   "metadata": {},
   "source": [
    "### Plot Components"
   ]
  },
  {
   "cell_type": "code",
   "execution_count": 22,
   "id": "c7420bd6-16d9-4698-91ca-1331cf5114f3",
   "metadata": {},
   "outputs": [],
   "source": [
    "non_single_components = np.array(n_components) - np.array(n_single_genes)"
   ]
  },
  {
   "cell_type": "code",
   "execution_count": 23,
   "id": "7acef6a1-5de4-4578-be3f-9cc6033ee373",
   "metadata": {},
   "outputs": [],
   "source": [
    "DF_stats = pd.DataFrame([n_components,n_final_mods,non_single_components,n_single_genes],\n",
    "                        index=['Robust Components','Final Components','Multi-gene Components',\n",
    "                        'Single Gene Components'],\n",
    "                        columns=dims).T\n",
    "DF_stats.sort_index(inplace=True)"
   ]
  },
  {
   "cell_type": "code",
   "execution_count": 24,
   "id": "53f3018c-91ae-4804-bc60-78bc3276a759",
   "metadata": {},
   "outputs": [
    {
     "name": "stdout",
     "output_type": "stream",
     "text": [
      "Optimal Dimensionality: 280\n"
     ]
    }
   ],
   "source": [
    "dimensionality = DF_stats[DF_stats['Final Components'] >= DF_stats['Multi-gene Components']].iloc[0].name\n",
    "print('Optimal Dimensionality:',dimensionality)"
   ]
  },
  {
   "cell_type": "code",
   "execution_count": 25,
   "id": "ac2b2d8a-e98f-465c-90ed-1ce98767065b",
   "metadata": {
    "scrolled": true
   },
   "outputs": [
    {
     "data": {
      "text/plain": [
       "<matplotlib.legend.Legend at 0x28fefe380>"
      ]
     },
     "execution_count": 25,
     "metadata": {},
     "output_type": "execute_result"
    },
    {
     "data": {
      "image/png": "[encoded data removed]",
      "text/plain": [
       "<Figure size 640x480 with 1 Axes>"
      ]
     },
     "metadata": {},
     "output_type": "display_data"
    }
   ],
   "source": [
    "plt.plot(dims,n_components,label='Robust Components')\n",
    "plt.plot(dims,n_final_mods,label='Final Components')\n",
    "plt.plot(dims,non_single_components,label='Non-single-gene Components')\n",
    "plt.plot(dims,n_single_genes,label='Single Gene Components')\n",
    "\n",
    "plt.vlines(dimensionality,0,max(n_components),linestyle='dashed')\n",
    "\n",
    "plt.xlabel('Dimensionality')\n",
    "plt.ylabel('# Components')\n",
    "plt.legend(bbox_to_anchor=(1,1))"
   ]
  },
  {
   "cell_type": "markdown",
   "id": "b41aca79-836b-4209-ae2c-c944ef6c82a3",
   "metadata": {},
   "source": [
    "# Create IcaData"
   ]
  },
  {
   "cell_type": "code",
   "execution_count": 27,
   "id": "1b0e965d-c2a9-459c-bcb7-dc1be72aa9b7",
   "metadata": {},
   "outputs": [],
   "source": [
    "k12_only_metadata = k12.sample_table.iloc[1035:]"
   ]
  },
  {
   "cell_type": "code",
   "execution_count": 28,
   "id": "8e183211-9a29-4c92-8ab1-6d4aa8d64acf",
   "metadata": {
    "scrolled": true,
    "tags": []
   },
   "outputs": [
    {
     "name": "stderr",
     "output_type": "stream",
     "text": [
      "WARNING:root:The characters '+' and '/' are used for combining regulons and cannot be in regulator names. These characters will be replaced with ';'\n",
      "WARNING:root:The following genes are in the TRN but not in your M matrix: {'b4008', 'b1911', 'b0744', 'b0216', 'b0204', 'b2864', 'b0668', 'b2621', 'b4438', 'b4440', 'b0743', 'b3851', 'b3758', 'b4458', 'b4435', 'b4429', 'b4625', 'b4452', 'b3977', 'b3798', 'b0203', 'b4697', 'b2816', 'b2189', 'b4760', 'b3174', 'b1032', 'b2591', 'b2652', 'b3272', 'b4447', 'b4437', 'b4454', 'b3970', 'b4717', 'b4164', 'b1986', 'b4414', 'b4707', 'b0673', 'b4433', 'b2590', 'b3489', 'b4719', 'b4163', 'b3756', 'b2967', 'b4439', 'b3123', 'b4763', 'b4270', 'b3854', 'b0201', 'b3979', 'b2815', 'b4451', 'b2402', 'b4762', 'b0536', 'b3852', 'b3971', 'b2397', 'b4585', 'b0371', 'b0244', 'b0670', 'b2228', 'b4416', 'b2691', 'b4009', 'b4442', 'b1910', 'b0205', 'b4597', 'b1977', 'b4450', 'b4459', 'b1989', 'b3976', 'b2401', 'b4368', 'b1975', 'b4432', 'b3855', 'b3276', 'b3273', 'b1417', 'b1510', 'b4445', 'b0665', 'b0664', 'b0883', 'b4426', 'b2348', 'b3658', 'b0971', 'b1231', 'b4608', 'b4803', 'b0672', 'b1665', 'b2589', 'b3796', 'b4718', 'b3757', 'b4611', 'b2588', 'b4640', 'b0666', 'b3275', 'b4010', 'b0202', 'b3864', 'b1666', 'b4764', 'b4441', 'b4691', 'b3799', 'b4617', 'b4413', 'b3274', 'b3797', 'b4716', 'b4444', 'b3278', 'b2694', 'b4698', 'b3978', 'b4370', 'b4408', 'b4449', 'b2692', 'b4436', 'b1230', 'b3968', 'b4369', 'b2693', 'b4577', 'b3171', 'b4443', 'b4704', 'b3759', 'b3277', 'b2403', 'b2404', 'b1954', 'b4431', 'b2396', 'b4134', 'b4456', 'b3853', 'b4007', 'b4759', 'b4427', 'b4165', 'b0745', 'b4624', 'b3969', 'b4609', 'b3545', 'b4616', 'b2814', 'b4457', 'b4505', 'b4417', 'b4699', 'b3069', 'b1909', 'b2911', 'b2695'}\n",
      "WARNING:root:Optimizing iModulon thresholds, may take 2-3 minutes...\n",
      "WARNING:root:The characters '+' and '/' are used for combining regulons and cannot be in regulator names. These characters will be replaced with ';'\n",
      "WARNING:root:The following genes are in the TRN but not in your M matrix: {'b4008', 'b1911', 'b0744', 'b1715', 'b0216', 'b0204', 'b3672', 'b2864', 'b0668', 'b2621', 'b4438', 'b4663', 'b4440', 'b0743', 'b1576', 'b3851', 'b3758', 'b4458', 'b4435', 'b4613', 'b4429', 'b4625', 'b1455', 'b4452', 'b3977', 'b3798', 'b0203', 'b4697', 'b2816', 'b2189', 'b4760', 'b3174', 'b1032', 'b2591', 'b2652', 'b3272', 'b4447', 'b4437', 'b3119', 'b4599', 'b4454', 'b3970', 'b4717', 'b4702', 'b4164', 'b1986', 'b4414', 'b4670', 'b4707', 'b0673', 'b4433', 'b2598', 'b1229', 'b4719', 'b3489', 'b2590', 'b4669', 'b4163', 'b3756', 'b2967', 'b4439', 'b3123', 'b4763', 'b4270', 'b3854', 'b4665', 'b0201', 'b3979', 'b2815', 'b4736', 'b0075', 'b4762', 'b4451', 'b4668', 'b3852', 'b2402', 'b4673', 'b3971', 'b0536', 'b2397', 'b4585', 'b0371', 'b0244', 'b4412', 'b0670', 'b4637', 'b2228', 'b4416', 'b2691', 'b4009', 'b4442', 'b1910', 'b0205', 'b4597', 'b2018', 'b1977', 'b4450', 'b4459', 'b1989', 'b3976', 'b2401', 'b4368', 'b1975', 'b4432', 'b3855', 'b3276', 'b3273', 'b0553', 'b1417', 'b1510', 'b3707', 'b4513', 'b4445', 'b0665', 'b0664', 'b0883', 'b4426', 'b2348', 'b4722', 'b3658', 'b3766', 'b2915', 'b4415', 'b0971', 'b1231', 'b4608', 'b4803', 'b0672', 'b1665', 'b2589', 'b3796', 'b4718', 'b3757', 'b4611', 'b2588', 'b4685', 'b4741', 'b4640', 'b0666', 'b3275', 'b4010', 'b0202', 'b3864', 'b0001', 'b1666', 'b4764', 'b4441', 'b4691', 'b3799', 'b4617', 'b4666', 'b4413', 'b3274', 'b3797', 'b4716', 'b4618', 'b4444', 'b3278', 'b2694', 'b4698', 'b3978', 'b4370', 'b4408', 'b4449', 'b2692', 'b4436', 'b1230', 'b3968', 'b4369', 'b2693', 'b4577', 'b4687', 'b3171', 'b3046', 'b4443', 'b4592', 'b4704', 'b3759', 'b3277', 'b2403', 'b2404', 'b1954', 'b4431', 'b2396', 'b4134', 'b0617', 'b4456', 'b3853', 'b4007', 'b4759', 'b1265', 'b4427', 'b4165', 'b0745', 'b4667', 'b4624', 'b3969', 'b4609', 'b3545', 'b4616', 'b2814', 'b4457', 'b4505', 'b4417', 'b4421', 'b4699', 'b3069', 'b1909', 'b2911', 'b4664', 'b2695'}\n",
      "WARNING:root:Optimizing iModulon thresholds, may take 2-3 minutes...\n"
     ]
    }
   ],
   "source": [
    "ica_data_proj_ref = IcaData(\n",
    "    M=os.path.join(DATA_DIR_PROJ_REF, '220','S.csv'),\n",
    "    A=os.path.join(DATA_DIR_PROJ_REF, '220','A.csv'),\n",
    "    gene_table=os.path.join(ANNOTATION_PATH,'gene_info.csv'),\n",
    "    sample_table=k12_only_metadata,\n",
    "    trn=os.path.join(ANNOTATION_PATH,'TRN.csv'),\n",
    "    optimize_cutoff=True\n",
    ")\n",
    "save_to_json(ica_data_proj_ref, Path(K12_PATH, 'k12_only_proj_ref').as_posix(), compress=True)\n",
    "\n",
    "ica_data_p1k_ctrl = IcaData(\n",
    "    M=os.path.join(DATA_DIR_P1K_CTRL, '280','S.csv'),\n",
    "    A=os.path.join(DATA_DIR_P1K_CTRL, '280','A.csv'),\n",
    "    gene_table=os.path.join(ANNOTATION_PATH,'gene_info.csv'),\n",
    "    sample_table=k12_only_metadata,\n",
    "    trn=os.path.join(ANNOTATION_PATH,'TRN.csv'),\n",
    "    optimize_cutoff=True\n",
    ")\n",
    "save_to_json(ica_data_p1k_ctrl, Path(K12_PATH, 'k12_only_p1k_ctrl').as_posix(), compress=True)"
   ]
  },
  {
   "cell_type": "markdown",
   "id": "30a11174-abe8-4dd2-ab9e-2a9bc64ed98a",
   "metadata": {},
   "source": [
    "# Compare iMs to P1K and K-12"
   ]
  },
  {
   "cell_type": "code",
   "execution_count": 29,
   "id": "e9d0734a-f98f-4680-ab38-1b1d50caa039",
   "metadata": {
    "scrolled": true,
    "tags": []
   },
   "outputs": [
    {
     "name": "stdout",
     "output_type": "stream",
     "text": [
      "(1/138) 0 -> CsrA\n",
      "(2/138) 1 -> Leu/Val/Ile\n",
      "(3/138) 2 -> Glycerol\n",
      "(4/138) 3 -> Tryptophanase\n",
      "(5/138) 4 -> Empty\n",
      "(6/138) 5 -> NrdR\n",
      "(7/138) 6 -> minicoli KOs-3\n",
      "(8/138) 7 -> Fimbriae\n",
      "(9/138) 8 -> YgeV\n",
      "(10/138) 9 -> Zinc-1\n",
      "(11/138) 10 -> IS Elements-2\n",
      "(13/138) 12 -> FliA\n",
      "(14/138) 13 -> PaaX\n",
      "(15/138) 14 -> Suf System\n",
      "(16/138) 15 -> Magnesium\n",
      "(17/138) 16 -> Microaerobic\n",
      "(19/138) 18 -> OxyR\n",
      "(20/138) 19 -> SoxS\n",
      "(21/138) 20 -> RpoH\n",
      "(22/138) 21 -> Glutamine\n",
      "(23/138) 22 -> Capsule\n",
      "(24/138) 23 -> SoxR/ECA\n",
      "(26/138) 25 -> Sulfate\n",
      "(27/138) 26 -> FDH-N/NRA\n",
      "(28/138) 27 -> YmfT\n",
      "(29/138) 28 -> LPS\n",
      "(30/138) 29 -> Translation\n",
      "(31/138) 30 -> Biofilm\n",
      "(33/138) 32 -> Arginine\n",
      "(34/138) 33 -> Fnr-1\n",
      "(35/138) 34 -> Crp-1\n",
      "(36/138) 35 -> Copper\n",
      "(37/138) 36 -> Exuronate\n",
      "(38/138) 37 -> Maltose\n",
      "(39/138) 38 -> ppGpp\n",
      "(40/138) 39 -> Quorum Sensing\n",
      "(41/138) 40 -> NO Stress\n",
      "(42/138) 41 -> NDH-1\n",
      "(43/138) 42 -> ytiC\n",
      "(44/138) 43 -> Lysine/T2SS\n",
      "(45/138) 44 -> Fnr-3\n",
      "(46/138) 45 -> Pyruvate-2\n",
      "(47/138) 46 -> Crp-2\n",
      "(48/138) 47 -> FlhDC-2\n",
      "(49/138) 48 -> Nucleoside\n",
      "(50/138) 49 -> N Reduction\n",
      "(51/138) 50 -> Curli-1\n",
      "(52/138) 51 -> RpoE\n",
      "(53/138) 52 -> Cysteine-2\n",
      "(54/138) 53 -> UC-4\n",
      "(56/138) 55 -> Nitrogen\n",
      "(57/138) 56 -> Potassium\n",
      "(58/138) 57 -> Cold Shock\n",
      "(59/138) 58 -> GadXW\n",
      "(60/138) 59 -> Cysteine-1\n",
      "(61/138) 60 -> Osmoprotectant\n",
      "(62/138) 61 -> Sorbitol\n",
      "(64/138) 63 -> BasR\n",
      "(65/138) 64 -> NtrC-1\n",
      "(66/138) 65 -> IS Elements-1\n",
      "(67/138) 66 -> Phosphate-1\n",
      "(68/138) 67 -> Thr/Ser-1\n",
      "(69/138) 68 -> Cytochrome c\n",
      "(70/138) 69 -> Tryptophan\n",
      "(73/138) 72 -> Pyrimidine\n",
      "(74/138) 73 -> Molybdenum\n",
      "(75/138) 74 -> Pyruvate-1\n",
      "(76/138) 75 -> DNA Damage\n",
      "(77/138) 76 -> Glycine\n",
      "(78/138) 77 -> UC-1\n",
      "(79/138) 78 -> SSW SNPs\n",
      "(80/138) 79 -> Lrp\n",
      "(81/138) 80 -> Nucleotide Stress\n",
      "(82/138) 81 -> TMAO\n",
      "(83/138) 82 -> ArcA\n",
      "(85/138) 84 -> Lactose\n",
      "(86/138) 85 -> pts KO\n",
      "(87/138) 86 -> CP4-44\n",
      "(88/138) 87 -> UC-K12-14\n",
      "(89/138) 88 -> Methionine\n",
      "(90/138) 89 -> Acid Shock RNA\n",
      "(91/138) 90 -> cyoB/kdpE/qseB KO\n",
      "(92/138) 91 -> Sialic Acid\n",
      "(93/138) 92 -> Sugar Diacid\n",
      "(94/138) 93 -> Cra\n",
      "(95/138) 94 -> Histidine\n",
      "(96/138) 95 -> UC-K12-12\n",
      "(97/138) 96 -> gcvB\n",
      "(98/138) 97 -> Phosphate-2\n",
      "(99/138) 98 -> sdh KO\n",
      "(100/138) 99 -> Formaldehyde\n",
      "(101/138) 100 -> UC-2\n",
      "(102/138) 101 -> Dipeptide\n",
      "(103/138) 102 -> Thiamine-1\n",
      "(104/138) 103 -> RpoS\n",
      "(105/138) 104 -> Tyr/Trp/Phe\n",
      "(106/138) 105 -> Fur-1\n",
      "(107/138) 106 -> Purine\n",
      "(108/138) 107 -> Putrescine\n",
      "(110/138) 109 -> UC-K12-2\n",
      "(111/138) 110 -> Glycolate\n",
      "(112/138) 111 -> FHL\n",
      "(113/138) 112 -> Propionate\n",
      "(114/138) 113 -> Isc System\n",
      "(115/138) 114 -> Ferric Citrate\n",
      "(116/138) 115 -> ROS TALE Del-2\n",
      "(118/138) 117 -> Fur-2\n",
      "(119/138) 118 -> NtrC-2\n",
      "(120/138) 119 -> CpxR\n",
      "(121/138) 120 -> Phage Shock\n",
      "(122/138) 121 -> FlhDC-1\n",
      "(123/138) 122 -> UC-K12-8\n",
      "(124/138) 123 -> Biotin\n",
      "(125/138) 124 -> Leucine\n",
      "(126/138) 125 -> entC/ubiC KO\n",
      "(127/138) 126 -> DhaR\n",
      "(129/138) 128 -> NtrC-3\n",
      "(130/138) 129 -> Nickel\n",
      "(131/138) 130 -> Resistance\n",
      "(132/138) 131 -> Acetate\n",
      "(133/138) 132 -> pgi KO\n",
      "(134/138) 133 -> Membrane\n",
      "(135/138) 134 -> Lysine\n",
      "(138/138) 137 -> UC-K12-7\n",
      "(1/177) 0 -> Glyoxylate\n",
      "(2/177) 1 -> Nucleoside\n",
      "(3/177) 2 -> Sugar Diacid\n",
      "(4/177) 3 -> Tryptophanase\n",
      "(5/177) 4 -> ROS TALE Del-2\n",
      "(6/177) 5 -> yoaI\n",
      "(7/177) 6 -> Fermentation\n",
      "(8/177) 7 -> UC-1\n",
      "(9/177) 8 -> SSW SNPs\n",
      "(10/177) 9 -> Biotin\n",
      "(11/177) 10 -> UC-K12-4\n",
      "(12/177) 11 -> Isc System\n",
      "(13/177) 12 -> Suf System\n",
      "(14/177) 13 -> cyoB/kdpE/qseB KO\n",
      "(15/177) 14 -> Maltose\n",
      "(16/177) 15 -> Fnr-2\n",
      "(17/177) 16 -> Zinc-1\n",
      "(18/177) 17 -> Glycerol\n",
      "(19/177) 18 -> TMAO\n",
      "(20/177) 19 -> Lactose\n",
      "(21/177) 20 -> Qin/Rac\n",
      "(22/177) 21 -> ymiB\n",
      "(23/177) 22 -> GadXW\n",
      "(24/177) 23 -> UC-K12-12\n",
      "(25/177) 24 -> DhaR\n",
      "(26/177) 25 -> Glycine\n",
      "(27/177) 26 -> NO Stress\n",
      "(28/177) 27 -> Propionate\n",
      "(29/177) 28 -> PaaX\n",
      "(30/177) 29 -> Lrp\n",
      "(31/177) 30 -> NrdR\n",
      "(32/177) 31 -> ldrC\n",
      "(33/177) 32 -> Resistance\n",
      "(34/177) 33 -> Cold Shock\n",
      "(35/177) 34 -> NDH-1\n",
      "(36/177) 35 -> SSW SNPs\n",
      "(37/177) 36 -> Glycolate\n",
      "(38/177) 37 -> Copper\n",
      "(39/177) 38 -> IS1\n",
      "(40/177) 39 -> Glycine Betaine\n",
      "(41/177) 40 -> NtrC-2\n",
      "(42/177) 41 -> Glutamine\n",
      "(43/177) 42 -> CsrA\n",
      "(44/177) 43 -> Tartrate\n",
      "(45/177) 44 -> lacI\n",
      "(46/177) 45 -> Capsule\n",
      "(47/177) 46 -> minicoli KOs-3\n",
      "(48/177) 47 -> Dipeptide\n",
      "(49/177) 48 -> Potassium\n",
      "(50/177) 49 -> RpoE\n",
      "(51/177) 50 -> Magnesium\n",
      "(52/177) 51 -> yjjZ\n",
      "(53/177) 52 -> UC-K12-9\n",
      "(54/177) 53 -> Fur-1\n",
      "(55/177) 54 -> ytiC\n",
      "(56/177) 55 -> Qin Prophage-1\n",
      "(57/177) 56 -> Curli-1\n",
      "(58/177) 57 -> Acid Shock RNA\n",
      "(59/177) 58 -> Qin Prophage-3\n",
      "(60/177) 59 -> ppGpp\n",
      "(61/177) 60 -> Leucine\n",
      "(62/177) 61 -> FDH-O\n",
      "(63/177) 62 -> yzfA\n",
      "(64/177) 63 -> Quorum Sensing\n",
      "(66/177) 65 -> FHL\n",
      "(67/177) 66 -> Pyruvate-2\n",
      "(68/177) 67 -> IS Elements-2\n",
      "(69/177) 68 -> FDH-N/NRA\n",
      "(70/177) 69 -> Fur-2\n",
      "(71/177) 70 -> SoxS\n",
      "(72/177) 71 -> Pyrimidine\n",
      "(73/177) 72 -> LPS\n",
      "(74/177) 73 -> Cysteine-1\n",
      "(75/177) 74 -> entC/ubiC KO\n",
      "(76/177) 75 -> CpxR\n",
      "(77/177) 76 -> Lactate\n",
      "(78/177) 77 -> UC-K12-11\n",
      "(79/177) 78 -> Ile/Val\n",
      "(80/177) 79 -> FDH-O\n",
      "(81/177) 80 -> Oxidoreductase\n",
      "(82/177) 81 -> minicoli KOs-1\n",
      "(83/177) 82 -> Methionine\n",
      "(84/177) 83 -> Lysine/T2SS\n",
      "(85/177) 84 -> sdh KO\n",
      "(86/177) 85 -> Pyruvate-1\n",
      "(87/177) 86 -> gcvB\n",
      "(88/177) 87 -> FucR/AllR/AraC\n",
      "(89/177) 88 -> Empty\n",
      "(90/177) 89 -> Sulfate\n",
      "(91/177) 90 -> Ribose\n",
      "(92/177) 91 -> FlhDC-1\n",
      "(93/177) 92 -> Fimbriae\n",
      "(94/177) 93 -> Cytochrome bd-I\n",
      "(95/177) 94 -> Phage Shock\n",
      "(96/177) 95 -> RpoH\n",
      "(97/177) 96 -> FlhDC-2\n",
      "(98/177) 97 -> Purine\n",
      "(99/177) 98 -> Crp-1\n",
      "(101/177) 100 -> RpoS\n",
      "(102/177) 101 -> CP4-44\n",
      "(103/177) 102 -> Phosphate-2\n",
      "(104/177) 103 -> YgeV\n",
      "(105/177) 104 -> Cysteine-2\n",
      "(106/177) 105 -> ykgR\n",
      "(108/177) 107 -> Thr/Ser-1\n",
      "(109/177) 108 -> IS5\n",
      "(110/177) 109 -> Cra\n",
      "(111/177) 110 -> UC-4\n",
      "(112/177) 111 -> N Reduction\n",
      "(113/177) 112 -> Glutarate\n",
      "(114/177) 113 -> Leu/Val/Ile\n",
      "(115/177) 114 -> UC-2\n",
      "(116/177) 115 -> Nucleotide Stress\n",
      "(117/177) 116 -> Nickel\n",
      "(119/177) 118 -> Biofilm\n",
      "(120/177) 119 -> Putrescine\n",
      "(121/177) 120 -> pgi KO\n",
      "(122/177) 121 -> e14 Del\n",
      "(123/177) 122 -> Thiamine-1\n",
      "(124/177) 123 -> UC-K12-5\n",
      "(125/177) 124 -> YmfT\n",
      "(126/177) 125 -> Osmoprotectant\n",
      "(127/177) 126 -> NtrC-1\n",
      "(128/177) 127 -> Arginine\n",
      "(129/177) 128 -> Nitrogen\n",
      "(130/177) 129 -> UC-K12-6\n",
      "(131/177) 130 -> Cytochrome c\n",
      "(132/177) 131 -> Microaerobic\n",
      "(133/177) 132 -> UC-9\n",
      "(134/177) 133 -> Tyr/Trp/Phe\n",
      "(135/177) 134 -> BW25113\n",
      "(137/177) 136 -> IS Elements-1\n",
      "(138/177) 137 -> ArcA\n",
      "(139/177) 138 -> DNA Damage\n",
      "(140/177) 139 -> NAD\n",
      "(142/177) 141 -> Thr/Ser-1\n",
      "(143/177) 142 -> OxyR\n",
      "(144/177) 143 -> Membrane\n",
      "(145/177) 144 -> Molybdenum\n",
      "(146/177) 145 -> Sorbitol\n",
      "(147/177) 146 -> Efflux Pump\n",
      "(148/177) 147 -> Translation\n",
      "(149/177) 148 -> Crp-2\n",
      "(150/177) 149 -> Sialic Acid\n",
      "(151/177) 150 -> BasR\n",
      "(152/177) 151 -> Fnr-1\n",
      "(153/177) 152 -> Ferric Citrate\n",
      "(154/177) 153 -> Histidine\n",
      "(155/177) 154 -> FliA\n",
      "(156/177) 155 -> Phosphate-1\n",
      "(157/177) 156 -> Tryptophan\n",
      "(158/177) 157 -> Leucine\n",
      "(159/177) 158 -> GlcNAc\n",
      "(160/177) 159 -> DhaR\n",
      "(161/177) 160 -> PDH\n",
      "(162/177) 161 -> ydaG\n",
      "(163/177) 162 -> CPZ-55\n",
      "(164/177) 163 -> Formaldehyde\n",
      "(166/177) 165 -> Galactose\n",
      "(167/177) 166 -> NtrC-3\n",
      "(168/177) 167 -> SoxR/ECA\n",
      "(169/177) 168 -> UC-K12-2\n",
      "(170/177) 169 -> ydfW\n",
      "(172/177) 171 -> ymgI\n",
      "(173/177) 172 -> EvgA\n",
      "(175/177) 174 -> UC-K12-10\n",
      "(176/177) 175 -> Fnr-3\n",
      "(177/177) 176 -> ymdG\n"
     ]
    }
   ],
   "source": [
    "for ica_data_name in ['k12_only_proj_ref', 'k12_only_p1k_ctrl']:\n",
    "    \n",
    "    ica_data = load_json_model(Path(K12_PATH, f'{ica_data_name}.json.gz').as_posix())\n",
    "\n",
    "    match_rows = []\n",
    "    for match in compare_ica(p1k.M, ica_data.M, method='pearson')[0]:\n",
    "        match_rows.append({\n",
    "            'dataset': 'P1K',\n",
    "            'iM': match[0],\n",
    "            'k12_only_im': match[1],\n",
    "            'method': 'pearson',\n",
    "            'corr': match[2]\n",
    "        })\n",
    "    for match in compare_ica(p1k.M, ica_data.M, method='spearman')[0]:\n",
    "        match_rows.append({\n",
    "            'dataset': 'P1K',\n",
    "            'iM': match[0],\n",
    "            'k12_only_im': match[1],\n",
    "            'method': 'spearman',\n",
    "            'corr': match[2]\n",
    "        })\n",
    "    for match in compare_ica(k12.M, ica_data.M, method='pearson')[0]:\n",
    "        match_rows.append({\n",
    "            'dataset': 'K12',\n",
    "            'iM': match[0],\n",
    "            'k12_only_im': match[1],\n",
    "            'method': 'pearson',\n",
    "            'corr': match[2]\n",
    "        })\n",
    "    for match in compare_ica(k12.M, ica_data.M, method='spearman')[0]:\n",
    "        match_rows.append({\n",
    "            'dataset': 'K12',\n",
    "            'iM': match[0],\n",
    "            'k12_only_im': match[1],\n",
    "            'method': 'spearman',\n",
    "            'corr': match[2]\n",
    "        })\n",
    "\n",
    "    match_df = pd.DataFrame(match_rows)\n",
    "    \n",
    "    for im, im_row in ica_data.imodulon_table.iterrows():\n",
    "        im_match = match_df[match_df['k12_only_im'] == im]\n",
    "        if not im_match.empty:\n",
    "            for dataset, dataset_match_df in im_match.groupby('dataset'):\n",
    "                max_corr = np.argmax(dataset_match_df['corr'])\n",
    "                max_corr_im = dataset_match_df.iloc[max_corr]['iM']\n",
    "                max_corr_im_df = dataset_match_df[dataset_match_df['iM'] == max_corr_im]\n",
    "                for _, max_corr_row in max_corr_im_df.iterrows():\n",
    "                    ica_data.imodulon_table.loc[im, max_corr_row['dataset']] = max_corr_row['iM']\n",
    "                    ica_data.imodulon_table.loc[\n",
    "                        im, f\"{max_corr_row['dataset']}_{max_corr_row['method']}\"\n",
    "                    ] = max_corr_row['corr']\n",
    "                    \n",
    "    always_copy_cols = [\n",
    "        'enrichment_category', 'system_category', 'functional_category', 'function', 'confidence',\n",
    "        'note', 'single_gene_dominant_technical', 'tcs', 'regulon_discovery', 'ko'\n",
    "    ]\n",
    "\n",
    "    for i, (im, im_row) in enumerate(ica_data.imodulon_table.iterrows()):\n",
    "        if pd.notna(im_row['P1K']) and im_row['P1K'] != '':\n",
    "            p1k_im_row = p1k.imodulon_table.loc[im_row['P1K']]\n",
    "            print(f\"({i+1}/{ica_data.imodulon_table.shape[0]}) {im} -> {im_row['P1K']}\")\n",
    "            ica_data.imodulon_table.loc[im, always_copy_cols] = p1k.imodulon_table.loc[im_row['P1K'], always_copy_cols]\n",
    "            if pd.notna(p1k_im_row['trn_enrich_max_regs']):\n",
    "                enrich_res = ica_data.compute_trn_enrichment(im, max_regs=int(p1k_im_row['trn_enrich_max_regs']),\n",
    "                                                evidence=literal_eval(p1k_im_row['trn_enrich_evidence']), force=True,\n",
    "                                                method=p1k_im_row['trn_enrich_method'])\n",
    "                enrich_res_with_reg = enrich_res[enrich_res['regulator'] == p1k_im_row['regulator']]\n",
    "                if enrich_res_with_reg.empty:\n",
    "                    continue\n",
    "                ica_data.imodulon_table.loc[\n",
    "                    im,\n",
    "                    ['regulator', 'pvalue', 'qvalue', 'precision', 'recall', 'f1score', 'TP', 'regulon_size', 'n_regs']\n",
    "                ] = enrich_res_with_reg.iloc[0][[\n",
    "                    'regulator', 'pvalue', 'qvalue', 'precision', 'recall', 'f1score', 'TP', 'regulon_size', 'n_regs'\n",
    "                ]]\n",
    "                ica_data.imodulon_table.loc[\n",
    "                    im,\n",
    "                    [\n",
    "                        'trn_enrich_max_regs',\n",
    "                        'trn_enrich_evidence',\n",
    "                        'trn_enrich_method'\n",
    "                    ]\n",
    "                ] = [\n",
    "                    p1k_im_row['trn_enrich_max_regs'],\n",
    "                    p1k_im_row['trn_enrich_evidence'],\n",
    "                    p1k_im_row['trn_enrich_method']\n",
    "                ]\n",
    "            elif pd.notna(p1k_im_row['compute_regulon_evidence']):\n",
    "                enrich_res = ica_data.compute_regulon_enrichment(im, p1k_im_row['regulator'],\n",
    "                            evidence=literal_eval(p1k_im_row['compute_regulon_evidence']))\n",
    "                ica_data.imodulon_table.loc[\n",
    "                    im,\n",
    "                    ['pvalue', 'precision', 'recall', 'f1score', 'TP', 'regulon_size', 'n_regs']\n",
    "                ] = enrich_res[\n",
    "                    ['pvalue', 'precision', 'recall', 'f1score', 'TP', 'regulon_size', 'n_regs']\n",
    "                ]\n",
    "                ica_data.imodulon_table.loc[im, 'regulator'] = p1k_im_row['regulator']\n",
    "                ica_data.imodulon_table.loc[im, 'compute_regulon_evidence'] = p1k_im_row['compute_regulon_evidence']\n",
    "\n",
    "        elif pd.notna(im_row['K12']) and im_row['K12'] != '':\n",
    "            k12_im_row = k12.imodulon_table.loc[im_row['K12']]\n",
    "            print(f\"({i+1}/{ica_data.imodulon_table.shape[0]}) {im} -> {im_row['K12']}\")\n",
    "            ica_data.imodulon_table.loc[im, always_copy_cols] = k12.imodulon_table.loc[im_row['K12'], always_copy_cols]\n",
    "            if pd.notna(k12_im_row['trn_enrich_max_regs']):\n",
    "                enrich_res = ica_data.compute_trn_enrichment(im, max_regs=int(k12_im_row['trn_enrich_max_regs']),\n",
    "                                                evidence=literal_eval(k12_im_row['trn_enrich_evidence']), force=True,\n",
    "                                                method=k12_im_row['trn_enrich_method'])\n",
    "                enrich_res_with_reg = enrich_res[enrich_res['regulator'] == k12_im_row['regulator']]\n",
    "                if enrich_res_with_reg.empty:\n",
    "                    continue\n",
    "                ica_data.imodulon_table.loc[\n",
    "                    im,\n",
    "                    ['regulator', 'pvalue', 'qvalue', 'precision', 'recall', 'f1score', 'TP', 'regulon_size', 'n_regs']\n",
    "                ] = enrich_res_with_reg.iloc[0][[\n",
    "                    'regulator', 'pvalue', 'qvalue', 'precision', 'recall', 'f1score', 'TP', 'regulon_size', 'n_regs'\n",
    "                ]]\n",
    "                ica_data.imodulon_table.loc[\n",
    "                    im,\n",
    "                    [\n",
    "                        'trn_enrich_max_regs',\n",
    "                        'trn_enrich_evidence',\n",
    "                        'trn_enrich_method'\n",
    "                    ]\n",
    "                ] = [\n",
    "                    k12_im_row['trn_enrich_max_regs'],\n",
    "                    k12_im_row['trn_enrich_evidence'],\n",
    "                    k12_im_row['trn_enrich_method']\n",
    "                ]\n",
    "            elif pd.notna(k12_im_row['compute_regulon_evidence']):\n",
    "                enrich_res = ica_data.compute_regulon_enrichment(im, k12_im_row['regulator'],\n",
    "                            evidence=literal_eval(k12_im_row['compute_regulon_evidence']))\n",
    "                ica_data.imodulon_table.loc[\n",
    "                    im,\n",
    "                    ['pvalue', 'precision', 'recall', 'f1score', 'TP', 'regulon_size', 'n_regs']\n",
    "                ] = enrich_res[\n",
    "                    ['pvalue', 'precision', 'recall', 'f1score', 'TP', 'regulon_size', 'n_regs']\n",
    "                ]\n",
    "                ica_data.imodulon_table.loc[im, 'regulator'] = k12_im_row['regulator']\n",
    "                ica_data.imodulon_table.loc[im, 'compute_regulon_evidence'] = k12_im_row['compute_regulon_evidence']\n",
    "                \n",
    "    save_to_json(ica_data, Path(K12_PATH, ica_data_name).as_posix(), compress=True)"
   ]
  },
  {
   "cell_type": "markdown",
   "id": "84e69c48-a190-49c1-9ea5-772abf8365ae",
   "metadata": {},
   "source": [
    "# Compare iM Overlap and Reg Coverage"
   ]
  },
  {
   "cell_type": "code",
   "execution_count": 108,
   "id": "03560923-6237-4687-885b-2f2e4909b08b",
   "metadata": {},
   "outputs": [],
   "source": [
    "k12_only = load_json_model(os.path.join(K12_PATH, 'k12_only_p1k_ctrl.json.gz'))"
   ]
  },
  {
   "cell_type": "code",
   "execution_count": 109,
   "id": "8c41b334-e27e-4495-a0bb-849c422f79d5",
   "metadata": {},
   "outputs": [],
   "source": [
    "k12_only_im_table = k12_only.imodulon_table.assign(\n",
    "    has_match=k12_only.imodulon_table['K12'].notna()\n",
    ")\n",
    "\n",
    "k12_im_table = k12.imodulon_table.assign(\n",
    "    has_match=pd.Series(k12.imodulon_table.index).apply(lambda im_name: im_name in list(k12_only_im_table['K12'].dropna())).values\n",
    ")"
   ]
  },
  {
   "cell_type": "code",
   "execution_count": 139,
   "id": "4d538902-2dd7-45b5-b4b6-436394471dcb",
   "metadata": {},
   "outputs": [
    {
     "data": {
      "image/png": "[encoded data removed]",
      "text/plain": [
       "<Figure size 500x250 with 1 Axes>"
      ]
     },
     "metadata": {},
     "output_type": "display_data"
    }
   ],
   "source": [
    "_, ax = plt.subplots(figsize=(5, 2.5))\n",
    "\n",
    "col_dict = {\n",
    "    True: 'tab:red',\n",
    "    False: 'tab:purple'\n",
    "}\n",
    "\n",
    "prev_left = 0\n",
    "cat_bounds_k12 = {}\n",
    "for match_bool, corr_cat_df in list(k12_im_table.groupby('has_match'))[::-1]:\n",
    "    cat_start = prev_left\n",
    "    for im, im_row in corr_cat_df.sort_values(by='exp_var', ascending=False).iterrows():\n",
    "        ax.barh(2, im_row['exp_var']*100, left=prev_left, linewidth=0.15, height=0.75, color=col_dict[match_bool], edgecolor='white')\n",
    "        prev_left += im_row['exp_var']*100\n",
    "    cat_bounds_k12[match_bool] = (cat_start, prev_left)\n",
    "        \n",
    "prev_left = 0\n",
    "cat_bounds_k12_only = {}\n",
    "for match_bool, corr_cat_df in list(k12_only_im_table.groupby('has_match'))[::-1]:\n",
    "    cat_start = prev_left\n",
    "    for im, im_row in corr_cat_df.sort_values(by='exp_var', ascending=False).iterrows():\n",
    "        ax.barh(1, im_row['exp_var']*100, left=prev_left, linewidth=0.15, height=0.75, color=col_dict[match_bool], edgecolor='white')\n",
    "        prev_left += im_row['exp_var']*100\n",
    "    cat_bounds_k12_only[match_bool] = (cat_start, prev_left)\n",
    "    \n",
    "ax.plot((cat_bounds_k12[True][1], cat_bounds_k12_only[True][1]), (1.63, 1.375), color='tab:red', linewidth=0.2, alpha=0.4)\n",
    "ax.fill_between([0, cat_bounds_k12[True][1], cat_bounds_k12_only[True][1]], y1=[1.37, 1.37, 1.37], y2=[1.63, 1.63, 1.375], color='tab:red', alpha=0.2)\n",
    "\n",
    "ax.text(35, 1.5, 'n=161', ha='center', va='center', fontsize=9, color='tab:red')\n",
    "ax.text(cat_bounds_k12[False][1] + 1, 2, f'n=33', ha='left', va='center', fontsize=9, color='tab:purple')\n",
    "ax.text(cat_bounds_k12_only[False][1] + 1, 1, f'n=14', ha='left', va='center', fontsize=9, color='tab:purple')\n",
    "        \n",
    "ax.set_xlim(0, 100)\n",
    "ax.set_ylim(0.5, 2.5)\n",
    "ax.set_yticks([1, 2])\n",
    "ax.set_xticks(range(0, 110, 10))\n",
    "ax.tick_params(axis='y', labelsize=10)\n",
    "ax.set_yticklabels(['Public Only', 'K-12'])\n",
    "ax.set_xlabel('Explained Variance (%)', fontsize=10)\n",
    "\n",
    "plt.savefig(os.path.join(FIG_PATH, 'k12_only_im_comp.svg'), dpi=400, bbox_inches='tight')\n",
    "plt.savefig(os.path.join(FIG_PATH, 'k12_only_im_comp.png'), dpi=400, bbox_inches='tight')"
   ]
  },
  {
   "cell_type": "markdown",
   "id": "d48f4df6-0ec8-4bf1-86cc-3b151f75a587",
   "metadata": {},
   "source": [
    "K-12 + P1K Coverage (copied from other notebook)\n",
    "\n",
    "100/190 (53%) regulators with some strong evidence in iModulons\n",
    "\n",
    "130/370 (35%) regulators in iModulons\n",
    "\n",
    "1214/3417 (36%) strong evidence interactions in iModulons (3000 [88%] strong interactions have regulator in iModulon)\n",
    "\n",
    "2297/9092 (25%) interactions in iModulons (7256 [80%] interactions have regulator in iModulon)\n"
   ]
  },
  {
   "cell_type": "code",
   "execution_count": 144,
   "id": "b7122dd1-5364-4512-bc43-189f228cf516",
   "metadata": {},
   "outputs": [
    {
     "name": "stderr",
     "output_type": "stream",
     "text": [
      "/var/folders/ts/jx8__t2j39bdz86p320tyc5w0000gn/T/ipykernel_24103/3862291862.py:24: FutureWarning: The default value of numeric_only in DataFrameGroupBy.sum is deprecated. In a future version, numeric_only will default to False. Either specify numeric_only or select only columns which should be valid for the function.\n",
      "  by_reg = trn.groupby('regulator').sum()\n"
     ]
    }
   ],
   "source": [
    "trn = pd.read_csv(os.path.join(ANNOTATION_PATH, 'TRN.csv'))\n",
    "\n",
    "all_p1k_regs = []\n",
    "all_p1k_reg_interacts = []\n",
    "for _, imod_row in k12_only_im_table.iterrows():\n",
    "    im_regs = imod_row['regulator']\n",
    "    if pd.notna(im_regs):\n",
    "        regs = re.split(f'/|\\+', im_regs)\n",
    "        all_p1k_regs.extend(regs)\n",
    "        im_genes = k12_only.view_imodulon(imod_row.name).index\n",
    "        all_p1k_reg_interacts.extend(list(itertools.product(regs, im_genes)))\n",
    "\n",
    "all_p1k_regs = list(set(all_p1k_regs))\n",
    "all_p1k_reg_interacts = list(set(all_p1k_reg_interacts))\n",
    "\n",
    "# now annotate the trn with the info from imodulon table\n",
    "trn = trn.assign(\n",
    "    reg_in_ims=trn['regulator'].apply(lambda reg: reg in all_p1k_regs),\n",
    "    interact_in_ims=trn.apply(lambda row: (row['regulator'], row['gene_id']) in all_p1k_reg_interacts, axis=1)\n",
    ")\n",
    "\n",
    "trn = trn[trn['regulator'] != 'RpoD']\n",
    "\n",
    "by_reg = trn.groupby('regulator').sum()\n",
    "by_reg = by_reg.assign(\n",
    "    evidence=by_reg.evidence.apply(lambda ev: 'Weak' if ev == 0 else 'Strong'),\n",
    "    reg_in_ims=by_reg.reg_in_ims.apply(lambda in_im: in_im != 0),\n",
    "    n_interact=trn.groupby('regulator').count().get('gene_name')\n",
    ")"
   ]
  },
  {
   "cell_type": "code",
   "execution_count": 145,
   "id": "e335ef92-d643-4436-a932-1e9d724924f1",
   "metadata": {},
   "outputs": [
    {
     "name": "stdout",
     "output_type": "stream",
     "text": [
      "78/190 (41%) regulators with some strong evidence in iModulons\n",
      "104/370 (28%) regulators in iModulons\n",
      "1085/3417 (32%) strong evidence interactions in iModulons (2799 [82%] strong interactions have regulator in iModulon)\n",
      "2007/9092 (22%) interactions in iModulons (6927 [76%] interactions have regulator in iModulon)\n"
     ]
    }
   ],
   "source": [
    "n_strong_in_im = by_reg[(by_reg['evidence'] == 'Strong') & (by_reg['reg_in_ims'])].shape[0]\n",
    "n_strong_total = by_reg[(by_reg['evidence'] == 'Strong')].shape[0]\n",
    "\n",
    "print(f'{n_strong_in_im}/{n_strong_total} ({n_strong_in_im/n_strong_total*100:.0f}%) regulators with some strong evidence in iModulons')\n",
    "\n",
    "all_in_im = by_reg[by_reg['reg_in_ims']].shape[0]\n",
    "all_total = by_reg.shape[0]\n",
    "print(f'{all_in_im}/{all_total} ({all_in_im/all_total*100:.0f}%) regulators in iModulons')\n",
    "\n",
    "n_strong_interact_in_im = trn[(trn['evidence'] > 0) & (trn['interact_in_ims'])].shape[0]\n",
    "n_strong_interact_w_reg_in_im = trn[(trn['evidence'] > 0) & (trn['reg_in_ims'])].shape[0]\n",
    "n_strong_interact = trn[(trn['evidence'] > 0)].shape[0]\n",
    "\n",
    "print(f'{n_strong_interact_in_im}/{n_strong_interact} ({n_strong_interact_in_im/n_strong_interact*100:.0f}%) strong evidence interactions in iModulons',\n",
    "      f'({n_strong_interact_w_reg_in_im} [{n_strong_interact_w_reg_in_im/n_strong_interact*100:.0f}%] strong interactions have regulator in iModulon)')\n",
    "\n",
    "all_interact_in_im = trn[trn['interact_in_ims']].shape[0]\n",
    "n_interact_w_reg_in_im = trn[trn['reg_in_ims']].shape[0]\n",
    "all_interact_total = trn.shape[0]\n",
    "\n",
    "print(f'{all_interact_in_im}/{all_interact_total} ({all_interact_in_im/all_interact_total*100:.0f}%) interactions in iModulons',\n",
    "      f'({n_interact_w_reg_in_im} [{n_interact_w_reg_in_im/all_interact_total*100:.0f}%] interactions have regulator in iModulon)')"
   ]
  },
  {
   "cell_type": "code",
   "execution_count": 161,
   "id": "001a0302-7744-49ac-94f5-9503e7a3a3e0",
   "metadata": {},
   "outputs": [
    {
     "data": {
      "image/png": "[encoded data removed]",
      "text/plain": [
       "<Figure size 500x200 with 2 Axes>"
      ]
     },
     "metadata": {},
     "output_type": "display_data"
    }
   ],
   "source": [
    "sns.set_style('ticks')\n",
    "fig, (ax_tfs, ax_ris) = plt.subplots(1, 2, figsize=(5, 2))\n",
    "\n",
    "ax_tfs.barh(0.125, 100, height=0.25, color='tab:red')\n",
    "ax_tfs.barh(0.375, n_strong_in_im, height=0.25, color='tab:purple')\n",
    "ax_tfs.barh(0.625, n_strong_total, height=0.25, color='tab:blue')\n",
    "ax_tfs.text(100 + 5, 0.125, f'{100/190*100:.0f}%', va='center', ha='left', color='tab:red')\n",
    "ax_tfs.text(n_strong_in_im + 5, 0.375, f'{n_strong_in_im/n_strong_total*100:.0f}%', va='center', ha='left', color='tab:purple')\n",
    "ax_tfs.barh(0.975, 130, height=0.25, color='tab:red')\n",
    "ax_tfs.barh(1.225, all_in_im, height=0.25, color='tab:purple')\n",
    "ax_tfs.barh(1.475, all_total, height=0.25, color='tab:blue')\n",
    "ax_tfs.text(130 + 5, 0.975, f'{130/370*100:.0f}%', va='center', ha='left', color='tab:red')\n",
    "ax_tfs.text(all_in_im + 5, 1.225, f'{all_in_im/all_total*100:.0f}%', va='center', ha='left', color='tab:purple')\n",
    "\n",
    "for s in ax_tfs.spines.values():\n",
    "    s.set_linewidth(1)\n",
    "    s.set_color('black')\n",
    "ax_tfs.set_xlabel('# Regulators')\n",
    "ax_tfs.set_yticks([0.25, 1.225])\n",
    "ax_tfs.set_yticklabels(['Strong', 'All'])\n",
    "ax_tfs.set_xticks(np.arange(0, 500, 100))\n",
    "ax_tfs.xaxis.grid(True)\n",
    "\n",
    "ax_ris.barh(0.625, n_strong_interact, height=0.25, color='tab:blue', label='RegulonDB')\n",
    "ax_ris.barh(0.375, n_strong_interact_in_im, height=0.25, color='tab:purple', label='Public Only')\n",
    "ax_ris.text(n_strong_interact_in_im + 1, 0.375, f'{n_strong_interact_in_im/n_strong_interact*100:.0f}%',\n",
    "            ha='left', va='center', color='tab:purple')\n",
    "ax_ris.barh(0.375, n_strong_interact_w_reg_in_im, height=0.25, color='tab:purple', alpha=0.5, label='Public Only+')\n",
    "ax_ris.text(n_strong_interact_w_reg_in_im + 250, 0.375, f'{n_strong_interact_w_reg_in_im/n_strong_interact*100:.0f}%',\n",
    "            ha='left', va='center', color='tab:purple', alpha=0.5)\n",
    "ax_ris.barh(0.125, 1214, height=0.25, color='tab:red', label='K-12')\n",
    "ax_ris.text(1214 + 1, 0.125, f'{1214/n_strong_interact*100:.0f}%',\n",
    "            ha='left', va='center', color='tab:red')\n",
    "ax_ris.barh(0.125, 3000, height=0.25, color='tab:red', label='K-12+', alpha=0.5)\n",
    "ax_ris.text(3000 + 250, 0.125, f'{3000/n_strong_interact*100:.0f}%',\n",
    "            ha='left', va='center', color='tab:red', alpha=0.5)\n",
    "ax_ris.barh(0.975, 2297, height=0.25, color='tab:red')\n",
    "ax_ris.text(2297 + 1, 0.975, f'{2297/all_interact_total*100:.0f}%',\n",
    "            ha='left', va='center', color='tab:red')\n",
    "ax_ris.barh(0.975, 7256, height=0.25, color='tab:red', alpha=0.5)\n",
    "ax_ris.text(7256 + 1, 0.975, f'{7256/all_interact_total*100:.0f}%',\n",
    "            ha='left', va='center', color='tab:red', alpha=0.5)\n",
    "ax_ris.barh(1.225, all_interact_in_im, height=0.25, color='tab:purple')\n",
    "ax_ris.text(all_interact_in_im + 1, 1.225, f'{all_interact_in_im/all_interact_total*100:.0f}%',\n",
    "            ha='left', va='center', color='tab:purple')\n",
    "ax_ris.barh(1.225, n_interact_w_reg_in_im, height=0.25, color='tab:purple', alpha=0.5)\n",
    "ax_ris.text(n_interact_w_reg_in_im + 1, 1.225, f'{n_interact_w_reg_in_im/all_interact_total*100:.0f}%',\n",
    "            ha='left', va='center', color='tab:purple', alpha=0.5)\n",
    "ax_ris.barh(1.475, all_interact_total, height=0.25, color='tab:blue')\n",
    "\n",
    "for s in ax_ris.spines.values():\n",
    "    s.set_linewidth(1)\n",
    "    s.set_color('black')\n",
    "    \n",
    "ax_ris.set_xlabel('# Interactions')\n",
    "ax_ris.legend(bbox_to_anchor=(1, 0.5), loc='center left', fontsize=8)\n",
    "ax_ris.set_yticks([0.375, 1.225])\n",
    "ax_ris.set_yticklabels([])\n",
    "ax_ris.set_xticks(np.arange(0, 12000, 3000))\n",
    "ax_ris.xaxis.grid(True)\n",
    "\n",
    "plt.tight_layout()\n",
    "plt.savefig(os.path.join(FIG_PATH, 'reg_coverage_k12_only.svg'), dpi=400, bbox_inches='tight')\n",
    "plt.savefig(os.path.join(FIG_PATH, 'reg_coverage_k12_only.png'), dpi=400, bbox_inches='tight')"
   ]
  },
  {
   "cell_type": "code",
   "execution_count": null,
   "id": "0d33e57a-4b54-4942-bb28-79a237005224",
   "metadata": {},
   "outputs": [],
   "source": []
  }
 ],
 "metadata": {
  "kernelspec": {
   "display_name": "Python 3 (ipykernel)",
   "language": "python",
   "name": "python3"
  },
  "language_info": {
   "codemirror_mode": {
    "name": "ipython",
    "version": 3
   },
   "file_extension": ".py",
   "mimetype": "text/x-python",
   "name": "python",
   "nbconvert_exporter": "python",
   "pygments_lexer": "ipython3",
   "version": "3.10.10"
  }
 },
 "nbformat": 4,
 "nbformat_minor": 5
}
