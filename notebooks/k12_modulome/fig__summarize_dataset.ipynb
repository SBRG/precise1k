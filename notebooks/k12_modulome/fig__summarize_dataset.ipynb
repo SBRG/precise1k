{
 "cells": [
  {
   "cell_type": "markdown",
   "id": "e795b034-f2c5-48df-9f46-6cb1efacfda4",
   "metadata": {},
   "source": [
    "# Import Packages"
   ]
  },
  {
   "cell_type": "code",
   "execution_count": 1,
   "id": "6eb5f9f6-c541-44c3-a03f-2e678b8c9b14",
   "metadata": {},
   "outputs": [],
   "source": [
    "# built-in\n",
    "from datetime import datetime, timedelta\n",
    "import os.path\n",
    "\n",
    "# third-party (pip install required)\n",
    "import matplotlib\n",
    "from matplotlib.cm import get_cmap\n",
    "from matplotlib.lines import Line2D\n",
    "import matplotlib.pyplot as plt\n",
    "import pandas as pd\n",
    "from pymodulon.io import load_json_model\n",
    "\n",
    "# set matplotlib params\n",
    "matplotlib.rcParams['pdf.fonttype'] = 42\n",
    "matplotlib.rcParams['ps.fonttype'] = 42\n",
    "matplotlib.rcParams['text.color'] = 'black'\n",
    "matplotlib.rcParams['axes.labelcolor'] = 'black'\n",
    "matplotlib.rcParams['xtick.color'] = 'black'\n",
    "matplotlib.rcParams['ytick.color'] = 'black'\n",
    "matplotlib.rcParams['font.sans-serif'] = \"Arial\"\n",
    "matplotlib.rcParams['font.family'] = \"sans-serif\""
   ]
  },
  {
   "cell_type": "markdown",
   "id": "5c697a8b-0d94-43ef-9cdf-4a5590f8bc0b",
   "metadata": {},
   "source": [
    "# Load Data"
   ]
  },
  {
   "cell_type": "code",
   "execution_count": 2,
   "id": "69024c73-93a6-4708-9aa8-d8db86cc0ebc",
   "metadata": {},
   "outputs": [],
   "source": [
    "PRECISE_PATH = '../../data/precise/'\n",
    "P1K_PATH = '../../data/precise1k/'\n",
    "K12_PATH = '../../data/k12_modulome/'\n",
    "FIG_PATH =  'summarize_dataset_figs'"
   ]
  },
  {
   "cell_type": "code",
   "execution_count": 3,
   "id": "1a581418-c780-403b-b900-b5425a2f762e",
   "metadata": {},
   "outputs": [],
   "source": [
    "precise1 = load_json_model(os.path.join(PRECISE_PATH, 'precise.json.gz'))\n",
    "p1k = load_json_model(os.path.join(P1K_PATH, 'precise1k.json.gz'))\n",
    "k12 = load_json_model(os.path.join(K12_PATH, 'k12_modulome.json.gz'))"
   ]
  },
  {
   "cell_type": "markdown",
   "id": "c7897101-084e-4c62-924f-9f79fafd6f45",
   "metadata": {},
   "source": [
    "# Dataset Growth"
   ]
  },
  {
   "cell_type": "code",
   "execution_count": 9,
   "id": "f93f010b-d8d2-4fd2-98ac-152097555c9c",
   "metadata": {},
   "outputs": [],
   "source": [
    "precise_metadata_sorted = precise1.sample_table.sort_values('run_date')\n",
    "p1k_metadata_sorted = p1k.sample_table.sort_values('run_date')\n",
    "k12_metadata_sorted = k12.sample_table.sort_values('run_date')\n",
    "\n",
    "order = pd.DataFrame(precise_metadata_sorted.study.unique(), columns = ['study'])\n",
    "counts = pd.DataFrame(precise_metadata_sorted.groupby(['study']).count()['condition'])\n",
    "new_1= order.merge(counts, on = 'study')\n",
    "\n",
    "order = pd.DataFrame(p1k_metadata_sorted.study.unique(), columns = ['study'])\n",
    "counts = pd.DataFrame(p1k_metadata_sorted.groupby(['study']).count()['condition'])\n",
    "new_2 = order.merge(counts, on = 'study')\n",
    "\n",
    "order = pd.DataFrame(k12_metadata_sorted.study.unique(), columns = ['study'])\n",
    "counts = pd.DataFrame(k12_metadata_sorted.groupby(['study']).count()['condition'])\n",
    "new_3 = order.merge(counts, on = 'study')\n",
    "\n",
    "precise_metadata_sorted[\"Version\"] = \"PRECISE\"\n",
    "p1k_metadata_sorted[\"Version\"] = \"PRECISE-1K\"\n",
    "k12_metadata_sorted[\"Version\"] = \"K-12\"\n",
    "\n",
    "all_df = pd.concat([precise_metadata_sorted, p1k_metadata_sorted, k12_metadata_sorted])\n",
    "all_df['run_date']= pd.to_datetime(all_df['run_date'])\n",
    "all_df = all_df.sort_values('run_date')\n",
    "all_df['Cumulative_Condition_Count'] = [i+1 for i in range(len(all_df))]\n",
    "\n",
    "p1_cum = []\n",
    "counter = 0\n",
    "for i in all_df.Version:\n",
    "    if i == 'PRECISE':\n",
    "        counter += 1\n",
    "    p1_cum.append(counter)\n",
    "    \n",
    "all_df[\"cumulative_P1\"] = p1_cum\n",
    "\n",
    "p1k_cum = []\n",
    "counter = 0\n",
    "for i in all_df.Version:\n",
    "    if i == 'PRECISE-1K':\n",
    "        counter += 1\n",
    "    p1k_cum.append(counter)\n",
    "    \n",
    "all_df[\"cumulative_P1K\"] = p1k_cum\n",
    "\n",
    "k12_cum = []\n",
    "counter = 0\n",
    "for i in all_df.Version:\n",
    "    if i == 'K-12':\n",
    "        counter += 1\n",
    "    k12_cum.append(counter)\n",
    "    \n",
    "all_df[\"cumulative_K12\"] = k12_cum\n",
    "\n",
    "# # add a dummy row to get to 2021\n",
    "# all_df = all_df.append({\n",
    "#     'run_date': datetime(2021,6,1), 'cumulative_P1K': all_df['cumulative_P1K'].max(), 'cumulative_P1': all_df['cumulative_P1'].max()\n",
    "# }, ignore_index=True)"
   ]
  },
  {
   "cell_type": "code",
   "execution_count": 10,
   "id": "87e47f39-2fed-415d-b05b-64dd2fd54d8f",
   "metadata": {},
   "outputs": [
    {
     "data": {
      "image/png": "[encoded data removed]",
      "text/plain": [
       "<Figure size 144x144 with 1 Axes>"
      ]
     },
     "metadata": {
      "needs_background": "light"
     },
     "output_type": "display_data"
    }
   ],
   "source": [
    "fig, ax = plt.subplots(figsize = (2,2))\n",
    "\n",
    "k12_col = 'forestgreen'\n",
    "p1k_col = 'darkmagenta'\n",
    "p1_col = 'deepskyblue'\n",
    "\n",
    "ax.set_ylim(0,2800)\n",
    "ax.set_xlim(min(all_df.run_date), max(all_df.run_date))\n",
    "plt.fill_between(all_df.run_date, all_df.cumulative_K12, color = k12_col, alpha=0.5, lw=2)\n",
    "plt.fill_between(all_df.run_date, all_df.cumulative_P1K, color = p1k_col, alpha=0.5,lw=2)\n",
    "plt.fill_between(all_df.run_date, all_df.cumulative_P1, color = p1_col, alpha=0.5, lw=2)\n",
    "ax.set_ylabel('# of Samples', fontsize=9)\n",
    "ax.set_yticks([500, 1000, 1500, 2000, 2500, 3000])\n",
    "custom_lines = [Line2D([0], [0], color=p1_col, lw=4),\n",
    "                Line2D([0], [0], color=p1k_col, lw=4),\n",
    "               Line2D([0], [0], color=k12_col, lw=4)]\n",
    "name = ['PRECISE', 'P1K', 'K-12']\n",
    "args = {'handles':custom_lines,'labels':name,'loc':2,'ncol':3,\n",
    "        'bbox_to_anchor':(-0.2,1.2),'fontsize':8}\n",
    "ax.legend(**args,  columnspacing=1, handletextpad=.4,\n",
    "          frameon=False, labelspacing=0.11)\n",
    "\n",
    "ax.axhline(y=(2710), xmax=1, color =k12_col, linestyle = '--', linewidth = 1)\n",
    "ax.text(all_df.run_date.iloc[15],2500,s=' 2710', fontsize =8, color =k12_col)\n",
    "ax.axhline(y=(1035), xmax=1, color =p1k_col, linestyle = '--', linewidth = 1)\n",
    "ax.text(all_df.run_date.iloc[15],870,s=' 1035', fontsize =8, color =p1k_col)\n",
    "ax.axhline(y=(278), color =p1_col, linestyle = '--', linewidth = 1)\n",
    "ax.text(all_df.run_date.iloc[15],310,s=' 278', fontsize =8, color =p1_col)\n",
    "\n",
    "for s in ax.spines.values():\n",
    "    s.set_color('black')\n",
    "    s.set_linewidth(1.5)\n",
    "\n",
    "ax.tick_params(axis='x', rotation=90, labelsize=8)\n",
    "plt.savefig(os.path.join(FIG_PATH, 'dataset_growth.svg'), dpi = 400, bbox_inches = 'tight')\n",
    "plt.savefig(os.path.join(FIG_PATH, 'dataset_growth.png'), dpi = 400, bbox_inches = 'tight')"
   ]
  },
  {
   "cell_type": "markdown",
   "id": "8269c406-81d7-4a1d-951d-628a777a3e19",
   "metadata": {},
   "source": [
    "# Condition Overview"
   ]
  },
  {
   "cell_type": "code",
   "execution_count": 8,
   "id": "974d347d-fa8c-4266-971d-c6ae9e052ab3",
   "metadata": {},
   "outputs": [
    {
     "data": {
      "image/png": "[encoded data removed]",
      "text/plain": [
       "<Figure size 288x216 with 1 Axes>"
      ]
     },
     "metadata": {
      "needs_background": "light"
     },
     "output_type": "display_data"
    }
   ],
   "source": [
    "sample_table_for_plot = k12.sample_table.copy()\n",
    "\n",
    "sample_table_for_plot['Carbon Source'] = sample_table_for_plot['Carbon Source (g/L)'].apply(\n",
    "    lambda cs: cs.split('(')[0] if pd.notna(cs) else None\n",
    ")\n",
    "sample_table_for_plot['Carbon Source'] = sample_table_for_plot['Carbon Source'].fillna('rich')\n",
    "sample_table_for_plot['Nitrogen Source'] = sample_table_for_plot['Nitrogen Source (g/L)'].apply(\n",
    "    lambda cs: cs.split('(')[0] if pd.notna(cs) else None\n",
    ")\n",
    "sample_table_for_plot['Carbon Source'] = sample_table_for_plot['Carbon Source'].fillna('rich')\n",
    "sample_table_for_plot['Supplement'] = sample_table_for_plot['Supplement'].apply(\n",
    "    lambda sup: sup.split('(')[0].strip() if pd.notna(sup) else None\n",
    ")\n",
    "\n",
    "n_samples = sample_table_for_plot.shape[0]\n",
    "\n",
    "_, ax = plt.subplots(figsize=(4, 3))\n",
    "\n",
    "col_to_cmap = {\n",
    "    'Strain': 'Reds',\n",
    "    'Temperature (C)': 'Oranges',\n",
    "    'pH': 'Greens',\n",
    "    'Base Media': 'Blues',\n",
    "    'Carbon Source': 'Purples'\n",
    "}\n",
    "\n",
    "labs = []\n",
    "for i, (col, cmap_for_col) in enumerate(col_to_cmap.items()):\n",
    "\n",
    "    cmap_to_use = get_cmap(cmap_for_col)\n",
    "    bottom = 0\n",
    "    col_counts = sample_table_for_plot[col].value_counts()\n",
    "    labs.append(f'{col} (n={col_counts.shape[0]})')\n",
    "    min_col_i, max_col_i = 0.4, 1\n",
    "    inc = (max_col_i - min_col_i) / col_counts.shape[0]\n",
    "    for j, (col_val, col_count) in enumerate(col_counts.iteritems()):\n",
    "        ax.barh(len(col_to_cmap) - i, col_count, left=bottom, height=1, label=col_val, color=cmap_to_use(((min_col_i + j * inc))))\n",
    "        bottom += col_count\n",
    "        \n",
    "    # fill in any remainder with gray\n",
    "    if bottom < n_samples:\n",
    "        ax.barh(len(col_to_cmap) - i, n_samples - bottom, left=bottom, height=1, color='tab:gray')\n",
    "\n",
    "ax.set_xlabel(f'Samples (n={n_samples})', fontsize=12)\n",
    "ax.set_yticks(range(1, len(col_to_cmap) + 1))\n",
    "ax.set_yticklabels(labs[::-1])\n",
    "ax.tick_params(axis='both', labelsize=12)\n",
    "for s in ax.spines.values():\n",
    "    s.set_visible(False)\n",
    "    \n",
    "plt.savefig(os.path.join(FIG_PATH, 'condition_bars.svg'), dpi = 400, bbox_inches = 'tight')\n",
    "plt.savefig(os.path.join(FIG_PATH, 'condition_bars.png'), dpi = 400, bbox_inches = 'tight')"
   ]
  },
  {
   "cell_type": "code",
   "execution_count": 12,
   "id": "6de7b2dd-0835-4982-82ac-0ee901414b79",
   "metadata": {},
   "outputs": [
    {
     "data": {
      "image/png": "[encoded data removed]",
      "text/plain": [
       "<Figure size 288x216 with 1 Axes>"
      ]
     },
     "metadata": {
      "needs_background": "light"
     },
     "output_type": "display_data"
    }
   ],
   "source": [
    "_, ax = plt.subplots(figsize=(4, 3))\n",
    "\n",
    "col_to_cmap = {\n",
    "    'Strain': 'terrain',\n",
    "    'Culture Type': 'Spectral',\n",
    "    'Temperature (C)': 'gist_heat',\n",
    "    'pH': 'cool'\n",
    "}\n",
    "\n",
    "labs = []\n",
    "for i, col in enumerate(col_to_cmap.keys()):\n",
    "\n",
    "    cmap_to_use = get_cmap(col_to_cmap[col])\n",
    "    bottom = 0\n",
    "    col_counts = k12.sample_table[col].value_counts()\n",
    "    labs.append(f'{col} (n={col_counts.shape[0]})')\n",
    "    for j, (col_val, col_count) in enumerate(col_counts.iteritems()):\n",
    "        ax.barh(len(col_to_cmap) - i, col_count, left=bottom, height=1, label=col_val, color=cmap_to_use(j/col_counts.shape[0]))\n",
    "        bottom += col_count\n",
    "    if bottom < k12.sample_table.shape[0]:\n",
    "        ax.barh(len(col_to_cmap) - i, k12.sample_table.shape[0] - bottom, height=1, left=bottom, color='tab:grey')\n",
    "\n",
    "ax.set_xlabel('Samples (n=2710)', fontsize=12)\n",
    "ax.set_yticks(range(1, len(col_to_cmap) + 1))\n",
    "ax.set_yticklabels(labs[::-1])\n",
    "ax.tick_params(axis='both', labelsize=12)\n",
    "for s in ax.spines.values():\n",
    "    s.set_visible(False)\n",
    "    \n",
    "plt.savefig(os.path.join(FIG_PATH, 'condition_bars.svg'), dpi = 400, bbox_inches = 'tight')\n",
    "plt.savefig(os.path.join(FIG_PATH, 'condition_bars.png'), dpi = 400, bbox_inches = 'tight')"
   ]
  }
 ],
 "metadata": {
  "kernelspec": {
   "display_name": "Python 3 (ipykernel)",
   "language": "python",
   "name": "python3"
  },
  "language_info": {
   "codemirror_mode": {
    "name": "ipython",
    "version": 3
   },
   "file_extension": ".py",
   "mimetype": "text/x-python",
   "name": "python",
   "nbconvert_exporter": "python",
   "pygments_lexer": "ipython3",
   "version": "3.10.2"
  }
 },
 "nbformat": 4,
 "nbformat_minor": 5
}
