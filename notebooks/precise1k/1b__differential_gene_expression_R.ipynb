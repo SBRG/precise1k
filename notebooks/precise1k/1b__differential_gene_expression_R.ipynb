{
 "cells": [
  {
   "cell_type": "markdown",
   "metadata": {},
   "source": [
    "NOTE: this notebook runs the DESeq2 package using an R kernel - to run this notebook you will have to have the IRkernel (https://github.com/IRkernel/IRkernel) installed and runnable through Jupyter"
   ]
  },
  {
   "cell_type": "markdown",
   "metadata": {},
   "source": [
    "# Load Data"
   ]
  },
  {
   "cell_type": "markdown",
   "metadata": {},
   "source": [
    "## Counts"
   ]
  },
  {
   "cell_type": "code",
   "execution_count": 1,
   "metadata": {},
   "outputs": [
    {
     "data": {
      "text/html": [
       "<table class=\"dataframe\">\n",
       "<caption>A matrix: 6 × 1055 of type int</caption>\n",
       "<thead>\n",
       "\t<tr><th></th><th scope=col>p1k_00860</th><th scope=col>p1k_00918</th><th scope=col>p1k_00081</th><th scope=col>p1k_00870</th><th scope=col>p1k_00091</th><th scope=col>p1k_00908</th><th scope=col>p1k_00715</th><th scope=col>p1k_00705</th><th scope=col>p1k_00140</th><th scope=col>p1k_00038</th><th scope=col>⋯</th><th scope=col>p1k_00404</th><th scope=col>p1k_00414</th><th scope=col>p1k_00251</th><th scope=col>p1k_00329</th><th scope=col>p1k_00241</th><th scope=col>p1k_00339</th><th scope=col>p1k_00390</th><th scope=col>p1k_00380</th><th scope=col>p1k_00817</th><th scope=col>p1k_00807</th></tr>\n",
       "</thead>\n",
       "<tbody>\n",
       "\t<tr><th scope=row>b0001</th><td>  490</td><td>  121</td><td> 2259</td><td>  67</td><td>   43</td><td>  205</td><td> 2655</td><td> 6685</td><td>   84</td><td>   7</td><td>⋯</td><td>  218</td><td>  396</td><td> 256</td><td>  366</td><td> 428</td><td>  340</td><td>  149</td><td>  47</td><td>  136</td><td>  281</td></tr>\n",
       "\t<tr><th scope=row>b0002</th><td>11984</td><td>20898</td><td>16815</td><td>4290</td><td>36971</td><td>17356</td><td>17787</td><td>37218</td><td>36743</td><td>6705</td><td>⋯</td><td>16325</td><td>31478</td><td>1917</td><td>47270</td><td>7889</td><td>55221</td><td>22502</td><td>2026</td><td>38141</td><td>37186</td></tr>\n",
       "\t<tr><th scope=row>b0003</th><td> 4856</td><td> 5335</td><td> 4436</td><td>1542</td><td>14298</td><td> 4184</td><td> 5298</td><td>10128</td><td>11192</td><td>2219</td><td>⋯</td><td> 4029</td><td> 9467</td><td> 670</td><td>15018</td><td>2379</td><td>16468</td><td> 6458</td><td> 798</td><td> 8724</td><td> 8793</td></tr>\n",
       "\t<tr><th scope=row>b0004</th><td> 6271</td><td> 5154</td><td> 7317</td><td>2027</td><td>12356</td><td> 3751</td><td> 8225</td><td>11990</td><td>13889</td><td>2517</td><td>⋯</td><td> 5147</td><td>15108</td><td> 875</td><td>18588</td><td>3248</td><td>19295</td><td> 9486</td><td> 911</td><td>11351</td><td>10414</td></tr>\n",
       "\t<tr><th scope=row>b0005</th><td>  372</td><td>  390</td><td>   91</td><td>  95</td><td>  311</td><td>  679</td><td>  393</td><td>  571</td><td>  296</td><td>  24</td><td>⋯</td><td>  162</td><td>  462</td><td>  19</td><td>  285</td><td>  96</td><td>  237</td><td>  247</td><td> 196</td><td>  225</td><td>  240</td></tr>\n",
       "\t<tr><th scope=row>b0006</th><td>  456</td><td>  430</td><td>  749</td><td> 406</td><td>  657</td><td>  490</td><td>  453</td><td>  933</td><td>  847</td><td> 311</td><td>⋯</td><td>  791</td><td>  885</td><td> 174</td><td> 1399</td><td> 234</td><td> 6281</td><td>  579</td><td> 298</td><td>  680</td><td>  774</td></tr>\n",
       "</tbody>\n",
       "</table>\n"
      ],
      "text/latex": [
       "A matrix: 6 × 1055 of type int\n",
       "\\begin{tabular}{r|lllllllllllllllllllll}\n",
       "  & p1k\\_00860 & p1k\\_00918 & p1k\\_00081 & p1k\\_00870 & p1k\\_00091 & p1k\\_00908 & p1k\\_00715 & p1k\\_00705 & p1k\\_00140 & p1k\\_00038 & ⋯ & p1k\\_00404 & p1k\\_00414 & p1k\\_00251 & p1k\\_00329 & p1k\\_00241 & p1k\\_00339 & p1k\\_00390 & p1k\\_00380 & p1k\\_00817 & p1k\\_00807\\\\\n",
       "\\hline\n",
       "\tb0001 &   490 &   121 &  2259 &   67 &    43 &   205 &  2655 &  6685 &    84 &    7 & ⋯ &   218 &   396 &  256 &   366 &  428 &   340 &   149 &   47 &   136 &   281\\\\\n",
       "\tb0002 & 11984 & 20898 & 16815 & 4290 & 36971 & 17356 & 17787 & 37218 & 36743 & 6705 & ⋯ & 16325 & 31478 & 1917 & 47270 & 7889 & 55221 & 22502 & 2026 & 38141 & 37186\\\\\n",
       "\tb0003 &  4856 &  5335 &  4436 & 1542 & 14298 &  4184 &  5298 & 10128 & 11192 & 2219 & ⋯ &  4029 &  9467 &  670 & 15018 & 2379 & 16468 &  6458 &  798 &  8724 &  8793\\\\\n",
       "\tb0004 &  6271 &  5154 &  7317 & 2027 & 12356 &  3751 &  8225 & 11990 & 13889 & 2517 & ⋯ &  5147 & 15108 &  875 & 18588 & 3248 & 19295 &  9486 &  911 & 11351 & 10414\\\\\n",
       "\tb0005 &   372 &   390 &    91 &   95 &   311 &   679 &   393 &   571 &   296 &   24 & ⋯ &   162 &   462 &   19 &   285 &   96 &   237 &   247 &  196 &   225 &   240\\\\\n",
       "\tb0006 &   456 &   430 &   749 &  406 &   657 &   490 &   453 &   933 &   847 &  311 & ⋯ &   791 &   885 &  174 &  1399 &  234 &  6281 &   579 &  298 &   680 &   774\\\\\n",
       "\\end{tabular}\n"
      ],
      "text/markdown": [
       "\n",
       "A matrix: 6 × 1055 of type int\n",
       "\n",
       "| <!--/--> | p1k_00860 | p1k_00918 | p1k_00081 | p1k_00870 | p1k_00091 | p1k_00908 | p1k_00715 | p1k_00705 | p1k_00140 | p1k_00038 | ⋯ | p1k_00404 | p1k_00414 | p1k_00251 | p1k_00329 | p1k_00241 | p1k_00339 | p1k_00390 | p1k_00380 | p1k_00817 | p1k_00807 |\n",
       "|---|---|---|---|---|---|---|---|---|---|---|---|---|---|---|---|---|---|---|---|---|---|\n",
       "| b0001 |   490 |   121 |  2259 |   67 |    43 |   205 |  2655 |  6685 |    84 |    7 | ⋯ |   218 |   396 |  256 |   366 |  428 |   340 |   149 |   47 |   136 |   281 |\n",
       "| b0002 | 11984 | 20898 | 16815 | 4290 | 36971 | 17356 | 17787 | 37218 | 36743 | 6705 | ⋯ | 16325 | 31478 | 1917 | 47270 | 7889 | 55221 | 22502 | 2026 | 38141 | 37186 |\n",
       "| b0003 |  4856 |  5335 |  4436 | 1542 | 14298 |  4184 |  5298 | 10128 | 11192 | 2219 | ⋯ |  4029 |  9467 |  670 | 15018 | 2379 | 16468 |  6458 |  798 |  8724 |  8793 |\n",
       "| b0004 |  6271 |  5154 |  7317 | 2027 | 12356 |  3751 |  8225 | 11990 | 13889 | 2517 | ⋯ |  5147 | 15108 |  875 | 18588 | 3248 | 19295 |  9486 |  911 | 11351 | 10414 |\n",
       "| b0005 |   372 |   390 |    91 |   95 |   311 |   679 |   393 |   571 |   296 |   24 | ⋯ |   162 |   462 |   19 |   285 |   96 |   237 |   247 |  196 |   225 |   240 |\n",
       "| b0006 |   456 |   430 |   749 |  406 |   657 |   490 |   453 |   933 |   847 |  311 | ⋯ |   791 |   885 |  174 |  1399 |  234 |  6281 |   579 |  298 |   680 |   774 |\n",
       "\n"
      ],
      "text/plain": [
       "      p1k_00860 p1k_00918 p1k_00081 p1k_00870 p1k_00091 p1k_00908 p1k_00715\n",
       "b0001   490       121      2259       67         43       205      2655    \n",
       "b0002 11984     20898     16815     4290      36971     17356     17787    \n",
       "b0003  4856      5335      4436     1542      14298      4184      5298    \n",
       "b0004  6271      5154      7317     2027      12356      3751      8225    \n",
       "b0005   372       390        91       95        311       679       393    \n",
       "b0006   456       430       749      406        657       490       453    \n",
       "      p1k_00705 p1k_00140 p1k_00038 ⋯ p1k_00404 p1k_00414 p1k_00251 p1k_00329\n",
       "b0001  6685        84        7      ⋯   218       396      256        366    \n",
       "b0002 37218     36743     6705      ⋯ 16325     31478     1917      47270    \n",
       "b0003 10128     11192     2219      ⋯  4029      9467      670      15018    \n",
       "b0004 11990     13889     2517      ⋯  5147     15108      875      18588    \n",
       "b0005   571       296       24      ⋯   162       462       19        285    \n",
       "b0006   933       847      311      ⋯   791       885      174       1399    \n",
       "      p1k_00241 p1k_00339 p1k_00390 p1k_00380 p1k_00817 p1k_00807\n",
       "b0001  428        340       149       47        136       281    \n",
       "b0002 7889      55221     22502     2026      38141     37186    \n",
       "b0003 2379      16468      6458      798       8724      8793    \n",
       "b0004 3248      19295      9486      911      11351     10414    \n",
       "b0005   96        237       247      196        225       240    \n",
       "b0006  234       6281       579      298        680       774    "
      ]
     },
     "metadata": {},
     "output_type": "display_data"
    }
   ],
   "source": [
    "counts <- as.matrix(read.csv('../../data/precise1k/counts.csv',row.names=1))\n",
    "head(counts)"
   ]
  },
  {
   "cell_type": "markdown",
   "metadata": {},
   "source": [
    "## Metadata"
   ]
  },
  {
   "cell_type": "code",
   "execution_count": 2,
   "metadata": {},
   "outputs": [
    {
     "data": {
      "text/html": [
       "<table class=\"dataframe\">\n",
       "<caption>A data.frame: 6 × 41</caption>\n",
       "<thead>\n",
       "\t<tr><th></th><th scope=col>sample_id</th><th scope=col>study</th><th scope=col>project</th><th scope=col>condition</th><th scope=col>rep_id</th><th scope=col>Strain.Description</th><th scope=col>Strain</th><th scope=col>Culture.Type</th><th scope=col>Evolved.Sample</th><th scope=col>Base.Media</th><th scope=col>⋯</th><th scope=col>R2</th><th scope=col>contact</th><th scope=col>creator</th><th scope=col>passed_fastqc</th><th scope=col>passed_pct_reads_mapped</th><th scope=col>passed_reads_mapped_to_CDS</th><th scope=col>passed_global_correlation</th><th scope=col>full_name</th><th scope=col>passed_similar_replicates</th><th scope=col>passed_number_replicates</th></tr>\n",
       "\t<tr><th></th><th scope=col>&lt;chr&gt;</th><th scope=col>&lt;chr&gt;</th><th scope=col>&lt;chr&gt;</th><th scope=col>&lt;chr&gt;</th><th scope=col>&lt;int&gt;</th><th scope=col>&lt;chr&gt;</th><th scope=col>&lt;chr&gt;</th><th scope=col>&lt;chr&gt;</th><th scope=col>&lt;chr&gt;</th><th scope=col>&lt;chr&gt;</th><th scope=col>⋯</th><th scope=col>&lt;chr&gt;</th><th scope=col>&lt;chr&gt;</th><th scope=col>&lt;chr&gt;</th><th scope=col>&lt;chr&gt;</th><th scope=col>&lt;chr&gt;</th><th scope=col>&lt;chr&gt;</th><th scope=col>&lt;chr&gt;</th><th scope=col>&lt;chr&gt;</th><th scope=col>&lt;chr&gt;</th><th scope=col>&lt;chr&gt;</th></tr>\n",
       "</thead>\n",
       "<tbody>\n",
       "\t<tr><th scope=row>p1k_00001</th><td>control__wt_glc__1</td><td>Control</td><td>control</td><td>wt_glc</td><td>1</td><td>Escherichia coli K-12 MG1655</td><td>MG1655</td><td>Batch</td><td>No</td><td>M9</td><td>⋯</td><td>s3://precise-db/raw_data/control/MG1655-M9-glucose-1_S1_L001_R2_001.fastq.gz</td><td>Sangwoo Seo</td><td>Sangwoo Seo</td><td>True</td><td>True</td><td>True</td><td>True</td><td>control:wt_glc</td><td>True</td><td>True</td></tr>\n",
       "\t<tr><th scope=row>p1k_00002</th><td>control__wt_glc__2</td><td>Control</td><td>control</td><td>wt_glc</td><td>2</td><td>Escherichia coli K-12 MG1655</td><td>MG1655</td><td>Batch</td><td>No</td><td>M9</td><td>⋯</td><td>s3://precise-db/raw_data/control/MG1655-M9-glucose-2_S2_L001_R2_001.fastq.gz</td><td>Sangwoo Seo</td><td>Sangwoo Seo</td><td>True</td><td>True</td><td>True</td><td>True</td><td>control:wt_glc</td><td>True</td><td>True</td></tr>\n",
       "\t<tr><th scope=row>p1k_00003</th><td>fur__wt_dpd__1    </td><td>Fur    </td><td>fur    </td><td>wt_dpd</td><td>1</td><td>Escherichia coli K-12 MG1655</td><td>MG1655</td><td>Batch</td><td>No</td><td>M9</td><td>⋯</td><td>s3://precise-db/raw_data/fur/WTDPD1_S1_L001_R2_001.fastq.gz                 </td><td>Sangwoo Seo</td><td>Sangwoo Seo</td><td>True</td><td>True</td><td>True</td><td>True</td><td>fur:wt_dpd    </td><td>True</td><td>True</td></tr>\n",
       "\t<tr><th scope=row>p1k_00004</th><td>fur__wt_dpd__2    </td><td>Fur    </td><td>fur    </td><td>wt_dpd</td><td>2</td><td>Escherichia coli K-12 MG1655</td><td>MG1655</td><td>Batch</td><td>No</td><td>M9</td><td>⋯</td><td>s3://precise-db/raw_data/fur/WTDPD2_S1_L001_R2_001.fastq.gz                 </td><td>Sangwoo Seo</td><td>Sangwoo Seo</td><td>True</td><td>True</td><td>True</td><td>True</td><td>fur:wt_dpd    </td><td>True</td><td>True</td></tr>\n",
       "\t<tr><th scope=row>p1k_00005</th><td>fur__wt_fe__1     </td><td>Fur    </td><td>fur    </td><td>wt_fe </td><td>1</td><td>Escherichia coli K-12 MG1655</td><td>MG1655</td><td>Batch</td><td>No</td><td>M9</td><td>⋯</td><td>s3://precise-db/raw_data/fur/WT-Fe2-1_S1_L001_R2_001.fastq.gz               </td><td>Sangwoo Seo</td><td>Sangwoo Seo</td><td>True</td><td>True</td><td>True</td><td>True</td><td>fur:wt_fe     </td><td>True</td><td>True</td></tr>\n",
       "\t<tr><th scope=row>p1k_00006</th><td>fur__wt_fe__2     </td><td>Fur    </td><td>fur    </td><td>wt_fe </td><td>2</td><td>Escherichia coli K-12 MG1655</td><td>MG1655</td><td>Batch</td><td>No</td><td>M9</td><td>⋯</td><td>s3://precise-db/raw_data/fur/WT-FE2-2_S2_L001_R2_001.fastq.gz               </td><td>Sangwoo Seo</td><td>Sangwoo Seo</td><td>True</td><td>True</td><td>True</td><td>True</td><td>fur:wt_fe     </td><td>True</td><td>True</td></tr>\n",
       "</tbody>\n",
       "</table>\n"
      ],
      "text/latex": [
       "A data.frame: 6 × 41\n",
       "\\begin{tabular}{r|lllllllllllllllllllll}\n",
       "  & sample\\_id & study & project & condition & rep\\_id & Strain.Description & Strain & Culture.Type & Evolved.Sample & Base.Media & ⋯ & R2 & contact & creator & passed\\_fastqc & passed\\_pct\\_reads\\_mapped & passed\\_reads\\_mapped\\_to\\_CDS & passed\\_global\\_correlation & full\\_name & passed\\_similar\\_replicates & passed\\_number\\_replicates\\\\\n",
       "  & <chr> & <chr> & <chr> & <chr> & <int> & <chr> & <chr> & <chr> & <chr> & <chr> & ⋯ & <chr> & <chr> & <chr> & <chr> & <chr> & <chr> & <chr> & <chr> & <chr> & <chr>\\\\\n",
       "\\hline\n",
       "\tp1k\\_00001 & control\\_\\_wt\\_glc\\_\\_1 & Control & control & wt\\_glc & 1 & Escherichia coli K-12 MG1655 & MG1655 & Batch & No & M9 & ⋯ & s3://precise-db/raw\\_data/control/MG1655-M9-glucose-1\\_S1\\_L001\\_R2\\_001.fastq.gz & Sangwoo Seo & Sangwoo Seo & True & True & True & True & control:wt\\_glc & True & True\\\\\n",
       "\tp1k\\_00002 & control\\_\\_wt\\_glc\\_\\_2 & Control & control & wt\\_glc & 2 & Escherichia coli K-12 MG1655 & MG1655 & Batch & No & M9 & ⋯ & s3://precise-db/raw\\_data/control/MG1655-M9-glucose-2\\_S2\\_L001\\_R2\\_001.fastq.gz & Sangwoo Seo & Sangwoo Seo & True & True & True & True & control:wt\\_glc & True & True\\\\\n",
       "\tp1k\\_00003 & fur\\_\\_wt\\_dpd\\_\\_1     & Fur     & fur     & wt\\_dpd & 1 & Escherichia coli K-12 MG1655 & MG1655 & Batch & No & M9 & ⋯ & s3://precise-db/raw\\_data/fur/WTDPD1\\_S1\\_L001\\_R2\\_001.fastq.gz                  & Sangwoo Seo & Sangwoo Seo & True & True & True & True & fur:wt\\_dpd     & True & True\\\\\n",
       "\tp1k\\_00004 & fur\\_\\_wt\\_dpd\\_\\_2     & Fur     & fur     & wt\\_dpd & 2 & Escherichia coli K-12 MG1655 & MG1655 & Batch & No & M9 & ⋯ & s3://precise-db/raw\\_data/fur/WTDPD2\\_S1\\_L001\\_R2\\_001.fastq.gz                  & Sangwoo Seo & Sangwoo Seo & True & True & True & True & fur:wt\\_dpd     & True & True\\\\\n",
       "\tp1k\\_00005 & fur\\_\\_wt\\_fe\\_\\_1      & Fur     & fur     & wt\\_fe  & 1 & Escherichia coli K-12 MG1655 & MG1655 & Batch & No & M9 & ⋯ & s3://precise-db/raw\\_data/fur/WT-Fe2-1\\_S1\\_L001\\_R2\\_001.fastq.gz                & Sangwoo Seo & Sangwoo Seo & True & True & True & True & fur:wt\\_fe      & True & True\\\\\n",
       "\tp1k\\_00006 & fur\\_\\_wt\\_fe\\_\\_2      & Fur     & fur     & wt\\_fe  & 2 & Escherichia coli K-12 MG1655 & MG1655 & Batch & No & M9 & ⋯ & s3://precise-db/raw\\_data/fur/WT-FE2-2\\_S2\\_L001\\_R2\\_001.fastq.gz                & Sangwoo Seo & Sangwoo Seo & True & True & True & True & fur:wt\\_fe      & True & True\\\\\n",
       "\\end{tabular}\n"
      ],
      "text/markdown": [
       "\n",
       "A data.frame: 6 × 41\n",
       "\n",
       "| <!--/--> | sample_id &lt;chr&gt; | study &lt;chr&gt; | project &lt;chr&gt; | condition &lt;chr&gt; | rep_id &lt;int&gt; | Strain.Description &lt;chr&gt; | Strain &lt;chr&gt; | Culture.Type &lt;chr&gt; | Evolved.Sample &lt;chr&gt; | Base.Media &lt;chr&gt; | ⋯ ⋯ | R2 &lt;chr&gt; | contact &lt;chr&gt; | creator &lt;chr&gt; | passed_fastqc &lt;chr&gt; | passed_pct_reads_mapped &lt;chr&gt; | passed_reads_mapped_to_CDS &lt;chr&gt; | passed_global_correlation &lt;chr&gt; | full_name &lt;chr&gt; | passed_similar_replicates &lt;chr&gt; | passed_number_replicates &lt;chr&gt; |\n",
       "|---|---|---|---|---|---|---|---|---|---|---|---|---|---|---|---|---|---|---|---|---|---|\n",
       "| p1k_00001 | control__wt_glc__1 | Control | control | wt_glc | 1 | Escherichia coli K-12 MG1655 | MG1655 | Batch | No | M9 | ⋯ | s3://precise-db/raw_data/control/MG1655-M9-glucose-1_S1_L001_R2_001.fastq.gz | Sangwoo Seo | Sangwoo Seo | True | True | True | True | control:wt_glc | True | True |\n",
       "| p1k_00002 | control__wt_glc__2 | Control | control | wt_glc | 2 | Escherichia coli K-12 MG1655 | MG1655 | Batch | No | M9 | ⋯ | s3://precise-db/raw_data/control/MG1655-M9-glucose-2_S2_L001_R2_001.fastq.gz | Sangwoo Seo | Sangwoo Seo | True | True | True | True | control:wt_glc | True | True |\n",
       "| p1k_00003 | fur__wt_dpd__1     | Fur     | fur     | wt_dpd | 1 | Escherichia coli K-12 MG1655 | MG1655 | Batch | No | M9 | ⋯ | s3://precise-db/raw_data/fur/WTDPD1_S1_L001_R2_001.fastq.gz                  | Sangwoo Seo | Sangwoo Seo | True | True | True | True | fur:wt_dpd     | True | True |\n",
       "| p1k_00004 | fur__wt_dpd__2     | Fur     | fur     | wt_dpd | 2 | Escherichia coli K-12 MG1655 | MG1655 | Batch | No | M9 | ⋯ | s3://precise-db/raw_data/fur/WTDPD2_S1_L001_R2_001.fastq.gz                  | Sangwoo Seo | Sangwoo Seo | True | True | True | True | fur:wt_dpd     | True | True |\n",
       "| p1k_00005 | fur__wt_fe__1      | Fur     | fur     | wt_fe  | 1 | Escherichia coli K-12 MG1655 | MG1655 | Batch | No | M9 | ⋯ | s3://precise-db/raw_data/fur/WT-Fe2-1_S1_L001_R2_001.fastq.gz                | Sangwoo Seo | Sangwoo Seo | True | True | True | True | fur:wt_fe      | True | True |\n",
       "| p1k_00006 | fur__wt_fe__2      | Fur     | fur     | wt_fe  | 2 | Escherichia coli K-12 MG1655 | MG1655 | Batch | No | M9 | ⋯ | s3://precise-db/raw_data/fur/WT-FE2-2_S2_L001_R2_001.fastq.gz                | Sangwoo Seo | Sangwoo Seo | True | True | True | True | fur:wt_fe      | True | True |\n",
       "\n"
      ],
      "text/plain": [
       "          sample_id          study   project condition rep_id\n",
       "p1k_00001 control__wt_glc__1 Control control wt_glc    1     \n",
       "p1k_00002 control__wt_glc__2 Control control wt_glc    2     \n",
       "p1k_00003 fur__wt_dpd__1     Fur     fur     wt_dpd    1     \n",
       "p1k_00004 fur__wt_dpd__2     Fur     fur     wt_dpd    2     \n",
       "p1k_00005 fur__wt_fe__1      Fur     fur     wt_fe     1     \n",
       "p1k_00006 fur__wt_fe__2      Fur     fur     wt_fe     2     \n",
       "          Strain.Description           Strain Culture.Type Evolved.Sample\n",
       "p1k_00001 Escherichia coli K-12 MG1655 MG1655 Batch        No            \n",
       "p1k_00002 Escherichia coli K-12 MG1655 MG1655 Batch        No            \n",
       "p1k_00003 Escherichia coli K-12 MG1655 MG1655 Batch        No            \n",
       "p1k_00004 Escherichia coli K-12 MG1655 MG1655 Batch        No            \n",
       "p1k_00005 Escherichia coli K-12 MG1655 MG1655 Batch        No            \n",
       "p1k_00006 Escherichia coli K-12 MG1655 MG1655 Batch        No            \n",
       "          Base.Media ⋯\n",
       "p1k_00001 M9         ⋯\n",
       "p1k_00002 M9         ⋯\n",
       "p1k_00003 M9         ⋯\n",
       "p1k_00004 M9         ⋯\n",
       "p1k_00005 M9         ⋯\n",
       "p1k_00006 M9         ⋯\n",
       "          R2                                                                          \n",
       "p1k_00001 s3://precise-db/raw_data/control/MG1655-M9-glucose-1_S1_L001_R2_001.fastq.gz\n",
       "p1k_00002 s3://precise-db/raw_data/control/MG1655-M9-glucose-2_S2_L001_R2_001.fastq.gz\n",
       "p1k_00003 s3://precise-db/raw_data/fur/WTDPD1_S1_L001_R2_001.fastq.gz                 \n",
       "p1k_00004 s3://precise-db/raw_data/fur/WTDPD2_S1_L001_R2_001.fastq.gz                 \n",
       "p1k_00005 s3://precise-db/raw_data/fur/WT-Fe2-1_S1_L001_R2_001.fastq.gz               \n",
       "p1k_00006 s3://precise-db/raw_data/fur/WT-FE2-2_S2_L001_R2_001.fastq.gz               \n",
       "          contact     creator     passed_fastqc passed_pct_reads_mapped\n",
       "p1k_00001 Sangwoo Seo Sangwoo Seo True          True                   \n",
       "p1k_00002 Sangwoo Seo Sangwoo Seo True          True                   \n",
       "p1k_00003 Sangwoo Seo Sangwoo Seo True          True                   \n",
       "p1k_00004 Sangwoo Seo Sangwoo Seo True          True                   \n",
       "p1k_00005 Sangwoo Seo Sangwoo Seo True          True                   \n",
       "p1k_00006 Sangwoo Seo Sangwoo Seo True          True                   \n",
       "          passed_reads_mapped_to_CDS passed_global_correlation full_name     \n",
       "p1k_00001 True                       True                      control:wt_glc\n",
       "p1k_00002 True                       True                      control:wt_glc\n",
       "p1k_00003 True                       True                      fur:wt_dpd    \n",
       "p1k_00004 True                       True                      fur:wt_dpd    \n",
       "p1k_00005 True                       True                      fur:wt_fe     \n",
       "p1k_00006 True                       True                      fur:wt_fe     \n",
       "          passed_similar_replicates passed_number_replicates\n",
       "p1k_00001 True                      True                    \n",
       "p1k_00002 True                      True                    \n",
       "p1k_00003 True                      True                    \n",
       "p1k_00004 True                      True                    \n",
       "p1k_00005 True                      True                    \n",
       "p1k_00006 True                      True                    "
      ]
     },
     "metadata": {},
     "output_type": "display_data"
    }
   ],
   "source": [
    "metadata <- read.csv('../../data/precise1k/metadata_qc.csv',row.names=1)\n",
    "head(metadata)"
   ]
  },
  {
   "cell_type": "markdown",
   "metadata": {},
   "source": [
    "## Gene Table"
   ]
  },
  {
   "cell_type": "code",
   "execution_count": 3,
   "metadata": {},
   "outputs": [
    {
     "data": {
      "text/html": [
       "<table class=\"dataframe\">\n",
       "<caption>A data.frame: 6 × 26</caption>\n",
       "<thead>\n",
       "\t<tr><th></th><th scope=col>gene_name</th><th scope=col>synonyms</th><th scope=col>gene_product</th><th scope=col>COG</th><th scope=col>regulator</th><th scope=col>uniprot</th><th scope=col>start</th><th scope=col>end</th><th scope=col>strand</th><th scope=col>essential</th><th scope=col>⋯</th><th scope=col>y_ome</th><th scope=col>k_eff</th><th scope=col>schmidt_prot_med</th><th scope=col>heckmann_prot_med</th><th scope=col>proteomics</th><th scope=col>p1k</th><th scope=col>p1k_ctrl_log_tpm</th><th scope=col>p1k_median_log_tpm</th><th scope=col>p1k_mad_log_tpm</th><th scope=col>in_iM</th></tr>\n",
       "\t<tr><th></th><th scope=col>&lt;chr&gt;</th><th scope=col>&lt;chr&gt;</th><th scope=col>&lt;chr&gt;</th><th scope=col>&lt;chr&gt;</th><th scope=col>&lt;chr&gt;</th><th scope=col>&lt;chr&gt;</th><th scope=col>&lt;int&gt;</th><th scope=col>&lt;int&gt;</th><th scope=col>&lt;chr&gt;</th><th scope=col>&lt;chr&gt;</th><th scope=col>⋯</th><th scope=col>&lt;chr&gt;</th><th scope=col>&lt;chr&gt;</th><th scope=col>&lt;dbl&gt;</th><th scope=col>&lt;dbl&gt;</th><th scope=col>&lt;chr&gt;</th><th scope=col>&lt;chr&gt;</th><th scope=col>&lt;dbl&gt;</th><th scope=col>&lt;dbl&gt;</th><th scope=col>&lt;dbl&gt;</th><th scope=col>&lt;chr&gt;</th></tr>\n",
       "</thead>\n",
       "<tbody>\n",
       "\t<tr><th scope=row>b0001</th><td>thrL</td><td>thrL            </td><td>thr operon leader peptide                        </td><td>No COG annotation                  </td><td>                                          </td><td>P0AD86</td><td> 190</td><td> 255</td><td>+</td><td>False</td><td>⋯</td><td>False</td><td>False</td><td>    NA</td><td>  NA</td><td>False</td><td>False</td><td>10.372833</td><td>8.862343</td><td>1.9369518</td><td>False</td></tr>\n",
       "\t<tr><th scope=row>b0002</th><td>thrA</td><td>thrA;thrA1;thrA2</td><td>fused aspartate kinase/homoserine dehydrogenase 1</td><td>Amino acid transport and metabolism</td><td>RpoD,Ile-tRNA,Thr-tRNA,DksA,Fnr,ArcA,ppGpp</td><td>P00561</td><td> 337</td><td>2799</td><td>+</td><td>False</td><td>⋯</td><td>False</td><td>True </td><td>4101.5</td><td>4434</td><td>True </td><td>True </td><td>10.314562</td><td>9.605329</td><td>1.0421427</td><td>True </td></tr>\n",
       "\t<tr><th scope=row>b0003</th><td>thrB</td><td>thrB            </td><td>homoserine kinase                                </td><td>Nucleotide transport and metabolism</td><td>RpoD,Ile-tRNA,Thr-tRNA,DksA,ppGpp         </td><td>P00547</td><td>2801</td><td>3733</td><td>+</td><td>False</td><td>⋯</td><td>False</td><td>True </td><td> 442.0</td><td>1177</td><td>True </td><td>True </td><td> 9.982251</td><td>9.232803</td><td>1.0356538</td><td>True </td></tr>\n",
       "\t<tr><th scope=row>b0004</th><td>thrC</td><td>thrC            </td><td>threonine synthase                               </td><td>Amino acid transport and metabolism</td><td>RpoD,ppGpp,Ile-tRNA,Thr-tRNA,DksA         </td><td>P00934</td><td>3734</td><td>5020</td><td>+</td><td>False</td><td>⋯</td><td>False</td><td>True </td><td>8818.5</td><td>3516</td><td>True </td><td>True </td><td> 9.973666</td><td>9.274271</td><td>0.9062871</td><td>True </td></tr>\n",
       "\t<tr><th scope=row>b0005</th><td>yaaX</td><td>yaaX            </td><td>DUF2502 domain-containing protein YaaX           </td><td>Function unknown                   </td><td>Lrp                                       </td><td>P75616</td><td>5234</td><td>5530</td><td>+</td><td>False</td><td>⋯</td><td>True </td><td>False</td><td>    NA</td><td>  NA</td><td>False</td><td>True </td><td> 7.132482</td><td>6.283661</td><td>1.0931462</td><td>True </td></tr>\n",
       "\t<tr><th scope=row>b0006</th><td>yaaA</td><td>yaaA            </td><td>peroxide stress resistance protein YaaA          </td><td>Function unknown                   </td><td>                                          </td><td>P0A8I3</td><td>5683</td><td>6459</td><td>-</td><td>False</td><td>⋯</td><td>True </td><td>True </td><td> 539.5</td><td> 333</td><td>True </td><td>True </td><td> 6.494941</td><td>6.346626</td><td>0.4545190</td><td>True </td></tr>\n",
       "</tbody>\n",
       "</table>\n"
      ],
      "text/latex": [
       "A data.frame: 6 × 26\n",
       "\\begin{tabular}{r|lllllllllllllllllllll}\n",
       "  & gene\\_name & synonyms & gene\\_product & COG & regulator & uniprot & start & end & strand & essential & ⋯ & y\\_ome & k\\_eff & schmidt\\_prot\\_med & heckmann\\_prot\\_med & proteomics & p1k & p1k\\_ctrl\\_log\\_tpm & p1k\\_median\\_log\\_tpm & p1k\\_mad\\_log\\_tpm & in\\_iM\\\\\n",
       "  & <chr> & <chr> & <chr> & <chr> & <chr> & <chr> & <int> & <int> & <chr> & <chr> & ⋯ & <chr> & <chr> & <dbl> & <dbl> & <chr> & <chr> & <dbl> & <dbl> & <dbl> & <chr>\\\\\n",
       "\\hline\n",
       "\tb0001 & thrL & thrL             & thr operon leader peptide                         & No COG annotation                   &                                            & P0AD86 &  190 &  255 & + & False & ⋯ & False & False &     NA &   NA & False & False & 10.372833 & 8.862343 & 1.9369518 & False\\\\\n",
       "\tb0002 & thrA & thrA;thrA1;thrA2 & fused aspartate kinase/homoserine dehydrogenase 1 & Amino acid transport and metabolism & RpoD,Ile-tRNA,Thr-tRNA,DksA,Fnr,ArcA,ppGpp & P00561 &  337 & 2799 & + & False & ⋯ & False & True  & 4101.5 & 4434 & True  & True  & 10.314562 & 9.605329 & 1.0421427 & True \\\\\n",
       "\tb0003 & thrB & thrB             & homoserine kinase                                 & Nucleotide transport and metabolism & RpoD,Ile-tRNA,Thr-tRNA,DksA,ppGpp          & P00547 & 2801 & 3733 & + & False & ⋯ & False & True  &  442.0 & 1177 & True  & True  &  9.982251 & 9.232803 & 1.0356538 & True \\\\\n",
       "\tb0004 & thrC & thrC             & threonine synthase                                & Amino acid transport and metabolism & RpoD,ppGpp,Ile-tRNA,Thr-tRNA,DksA          & P00934 & 3734 & 5020 & + & False & ⋯ & False & True  & 8818.5 & 3516 & True  & True  &  9.973666 & 9.274271 & 0.9062871 & True \\\\\n",
       "\tb0005 & yaaX & yaaX             & DUF2502 domain-containing protein YaaX            & Function unknown                    & Lrp                                        & P75616 & 5234 & 5530 & + & False & ⋯ & True  & False &     NA &   NA & False & True  &  7.132482 & 6.283661 & 1.0931462 & True \\\\\n",
       "\tb0006 & yaaA & yaaA             & peroxide stress resistance protein YaaA           & Function unknown                    &                                            & P0A8I3 & 5683 & 6459 & - & False & ⋯ & True  & True  &  539.5 &  333 & True  & True  &  6.494941 & 6.346626 & 0.4545190 & True \\\\\n",
       "\\end{tabular}\n"
      ],
      "text/markdown": [
       "\n",
       "A data.frame: 6 × 26\n",
       "\n",
       "| <!--/--> | gene_name &lt;chr&gt; | synonyms &lt;chr&gt; | gene_product &lt;chr&gt; | COG &lt;chr&gt; | regulator &lt;chr&gt; | uniprot &lt;chr&gt; | start &lt;int&gt; | end &lt;int&gt; | strand &lt;chr&gt; | essential &lt;chr&gt; | ⋯ ⋯ | y_ome &lt;chr&gt; | k_eff &lt;chr&gt; | schmidt_prot_med &lt;dbl&gt; | heckmann_prot_med &lt;dbl&gt; | proteomics &lt;chr&gt; | p1k &lt;chr&gt; | p1k_ctrl_log_tpm &lt;dbl&gt; | p1k_median_log_tpm &lt;dbl&gt; | p1k_mad_log_tpm &lt;dbl&gt; | in_iM &lt;chr&gt; |\n",
       "|---|---|---|---|---|---|---|---|---|---|---|---|---|---|---|---|---|---|---|---|---|---|\n",
       "| b0001 | thrL | thrL             | thr operon leader peptide                         | No COG annotation                   | <!----> | P0AD86 |  190 |  255 | + | False | ⋯ | False | False |     NA |   NA | False | False | 10.372833 | 8.862343 | 1.9369518 | False |\n",
       "| b0002 | thrA | thrA;thrA1;thrA2 | fused aspartate kinase/homoserine dehydrogenase 1 | Amino acid transport and metabolism | RpoD,Ile-tRNA,Thr-tRNA,DksA,Fnr,ArcA,ppGpp | P00561 |  337 | 2799 | + | False | ⋯ | False | True  | 4101.5 | 4434 | True  | True  | 10.314562 | 9.605329 | 1.0421427 | True  |\n",
       "| b0003 | thrB | thrB             | homoserine kinase                                 | Nucleotide transport and metabolism | RpoD,Ile-tRNA,Thr-tRNA,DksA,ppGpp          | P00547 | 2801 | 3733 | + | False | ⋯ | False | True  |  442.0 | 1177 | True  | True  |  9.982251 | 9.232803 | 1.0356538 | True  |\n",
       "| b0004 | thrC | thrC             | threonine synthase                                | Amino acid transport and metabolism | RpoD,ppGpp,Ile-tRNA,Thr-tRNA,DksA          | P00934 | 3734 | 5020 | + | False | ⋯ | False | True  | 8818.5 | 3516 | True  | True  |  9.973666 | 9.274271 | 0.9062871 | True  |\n",
       "| b0005 | yaaX | yaaX             | DUF2502 domain-containing protein YaaX            | Function unknown                    | Lrp                                        | P75616 | 5234 | 5530 | + | False | ⋯ | True  | False |     NA |   NA | False | True  |  7.132482 | 6.283661 | 1.0931462 | True  |\n",
       "| b0006 | yaaA | yaaA             | peroxide stress resistance protein YaaA           | Function unknown                    | <!----> | P0A8I3 | 5683 | 6459 | - | False | ⋯ | True  | True  |  539.5 |  333 | True  | True  |  6.494941 | 6.346626 | 0.4545190 | True  |\n",
       "\n"
      ],
      "text/plain": [
       "      gene_name synonyms        \n",
       "b0001 thrL      thrL            \n",
       "b0002 thrA      thrA;thrA1;thrA2\n",
       "b0003 thrB      thrB            \n",
       "b0004 thrC      thrC            \n",
       "b0005 yaaX      yaaX            \n",
       "b0006 yaaA      yaaA            \n",
       "      gene_product                                     \n",
       "b0001 thr operon leader peptide                        \n",
       "b0002 fused aspartate kinase/homoserine dehydrogenase 1\n",
       "b0003 homoserine kinase                                \n",
       "b0004 threonine synthase                               \n",
       "b0005 DUF2502 domain-containing protein YaaX           \n",
       "b0006 peroxide stress resistance protein YaaA          \n",
       "      COG                                \n",
       "b0001 No COG annotation                  \n",
       "b0002 Amino acid transport and metabolism\n",
       "b0003 Nucleotide transport and metabolism\n",
       "b0004 Amino acid transport and metabolism\n",
       "b0005 Function unknown                   \n",
       "b0006 Function unknown                   \n",
       "      regulator                                  uniprot start end  strand\n",
       "b0001                                            P0AD86   190   255 +     \n",
       "b0002 RpoD,Ile-tRNA,Thr-tRNA,DksA,Fnr,ArcA,ppGpp P00561   337  2799 +     \n",
       "b0003 RpoD,Ile-tRNA,Thr-tRNA,DksA,ppGpp          P00547  2801  3733 +     \n",
       "b0004 RpoD,ppGpp,Ile-tRNA,Thr-tRNA,DksA          P00934  3734  5020 +     \n",
       "b0005 Lrp                                        P75616  5234  5530 +     \n",
       "b0006                                            P0A8I3  5683  6459 -     \n",
       "      essential ⋯ y_ome k_eff schmidt_prot_med heckmann_prot_med proteomics\n",
       "b0001 False     ⋯ False False     NA             NA              False     \n",
       "b0002 False     ⋯ False True  4101.5           4434              True      \n",
       "b0003 False     ⋯ False True   442.0           1177              True      \n",
       "b0004 False     ⋯ False True  8818.5           3516              True      \n",
       "b0005 False     ⋯ True  False     NA             NA              False     \n",
       "b0006 False     ⋯ True  True   539.5            333              True      \n",
       "      p1k   p1k_ctrl_log_tpm p1k_median_log_tpm p1k_mad_log_tpm in_iM\n",
       "b0001 False 10.372833        8.862343           1.9369518       False\n",
       "b0002 True  10.314562        9.605329           1.0421427       True \n",
       "b0003 True   9.982251        9.232803           1.0356538       True \n",
       "b0004 True   9.973666        9.274271           0.9062871       True \n",
       "b0005 True   7.132482        6.283661           1.0931462       True \n",
       "b0006 True   6.494941        6.346626           0.4545190       True "
      ]
     },
     "metadata": {},
     "output_type": "display_data"
    }
   ],
   "source": [
    "geneTable <- read.csv('../../data/annotation/gene_info.csv', row.names=1)\n",
    "head(geneTable)"
   ]
  },
  {
   "cell_type": "markdown",
   "metadata": {},
   "source": [
    "## Select Counts\n",
    "\n",
    "Only want counts for QC-passed data (things in metadata)\n",
    "\n",
    "Only want counts for genes in P1K (to give fair comparison with DIMA results)"
   ]
  },
  {
   "cell_type": "code",
   "execution_count": 4,
   "metadata": {},
   "outputs": [],
   "source": [
    "counts <- counts[rownames(geneTable[geneTable$p1k == 'True',]), rownames(metadata)]"
   ]
  },
  {
   "cell_type": "code",
   "execution_count": 5,
   "metadata": {},
   "outputs": [
    {
     "data": {
      "text/html": [
       "TRUE"
      ],
      "text/latex": [
       "TRUE"
      ],
      "text/markdown": [
       "TRUE"
      ],
      "text/plain": [
       "[1] TRUE"
      ]
     },
     "metadata": {},
     "output_type": "display_data"
    }
   ],
   "source": [
    "all(colnames(counts) == rownames(metadata))"
   ]
  },
  {
   "cell_type": "markdown",
   "metadata": {},
   "source": [
    "# Run DESeq"
   ]
  },
  {
   "cell_type": "code",
   "execution_count": 6,
   "metadata": {},
   "outputs": [
    {
     "name": "stderr",
     "output_type": "stream",
     "text": [
      "hash-2.2.6.2 provided by Decision Patterns\n",
      "\n",
      "\n"
     ]
    }
   ],
   "source": [
    "library(hash)\n",
    "suppressPackageStartupMessages(library('DESeq2'))\n",
    "library(stringr)"
   ]
  },
  {
   "cell_type": "code",
   "execution_count": 7,
   "metadata": {
    "scrolled": true,
    "tags": []
   },
   "outputs": [
    {
     "name": "stdout",
     "output_type": "stream",
     "text": [
      "[1] \"control\"\n",
      "[1] \"fur\"\n"
     ]
    },
    {
     "name": "stderr",
     "output_type": "stream",
     "text": [
      "Warning message in DESeqDataSet(se, design = design, ignoreRank):\n",
      "“some variables in design formula are characters, converting to factors”\n",
      "estimating size factors\n",
      "\n",
      "estimating dispersions\n",
      "\n",
      "gene-wise dispersion estimates\n",
      "\n",
      "mean-dispersion relationship\n",
      "\n",
      "final dispersion estimates\n",
      "\n",
      "fitting model and testing\n",
      "\n"
     ]
    },
    {
     "name": "stdout",
     "output_type": "stream",
     "text": [
      "[1] \"acid\"\n"
     ]
    },
    {
     "name": "stderr",
     "output_type": "stream",
     "text": [
      "Warning message in DESeqDataSet(se, design = design, ignoreRank):\n",
      "“some variables in design formula are characters, converting to factors”\n",
      "estimating size factors\n",
      "\n",
      "estimating dispersions\n",
      "\n",
      "gene-wise dispersion estimates\n",
      "\n",
      "mean-dispersion relationship\n",
      "\n",
      "final dispersion estimates\n",
      "\n",
      "fitting model and testing\n",
      "\n"
     ]
    },
    {
     "name": "stdout",
     "output_type": "stream",
     "text": [
      "[1] \"oxidative\"\n"
     ]
    },
    {
     "name": "stderr",
     "output_type": "stream",
     "text": [
      "Warning message in DESeqDataSet(se, design = design, ignoreRank):\n",
      "“some variables in design formula are characters, converting to factors”\n",
      "estimating size factors\n",
      "\n",
      "estimating dispersions\n",
      "\n",
      "gene-wise dispersion estimates\n",
      "\n",
      "mean-dispersion relationship\n",
      "\n",
      "final dispersion estimates\n",
      "\n",
      "fitting model and testing\n",
      "\n"
     ]
    },
    {
     "name": "stdout",
     "output_type": "stream",
     "text": [
      "[1] \"nac_ntrc\"\n"
     ]
    },
    {
     "name": "stderr",
     "output_type": "stream",
     "text": [
      "Warning message in DESeqDataSet(se, design = design, ignoreRank):\n",
      "“some variables in design formula are characters, converting to factors”\n",
      "estimating size factors\n",
      "\n",
      "estimating dispersions\n",
      "\n",
      "gene-wise dispersion estimates\n",
      "\n",
      "mean-dispersion relationship\n",
      "\n",
      "final dispersion estimates\n",
      "\n",
      "fitting model and testing\n",
      "\n"
     ]
    },
    {
     "name": "stdout",
     "output_type": "stream",
     "text": [
      "[1] \"misc\"\n"
     ]
    },
    {
     "name": "stderr",
     "output_type": "stream",
     "text": [
      "Warning message in DESeqDataSet(se, design = design, ignoreRank):\n",
      "“some variables in design formula are characters, converting to factors”\n",
      "estimating size factors\n",
      "\n",
      "estimating dispersions\n",
      "\n",
      "gene-wise dispersion estimates\n",
      "\n",
      "mean-dispersion relationship\n",
      "\n",
      "final dispersion estimates\n",
      "\n",
      "fitting model and testing\n",
      "\n"
     ]
    },
    {
     "name": "stdout",
     "output_type": "stream",
     "text": [
      "[1] \"omics\"\n"
     ]
    },
    {
     "name": "stderr",
     "output_type": "stream",
     "text": [
      "Warning message in DESeqDataSet(se, design = design, ignoreRank):\n",
      "“some variables in design formula are characters, converting to factors”\n",
      "estimating size factors\n",
      "\n",
      "estimating dispersions\n",
      "\n",
      "gene-wise dispersion estimates\n",
      "\n",
      "mean-dispersion relationship\n",
      "\n",
      "final dispersion estimates\n",
      "\n",
      "fitting model and testing\n",
      "\n"
     ]
    },
    {
     "name": "stdout",
     "output_type": "stream",
     "text": [
      "[1] \"ompr\"\n"
     ]
    },
    {
     "name": "stderr",
     "output_type": "stream",
     "text": [
      "Warning message in DESeqDataSet(se, design = design, ignoreRank):\n",
      "“some variables in design formula are characters, converting to factors”\n",
      "estimating size factors\n",
      "\n",
      "estimating dispersions\n",
      "\n",
      "gene-wise dispersion estimates\n",
      "\n",
      "mean-dispersion relationship\n",
      "\n",
      "final dispersion estimates\n",
      "\n",
      "fitting model and testing\n",
      "\n"
     ]
    },
    {
     "name": "stdout",
     "output_type": "stream",
     "text": [
      "[1] \"minspan\"\n"
     ]
    },
    {
     "name": "stderr",
     "output_type": "stream",
     "text": [
      "Warning message in DESeqDataSet(se, design = design, ignoreRank):\n",
      "“some variables in design formula are characters, converting to factors”\n",
      "estimating size factors\n",
      "\n",
      "estimating dispersions\n",
      "\n",
      "gene-wise dispersion estimates\n",
      "\n",
      "mean-dispersion relationship\n",
      "\n",
      "final dispersion estimates\n",
      "\n",
      "fitting model and testing\n",
      "\n"
     ]
    },
    {
     "name": "stdout",
     "output_type": "stream",
     "text": [
      "[1] \"cra_crp\"\n"
     ]
    },
    {
     "name": "stderr",
     "output_type": "stream",
     "text": [
      "Warning message in DESeqDataSet(se, design = design, ignoreRank):\n",
      "“some variables in design formula are characters, converting to factors”\n",
      "estimating size factors\n",
      "\n",
      "estimating dispersions\n",
      "\n",
      "gene-wise dispersion estimates\n",
      "\n",
      "mean-dispersion relationship\n",
      "\n",
      "final dispersion estimates\n",
      "\n",
      "fitting model and testing\n",
      "\n"
     ]
    },
    {
     "name": "stdout",
     "output_type": "stream",
     "text": [
      "[1] \"rpoB\"\n"
     ]
    },
    {
     "name": "stderr",
     "output_type": "stream",
     "text": [
      "Warning message in DESeqDataSet(se, design = design, ignoreRank):\n",
      "“some variables in design formula are characters, converting to factors”\n",
      "estimating size factors\n",
      "\n",
      "estimating dispersions\n",
      "\n",
      "gene-wise dispersion estimates\n",
      "\n",
      "mean-dispersion relationship\n",
      "\n",
      "final dispersion estimates\n",
      "\n",
      "fitting model and testing\n",
      "\n"
     ]
    },
    {
     "name": "stdout",
     "output_type": "stream",
     "text": [
      "[1] \"crp\"\n"
     ]
    },
    {
     "name": "stderr",
     "output_type": "stream",
     "text": [
      "Warning message in DESeqDataSet(se, design = design, ignoreRank):\n",
      "“some variables in design formula are characters, converting to factors”\n",
      "estimating size factors\n",
      "\n",
      "estimating dispersions\n",
      "\n",
      "gene-wise dispersion estimates\n",
      "\n",
      "mean-dispersion relationship\n",
      "\n",
      "final dispersion estimates\n",
      "\n",
      "fitting model and testing\n",
      "\n"
     ]
    },
    {
     "name": "stdout",
     "output_type": "stream",
     "text": [
      "[1] \"glu\"\n",
      "[1] \"42c\"\n",
      "[1] \"ssw\"\n",
      "[1] \"ica\"\n"
     ]
    },
    {
     "name": "stderr",
     "output_type": "stream",
     "text": [
      "Warning message in DESeqDataSet(se, design = design, ignoreRank):\n",
      "“some variables in design formula are characters, converting to factors”\n",
      "estimating size factors\n",
      "\n",
      "estimating dispersions\n",
      "\n",
      "gene-wise dispersion estimates\n",
      "\n",
      "mean-dispersion relationship\n",
      "\n",
      "final dispersion estimates\n",
      "\n",
      "fitting model and testing\n",
      "\n"
     ]
    },
    {
     "name": "stdout",
     "output_type": "stream",
     "text": [
      "[1] \"ytf\"\n"
     ]
    },
    {
     "name": "stderr",
     "output_type": "stream",
     "text": [
      "Warning message in DESeqDataSet(se, design = design, ignoreRank):\n",
      "“some variables in design formula are characters, converting to factors”\n",
      "estimating size factors\n",
      "\n",
      "estimating dispersions\n",
      "\n",
      "gene-wise dispersion estimates\n",
      "\n",
      "mean-dispersion relationship\n",
      "\n",
      "final dispersion estimates\n",
      "\n",
      "fitting model and testing\n",
      "\n"
     ]
    },
    {
     "name": "stdout",
     "output_type": "stream",
     "text": [
      "[1] \"fps\"\n"
     ]
    },
    {
     "name": "stderr",
     "output_type": "stream",
     "text": [
      "Warning message in DESeqDataSet(se, design = design, ignoreRank):\n",
      "“some variables in design formula are characters, converting to factors”\n",
      "estimating size factors\n",
      "\n",
      "estimating dispersions\n",
      "\n",
      "gene-wise dispersion estimates\n",
      "\n",
      "mean-dispersion relationship\n",
      "\n",
      "final dispersion estimates\n",
      "\n",
      "fitting model and testing\n",
      "\n"
     ]
    },
    {
     "name": "stdout",
     "output_type": "stream",
     "text": [
      "[1] \"pal\"\n"
     ]
    },
    {
     "name": "stderr",
     "output_type": "stream",
     "text": [
      "Warning message in DESeqDataSet(se, design = design, ignoreRank):\n",
      "“some variables in design formula are characters, converting to factors”\n",
      "estimating size factors\n",
      "\n",
      "estimating dispersions\n",
      "\n",
      "gene-wise dispersion estimates\n",
      "\n",
      "mean-dispersion relationship\n",
      "\n",
      "final dispersion estimates\n",
      "\n",
      "fitting model and testing\n",
      "\n"
     ]
    },
    {
     "name": "stdout",
     "output_type": "stream",
     "text": [
      "[1] \"efeU\"\n"
     ]
    },
    {
     "name": "stderr",
     "output_type": "stream",
     "text": [
      "Warning message in DESeqDataSet(se, design = design, ignoreRank):\n",
      "“some variables in design formula are characters, converting to factors”\n",
      "estimating size factors\n",
      "\n",
      "estimating dispersions\n",
      "\n",
      "gene-wise dispersion estimates\n",
      "\n",
      "mean-dispersion relationship\n",
      "\n",
      "final dispersion estimates\n",
      "\n",
      "fitting model and testing\n",
      "\n"
     ]
    },
    {
     "name": "stdout",
     "output_type": "stream",
     "text": [
      "[1] \"misc2\"\n"
     ]
    },
    {
     "name": "stderr",
     "output_type": "stream",
     "text": [
      "Warning message in DESeqDataSet(se, design = design, ignoreRank):\n",
      "“some variables in design formula are characters, converting to factors”\n",
      "estimating size factors\n",
      "\n",
      "estimating dispersions\n",
      "\n",
      "gene-wise dispersion estimates\n",
      "\n",
      "mean-dispersion relationship\n",
      "\n",
      "final dispersion estimates\n",
      "\n",
      "fitting model and testing\n",
      "\n"
     ]
    },
    {
     "name": "stdout",
     "output_type": "stream",
     "text": [
      "[1] \"nquinone\"\n"
     ]
    },
    {
     "name": "stderr",
     "output_type": "stream",
     "text": [
      "Warning message in DESeqDataSet(se, design = design, ignoreRank):\n",
      "“some variables in design formula are characters, converting to factors”\n",
      "estimating size factors\n",
      "\n",
      "estimating dispersions\n",
      "\n",
      "gene-wise dispersion estimates\n",
      "\n",
      "mean-dispersion relationship\n",
      "\n",
      "final dispersion estimates\n",
      "\n",
      "fitting model and testing\n",
      "\n"
     ]
    },
    {
     "name": "stdout",
     "output_type": "stream",
     "text": [
      "[1] \"quinone\"\n"
     ]
    },
    {
     "name": "stderr",
     "output_type": "stream",
     "text": [
      "Warning message in DESeqDataSet(se, design = design, ignoreRank):\n",
      "“some variables in design formula are characters, converting to factors”\n",
      "estimating size factors\n",
      "\n",
      "estimating dispersions\n",
      "\n",
      "gene-wise dispersion estimates\n",
      "\n",
      "mean-dispersion relationship\n",
      "\n",
      "final dispersion estimates\n",
      "\n",
      "fitting model and testing\n",
      "\n"
     ]
    },
    {
     "name": "stdout",
     "output_type": "stream",
     "text": [
      "[1] \"oxyR\"\n"
     ]
    },
    {
     "name": "stderr",
     "output_type": "stream",
     "text": [
      "Warning message in DESeqDataSet(se, design = design, ignoreRank):\n",
      "“some variables in design formula are characters, converting to factors”\n",
      "estimating size factors\n",
      "\n",
      "estimating dispersions\n",
      "\n",
      "gene-wise dispersion estimates\n",
      "\n",
      "mean-dispersion relationship\n",
      "\n",
      "final dispersion estimates\n",
      "\n",
      "fitting model and testing\n",
      "\n"
     ]
    },
    {
     "name": "stdout",
     "output_type": "stream",
     "text": [
      "[1] \"svns_pgi\"\n"
     ]
    },
    {
     "name": "stderr",
     "output_type": "stream",
     "text": [
      "Warning message in DESeqDataSet(se, design = design, ignoreRank):\n",
      "“some variables in design formula are characters, converting to factors”\n",
      "estimating size factors\n",
      "\n",
      "estimating dispersions\n",
      "\n",
      "gene-wise dispersion estimates\n",
      "\n",
      "mean-dispersion relationship\n",
      "\n",
      "final dispersion estimates\n",
      "\n",
      "fitting model and testing\n",
      "\n"
     ]
    },
    {
     "name": "stdout",
     "output_type": "stream",
     "text": [
      "[1] \"abx_media\"\n"
     ]
    },
    {
     "name": "stderr",
     "output_type": "stream",
     "text": [
      "Warning message in DESeqDataSet(se, design = design, ignoreRank):\n",
      "“some variables in design formula are characters, converting to factors”\n",
      "estimating size factors\n",
      "\n",
      "estimating dispersions\n",
      "\n",
      "gene-wise dispersion estimates\n",
      "\n",
      "mean-dispersion relationship\n",
      "\n",
      "final dispersion estimates\n",
      "\n",
      "fitting model and testing\n",
      "\n"
     ]
    },
    {
     "name": "stdout",
     "output_type": "stream",
     "text": [
      "[1] \"hot_tale\"\n"
     ]
    },
    {
     "name": "stderr",
     "output_type": "stream",
     "text": [
      "Warning message in DESeqDataSet(se, design = design, ignoreRank):\n",
      "“some variables in design formula are characters, converting to factors”\n",
      "estimating size factors\n",
      "\n",
      "estimating dispersions\n",
      "\n",
      "gene-wise dispersion estimates\n",
      "\n",
      "mean-dispersion relationship\n",
      "\n",
      "final dispersion estimates\n",
      "\n",
      "fitting model and testing\n",
      "\n"
     ]
    },
    {
     "name": "stdout",
     "output_type": "stream",
     "text": [
      "[1] \"pdhr_ale\"\n"
     ]
    },
    {
     "name": "stderr",
     "output_type": "stream",
     "text": [
      "Warning message in DESeqDataSet(se, design = design, ignoreRank):\n",
      "“some variables in design formula are characters, converting to factors”\n",
      "estimating size factors\n",
      "\n",
      "estimating dispersions\n",
      "\n",
      "gene-wise dispersion estimates\n",
      "\n",
      "mean-dispersion relationship\n",
      "\n",
      "final dispersion estimates\n",
      "\n",
      "fitting model and testing\n",
      "\n"
     ]
    },
    {
     "name": "stdout",
     "output_type": "stream",
     "text": [
      "[1] \"tcs\"\n"
     ]
    },
    {
     "name": "stderr",
     "output_type": "stream",
     "text": [
      "Warning message in DESeqDataSet(se, design = design, ignoreRank):\n",
      "“some variables in design formula are characters, converting to factors”\n",
      "estimating size factors\n",
      "\n",
      "estimating dispersions\n",
      "\n",
      "gene-wise dispersion estimates\n",
      "\n",
      "mean-dispersion relationship\n",
      "\n",
      "final dispersion estimates\n",
      "\n",
      "fitting model and testing\n",
      "\n"
     ]
    },
    {
     "name": "stdout",
     "output_type": "stream",
     "text": [
      "[1] \"ros_tale\"\n"
     ]
    },
    {
     "name": "stderr",
     "output_type": "stream",
     "text": [
      "Warning message in DESeqDataSet(se, design = design, ignoreRank):\n",
      "“some variables in design formula are characters, converting to factors”\n",
      "estimating size factors\n",
      "\n",
      "estimating dispersions\n",
      "\n",
      "gene-wise dispersion estimates\n",
      "\n",
      "mean-dispersion relationship\n",
      "\n",
      "final dispersion estimates\n",
      "\n",
      "fitting model and testing\n",
      "\n"
     ]
    }
   ],
   "source": [
    "for (project in unique(metadata$project)) {\n",
    "    print(project)\n",
    "    # select only the metadata and counts for this project\n",
    "    mdProject <- metadata[metadata$project == project, ]\n",
    "    countsProject <- counts[,rownames(mdProject)]\n",
    "    numCond <- length(unique(mdProject$condition))\n",
    "    \n",
    "    # only run DESeq if we have more than one condition and replicates\n",
    "    if ((1 < numCond) & (numCond < length(mdProject$condition))) {\n",
    "        \n",
    "        # need to make sure the project reference is in this set - if not, need to go add it to the project metadata and counts\n",
    "        projectRef <- unique(mdProject$project_reference)\n",
    "        projectRefIDs <- strsplit(projectRef, \";\")[[1]]\n",
    "        refIDsPresent <- TRUE\n",
    "        for (refID in projectRefIDs) {\n",
    "            if (!(refID %in% rownames(mdProject))) {\n",
    "                refIDsPresent = FALSE\n",
    "                break\n",
    "            }\n",
    "        }\n",
    "        # if we don't have the reference conditions, add them to the metadata and counts\n",
    "        if (!refIDsPresent) {\n",
    "            mdProject <- rbind(mdProject, metadata[projectRefIDs,])\n",
    "            countsProject <- cbind(countsProject, counts[,projectRefIDs])\n",
    "        }\n",
    "        \n",
    "        # add identifiers to the metadata to use as the design to avoid character issues with condition names\n",
    "        unique_conds <- unique(mdProject$condition)\n",
    "        cond_to_int_id <- hash()\n",
    "        int_id_to_cond <- hash()\n",
    "        for (i in 1:length(unique_conds)) {\n",
    "            cond_to_int_id[[unique_conds[[i]]]] <- paste(i)\n",
    "            int_id_to_cond[[paste(i)]] <- unique_conds[[i]]\n",
    "        }\n",
    "        cond_int_col <- c()\n",
    "        for (cond in mdProject$condition) {\n",
    "            cond_int_col <- append(cond_int_col, cond_to_int_id[[cond]])\n",
    "        }\n",
    "        mdProject <- cbind(mdProject, cond_int=cond_int_col)\n",
    "\n",
    "        # create the DESeq dataset and then run DESeq\n",
    "        deseqDataset <- DESeqDataSetFromMatrix(countData = countsProject,\n",
    "                                  colData = mdProject,\n",
    "                                  design = ~ cond_int)\n",
    "        dds <- DESeq(deseqDataset)\n",
    "\n",
    "        # get the results for each of the pairwise comparisons; save the resulting tables\n",
    "        # can set cookCutoff FALSE because mostly have 2 replicates (applies with min 3)\n",
    "        for (i in 1:length(unique_conds)) {\n",
    "            for (j in 1:length(unique_conds)) {\n",
    "                if (j > i) {\n",
    "                    cond1 <- unique_conds[[i]]\n",
    "                    cond2 <- unique_conds[[j]]\n",
    "                    cond_int_1 <- cond_to_int_id[[cond1]]\n",
    "                    cond_int_2 <- cond_to_int_id[[cond2]]\n",
    "                    resultTable <- results(dds, contrast=c('cond_int', cond_int_1, cond_int_2), cooksCutoff=FALSE, alpha=0.01)\n",
    "                    cond1_full <- paste(project, '__', cond1, sep='')\n",
    "                    cond2_full <- paste(project, '__', cond2, sep='')\n",
    "                    file_name <- paste(cond1_full, '_vs_', cond2_full, '.csv', sep='')\n",
    "                    write.csv(resultTable, paste('../../data/precise1k/deg/',file_name, sep=''), row.names=TRUE)\n",
    "                }\n",
    "            }\n",
    "        }\n",
    "    }\n",
    "}"
   ]
  },
  {
   "cell_type": "code",
   "execution_count": null,
   "metadata": {},
   "outputs": [],
   "source": []
  }
 ],
 "metadata": {
  "kernelspec": {
   "display_name": "R",
   "language": "R",
   "name": "ir"
  },
  "language_info": {
   "codemirror_mode": "r",
   "file_extension": ".r",
   "mimetype": "text/x-r-source",
   "name": "R",
   "pygments_lexer": "r",
   "version": "4.2.0"
  },
  "toc": {
   "base_numbering": 1,
   "nav_menu": {},
   "number_sections": true,
   "sideBar": true,
   "skip_h1_title": false,
   "title_cell": "Table of Contents",
   "title_sidebar": "Contents",
   "toc_cell": true,
   "toc_position": {},
   "toc_section_display": true,
   "toc_window_display": false
  }
 },
 "nbformat": 4,
 "nbformat_minor": 4
}
