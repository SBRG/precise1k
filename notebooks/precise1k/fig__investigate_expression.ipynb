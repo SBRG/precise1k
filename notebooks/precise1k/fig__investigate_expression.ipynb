{
 "cells": [
  {
   "cell_type": "markdown",
   "id": "05a0d973-dc04-4f23-a543-1784d8a79adb",
   "metadata": {},
   "source": [
    "# Import Packages"
   ]
  },
  {
   "cell_type": "code",
   "execution_count": 6,
   "id": "fb59f5af-35d5-4271-87b9-06d19b5b6bc2",
   "metadata": {},
   "outputs": [],
   "source": [
    "# built-in\n",
    "from ast import literal_eval\n",
    "import itertools\n",
    "import os.path\n",
    "\n",
    "# third-party (pip install required)\n",
    "import matplotlib\n",
    "from matplotlib import gridspec\n",
    "import matplotlib.pyplot as plt\n",
    "import numpy as np\n",
    "import pandas as pd\n",
    "import pylab\n",
    "from pymodulon.io import load_json_model, save_to_json\n",
    "from pymodulon.plotting import plot_expression\n",
    "from scipy.stats import mannwhitneyu, pearsonr\n",
    "import seaborn as sns\n",
    "from sklearn.decomposition import PCA\n",
    "from sklearn.preprocessing import StandardScaler\n",
    "from tqdm.notebook import tqdm\n",
    "\n",
    "# set matplotlib params\n",
    "matplotlib.rcParams['pdf.fonttype'] = 42\n",
    "matplotlib.rcParams['ps.fonttype'] = 42\n",
    "matplotlib.rcParams['text.color'] = 'black'\n",
    "matplotlib.rcParams['axes.labelcolor'] = 'black'\n",
    "matplotlib.rcParams['xtick.color'] = 'black'\n",
    "matplotlib.rcParams['ytick.color'] = 'black'\n",
    "matplotlib.rcParams['font.sans-serif'] = \"Arial\"\n",
    "matplotlib.rcParams['font.family'] = \"sans-serif\""
   ]
  },
  {
   "cell_type": "markdown",
   "id": "2d778d50-57f4-48e6-9660-f6cc97b79647",
   "metadata": {},
   "source": [
    "# Load Data"
   ]
  },
  {
   "cell_type": "code",
   "execution_count": 7,
   "id": "b2d6d514-4e04-48e7-822a-059a6479a462",
   "metadata": {},
   "outputs": [],
   "source": [
    "P1K_PATH = '../../data/precise1k/'\n",
    "DEG_PATH = os.path.join(P1K_PATH, 'deg/')\n",
    "FIG_PATH = 'investigate_expression_figs/'\n",
    "ANNOTATION_PATH = '../../data/annotation/'"
   ]
  },
  {
   "cell_type": "code",
   "execution_count": 8,
   "id": "785f5392-1821-47c4-9de3-6c951c4dca32",
   "metadata": {},
   "outputs": [],
   "source": [
    "p1k = load_json_model(os.path.join(P1K_PATH, 'precise1k.json.gz'))\n",
    "p1k_sample_table = p1k.sample_table\n",
    "log_tpm = pd.read_csv(os.path.join(P1K_PATH, 'log_tpm_qc.csv'), index_col=0)"
   ]
  },
  {
   "cell_type": "markdown",
   "id": "ad272986-6cc0-47ac-9a52-68ee9e003dcf",
   "metadata": {},
   "source": [
    "# Replicate Correlations\n",
    "\n",
    "Generate plot comparing correlations of replicates to non-replicates in log_tpm values"
   ]
  },
  {
   "cell_type": "code",
   "execution_count": null,
   "id": "fc23c327-4ec9-4be8-9b71-60fee8365fcc",
   "metadata": {},
   "outputs": [],
   "source": [
    "rep_corrs = []\n",
    "rand_corrs = []\n",
    "\n",
    "num_comparisons = (p1k_sample_table.shape[0] * (p1k_sample_table.shape[0] - 1)) / 2\n",
    "for exp1, exp2 in tqdm(itertools.combinations(p1k_sample_table.index, 2), total=num_comparisons):\n",
    "    corr = pearsonr(log_tpm[exp1], log_tpm[exp2])[0]\n",
    "    if p1k_sample_table.loc[exp1, 'full_name'] == p1k_sample_table.loc[exp2, 'full_name']:\n",
    "        rep_corrs.append(corr)\n",
    "    else:\n",
    "        rand_corrs.append(corr)"
   ]
  },
  {
   "cell_type": "code",
   "execution_count": 5,
   "id": "5baea073-6b56-4b79-9d13-8977c909413d",
   "metadata": {},
   "outputs": [],
   "source": [
    "with open(os.path.join(FIG_PATH, 'rep_corrs.txt'), 'w') as f:\n",
    "    f.write(str(rep_corrs))\n",
    "with open(os.path.join(FIG_PATH, 'rand_corrs.txt'), 'w') as f:\n",
    "    f.write(str(rand_corrs))"
   ]
  },
  {
   "cell_type": "code",
   "execution_count": 5,
   "id": "262ba825-65c6-4d2e-9266-a12321069c49",
   "metadata": {},
   "outputs": [],
   "source": [
    "with open(os.path.join(FIG_PATH, 'rep_corrs.txt'), 'r') as f:\n",
    "    rep_corrs = literal_eval(f.read())\n",
    "with open(os.path.join(FIG_PATH, 'rand_corrs.txt'), 'r') as f:\n",
    "    rand_corrs = literal_eval(f.read())"
   ]
  },
  {
   "cell_type": "code",
   "execution_count": 6,
   "id": "f19bb808-359c-42f1-8aad-a9355fc27b05",
   "metadata": {},
   "outputs": [
    {
     "data": {
      "image/png": "[encoded data removed]",
      "text/plain": [
       "<Figure size 216x144 with 2 Axes>"
      ]
     },
     "metadata": {},
     "output_type": "display_data"
    }
   ],
   "source": [
    "sns.set_style('ticks')\n",
    "\n",
    "rand_color = 'darkgray'\n",
    "rep_color = 'firebrick'\n",
    "\n",
    "rep_median = np.median(rep_corrs)\n",
    "rand_median = np.median(rand_corrs)\n",
    "\n",
    "fig, ax = plt.subplots(figsize=(3,2))\n",
    "ax2 = ax.twinx()\n",
    "ax.hist(rand_corrs,bins=50,range=(0.55,1),alpha=0.9,color=rand_color,linewidth=0)\n",
    "ax2.hist(rep_corrs,bins=50,range=(0.55,1),alpha=0.9,color=rep_color,linewidth=0)\n",
    "ax.set_xlabel(\"Pearson's r\",fontsize=11)\n",
    "#ax.set_xticks(np.arange(0.4, 1.1, 0.1))\n",
    "ax.set_ylabel('Different Pairs',fontsize=11)\n",
    "ax.tick_params(axis='y', labelsize=10)\n",
    "ax2.set_ylabel('Replicate Pairs',fontsize=11, color=rep_color)\n",
    "ax2.tick_params(axis='y', colors=rep_color, labelsize=9)\n",
    "ax.text(0.05, 0.9, f'Diff. Median: {rand_median:.2f}', transform=ax.transAxes, fontsize=10)\n",
    "ax.text(0.05, 0.80, f'Rep. Median: {rep_median:.2f}', transform=ax.transAxes, color=rep_color, fontsize=10)\n",
    "for s in ax.spines.values():\n",
    "    s.set_color('black')\n",
    "    s.set_linewidth(1.5)\n",
    "plt.savefig(os.path.join(FIG_PATH, 'replicate_correlations.svg'), bbox_inches='tight', dpi=400)\n",
    "plt.savefig(os.path.join(FIG_PATH, 'replicate_correlations.png'), bbox_inches='tight', dpi=400)"
   ]
  },
  {
   "cell_type": "markdown",
   "id": "6f989df3-aa68-4225-9ad3-a1419c3e1d5e",
   "metadata": {},
   "source": [
    "# DEGs\n",
    "\n",
    "Determine numbers of DEGs across conditions"
   ]
  },
  {
   "cell_type": "code",
   "execution_count": 10,
   "id": "18161718-eae7-4929-bdc5-9ce4dc09b2fb",
   "metadata": {},
   "outputs": [
    {
     "data": {
      "application/vnd.jupyter.widget-view+json": {
       "model_id": "d07e0dd9d3b74566b52761d1b588ca1a",
       "version_major": 2,
       "version_minor": 0
      },
      "text/plain": [
       "  0%|          | 0/6104 [00:00<?, ?it/s]"
      ]
     },
     "metadata": {},
     "output_type": "display_data"
    }
   ],
   "source": [
    "cond_pair_to_deg_count = {}\n",
    "for deg_file in tqdm(os.listdir(DEG_PATH)):\n",
    "    # ensure we're dealing with a CSV\n",
    "    if '.csv' in deg_file:\n",
    "        deg_df = pd.read_csv(os.path.join(DEG_PATH, deg_file), index_col=0)\n",
    "        # only accept adjusted p-values below 0.01 and larger log-fold changes\n",
    "        sig_deg_df = deg_df[(deg_df['padj'] < 0.01) & (deg_df['log2FoldChange'].abs() > 1.5)]\n",
    "        n_degs = sig_deg_df.shape[0]\n",
    "        full_name_1, full_name_2 = [cond.replace('__', ':') for cond in deg_file.split('.')[0].split('_vs_')]\n",
    "        cond_pair_to_deg_count[(full_name_1, full_name_2)] = n_degs"
   ]
  },
  {
   "cell_type": "markdown",
   "id": "e2b0c24a-5b01-4488-a88a-97bc3f4921a0",
   "metadata": {},
   "source": [
    "### High-Low Investigation"
   ]
  },
  {
   "cell_type": "code",
   "execution_count": 11,
   "id": "e5987b11-cf93-4a2a-ae38-b810d7d92006",
   "metadata": {
    "scrolled": true,
    "tags": []
   },
   "outputs": [
    {
     "data": {
      "text/plain": [
       "[(('minicoli:minE_glyc', 'minicoli:W3110_LB'), 2407),\n",
       " (('minicoli:minE-pyr', 'minicoli:W3110_LB'), 2386),\n",
       " (('minicoli:mg1655_glc', 'minicoli:minE_glyc'), 2361),\n",
       " (('minicoli:minE_glyc', 'minicoli:W3110_cyt'), 2355),\n",
       " (('minicoli:mg1655_glc', 'minicoli:minE-pyr'), 2345),\n",
       " (('minicoli:minE_glyc', 'minicoli:W3110_WT_glc'), 2345),\n",
       " (('minicoli:minE-pyr', 'minicoli:W3110_N_starve'), 2333),\n",
       " (('minicoli:minE-pyr', 'minicoli:W3110_WT_glc'), 2327),\n",
       " (('minicoli:minE-pyr', 'minicoli:W3110_cyt'), 2322),\n",
       " (('minicoli:minE_glyc', 'minicoli:W3110_N_starve'), 2322),\n",
       " (('minicoli:minE_glyc', 'minicoli:W3110_glc'), 2322),\n",
       " (('minicoli:minE_glyc', 'minicoli:W3110_osm'), 2285),\n",
       " (('minicoli:minE_glyc', 'minicoli:W3110_WT_osm'), 2282),\n",
       " (('minicoli:minE-pyr', 'minicoli:W3110_ph5'), 2282),\n",
       " (('minicoli:minE-pyr', 'minicoli:W3110_glc'), 2281),\n",
       " (('minicoli:minE_glyc', 'minicoli:W3110_sorb'), 2262),\n",
       " (('minicoli:minE_glyc', 'minicoli:W3110_ph5'), 2261),\n",
       " (('minicoli:minE-pyr', 'minicoli:W3110_osm'), 2252),\n",
       " (('minicoli:minE_LB', 'minicoli:W3110_urid'), 2249),\n",
       " (('minicoli:minE-pyr', 'minicoli:W3110_WT_osm'), 2240),\n",
       " (('minicoli:minE-pyr', 'minicoli:W3110_sorb'), 2213),\n",
       " (('minicoli:minE_glyc', 'minicoli:W3110_glyc'), 2192),\n",
       " (('minicoli:minE-pyr', 'minicoli:W3110_glyc'), 2191),\n",
       " (('minicoli:minE-pyr', 'minicoli:W3110_pyr'), 2171),\n",
       " (('minicoli:minE_ph5', 'minicoli:W3110_LB'), 2158),\n",
       " (('minicoli:aldA_minE', 'minicoli:W3110_urid'), 2152),\n",
       " (('minicoli:aldA_f1c2', 'minicoli:W3110_urid'), 2141),\n",
       " (('minicoli:minE_glyc', 'minicoli:W3110_pyr'), 2141),\n",
       " (('minicoli:minE_osm', 'minicoli:W3110_LB'), 2136),\n",
       " (('minicoli:minE-pyr', 'minicoli:W3110_Fe_starve'), 2113),\n",
       " (('minicoli:minE_LB', 'minicoli:W3110_sorb'), 2097),\n",
       " (('minicoli:minE_LB', 'minicoli:W3110_Fe_starve'), 2087),\n",
       " (('minicoli:aldA_minE', 'minicoli:W3110_LB'), 2086),\n",
       " (('minicoli:aldA_f1c2', 'minicoli:W3110_sorb'), 2085),\n",
       " (('minicoli:aldA_f1c2', 'minicoli:W3110_cyt'), 2084),\n",
       " (('minicoli:minE_glyc', 'minicoli:W3110_Fe_starve'), 2078),\n",
       " (('minicoli:minE_N_starve', 'minicoli:W3110_LB'), 2072),\n",
       " (('minicoli:minE_Fe_starve', 'minicoli:W3110_LB'), 2039),\n",
       " (('minicoli:aldA_minE', 'minicoli:W3110_sorb'), 2038),\n",
       " (('minicoli:aldA_minE', 'minicoli:W3110_cyt'), 2037),\n",
       " (('minicoli:aldA_f1c2', 'minicoli:W3110_LB'), 2034),\n",
       " (('minicoli:minE_LB', 'minicoli:W3110_pyr'), 2021),\n",
       " (('minicoli:minE_urid', 'minicoli:W3110_LB'), 2019),\n",
       " (('minicoli:minE_fruc', 'minicoli:W3110_LB'), 2013),\n",
       " (('minicoli:minE_ph5', 'minicoli:W3110_sorb'), 2004),\n",
       " (('minicoli:aldA_f1c2', 'minicoli:W3110_N_starve'), 1992),\n",
       " (('minicoli:minE_sorb', 'minicoli:W3110_LB'), 1992),\n",
       " (('minicoli:minE_glc', 'minicoli:W3110_LB'), 1991),\n",
       " (('minicoli:aldA_f1c2', 'minicoli:W3110_glc'), 1979),\n",
       " (('minicoli:aldA_f1c2', 'minicoli:W3110_glyc'), 1979),\n",
       " (('minicoli:minE_cyt', 'minicoli:W3110_LB'), 1978),\n",
       " (('minicoli:minE_osm', 'minicoli:W3110_urid'), 1976),\n",
       " (('minicoli:minE-pyr', 'minicoli:W3110_urid'), 1972),\n",
       " (('minicoli:minE_glc', 'minicoli:W3110_urid'), 1969),\n",
       " (('minicoli:minE_LB', 'minicoli:W3110_glc'), 1966),\n",
       " (('minicoli:aldA_minE', 'minicoli:W3110_Fe_starve'), 1965),\n",
       " (('minicoli:minE_LB', 'minicoli:W3110_glyc'), 1964),\n",
       " (('minicoli:aldA_f1c2', 'minicoli:W3110_Fe_starve'), 1962),\n",
       " (('minicoli:aldA_f1c2', 'minicoli:W3110_WT_osm'), 1962),\n",
       " (('minicoli:minE_Fe_starve', 'minicoli:W3110_urid'), 1961),\n",
       " (('minicoli:minE_cyt', 'minicoli:W3110_urid'), 1950),\n",
       " (('minicoli:minE_osm', 'minicoli:W3110_sorb'), 1947),\n",
       " (('minicoli:minE_LB', 'minicoli:W3110_N_starve'), 1946),\n",
       " (('minicoli:aldA_minE', 'minicoli:W3110_glyc'), 1935),\n",
       " (('minicoli:minE_Fe_starve', 'minicoli:W3110_sorb'), 1928),\n",
       " (('minicoli:minE_LB', 'minicoli:W3110_cyt'), 1926),\n",
       " (('minicoli:minE_N_starve', 'minicoli:W3110_urid'), 1922),\n",
       " (('minicoli:aldA_minE', 'minicoli:W3110_N_starve'), 1919),\n",
       " (('minicoli:minE_fruc', 'minicoli:W3110_urid'), 1918),\n",
       " (('minicoli:minE_ph5', 'minicoli:W3110_glc'), 1912),\n",
       " (('minicoli:minE_osm', 'minicoli:W3110_glc'), 1908),\n",
       " (('tcs:del_baeR_etoh', 'tcs:del_phoB_m9p'), 1906),\n",
       " (('minicoli:aldA_minE', 'minicoli:W3110_glc'), 1906),\n",
       " (('minicoli:minE_urid', 'minicoli:W3110_urid'), 1900),\n",
       " (('minicoli:minE_sorb', 'minicoli:W3110_Fe_starve'), 1897),\n",
       " (('minicoli:minE_glyc', 'minicoli:W3110_urid'), 1897),\n",
       " (('tcs:del_baeR_etoh', 'tcs:del_btsR_pyruvate'), 1897),\n",
       " (('minicoli:aldA_minE', 'minicoli:W3110_WT_osm'), 1893),\n",
       " (('minicoli:aldA_minE', 'minicoli:W3110_pyr'), 1893),\n",
       " (('minicoli:minE_N_starve', 'minicoli:W3110_sorb'), 1890),\n",
       " (('minicoli:aldA_f1c2', 'minicoli:mg1655_glc'), 1890),\n",
       " (('minicoli:minE_ph5', 'minicoli:W3110_urid'), 1890),\n",
       " (('minicoli:aldA_f1c2', 'minicoli:W3110_osm'), 1886),\n",
       " (('minicoli:aldA_f1c2', 'minicoli:W3110_pyr'), 1885),\n",
       " (('minicoli:minE_urid', 'minicoli:W3110_Fe_starve'), 1882),\n",
       " (('minicoli:minE_fruc', 'minicoli:W3110_Fe_starve'), 1882),\n",
       " (('minicoli:aldA_f1c2', 'minicoli:W3110_WT_glc'), 1881),\n",
       " (('minicoli:minE_glc', 'minicoli:W3110_Fe_starve'), 1876),\n",
       " (('minicoli:minE_ph5', 'minicoli:W3110_cyt'), 1870),\n",
       " (('minicoli:minE_LB', 'minicoli:W3110_WT_osm'), 1869),\n",
       " (('minicoli:minE_LB', 'minicoli:W3110_osm'), 1869),\n",
       " (('tcs:del_baeR_etoh', 'tcs:wt_m9p'), 1868),\n",
       " (('tcs:del_baeR_etoh', 'tcs:del_btsR_01xlb'), 1862),\n",
       " (('tcs:del_phoB_m9p', 'tcs:del_rcsB_etoh'), 1860),\n",
       " (('minicoli:minE_sorb', 'minicoli:W3110_urid'), 1856),\n",
       " (('minicoli:minE_LB', 'minicoli:W3110_ph5'), 1856),\n",
       " (('minicoli:aldA_minE', 'minicoli:mg1655_glc'), 1846),\n",
       " (('minicoli:aldA_minE', 'minicoli:W3110_WT_glc'), 1845),\n",
       " (('tcs:del_baeR_etoh', 'tcs:wt_115-kcl'), 1845),\n",
       " (('minicoli:minE_cyt', 'minicoli:W3110_Fe_starve'), 1844)]"
      ]
     },
     "execution_count": 11,
     "metadata": {},
     "output_type": "execute_result"
    }
   ],
   "source": [
    "sorted_deg_conds_hi_low = sorted(cond_pair_to_deg_count.items(), key=lambda tup: tup[1], reverse=True)\n",
    "sorted_deg_conds_hi_low[:100]"
   ]
  },
  {
   "cell_type": "code",
   "execution_count": 26,
   "id": "0d2527c4-bcb7-4d5b-a003-8729a4aada0c",
   "metadata": {},
   "outputs": [
    {
     "data": {
      "text/plain": [
       "[(('tcs:wt_lb', 'tcs:wt_m9p'), 1335),\n",
       " (('ros_tale:13_87_0pq', 'ros_tale:ALE4_250pq'), 1334),\n",
       " (('ros_tale:0_0_0pq', 'ros_tale:3_4_0pq'), 1334),\n",
       " (('ros_tale:9_77_0pq', 'ros_tale:ALE4_0pq'), 1334),\n",
       " (('ros_tale:25_111_0pq', 'ros_tale:ALE4_250pq'), 1333),\n",
       " (('ica:cytd_rib', 'ica:met_glc'), 1333),\n",
       " (('eep:BOP27_ndh-cydB-appC', 'eep:BOP27_nuoB_cydB-appC_A16_F57_I1_R1'), 1333),\n",
       " (('tcs:wt_LiCl', 'tcs:wt_pyr'), 1331),\n",
       " (('tcs:del_btsR_lb', 'tcs:wt_115-kcl'), 1330),\n",
       " (('ros_tale:21_97_0pq', 'ros_tale:ALE4_250pq'), 1325),\n",
       " (('ros_tale:1_0_0pq', 'ros_tale:1_3_0pq'), 1325),\n",
       " (('ros_tale:0_0_250pq', 'ros_tale:3_1_0pq'), 1325),\n",
       " (('tcs:del_btsR_pyruvate', 'tcs:del_zraR_zncl2'), 1324),\n",
       " (('eep:BOP1000', 'eep:BOP27_ndh-cyoB_A8_F59_I1_R1'), 1324),\n",
       " (('tcs:del_phoB_m9p', 'tcs:wt_115-kcl'), 1321),\n",
       " (('ros_tale:1_mid_250pq', 'ros_tale:1_3_0pq'), 1321),\n",
       " (('ros_tale:1_mid_250pq', 'ros_tale:3_4_0pq'), 1320),\n",
       " (('ros_tale:9_77_750pq', 'ros_tale:18_36_250pq'), 1320),\n",
       " (('tcs:del_atoC_LiCl', 'tcs:wt_01xlb'), 1318),\n",
       " (('ros_tale:16_28_250pq', 'ros_tale:17_104_0pq'), 1318),\n",
       " (('ros_tale:9_77_0pq', 'ros_tale:16_28_250pq'), 1318),\n",
       " (('ros_tale:1_1_0pq', 'ros_tale:3_0_750pq'), 1316),\n",
       " (('tcs:del_btsR_lb', 'tcs:del_kdpE_115-kcl'), 1314),\n",
       " (('tcs:del_atoC_m9', 'tcs:wt_pyr'), 1314),\n",
       " (('tcs:del_cusR_lb', 'tcs:wt_115-kcl'), 1313),\n",
       " (('ros_tale:14_27_750pq', 'ros_tale:wt_glc'), 1312),\n",
       " (('ros_tale:11_83_0pq', 'ros_tale:14_27_750pq'), 1311),\n",
       " (('tcs:wt_m9p', 'tcs:wt_zncl2'), 1310),\n",
       " (('ros_tale:1_mid_250pq', 'ros_tale:3_4_750pq'), 1309),\n",
       " (('ros_tale:9_77_250pq', 'ros_tale:wt_glc'), 1308),\n",
       " (('ros_tale:1_3_0pq', 'ros_tale:3_4_750pq'), 1307),\n",
       " (('eep:BOP27', 'eep:BOP27_nuoB_cydB-appC_A15_F57_I1_R1'), 1307),\n",
       " (('eep:BOP27', 'eep:BOP27_ndh-cyoB_A7_F56_I1_R1'), 1307),\n",
       " (('eep:BOP1000', 'eep:BOP27_nuoB_cydB-appC_A15_F57_I1_R1'), 1306),\n",
       " (('tcs:del_btsR_01xlb', 'tcs:del_rcsB_lb'), 1305),\n",
       " (('tcs:del_btsR_01xlb', 'tcs:del_zraR_zncl2'), 1304),\n",
       " (('ros_tale:9_77_750pq', 'ros_tale:16_28_250pq'), 1303),\n",
       " (('ros_tale:9_77_750pq', 'ros_tale:17_104_0pq'), 1303),\n",
       " (('tcs:del_btsR_pyruvate', 'tcs:wt_LiAcet'), 1303),\n",
       " (('ros_tale:1_2_250pq', 'ros_tale:3_0_750pq'), 1298),\n",
       " (('ros_tale:1_4_0pq', 'ros_tale:3_4_250pq'), 1298),\n",
       " (('ros_tale:13_87_250pq', 'ros_tale:14_27_750pq'), 1298),\n",
       " (('tcs:wt_01xlb', 'tcs:wt_LiCl'), 1297),\n",
       " (('tcs:del_atoC_LiCl', 'tcs:del_btsR_01xlb'), 1297),\n",
       " (('eep:BOP27_ndh-cyoB_A6_F58_I1_R1', 'eep:BOP27_nuoB-cyoB_A10_F64_I1_R1'),\n",
       "  1297),\n",
       " (('tcs:del_kdpE_115-kcl', 'tcs:del_phoB_m9p'), 1296),\n",
       " (('tcs:wt_01xlb', 'tcs:wt_LiAcet'), 1296),\n",
       " (('ros_tale:9_77_250pq', 'ros_tale:19_91_0pq'), 1296),\n",
       " (('abx_media:camhb_ctrl', 'abx_media:m9_cipro'), 1295),\n",
       " (('ros_tale:0_0_250pq', 'ros_tale:3_0_0pq'), 1293),\n",
       " (('tcs:del_zraR_zncl2', 'tcs:wt_m9p'), 1293),\n",
       " (('eep:BOP27_nuoB_cydB-appC_A15_F57_I1_R1',\n",
       "   'eep:BOP27_nuoB-cyoB_A12_F63_I1_R1'),\n",
       "  1292),\n",
       " (('ica:cytd_rib', 'ica:phe_acgam'), 1292),\n",
       " (('ros_tale:14_27_0pq', 'ros_tale:ALE4_250pq'), 1292),\n",
       " (('tcs:del_atoC_LiCl', 'tcs:del_btsR_pyruvate'), 1291),\n",
       " (('tcs:del_cusR_lb', 'tcs:del_rcsB_etoh'), 1290),\n",
       " (('ica:cytd_rib', 'ica:no3_anaero'), 1290),\n",
       " (('ros_tale:0_0_250pq', 'ros_tale:3_1_250pq'), 1289),\n",
       " (('ros_tale:21_97_250pq', 'ros_tale:ALE4_250pq'), 1289),\n",
       " (('tcs:del_btsR_pyruvate', 'tcs:wt_LiCl'), 1288),\n",
       " (('tcs:del_btsR_01xlb', 'tcs:wt_LiAcet'), 1285),\n",
       " (('eep:BOP27_ndh-cyoB_A6_F58_I1_R1', 'eep:BOP27_ndh-cydB'), 1284),\n",
       " (('abx_media:rpmi_ctrl', 'abx_media:m9_cipro'), 1282),\n",
       " (('tcs:del_cpxR_lb', 'tcs:del_zraR_lb'), 1282),\n",
       " (('eep:BOP27_ndh-cyoB', 'eep:BOP27_ndh-cyoB_A6_F58_I1_R1'), 1282),\n",
       " (('ica:cytd_rib', 'ica:ade_glc'), 1281),\n",
       " (('ica:cytd_rib', 'ica:bw_delpurR_cytd'), 1281),\n",
       " (('eep:BOP27_ndh-cyoB_A6_F58_I1_R1', 'eep:BOP27_nuoB-cyoB_A9_F63_I1_R1'),\n",
       "  1281),\n",
       " (('tcs:del_atoC_m9', 'tcs:wt_01xlb'), 1279),\n",
       " (('eep:BOP27_ndh-cyoB_A7_F56_I1_R1', 'eep:BOP27_nuoB-cydB'), 1279),\n",
       " (('eep:BOP27_ndh-cydB-appC_A12_F46_I1_R1',\n",
       "   'eep:BOP27_nuoB_cydB-appC_A16_F57_I1_R1'),\n",
       "  1276),\n",
       " (('eep:BOP27_ndh-cydB-appC_A12_F46_I1_R1', 'eep:BOP27_ndh-cyoB_A7_F56_I1_R1'),\n",
       "  1276),\n",
       " (('eep:BOP27_ndh-cyoB_A8_F59_I1_R1', 'eep:BOP27_nuoB-cydB'), 1275),\n",
       " (('tcs:del_btsR_01xlb', 'tcs:wt_LiCl'), 1275),\n",
       " (('tcs:wt_01-kcl', 'tcs:wt_CuSO4'), 1274),\n",
       " (('ros_tale:0_0_250pq', 'ros_tale:2_2_250pq'), 1272),\n",
       " (('ros_tale:3_76_0pq', 'ros_tale:29_119_250pq'), 1270),\n",
       " (('tcs:del_baeR_lb', 'tcs:del_zraR_lb'), 1270),\n",
       " (('ros_tale:25_111_250pq', 'ros_tale:ALE4_250pq'), 1269),\n",
       " (('eep:BOP27_nuoB-cydB-appC', 'eep:BOP27_ndh-cyoB_A7_F56_I1_R1'), 1268),\n",
       " (('tcs:del_cusR_lb', 'tcs:del_kdpE_115-kcl'), 1267),\n",
       " (('tcs:del_cpxR_etoh', 'tcs:wt_CuSO4'), 1267),\n",
       " (('eep:BOP27_ndh-cydB-appC', 'eep:BOP27_ndh-cyoB_A5_F59_I1_R1'), 1265),\n",
       " (('tcs:del_rcsB_lb', 'tcs:wt_01xlb'), 1263),\n",
       " (('ica:gth', 'ica:met_glc'), 1259),\n",
       " (('tcs:del_rcsB_lb', 'tcs:wt_pyr'), 1259),\n",
       " (('tcs:del_zraR_lb', 'tcs:wt_etoh'), 1258),\n",
       " (('ros_tale:2_mid_250pq', 'ros_tale:3_4_250pq'), 1256),\n",
       " (('ros_tale:0_0_0pq', 'ros_tale:2_0_750pq'), 1255),\n",
       " (('abx_media:m9_mero', 'abx_media:camhb_cipro'), 1254),\n",
       " (('ros_tale:9_77_250pq', 'ros_tale:18_24_250pq'), 1253),\n",
       " (('ros_tale:0_0_250pq', 'ros_tale:3_1_750pq'), 1253),\n",
       " (('ros_tale:0_0_250pq', 'ros_tale:2_3_0pq'), 1252),\n",
       " (('ros_tale:21_97_750pq', 'ros_tale:ALE4_250pq'), 1252),\n",
       " (('ros_tale:3_76_0pq', 'ros_tale:29_119_750pq'), 1251),\n",
       " (('tcs:del_atoC_m9', 'tcs:del_btsR_pyruvate'), 1251),\n",
       " (('tcs:del_rcsB_etoh', 'tcs:wt_lb'), 1251),\n",
       " (('ros_tale:0_0_250pq', 'ros_tale:2_3_250pq'), 1250),\n",
       " (('tcs:del_phoB_m9p', 'tcs:wt_01-kcl'), 1250),\n",
       " (('ros_tale:18_36_750pq', 'ros_tale:ALE4_0pq'), 1250)]"
      ]
     },
     "execution_count": 26,
     "metadata": {},
     "output_type": "execute_result"
    }
   ],
   "source": [
    "sorted_deg_conds_hi_low[400:500]"
   ]
  },
  {
   "cell_type": "code",
   "execution_count": 32,
   "id": "f57c2f02-e3cb-414a-a426-464000b5c112",
   "metadata": {},
   "outputs": [
    {
     "data": {
      "text/plain": [
       "p1k_00173    glucose(2)\n",
       "p1k_00174    glucose(2)\n",
       "Name: Carbon Source (g/L), dtype: object"
      ]
     },
     "execution_count": 32,
     "metadata": {},
     "output_type": "execute_result"
    }
   ],
   "source": [
    "p1k.sample_table[p1k.sample_table['full_name'] == 'ica:met_glc']['Carbon Source (g/L)']"
   ]
  },
  {
   "cell_type": "code",
   "execution_count": 12,
   "id": "ee1b120a-7cfd-4aa7-b615-44d2170e5330",
   "metadata": {
    "scrolled": true,
    "tags": []
   },
   "outputs": [
    {
     "data": {
      "text/plain": [
       "[(('rpoB:rpoBE546V_031', 'rpoB:rpoBE546V_044'), 0),\n",
       " (('DDB2:PD-003_del-phoB_Fed-batch_6h', 'DDB2:PD-005_del-phoB_Fed-batch_6h'),\n",
       "  0),\n",
       " (('pcoli:ggAANAT', 'pcoli:ocAANAT'), 0),\n",
       " (('svns_pgi:BmePgi24_26', 'svns_pgi:BmePgi24_52'), 0),\n",
       " (('ros_tale:7_103_250pq', 'ros_tale:7_103_750pq'), 0),\n",
       " (('cck_sdh:sdh_ale1', 'cck_sdh:sdh_ale2'), 0),\n",
       " (('cck_sdh:sdh_ale1', 'cck_sdh:sdh_ale3'), 0),\n",
       " (('pcoli:hsTPH_E2K', 'pcoli:hsTPH_N174trunc'), 0),\n",
       " (('cck_sdh:sdh_ale2', 'cck_sdh:sdh_ale3'), 0),\n",
       " (('DDB2:PD-003_del-qseF_Fed-batch_6h', 'DDB2:PD-005_del-qseF_Fed-batch_6h'),\n",
       "  0),\n",
       " (('ros_tale:29_119_250pq', 'ros_tale:29_119_750pq'), 0),\n",
       " (('pcoli:btAANAT', 'pcoli:hsTPH_N174trunc'), 1),\n",
       " (('eep:BOP27_nuoB-cyoB_A9_F63_I1_R1', 'eep:BOP27_nuoB-cyoB_A10_F64_I1_R1'),\n",
       "  1),\n",
       " (('cck_gnd:gnd_ale1', 'cck_gnd:gnd_ale3'), 1),\n",
       " (('acid_tale:MES_ale_pH7', 'acid_tale:gmos_pH7'), 1),\n",
       " (('DDB2:PD-005_BW25113_Fed-batch_6h', 'DDB2:PD-005_del-phoB_Fed-batch_6h'),\n",
       "  1),\n",
       " (('DDB3:PD-009_del-lsrK_Fed-batch_6h', 'DDB3:PD-009_del-luxS_Fed-batch_6h'),\n",
       "  1),\n",
       " (('pcoli:ccCOMT', 'pcoli:saCOMT_T2A'), 1),\n",
       " (('pcoli:hsAANAT', 'pcoli:RFCnopause'), 1),\n",
       " (('DDB3:PD-009_del-lsrK_Fed-batch_6h', 'DDB3:PD-009_del-tnaA_Fed-batch_6h'),\n",
       "  1),\n",
       " (('nquinone:ubiC_ale2', 'nquinone:ubiC_ale4'), 2),\n",
       " (('tcs:wt_LiAcet', 'tcs:wt_LiCl'), 2),\n",
       " (('cck:glu_ale4', 'cck:cck_ale1'), 2),\n",
       " (('pcoli:hsTPH', 'pcoli:hsTPH_E2K_N91I_P99C'), 2),\n",
       " (('tcs:del_atoC_LiAcet', 'tcs:del_atoC_LiCl'), 2),\n",
       " (('pcoli:cobPNMT', 'pcoli:ggAANAT'), 2),\n",
       " (('adnB:wt_adn', 'adnB:delydhB_adn'), 2),\n",
       " (('DDB3:PD-009_del-tnaA_Batch_6h', 'DDB3:PD-005_BW25113_Batch_6h'), 2),\n",
       " (('ytf:wt_ph5', 'ytf:delydcI_ph5'), 2),\n",
       " (('pcoli:hsPNMT_mb', 'pcoli:ocAANAT'), 2),\n",
       " (('tcs:wt_01xlb', 'tcs:wt_pyr'), 2),\n",
       " (('pcoli:ccCOMT', 'pcoli:TP53B'), 2),\n",
       " (('pcoli:ggAANAT', 'pcoli:hsPNMT_mb'), 2),\n",
       " (('ros_tale:13_87_250pq', 'ros_tale:13_87_750pq'), 2),\n",
       " (('pcoli:ccCOMT', 'pcoli:ocAANAT'), 2),\n",
       " (('pcoli:hsTPH1', 'pcoli:osTDC_K374Q'), 3),\n",
       " (('DDB3:PD-006_del-lsrB_Fed-batch_6h', 'DDB3:PD-009_del-tnaA_Fed-batch_6h'),\n",
       "  3),\n",
       " (('pcoli:atASMT_325G', 'pcoli:TP53B'), 3),\n",
       " (('pcoli:ggAANAT', 'pcoli:saCOMT_T2A'), 3),\n",
       " (('pcoli:atASMT_325G', 'pcoli:hsPNMT_mb'), 3),\n",
       " (('acid:wt_ph5', 'acid:delgadx_ph5'), 3),\n",
       " (('ros_tale:1_2_250pq', 'ros_tale:1_2_750pq'), 3),\n",
       " (('pcoli:ccCOMT', 'pcoli:hsPNMT_mb'), 3),\n",
       " (('pcoli:cobPNMT', 'pcoli:ocAANAT'), 3),\n",
       " (('pcoli:ccCOMT', 'pcoli:ggAANAT'), 3),\n",
       " (('DDB2:PD-003_BW25113_Fed-batch_6h', 'DDB2:PD-005_BW25113_Fed-batch_6h'), 3),\n",
       " (('pcoli:ocAANAT', 'pcoli:saCOMT_T2A'), 4),\n",
       " (('pcoli:saCOMT_T2A', 'pcoli:sgAANAT_D63G'), 4),\n",
       " (('DDB3:PD-006_del-lsrB_Fed-batch_6h', 'DDB3:PD-009_del-lsrK_Fed-batch_6h'),\n",
       "  4),\n",
       " (('cck_pgi:pgi_ale1', 'cck_pgi:pgi_ale3'), 4),\n",
       " (('pcoli:hsPNMT_mb', 'pcoli:sgAANAT_D63G'), 4),\n",
       " (('pcoli:hsTPH_E2K_N91I_P99C', 'pcoli:ocAANAT'), 4),\n",
       " (('pcoli:BRCA', 'pcoli:hsTPH_E2K_N91I_P99C'), 4),\n",
       " (('pcoli:hsTPH', 'pcoli:osTDC_L360V'), 4),\n",
       " (('pcoli:ggAANAT', 'pcoli:sgAANAT_D63G'), 4),\n",
       " (('pcoli:btAANAT', 'pcoli:hsTPH1'), 4),\n",
       " (('DDB2:PD-005_BW25113_Fed-batch_15h', 'DDB2:PD-003_BW25113_Fed-batch_21h'),\n",
       "  4),\n",
       " (('pcoli:hsPNMT_mb', 'pcoli:saCOMT_T2A'), 4),\n",
       " (('DDB2:PD-003_BW25113_Fed-batch_6h', 'DDB2:PD-005_del-phoB_Fed-batch_6h'),\n",
       "  4),\n",
       " (('DDB3:PD-009_del-luxS_Fed-batch_6h', 'DDB3:PD-009_del-tnaA_Fed-batch_6h'),\n",
       "  4),\n",
       " (('DDB3:PD-006_del-lsrB_Fed-batch_15h', 'DDB3:PD-009_del-tnaA_Fed-batch_15h'),\n",
       "  4),\n",
       " (('pcoli:atASMT_325G', 'pcoli:ocAANAT'), 4),\n",
       " (('pcoli:btAANAT', 'pcoli:btASMT'), 4),\n",
       " (('pcoli:hsASMT', 'pcoli:osTDC_L360V'), 4),\n",
       " (('DDB2:PD-003_BW25113_Batch_9h', 'DDB2:PD-003_del-qseF_Batch_6h'), 4),\n",
       " (('pcoli:atASMT_325G', 'pcoli:ccCOMT'), 4),\n",
       " (('pcoli:ocAANAT', 'pcoli:sgAANAT_D63G'), 4),\n",
       " (('cck:cck_ale1', 'cck:cck_ale2'), 4),\n",
       " (('pcoli:hsTPH_E2K_N91I_P99C', 'pcoli:rnTDC'), 4),\n",
       " (('tcs:del_atoC_LiCl', 'tcs:del_atoC_m9'), 4),\n",
       " (('pcoli:BRCA', 'pcoli:rnTDC'), 5),\n",
       " (('pcoli:hsTPH', 'pcoli:sgAANAT_D63G'), 5),\n",
       " (('pcoli:hsTPH_E2K_N91I_P99C', 'pcoli:sfCOMT'), 5),\n",
       " (('ros_tale:21_97_250pq', 'ros_tale:21_97_750pq'), 5),\n",
       " (('pcoli:hsAANAT', 'pcoli:rnCOMT_sol'), 5),\n",
       " (('pcoli:bpTDC', 'pcoli:ssDDC'), 5),\n",
       " (('pcoli:ggAANAT', 'pcoli:sfCOMT'), 5),\n",
       " (('ytf2:yciT_glc', 'ytf2:ynfL_glc'), 5),\n",
       " (('pcoli:BRCAswap', 'pcoli:hsTPH1'), 5),\n",
       " (('quinone:menF_ale5', 'quinone:menF_ale6'), 5),\n",
       " (('pcoli:atASMT_325G', 'pcoli:sgAANAT_D63G'), 5),\n",
       " (('DDB3:PD-006_del-lsrB_Batch_6h', 'DDB3:PD-009_del-tnaA_Batch_6h'), 5),\n",
       " (('DDB2:PD-003_BW25113_Fed-batch_6h', 'DDB2:PD-003_del-phoB_Fed-batch_6h'),\n",
       "  5),\n",
       " (('DDB2:PD-005_BW25113_Batch_6h', 'DDB2:PD-005_del-qseF_Batch_6h'), 5),\n",
       " (('pcoli:saCOMT_T2A', 'pcoli:TP53B'), 5),\n",
       " (('pcoli:cobPNMT', 'pcoli:sgAANAT_D63G'), 5),\n",
       " (('DDB3:PD-006_del-lsrB_Batch_6h', 'DDB3:PD-005_BW25113_Batch_6h'), 5),\n",
       " (('ytf2:ydiZ_glc', 'ytf2:ynfL_glc'), 6),\n",
       " (('ytf2:wt_glc', 'ytf2:ynfL_glc'), 6),\n",
       " (('DDB2:PD-003_BW25113_Batch_9h', 'DDB2:PD-003_del-phoB_Batch_9h'), 6),\n",
       " (('pcoli:BRCAswap', 'pcoli:osTDC_K374Q'), 6),\n",
       " (('pcoli:hsASMT', 'pcoli:ssDDC'), 6),\n",
       " (('pcoli:hsTPH_E2K_N91I_P99C', 'pcoli:sgAANAT_D63G'), 6),\n",
       " (('pcoli:cobPNMT', 'pcoli:saCOMT_T2A'), 6),\n",
       " (('pcoli:ggAANAT', 'pcoli:hsTPH_E2K_N91I_P99C'), 6),\n",
       " (('pcoli:btASMT', 'pcoli:hsTPH_N174trunc'), 6),\n",
       " (('pcoli:btASMT', 'pcoli:osTDC_K374Q'), 6),\n",
       " (('pcoli:ccCOMT', 'pcoli:hsTPH_E2K_N91I_P99C'), 6),\n",
       " (('pcoli:hsTPH_E2K_N91I_P99C', 'pcoli:saCOMT_T2A'), 6),\n",
       " (('DDB2:PD-003_del-phoB_Batch_9h', 'DDB2:PD-003_del-qseF_Batch_6h'), 6)]"
      ]
     },
     "execution_count": 12,
     "metadata": {},
     "output_type": "execute_result"
    }
   ],
   "source": [
    "sorted_deg_conds_low_hi = sorted(cond_pair_to_deg_count.items(), key=lambda tup: tup[1])\n",
    "sorted_deg_conds_low_hi[:100]"
   ]
  },
  {
   "cell_type": "markdown",
   "id": "87cf34ab-7d3a-4b1f-9099-0dfa0b650230",
   "metadata": {},
   "source": [
    "### Histogram"
   ]
  },
  {
   "cell_type": "code",
   "execution_count": 40,
   "id": "15c88198-d03d-4aed-b993-ebe8438f2c38",
   "metadata": {},
   "outputs": [
    {
     "name": "stderr",
     "output_type": "stream",
     "text": [
      "No artists with labels found to put in legend.  Note that artists whose label start with an underscore are ignored when legend() is called with no argument.\n"
     ]
    },
    {
     "data": {
      "image/png": "[encoded data removed]",
      "text/plain": [
       "<Figure size 216x144 with 1 Axes>"
      ]
     },
     "metadata": {},
     "output_type": "display_data"
    }
   ],
   "source": [
    "sns.set_style('ticks')\n",
    "\n",
    "_, ax = plt.subplots(figsize=(3, 2))\n",
    "\n",
    "sns.histplot(cond_pair_to_deg_count.values(), color='steelblue', bins=25, ax=ax)\n",
    "\n",
    "ax.legend().set_visible(False)\n",
    "ax.tick_params(axis='both', labelsize=9)\n",
    "ax.set_xlabel('# DEGs', fontsize=10)\n",
    "ax.set_ylabel('# Comparisons')\n",
    "\n",
    "median_degs = np.median(list(cond_pair_to_deg_count.values()))\n",
    "ax.axvline(median_degs, linestyle='--', color='firebrick')\n",
    "ax.text(median_degs + 50, 1000, f'Median DEGs = {median_degs:.0f}', color='firebrick', fontsize=10)\n",
    "\n",
    "ax.annotate('ΔbaeR v WT', (1868,  75), ha='left', va='center', xytext=(1600, 400), arrowprops={'headlength': 5, 'width':2, 'headwidth': 5}, zorder=10, fontsize=9)\n",
    "ax.annotate('GSH v Met Supp', (1259,  150), ha='center', va='center', xytext=(1250, 700), arrowprops={'headlength': 5, 'width':2, 'headwidth': 5}, zorder=10, fontsize=9)\n",
    "\n",
    "for s in ax.spines.values():\n",
    "    s.set_color('black')\n",
    "    s.set_linewidth(1)\n",
    "    \n",
    "plt.savefig(os.path.join(FIG_PATH, 'degs_histogram.svg'), dpi=400, bbox_inches='tight')\n",
    "plt.savefig(os.path.join(FIG_PATH, 'degs_histogram.png'), dpi=400, bbox_inches='tight')"
   ]
  },
  {
   "cell_type": "markdown",
   "id": "7530bdad-29d4-4387-9c2d-52f22fa6aa4b",
   "metadata": {},
   "source": [
    "# PCA"
   ]
  },
  {
   "cell_type": "code",
   "execution_count": 25,
   "id": "e289ddb8-f745-4ffe-97dc-deb62176611d",
   "metadata": {},
   "outputs": [],
   "source": [
    "pca = PCA()\n",
    "\n",
    "log_tpm_z = pd.DataFrame(StandardScaler().fit_transform(log_tpm.T), index=log_tpm.T.index, columns=log_tpm.T.columns)\n",
    "\n",
    "DF_weights = pd.DataFrame(pca.fit_transform(log_tpm_z), index=log_tpm_z.index)\n",
    "DF_components = pd.DataFrame(pca.components_.T, index=log_tpm_z.columns)"
   ]
  },
  {
   "cell_type": "markdown",
   "id": "b384cbb7-8812-41a4-9697-8581345f4294",
   "metadata": {},
   "source": [
    "## Explained Variance"
   ]
  },
  {
   "cell_type": "code",
   "execution_count": 26,
   "id": "95a7e12f-b179-403c-a33c-000223a0c062",
   "metadata": {},
   "outputs": [
    {
     "name": "stdout",
     "output_type": "stream",
     "text": [
      "Number of dimensions for 95% of variance: 231\n"
     ]
    },
    {
     "data": {
      "image/png": "[encoded data removed]",
      "text/plain": [
       "<Figure size 432x180 with 2 Axes>"
      ]
     },
     "metadata": {
      "needs_background": "light"
     },
     "output_type": "display_data"
    }
   ],
   "source": [
    "# Set the explained variance threshold\n",
    "var_cutoff = 0.95\n",
    "\n",
    "fig, (ax_all, ax_close) = plt.subplots(1, 2, figsize=(6,2.5))\n",
    "pca_var = np.cumsum(pca.explained_variance_ratio_)\n",
    "ax_all.plot(pca_var)\n",
    "dims = np.where(pca_var > var_cutoff)[0][0] + 1\n",
    "ax_all.vlines(dims,0,1,linestyles='dotted')\n",
    "ax_all.hlines(var_cutoff,0,len(log_tpm.columns),linestyles='dotted')\n",
    "ax_all.set_ylim(0,1)\n",
    "ax_all.set_xlim(0,len(log_tpm.columns))\n",
    "ax_all.set_ylabel('Explained Variance\\nFraction',fontsize=10)\n",
    "ax_all.set_xlabel('# of Dimensions',fontsize=10)\n",
    "ax_all.set_xticks(np.arange(0, 1100, 200))\n",
    "for s in ax_all.spines.values():\n",
    "    s.set_color('black')\n",
    "    s.set_linewidth(1.5)\n",
    "    \n",
    "ax_close.plot(pca_var)\n",
    "dims = np.where(pca_var > var_cutoff)[0][0] + 1\n",
    "ax_close.vlines(dims,0,1,linestyles='dotted')\n",
    "ax_close.hlines(var_cutoff,0,len(log_tpm.columns),linestyles='dotted')\n",
    "ax_close.set_ylim(0,1)\n",
    "ax_close.set_xlim(0,150)\n",
    "ax_close.set_ylabel('Explained Variance\\nFraction',fontsize=10)\n",
    "ax_close.set_xlabel('# of Dimensions',fontsize=10)\n",
    "ax_close.set_xticks(np.arange(0, 160, 25))\n",
    "for s in ax_close.spines.values():\n",
    "    s.set_color('black')\n",
    "    s.set_linewidth(1.5)\n",
    "print(f'Number of dimensions for {var_cutoff*100:.0f}% of variance:', dims)\n",
    "plt.tight_layout()"
   ]
  },
  {
   "cell_type": "markdown",
   "id": "a5f2b2e5-da09-4e85-af41-15a65bc8ef8d",
   "metadata": {},
   "source": [
    "## First 2 Components: By Study"
   ]
  },
  {
   "cell_type": "code",
   "execution_count": 27,
   "id": "98dbeb3b-ffbe-481e-9419-6dbaf3365e7e",
   "metadata": {},
   "outputs": [
    {
     "data": {
      "image/png": "[encoded data removed]",
      "text/plain": [
       "<Figure size 144x144 with 1 Axes>"
      ]
     },
     "metadata": {
      "needs_background": "light"
     },
     "output_type": "display_data"
    }
   ],
   "source": [
    "show_study = []\n",
    "study_sort = []\n",
    "for exp_id in p1k_sample_table.index:\n",
    "    if p1k_sample_table.loc[exp_id, 'study'] in ['AntibiotICA', 'ROS TALE', 'Respiratory quinone',\n",
    "                                           'Two Component Systems', 'yTF',                                         \n",
    "                                          'Minicoli', 'OxyR ALE']:\n",
    "        show_study.append(p1k_sample_table.loc[exp_id, 'study'])\n",
    "        study_sort.append(0)\n",
    "    else:\n",
    "        show_study.append('All Other Studies')\n",
    "        study_sort.append(1)\n",
    "        \n",
    "p1k_sample_table['show_study'] = show_study\n",
    "p1k_sample_table['study_sort'] = study_sort\n",
    "p1k_sample_table = p1k_sample_table.sort_values(by = ['study_sort', 'show_study'], ascending = [False,True])\n",
    "\n",
    "NUM_COLORS = len(p1k_sample_table.groupby('show_study')) \n",
    "cm = pylab.get_cmap('gist_rainbow')\n",
    "colors = ['#B4B4BB']+[cm(1.*i/(NUM_COLORS-1)) for i in range(0,NUM_COLORS-1)]\n",
    "marker_list = [\"o\", \"s\", \"D\", \"^\", \"v\",\"s\", \"D\", \"^\", \"v\", \"s\", \"D\", \"^\", \"v\",\"s\", \"D\", \"^\", \"v\"]\n",
    "plt.rc('xtick', labelsize=10)    # fontsize of the tick labels\n",
    "plt.rc('ytick', labelsize=10)    # fontsize of the tick labels\n",
    "\n",
    "fig,ax = plt.subplots(figsize=(2,2))\n",
    "\n",
    "for s in ax.spines.values():\n",
    "    s.set_color('black')\n",
    "    s.set_linewidth(1.5)\n",
    "\n",
    "for i,(name,group) in enumerate(p1k_sample_table.groupby('show_study', sort=False)):\n",
    "    idx = log_tpm.loc[:,group.index.tolist()].columns.tolist()\n",
    "    ax.scatter(DF_weights.loc[idx,0],\n",
    "               DF_weights.loc[idx,1],\n",
    "               label=name,alpha=0.85, color=colors[i],marker=marker_list[i], s=16, linewidths =.4, edgecolors='#1C2021')\n",
    "ax.set_xlabel('PC1: %.1f%%'%(pca.explained_variance_ratio_[0]*100),fontsize=10)\n",
    "ax.set_ylabel('PC2: %.1f%%'%(pca.explained_variance_ratio_[1]*100),fontsize=10)\n",
    "plt.legend(bbox_to_anchor=(1,0.5),loc='center left',fontsize=9,ncol=1, markerscale=1.4, columnspacing=0.1, handletextpad=.01,\n",
    "          frameon=False, labelspacing=0.11)\n",
    "plt.savefig(os.path.join(FIG_PATH, 'pca_components_study.svg'), dpi = 600, bbox_inches = 'tight')\n",
    "plt.savefig(os.path.join(FIG_PATH, 'pca_components_study.png'), dpi = 600, bbox_inches = 'tight')"
   ]
  },
  {
   "cell_type": "markdown",
   "id": "a751e4c4-31ca-48e3-937e-a4012329fa5c",
   "metadata": {},
   "source": [
    "## First 2 Components: By Creator"
   ]
  },
  {
   "cell_type": "code",
   "execution_count": 28,
   "id": "cdbaa082-1eec-4109-8c88-d3cdb3c7e708",
   "metadata": {},
   "outputs": [
    {
     "data": {
      "image/png": "[encoded data removed]",
      "text/plain": [
       "<Figure size 144x144 with 1 Axes>"
      ]
     },
     "metadata": {
      "needs_background": "light"
     },
     "output_type": "display_data"
    }
   ],
   "source": [
    "NUM_COLORS = len(p1k_sample_table.groupby('creator')) \n",
    "cm = pylab.get_cmap('gist_rainbow')\n",
    "colors = ['#B4B4BB']+[cm(1.*i/(NUM_COLORS-1)) for i in range(0,NUM_COLORS-1)]\n",
    "plt.rc('xtick', labelsize=10)    # fontsize of the tick labels\n",
    "plt.rc('ytick', labelsize=10)    # fontsize of the tick labels\n",
    "\n",
    "fig,ax = plt.subplots(figsize=(2,2))\n",
    "\n",
    "for s in ax.spines.values():\n",
    "    s.set_color('black')\n",
    "    s.set_linewidth(1.5)\n",
    "\n",
    "for i, (creator,creator_group) in enumerate(p1k_sample_table.groupby('creator')):\n",
    "    idx = log_tpm.loc[:,creator_group.index.tolist()].columns.tolist()\n",
    "    ax.scatter(DF_weights.loc[idx,0],\n",
    "               DF_weights.loc[idx,1],\n",
    "               label=name,alpha=0.85, color=colors[i],s=16, linewidths =.4, edgecolors='#1C2021')\n",
    "ax.set_xlabel('PC1: %.1f%%'%(pca.explained_variance_ratio_[0]*100),fontsize=10)\n",
    "ax.set_ylabel('PC2: %.1f%%'%(pca.explained_variance_ratio_[1]*100),fontsize=10)\n",
    "plt.savefig(os.path.join(FIG_PATH, 'pca_components_creator.svg'), dpi = 600, bbox_inches = 'tight')\n",
    "plt.savefig(os.path.join(FIG_PATH, 'pca_components_creator.png'), dpi = 600, bbox_inches = 'tight')"
   ]
  },
  {
   "cell_type": "markdown",
   "id": "d9d6a753-56c0-4d5e-b541-8453ec5fbd08",
   "metadata": {},
   "source": [
    "## w/o Minicoli"
   ]
  },
  {
   "cell_type": "code",
   "execution_count": 32,
   "id": "4eca0762-8316-4606-bc11-5f410a778bc1",
   "metadata": {},
   "outputs": [],
   "source": [
    "p1k_sample_table_no_mc = p1k_sample_table[p1k_sample_table['study'] != 'Minicoli'].copy()\n",
    "log_tpm_no_mc = log_tpm[p1k_sample_table_no_mc.index]\n",
    "\n",
    "pca_no_mc = PCA()\n",
    "\n",
    "log_tpm_z_nomc = pd.DataFrame(StandardScaler().fit_transform(log_tpm_no_mc.T), index=log_tpm_no_mc.T.index, columns=log_tpm_no_mc.T.columns)\n",
    "\n",
    "DF_weights_no_mc = pd.DataFrame(pca_no_mc.fit_transform(log_tpm_z_nomc), index=log_tpm_z_nomc.index)\n",
    "DF_components_no_mc = pd.DataFrame(pca_no_mc.components_.T, index=log_tpm_z_nomc.columns)"
   ]
  },
  {
   "cell_type": "code",
   "execution_count": 33,
   "id": "771276fd-e47f-4080-a4a1-b6a08dc02cf9",
   "metadata": {},
   "outputs": [
    {
     "name": "stdout",
     "output_type": "stream",
     "text": [
      "Number of dimensions for 95% of variance: 247\n"
     ]
    },
    {
     "data": {
      "image/png": "[encoded data removed]",
      "text/plain": [
       "<Figure size 432x180 with 2 Axes>"
      ]
     },
     "metadata": {
      "needs_background": "light"
     },
     "output_type": "display_data"
    }
   ],
   "source": [
    "# Set the explained variance threshold\n",
    "var_cutoff = 0.95\n",
    "\n",
    "fig, (ax_all, ax_close) = plt.subplots(1, 2, figsize=(6,2.5))\n",
    "pca_var = np.cumsum(pca_no_mc.explained_variance_ratio_)\n",
    "ax_all.plot(pca_var)\n",
    "dims = np.where(pca_var > var_cutoff)[0][0] + 1\n",
    "ax_all.vlines(dims,0,1,linestyles='dotted')\n",
    "ax_all.hlines(var_cutoff,0,len(log_tpm_no_mc.columns),linestyles='dotted')\n",
    "ax_all.set_ylim(0,1)\n",
    "ax_all.set_xlim(0,len(log_tpm_no_mc.columns))\n",
    "ax_all.set_ylabel('Explained Variance\\nFraction',fontsize=10)\n",
    "ax_all.set_xlabel('# of Dimensions',fontsize=10)\n",
    "ax_all.set_xticks(np.arange(0, 1100, 200))\n",
    "for s in ax_all.spines.values():\n",
    "    s.set_color('black')\n",
    "    s.set_linewidth(1.5)\n",
    "    \n",
    "ax_close.plot(pca_var)\n",
    "dims = np.where(pca_var > var_cutoff)[0][0] + 1\n",
    "ax_close.vlines(dims,0,1,linestyles='dotted')\n",
    "ax_close.hlines(var_cutoff,0,len(log_tpm_no_mc.columns),linestyles='dotted')\n",
    "ax_close.set_ylim(0,1)\n",
    "ax_close.set_xlim(0,150)\n",
    "ax_close.set_ylabel('Explained Variance\\nFraction',fontsize=10)\n",
    "ax_close.set_xlabel('# of Dimensions',fontsize=10)\n",
    "ax_close.set_xticks(np.arange(0, 160, 25))\n",
    "for s in ax_close.spines.values():\n",
    "    s.set_color('black')\n",
    "    s.set_linewidth(1.5)\n",
    "print(f'Number of dimensions for {var_cutoff*100:.0f}% of variance:', dims)\n",
    "plt.tight_layout()"
   ]
  },
  {
   "cell_type": "code",
   "execution_count": 34,
   "id": "d9c30756-3d09-4061-9a8e-d5d648b00f61",
   "metadata": {},
   "outputs": [
    {
     "data": {
      "image/png": "[encoded data removed]",
      "text/plain": [
       "<Figure size 144x144 with 1 Axes>"
      ]
     },
     "metadata": {
      "needs_background": "light"
     },
     "output_type": "display_data"
    }
   ],
   "source": [
    "show_study = []\n",
    "study_sort = []\n",
    "for exp_id in p1k_sample_table_no_mc.index:\n",
    "    if p1k_sample_table_no_mc.loc[exp_id, 'study'] in ['AntibiotICA', 'ROS TALE', 'Respiratory quinone',\n",
    "                                           'Two Component Systems', 'yTF',                                         \n",
    "                                          'Minicoli', 'OxyR ALE']:\n",
    "        show_study.append(p1k_sample_table_no_mc.loc[exp_id, 'study'])\n",
    "        study_sort.append(0)\n",
    "    else:\n",
    "        show_study.append('All Other Studies')\n",
    "        study_sort.append(1)\n",
    "        \n",
    "p1k_sample_table_no_mc['show_study'] = show_study\n",
    "p1k_sample_table_no_mc['study_sort'] = study_sort\n",
    "p1k_sample_table_no_mc = p1k_sample_table_no_mc.sort_values(by = ['study_sort', 'show_study'], ascending = [False,True])\n",
    "\n",
    "NUM_COLORS = len(p1k_sample_table_no_mc.groupby('show_study')) \n",
    "cm = pylab.get_cmap('gist_rainbow')\n",
    "colors = ['#B4B4BB']+[cm(1.*i/(NUM_COLORS-1)) for i in range(0,NUM_COLORS-1)]\n",
    "marker_list = [\"o\", \"s\", \"D\", \"^\", \"v\",\"s\", \"D\", \"^\", \"v\", \"s\", \"D\", \"^\", \"v\",\"s\", \"D\", \"^\", \"v\"]\n",
    "plt.rc('xtick', labelsize=10)    # fontsize of the tick labels\n",
    "plt.rc('ytick', labelsize=10)    # fontsize of the tick labels\n",
    "\n",
    "fig,ax = plt.subplots(figsize=(2,2))\n",
    "\n",
    "for s in ax.spines.values():\n",
    "    s.set_color('black')\n",
    "    s.set_linewidth(1.5)\n",
    "\n",
    "for i,(name,group) in enumerate(p1k_sample_table_no_mc.groupby('show_study', sort=False)):\n",
    "    idx = log_tpm_no_mc.loc[:,group.index.tolist()].columns.tolist()\n",
    "    ax.scatter(DF_weights_no_mc.loc[idx,0],\n",
    "               DF_weights_no_mc.loc[idx,1],\n",
    "               label=name,alpha=0.85, color=colors[i],marker=marker_list[i], s=16, linewidths =.4, edgecolors='#1C2021')\n",
    "ax.set_xlabel('PC1: %.1f%%'%(pca_no_mc.explained_variance_ratio_[0]*100),fontsize=10)\n",
    "ax.set_ylabel('PC2: %.1f%%'%(pca_no_mc.explained_variance_ratio_[1]*100),fontsize=10)\n",
    "plt.legend(bbox_to_anchor=(1,0.5),loc='center left',fontsize=9,ncol=1, markerscale=1.4, columnspacing=0.1, handletextpad=.01,\n",
    "          frameon=False, labelspacing=0.11)\n",
    "plt.savefig(os.path.join(FIG_PATH, 'pca_components_study_no_minicoli.svg'), dpi = 600, bbox_inches = 'tight')\n",
    "plt.savefig(os.path.join(FIG_PATH, 'pca_components_study_no_minicoli.png'), dpi = 600, bbox_inches = 'tight')"
   ]
  },
  {
   "cell_type": "code",
   "execution_count": 35,
   "id": "8b64c119-224b-495c-ad4b-a9b6cf82445b",
   "metadata": {},
   "outputs": [
    {
     "data": {
      "image/png": "[encoded data removed]",
      "text/plain": [
       "<Figure size 144x144 with 1 Axes>"
      ]
     },
     "metadata": {
      "needs_background": "light"
     },
     "output_type": "display_data"
    }
   ],
   "source": [
    "NUM_COLORS = len(p1k_sample_table_no_mc.groupby('creator')) \n",
    "cm = pylab.get_cmap('gist_rainbow')\n",
    "colors = ['#B4B4BB']+[cm(1.*i/(NUM_COLORS-1)) for i in range(0,NUM_COLORS-1)]\n",
    "plt.rc('xtick', labelsize=10)    # fontsize of the tick labels\n",
    "plt.rc('ytick', labelsize=10)    # fontsize of the tick labels\n",
    "\n",
    "fig,ax = plt.subplots(figsize=(2,2))\n",
    "\n",
    "for s in ax.spines.values():\n",
    "    s.set_color('black')\n",
    "    s.set_linewidth(1.5)\n",
    "\n",
    "for i, (creator,creator_group) in enumerate(p1k_sample_table_no_mc.groupby('creator')):\n",
    "    idx = log_tpm_no_mc.loc[:,creator_group.index.tolist()].columns.tolist()\n",
    "    ax.scatter(DF_weights_no_mc.loc[idx,0],\n",
    "               DF_weights_no_mc.loc[idx,1],\n",
    "               label=name,alpha=0.85, color=colors[i],s=16, linewidths =.4, edgecolors='#1C2021')\n",
    "ax.set_xlabel('PC1: %.1f%%'%(pca_no_mc.explained_variance_ratio_[0]*100),fontsize=10)\n",
    "ax.set_ylabel('PC2: %.1f%%'%(pca_no_mc.explained_variance_ratio_[1]*100),fontsize=10)\n",
    "plt.savefig(os.path.join(FIG_PATH, 'pca_components_creator_no_minicoli.svg'), dpi = 600, bbox_inches = 'tight')\n",
    "plt.savefig(os.path.join(FIG_PATH, 'pca_components_creator_no_minicoli.png'), dpi = 600, bbox_inches = 'tight')"
   ]
  },
  {
   "cell_type": "markdown",
   "id": "9e3519c7-3f76-4ad7-ae51-c1c7e3c5830e",
   "metadata": {},
   "source": [
    "# Gene Expression Breakdowns"
   ]
  },
  {
   "cell_type": "markdown",
   "id": "d166a2e1-fc88-43fe-9061-b18575932513",
   "metadata": {
    "tags": []
   },
   "source": [
    "## Load Gene Table"
   ]
  },
  {
   "cell_type": "code",
   "execution_count": 15,
   "id": "e8896dd2-4b83-4089-8731-04e2f3bd4db8",
   "metadata": {},
   "outputs": [],
   "source": [
    "gene_table = pd.read_csv(os.path.join(ANNOTATION_PATH, 'gene_info.csv'), index_col=0)"
   ]
  },
  {
   "cell_type": "markdown",
   "id": "a6b40b7e-1943-4b38-82d4-9a1f572c8f14",
   "metadata": {
    "tags": []
   },
   "source": [
    "### Add in_iM Column\n",
    "\n",
    "Only to be run once"
   ]
  },
  {
   "cell_type": "code",
   "execution_count": 21,
   "id": "d78efcb0-3a0a-4bd2-a774-bff3affae8e5",
   "metadata": {},
   "outputs": [],
   "source": [
    "genes_in_im = []\n",
    "for im in p1k.imodulon_names:\n",
    "    genes_in_im.extend(list(p1k.view_imodulon(im).index))\n",
    "genes_in_im = list(set(genes_in_im))\n",
    "\n",
    "gene_table = gene_table.assign(\n",
    "    in_iM=gene_table.apply(lambda row: row.name in genes_in_im, axis=1)\n",
    ")"
   ]
  },
  {
   "cell_type": "code",
   "execution_count": 22,
   "id": "836041d8-1aef-42c4-9d54-42d2e6cd8cb3",
   "metadata": {},
   "outputs": [],
   "source": [
    "gene_table.to_csv(os.path.join(ANNOTATION_PATH, 'gene_info.csv'))"
   ]
  },
  {
   "cell_type": "code",
   "execution_count": 23,
   "id": "909d4f75-eecb-4c0b-9141-cca55890207f",
   "metadata": {},
   "outputs": [],
   "source": [
    "p1k.gene_table = gene_table"
   ]
  },
  {
   "cell_type": "code",
   "execution_count": 24,
   "id": "d680c8d0-c466-47fa-a0d8-6db6717b8c58",
   "metadata": {},
   "outputs": [],
   "source": [
    "save_to_json(p1k, os.path.join(P1K_PATH, 'precise1k'), compress=True)"
   ]
  },
  {
   "cell_type": "markdown",
   "id": "f4bf6bb5-6dbe-4f91-a1f2-4d00a2d89525",
   "metadata": {},
   "source": [
    "### Select Only Final P1K Genes"
   ]
  },
  {
   "cell_type": "code",
   "execution_count": 16,
   "id": "d724188e-99a6-40a0-ba73-d39a76422431",
   "metadata": {},
   "outputs": [
    {
     "data": {
      "text/html": [
       "<div>\n",
       "<style scoped>\n",
       "    .dataframe tbody tr th:only-of-type {\n",
       "        vertical-align: middle;\n",
       "    }\n",
       "\n",
       "    .dataframe tbody tr th {\n",
       "        vertical-align: top;\n",
       "    }\n",
       "\n",
       "    .dataframe thead th {\n",
       "        text-align: right;\n",
       "    }\n",
       "</style>\n",
       "<table border=\"1\" class=\"dataframe\">\n",
       "  <thead>\n",
       "    <tr style=\"text-align: right;\">\n",
       "      <th></th>\n",
       "      <th>gene_name</th>\n",
       "      <th>synonyms</th>\n",
       "      <th>gene_product</th>\n",
       "      <th>COG</th>\n",
       "      <th>regulator</th>\n",
       "      <th>uniprot</th>\n",
       "      <th>start</th>\n",
       "      <th>end</th>\n",
       "      <th>strand</th>\n",
       "      <th>essential</th>\n",
       "      <th>...</th>\n",
       "      <th>y_ome</th>\n",
       "      <th>k_eff</th>\n",
       "      <th>schmidt_prot_med</th>\n",
       "      <th>heckmann_prot_med</th>\n",
       "      <th>proteomics</th>\n",
       "      <th>p1k</th>\n",
       "      <th>p1k_ctrl_log_tpm</th>\n",
       "      <th>p1k_median_log_tpm</th>\n",
       "      <th>p1k_mad_log_tpm</th>\n",
       "      <th>in_iM</th>\n",
       "    </tr>\n",
       "    <tr>\n",
       "      <th>locus_tag</th>\n",
       "      <th></th>\n",
       "      <th></th>\n",
       "      <th></th>\n",
       "      <th></th>\n",
       "      <th></th>\n",
       "      <th></th>\n",
       "      <th></th>\n",
       "      <th></th>\n",
       "      <th></th>\n",
       "      <th></th>\n",
       "      <th></th>\n",
       "      <th></th>\n",
       "      <th></th>\n",
       "      <th></th>\n",
       "      <th></th>\n",
       "      <th></th>\n",
       "      <th></th>\n",
       "      <th></th>\n",
       "      <th></th>\n",
       "      <th></th>\n",
       "      <th></th>\n",
       "    </tr>\n",
       "  </thead>\n",
       "  <tbody>\n",
       "    <tr>\n",
       "      <th>b0002</th>\n",
       "      <td>thrA</td>\n",
       "      <td>thrA;thrA1;thrA2</td>\n",
       "      <td>fused aspartate kinase/homoserine dehydrogenase 1</td>\n",
       "      <td>Amino acid transport and metabolism</td>\n",
       "      <td>RpoD,Ile-tRNA,Thr-tRNA,DksA,Fnr,ArcA,ppGpp</td>\n",
       "      <td>P00561</td>\n",
       "      <td>337</td>\n",
       "      <td>2799</td>\n",
       "      <td>+</td>\n",
       "      <td>False</td>\n",
       "      <td>...</td>\n",
       "      <td>False</td>\n",
       "      <td>True</td>\n",
       "      <td>4101.5</td>\n",
       "      <td>4434.0</td>\n",
       "      <td>True</td>\n",
       "      <td>True</td>\n",
       "      <td>10.314562</td>\n",
       "      <td>9.605329</td>\n",
       "      <td>1.042143</td>\n",
       "      <td>True</td>\n",
       "    </tr>\n",
       "    <tr>\n",
       "      <th>b0003</th>\n",
       "      <td>thrB</td>\n",
       "      <td>thrB</td>\n",
       "      <td>homoserine kinase</td>\n",
       "      <td>Nucleotide transport and metabolism</td>\n",
       "      <td>RpoD,Ile-tRNA,Thr-tRNA,DksA,ppGpp</td>\n",
       "      <td>P00547</td>\n",
       "      <td>2801</td>\n",
       "      <td>3733</td>\n",
       "      <td>+</td>\n",
       "      <td>False</td>\n",
       "      <td>...</td>\n",
       "      <td>False</td>\n",
       "      <td>True</td>\n",
       "      <td>442.0</td>\n",
       "      <td>1177.0</td>\n",
       "      <td>True</td>\n",
       "      <td>True</td>\n",
       "      <td>9.982251</td>\n",
       "      <td>9.232803</td>\n",
       "      <td>1.035654</td>\n",
       "      <td>True</td>\n",
       "    </tr>\n",
       "    <tr>\n",
       "      <th>b0004</th>\n",
       "      <td>thrC</td>\n",
       "      <td>thrC</td>\n",
       "      <td>threonine synthase</td>\n",
       "      <td>Amino acid transport and metabolism</td>\n",
       "      <td>RpoD,ppGpp,Ile-tRNA,Thr-tRNA,DksA</td>\n",
       "      <td>P00934</td>\n",
       "      <td>3734</td>\n",
       "      <td>5020</td>\n",
       "      <td>+</td>\n",
       "      <td>False</td>\n",
       "      <td>...</td>\n",
       "      <td>False</td>\n",
       "      <td>True</td>\n",
       "      <td>8818.5</td>\n",
       "      <td>3516.0</td>\n",
       "      <td>True</td>\n",
       "      <td>True</td>\n",
       "      <td>9.973666</td>\n",
       "      <td>9.274271</td>\n",
       "      <td>0.906287</td>\n",
       "      <td>True</td>\n",
       "    </tr>\n",
       "    <tr>\n",
       "      <th>b0005</th>\n",
       "      <td>yaaX</td>\n",
       "      <td>yaaX</td>\n",
       "      <td>DUF2502 domain-containing protein YaaX</td>\n",
       "      <td>Function unknown</td>\n",
       "      <td>Lrp</td>\n",
       "      <td>P75616</td>\n",
       "      <td>5234</td>\n",
       "      <td>5530</td>\n",
       "      <td>+</td>\n",
       "      <td>False</td>\n",
       "      <td>...</td>\n",
       "      <td>True</td>\n",
       "      <td>False</td>\n",
       "      <td>NaN</td>\n",
       "      <td>NaN</td>\n",
       "      <td>False</td>\n",
       "      <td>True</td>\n",
       "      <td>7.132482</td>\n",
       "      <td>6.283661</td>\n",
       "      <td>1.093146</td>\n",
       "      <td>True</td>\n",
       "    </tr>\n",
       "    <tr>\n",
       "      <th>b0006</th>\n",
       "      <td>yaaA</td>\n",
       "      <td>yaaA</td>\n",
       "      <td>peroxide stress resistance protein YaaA</td>\n",
       "      <td>Function unknown</td>\n",
       "      <td>NaN</td>\n",
       "      <td>P0A8I3</td>\n",
       "      <td>5683</td>\n",
       "      <td>6459</td>\n",
       "      <td>-</td>\n",
       "      <td>False</td>\n",
       "      <td>...</td>\n",
       "      <td>True</td>\n",
       "      <td>True</td>\n",
       "      <td>539.5</td>\n",
       "      <td>333.0</td>\n",
       "      <td>True</td>\n",
       "      <td>True</td>\n",
       "      <td>6.494941</td>\n",
       "      <td>6.346626</td>\n",
       "      <td>0.454519</td>\n",
       "      <td>True</td>\n",
       "    </tr>\n",
       "  </tbody>\n",
       "</table>\n",
       "<p>5 rows × 26 columns</p>\n",
       "</div>"
      ],
      "text/plain": [
       "          gene_name          synonyms  \\\n",
       "locus_tag                               \n",
       "b0002          thrA  thrA;thrA1;thrA2   \n",
       "b0003          thrB              thrB   \n",
       "b0004          thrC              thrC   \n",
       "b0005          yaaX              yaaX   \n",
       "b0006          yaaA              yaaA   \n",
       "\n",
       "                                                gene_product  \\\n",
       "locus_tag                                                      \n",
       "b0002      fused aspartate kinase/homoserine dehydrogenase 1   \n",
       "b0003                                      homoserine kinase   \n",
       "b0004                                     threonine synthase   \n",
       "b0005                 DUF2502 domain-containing protein YaaX   \n",
       "b0006                peroxide stress resistance protein YaaA   \n",
       "\n",
       "                                           COG  \\\n",
       "locus_tag                                        \n",
       "b0002      Amino acid transport and metabolism   \n",
       "b0003      Nucleotide transport and metabolism   \n",
       "b0004      Amino acid transport and metabolism   \n",
       "b0005                         Function unknown   \n",
       "b0006                         Function unknown   \n",
       "\n",
       "                                            regulator uniprot  start   end  \\\n",
       "locus_tag                                                                    \n",
       "b0002      RpoD,Ile-tRNA,Thr-tRNA,DksA,Fnr,ArcA,ppGpp  P00561    337  2799   \n",
       "b0003               RpoD,Ile-tRNA,Thr-tRNA,DksA,ppGpp  P00547   2801  3733   \n",
       "b0004               RpoD,ppGpp,Ile-tRNA,Thr-tRNA,DksA  P00934   3734  5020   \n",
       "b0005                                             Lrp  P75616   5234  5530   \n",
       "b0006                                             NaN  P0A8I3   5683  6459   \n",
       "\n",
       "          strand  essential  ...  y_ome  k_eff  schmidt_prot_med  \\\n",
       "locus_tag                    ...                                   \n",
       "b0002          +      False  ...  False   True            4101.5   \n",
       "b0003          +      False  ...  False   True             442.0   \n",
       "b0004          +      False  ...  False   True            8818.5   \n",
       "b0005          +      False  ...   True  False               NaN   \n",
       "b0006          -      False  ...   True   True             539.5   \n",
       "\n",
       "           heckmann_prot_med  proteomics   p1k  p1k_ctrl_log_tpm  \\\n",
       "locus_tag                                                          \n",
       "b0002                 4434.0        True  True         10.314562   \n",
       "b0003                 1177.0        True  True          9.982251   \n",
       "b0004                 3516.0        True  True          9.973666   \n",
       "b0005                    NaN       False  True          7.132482   \n",
       "b0006                  333.0        True  True          6.494941   \n",
       "\n",
       "           p1k_median_log_tpm  p1k_mad_log_tpm  in_iM  \n",
       "locus_tag                                              \n",
       "b0002                9.605329         1.042143   True  \n",
       "b0003                9.232803         1.035654   True  \n",
       "b0004                9.274271         0.906287   True  \n",
       "b0005                6.283661         1.093146   True  \n",
       "b0006                6.346626         0.454519   True  \n",
       "\n",
       "[5 rows x 26 columns]"
      ]
     },
     "execution_count": 16,
     "metadata": {},
     "output_type": "execute_result"
    }
   ],
   "source": [
    "gene_table_p1k = gene_table[gene_table['p1k']]\n",
    "gene_table_p1k.head()"
   ]
  },
  {
   "cell_type": "markdown",
   "id": "71a76be7-a46f-4bb2-a3e6-6ec2b80d094f",
   "metadata": {},
   "source": [
    "## Statistical Comparisons\n",
    "\n",
    "Running Mann-Whitney U tests for the medians of categories plotted below"
   ]
  },
  {
   "cell_type": "code",
   "execution_count": 17,
   "id": "99e418da-6251-4208-b1a0-8a9a5a384f51",
   "metadata": {},
   "outputs": [
    {
     "data": {
      "text/html": [
       "<div>\n",
       "<style scoped>\n",
       "    .dataframe tbody tr th:only-of-type {\n",
       "        vertical-align: middle;\n",
       "    }\n",
       "\n",
       "    .dataframe tbody tr th {\n",
       "        vertical-align: top;\n",
       "    }\n",
       "\n",
       "    .dataframe thead th {\n",
       "        text-align: right;\n",
       "    }\n",
       "</style>\n",
       "<table border=\"1\" class=\"dataframe\">\n",
       "  <thead>\n",
       "    <tr style=\"text-align: right;\">\n",
       "      <th></th>\n",
       "      <th>n_yes</th>\n",
       "      <th>n_no</th>\n",
       "      <th>U</th>\n",
       "      <th>P</th>\n",
       "      <th>U_mad</th>\n",
       "      <th>P_mad</th>\n",
       "    </tr>\n",
       "  </thead>\n",
       "  <tbody>\n",
       "    <tr>\n",
       "      <th>in_iM</th>\n",
       "      <td>2485.0</td>\n",
       "      <td>1772.0</td>\n",
       "      <td>2159090.0</td>\n",
       "      <td>2.809425e-01</td>\n",
       "      <td>3452234.5</td>\n",
       "      <td>1.172779e-219</td>\n",
       "    </tr>\n",
       "    <tr>\n",
       "      <th>iML1515</th>\n",
       "      <td>1511.0</td>\n",
       "      <td>2746.0</td>\n",
       "      <td>2400953.5</td>\n",
       "      <td>1.811482e-17</td>\n",
       "      <td>2239728.0</td>\n",
       "      <td>1.681583e-05</td>\n",
       "    </tr>\n",
       "    <tr>\n",
       "      <th>y_ome</th>\n",
       "      <td>1473.0</td>\n",
       "      <td>2784.0</td>\n",
       "      <td>1348073.0</td>\n",
       "      <td>1.052786e-75</td>\n",
       "      <td>2186367.5</td>\n",
       "      <td>3.652856e-04</td>\n",
       "    </tr>\n",
       "    <tr>\n",
       "      <th>proteomics</th>\n",
       "      <td>2031.0</td>\n",
       "      <td>2226.0</td>\n",
       "      <td>4010646.0</td>\n",
       "      <td>0.000000e+00</td>\n",
       "      <td>2237998.0</td>\n",
       "      <td>5.742013e-01</td>\n",
       "    </tr>\n",
       "    <tr>\n",
       "      <th>core_genome</th>\n",
       "      <td>356.0</td>\n",
       "      <td>3901.0</td>\n",
       "      <td>1178166.0</td>\n",
       "      <td>2.666801e-105</td>\n",
       "      <td>516214.0</td>\n",
       "      <td>1.007869e-15</td>\n",
       "    </tr>\n",
       "  </tbody>\n",
       "</table>\n",
       "</div>"
      ],
      "text/plain": [
       "              n_yes    n_no          U              P      U_mad  \\\n",
       "in_iM        2485.0  1772.0  2159090.0   2.809425e-01  3452234.5   \n",
       "iML1515      1511.0  2746.0  2400953.5   1.811482e-17  2239728.0   \n",
       "y_ome        1473.0  2784.0  1348073.0   1.052786e-75  2186367.5   \n",
       "proteomics   2031.0  2226.0  4010646.0   0.000000e+00  2237998.0   \n",
       "core_genome   356.0  3901.0  1178166.0  2.666801e-105   516214.0   \n",
       "\n",
       "                     P_mad  \n",
       "in_iM        1.172779e-219  \n",
       "iML1515       1.681583e-05  \n",
       "y_ome         3.652856e-04  \n",
       "proteomics    5.742013e-01  \n",
       "core_genome   1.007869e-15  "
      ]
     },
     "execution_count": 17,
     "metadata": {},
     "output_type": "execute_result"
    }
   ],
   "source": [
    "cols = ['in_iM', 'iML1515', 'y_ome', 'proteomics', 'core_genome']\n",
    "\n",
    "stats_df = pd.DataFrame(columns=['n_yes', 'n_no', 'U', 'P', 'U_mad', 'P_mad'])\n",
    "\n",
    "for col in cols:\n",
    "    yes_log_tpm_meds = gene_table_p1k[gene_table_p1k[col]]['p1k_median_log_tpm'].values\n",
    "    no_log_tpm_meds = gene_table_p1k[~gene_table_p1k[col]]['p1k_median_log_tpm'].values\n",
    "    n_yes = len(yes_log_tpm_meds)\n",
    "    n_no = len(no_log_tpm_meds)\n",
    "    U, p = mannwhitneyu(yes_log_tpm_meds, no_log_tpm_meds)\n",
    "    yes_log_tpm_mads = gene_table_p1k[gene_table_p1k[col]]['p1k_mad_log_tpm'].values\n",
    "    no_log_tpm_mads = gene_table_p1k[~gene_table_p1k[col]]['p1k_mad_log_tpm'].values\n",
    "    U_mad, p_mad = mannwhitneyu(yes_log_tpm_mads, no_log_tpm_mads)\n",
    "    stats_df.loc[col] = [n_yes, n_no, U, p, U_mad, p_mad]\n",
    "    \n",
    "stats_df"
   ]
  },
  {
   "cell_type": "markdown",
   "id": "a79c4355-98c2-4064-a4e3-ad4f9739b5fc",
   "metadata": {},
   "source": [
    "## Function: plot_expression_by_boolean_category"
   ]
  },
  {
   "cell_type": "code",
   "execution_count": 18,
   "id": "19665f8d-430a-4a6d-afad-783f703cc0ed",
   "metadata": {},
   "outputs": [],
   "source": [
    "sns.set_style('whitegrid')\n",
    "\n",
    "def plot_jointgrid(genes, color, title, filename):\n",
    "    g = sns.JointGrid(data=gene_table_p1k.loc[genes], x='p1k_median_log_tpm',y='p1k_mad_log_tpm',\n",
    "                      xlim=(0, 15), ylim=(0, 4),\n",
    "                      height=1.75, marginal_ticks=False)\n",
    "    g.plot_joint(sns.histplot, color=color, bins=25)\n",
    "    g.plot_marginals(sns.boxplot, color=color, fliersize=0.5, linewidth=0.5)\n",
    "\n",
    "    g.ax_joint.set_xlabel('Median log[TPM]', fontsize=8)\n",
    "    g.ax_joint.set_ylabel('MAD log[TPM]', fontsize=8)\n",
    "    g.ax_joint.set_xticks(np.arange(0, 20, 5))\n",
    "    for s in g.ax_joint.spines.values():\n",
    "        s.set_visible(True)\n",
    "        s.set_color('k')\n",
    "        s.set_linewidth(0.9)\n",
    "        \n",
    "    g.ax_marg_x.set_title(f'{title} (n={len(genes)})', fontsize=10)\n",
    "\n",
    "    for s in (list(g.ax_marg_x.spines.values()) + list(g.ax_marg_y.spines.values())):\n",
    "        s.set_visible(False)\n",
    "        \n",
    "    plt.savefig(os.path.join(FIG_PATH, f'{filename}.png'), bbox_inches='tight', dpi=400)\n",
    "    plt.savefig(os.path.join(FIG_PATH, f'{filename}.svg'), bbox_inches='tight', dpi=400)\n",
    "\n",
    "def plot_expression_by_boolean_category(bool_col, filename_prefix, title_base, title_negate='not'):\n",
    "    \n",
    "    # get the yes/no genes from the category column\n",
    "    yes_genes = gene_table_p1k[gene_table_p1k[bool_col]].index\n",
    "    no_genes = gene_table_p1k[~gene_table_p1k[bool_col]].index\n",
    "    \n",
    "    plot_jointgrid(yes_genes, 'steelblue', title_base, f'{filename_prefix}_yes')\n",
    "    plot_jointgrid(no_genes, 'firebrick', f'{title_negate} {title_base}', f'{filename_prefix}_no')"
   ]
  },
  {
   "cell_type": "markdown",
   "id": "294094f1-a0d1-4c74-aa38-8e50e675b92c",
   "metadata": {},
   "source": [
    "## iModulon Membership"
   ]
  },
  {
   "cell_type": "code",
   "execution_count": 19,
   "id": "a9bc541b-a143-4b8c-aed8-80a8331df249",
   "metadata": {},
   "outputs": [
    {
     "data": {
      "image/png": "[encoded data removed]",
      "text/plain": [
       "<Figure size 126x126 with 3 Axes>"
      ]
     },
     "metadata": {},
     "output_type": "display_data"
    },
    {
     "data": {
      "image/png": "[encoded data removed]",
      "text/plain": [
       "<Figure size 126x126 with 3 Axes>"
      ]
     },
     "metadata": {},
     "output_type": "display_data"
    }
   ],
   "source": [
    "plot_expression_by_boolean_category('in_iM', 'im_membership', 'in iMod')"
   ]
  },
  {
   "cell_type": "markdown",
   "id": "d761876b-622e-4d6c-b9e4-682f75966f41",
   "metadata": {},
   "source": [
    "## iML1515"
   ]
  },
  {
   "cell_type": "code",
   "execution_count": 20,
   "id": "f8c78cc1-765a-4569-9be0-f32ae2f40e01",
   "metadata": {},
   "outputs": [
    {
     "data": {
      "image/png": "[encoded data removed]",
      "text/plain": [
       "<Figure size 126x126 with 3 Axes>"
      ]
     },
     "metadata": {},
     "output_type": "display_data"
    },
    {
     "data": {
      "image/png": "[encoded data removed]",
      "text/plain": [
       "<Figure size 126x126 with 3 Axes>"
      ]
     },
     "metadata": {},
     "output_type": "display_data"
    }
   ],
   "source": [
    "plot_expression_by_boolean_category('iML1515', 'iML1515', 'in iML1515')"
   ]
  },
  {
   "cell_type": "markdown",
   "id": "9de4a78a-a193-42ad-a1f3-910b60166546",
   "metadata": {},
   "source": [
    "## y-ome"
   ]
  },
  {
   "cell_type": "code",
   "execution_count": 21,
   "id": "16e42d09-3c2b-4ce4-8b18-fbb04efc006c",
   "metadata": {},
   "outputs": [
    {
     "data": {
      "image/png": "[encoded data removed]",
      "text/plain": [
       "<Figure size 126x126 with 3 Axes>"
      ]
     },
     "metadata": {},
     "output_type": "display_data"
    },
    {
     "data": {
      "image/png": "[encoded data removed]",
      "text/plain": [
       "<Figure size 126x126 with 3 Axes>"
      ]
     },
     "metadata": {},
     "output_type": "display_data"
    }
   ],
   "source": [
    "plot_expression_by_boolean_category('y_ome', 'y_ome', 'in y-ome')"
   ]
  },
  {
   "cell_type": "markdown",
   "id": "ee9a88dc-e8a7-45f9-b1fa-21a9af97f326",
   "metadata": {},
   "source": [
    "### y-ome Fraction in iModulon"
   ]
  },
  {
   "cell_type": "code",
   "execution_count": 22,
   "id": "9eb3e1b8-c3ff-4954-9326-600846a6f1f9",
   "metadata": {},
   "outputs": [
    {
     "name": "stdout",
     "output_type": "stream",
     "text": [
      "823/1473 (55.9)% of y-ome in at least 1 iModulon\n"
     ]
    }
   ],
   "source": [
    "n_im_yome = gene_table_p1k[gene_table_p1k['in_iM'] & gene_table_p1k['y_ome']].shape[0]\n",
    "n_yome = gene_table_p1k[gene_table_p1k['y_ome']].shape[0]\n",
    "print(f'{n_im_yome}/{n_yome} ({n_im_yome/n_yome*100:.1f})% of y-ome in at least 1 iModulon')"
   ]
  },
  {
   "cell_type": "markdown",
   "id": "8207c767-00e3-45f5-bc0d-d180605b1581",
   "metadata": {},
   "source": [
    "## Proteomics"
   ]
  },
  {
   "cell_type": "code",
   "execution_count": 23,
   "id": "78e632d5-2039-45c2-a398-0b36eabac48d",
   "metadata": {},
   "outputs": [
    {
     "data": {
      "image/png": "[encoded data removed]",
      "text/plain": [
       "<Figure size 126x126 with 3 Axes>"
      ]
     },
     "metadata": {},
     "output_type": "display_data"
    },
    {
     "data": {
      "image/png": "[encoded data removed]",
      "text/plain": [
       "<Figure size 126x126 with 3 Axes>"
      ]
     },
     "metadata": {},
     "output_type": "display_data"
    }
   ],
   "source": [
    "plot_expression_by_boolean_category('proteomics', 'proteomics', 'proteomics', title_negate='no')"
   ]
  },
  {
   "cell_type": "markdown",
   "id": "fd1740c6-0a76-4f9d-a9cf-1bcb6bcccf36",
   "metadata": {},
   "source": [
    "## Core Genome"
   ]
  },
  {
   "cell_type": "code",
   "execution_count": 24,
   "id": "4c88dee9-6128-4ffd-993f-be96561aac93",
   "metadata": {},
   "outputs": [
    {
     "data": {
      "image/png": "[encoded data removed]",
      "text/plain": [
       "<Figure size 126x126 with 3 Axes>"
      ]
     },
     "metadata": {},
     "output_type": "display_data"
    },
    {
     "data": {
      "image/png": "[encoded data removed]",
      "text/plain": [
       "<Figure size 126x126 with 3 Axes>"
      ]
     },
     "metadata": {},
     "output_type": "display_data"
    }
   ],
   "source": [
    "plot_expression_by_boolean_category('core_genome', 'core_genome', 'in core')"
   ]
  },
  {
   "cell_type": "markdown",
   "id": "c80bad48-bd18-4af3-92aa-45b1098b0335",
   "metadata": {
    "tags": []
   },
   "source": [
    "### by COG category"
   ]
  },
  {
   "cell_type": "code",
   "execution_count": 25,
   "id": "2f9b5e63-a805-4b09-87a1-e8014d4b50b0",
   "metadata": {},
   "outputs": [
    {
     "data": {
      "text/plain": [
       "Function unknown                                                    834\n",
       "Transcription                                                       377\n",
       "Amino acid transport and metabolism                                 311\n",
       "Inorganic ion transport and metabolism                              305\n",
       "Energy production and conversion                                    291\n",
       "Cell wall/membrane/envelope biogenesis                              269\n",
       "Translation, ribosomal structure and biogenesis                     244\n",
       "Nucleotide transport and metabolism                                 242\n",
       "Carbohydrate transport and metabolism                               239\n",
       "Replication, recombination and repair                               228\n",
       "No COG annotation                                                   160\n",
       "Post-translational modification, protein turnover,and chaperones    123\n",
       "Coenzyme transport and metabolism                                   122\n",
       "Cell motility                                                       113\n",
       "Lipid transport and metabolism                                      102\n",
       "Signal transduction mechanisms                                       92\n",
       "Intracellular trafficking, secretion, and vesicular transport        73\n",
       "Cell cycle control, cell division, chromosome partitioning           55\n",
       "Defense mechanisms                                                   37\n",
       "Secondary metabolites biosynthesis, transport, and catabolism        36\n",
       "RNA processing and modification                                       4\n",
       "Name: COG, dtype: int64"
      ]
     },
     "execution_count": 25,
     "metadata": {},
     "output_type": "execute_result"
    }
   ],
   "source": [
    "gene_table_p1k['COG'].value_counts()"
   ]
  },
  {
   "cell_type": "code",
   "execution_count": 26,
   "id": "86dee8da-36c5-4b09-948f-5889b774c1b9",
   "metadata": {},
   "outputs": [
    {
     "data": {
      "text/plain": [
       "Translation, ribosomal structure and biogenesis                     152\n",
       "Nucleotide transport and metabolism                                  41\n",
       "Amino acid transport and metabolism                                  36\n",
       "Coenzyme transport and metabolism                                    29\n",
       "Lipid transport and metabolism                                       26\n",
       "Energy production and conversion                                     18\n",
       "Cell wall/membrane/envelope biogenesis                               16\n",
       "Transcription                                                        14\n",
       "Function unknown                                                      6\n",
       "Post-translational modification, protein turnover,and chaperones      5\n",
       "Inorganic ion transport and metabolism                                4\n",
       "Carbohydrate transport and metabolism                                 2\n",
       "Cell cycle control, cell division, chromosome partitioning            2\n",
       "Intracellular trafficking, secretion, and vesicular transport         1\n",
       "Secondary metabolites biosynthesis, transport, and catabolism         1\n",
       "Replication, recombination and repair                                 1\n",
       "Defense mechanisms                                                    1\n",
       "RNA processing and modification                                       1\n",
       "Name: COG, dtype: int64"
      ]
     },
     "execution_count": 26,
     "metadata": {},
     "output_type": "execute_result"
    }
   ],
   "source": [
    "gene_table_p1k[gene_table_p1k['core_genome']]['COG'].value_counts()"
   ]
  },
  {
   "cell_type": "markdown",
   "id": "5cfca746-792c-47d6-8269-43f64c59dc2f",
   "metadata": {},
   "source": [
    "## COG"
   ]
  },
  {
   "cell_type": "code",
   "execution_count": 37,
   "id": "60594080-414c-4d3c-bf67-ea23237b62be",
   "metadata": {},
   "outputs": [],
   "source": [
    "cog_short_lookup = {\n",
    "    'Translation, ribosomal structure and biogenesis': 'Translation',\n",
    "    'Cell cycle control, cell division, chromosome partitioning': 'Cell cycle',\n",
    "    'Nucleotide transport and metabolism': 'Nucleotide metabolism',\n",
    "    'Post-translational modification, protein turnover,and chaperones': 'Post-translational modification',\n",
    "    'Coenzyme transport and metabolism': 'Coenzyme metabolism',\n",
    "    'Cell wall/membrane/envelope biogenesis': 'Cell wall/membrane/envelope biogenesis',\n",
    "    'Amino acid transport and metabolism': 'Amino acid metabolism',\n",
    "    'Secondary metabolites biosynthesis, transport, and catabolism': 'Secondary metabolites',\n",
    "    'Transcription': 'Transcription',\n",
    "    'Function unknown': 'Unknown',\n",
    "    'Replication, recombination and repair': 'Replication, recombination, and repair',\n",
    "    'RNA processing and modification': 'RNA processing',\n",
    "    'Lipid transport and metabolism': 'Lipid metabolism',\n",
    "    'Signal transduction mechanisms': 'Signal transduction',\n",
    "    'Defense mechanisms': 'Defense mechanisms',\n",
    "    'Intracellular trafficking, secretion, and vesicular transport': 'Intracellular trafficking and secretion',\n",
    "    'Inorganic ion transport and metabolism': 'Inorganic ion metabolism',\n",
    "    'Energy production and conversion': 'Energy production',\n",
    "    'Carbohydrate transport and metabolism': 'Carbohydrate metabolism',\n",
    "    'No COG annotation': 'No COG annotation',\n",
    "    'Cell motility': 'Cell motility'\n",
    "}"
   ]
  },
  {
   "cell_type": "code",
   "execution_count": 40,
   "id": "d381b7a9-1329-439d-be98-fb7012dd71de",
   "metadata": {},
   "outputs": [
    {
     "data": {
      "image/png": "[encoded data removed]",
      "text/plain": [
       "<Figure size 144x288 with 1 Axes>"
      ]
     },
     "metadata": {},
     "output_type": "display_data"
    }
   ],
   "source": [
    "sns.set_style('whitegrid')\n",
    "_, ax = plt.subplots(figsize=(2, 4))\n",
    "sns.boxplot(y='COG', x='p1k_median_log_tpm', data=gene_table_p1k,\n",
    "            order=gene_table_p1k.groupby('COG').median().sort_values('p1k_median_log_tpm', ascending=False).index,\n",
    "            orient='h', showfliers=False,\n",
    "           ax=ax)\n",
    "\n",
    "ax.set_xlabel('Median log[TPM]', fontsize=11)\n",
    "ax.set_ylabel('')\n",
    "ax.set_xlim(0, ax.get_xlim()[1])\n",
    "old_labs = [t.get_text() for t in ax.get_yticklabels()]\n",
    "new_labs = [\n",
    "    f\"{cog_short_lookup[cog]} (n={gene_table_p1k[gene_table_p1k['COG'] == cog].shape[0]})\"\n",
    "    for cog in old_labs\n",
    "]\n",
    "ax.set_yticklabels(new_labs)\n",
    "ax.tick_params(axis='y', labelsize=12)\n",
    "\n",
    "for s in ax.spines.values():\n",
    "    s.set_linewidth(1)\n",
    "    s.set_color('k')\n",
    "    \n",
    "plt.savefig(os.path.join(FIG_PATH, 'by_cog.png'), bbox_inches='tight', dpi=400)\n",
    "plt.savefig(os.path.join(FIG_PATH, 'by_cog.svg'), bbox_inches='tight', dpi=400)"
   ]
  },
  {
   "cell_type": "code",
   "execution_count": null,
   "id": "6592c8e6-89f8-45e1-871b-80fb3ff63033",
   "metadata": {},
   "outputs": [],
   "source": []
  }
 ],
 "metadata": {
  "kernelspec": {
   "display_name": "Python 3 (ipykernel)",
   "language": "python",
   "name": "python3"
  },
  "language_info": {
   "codemirror_mode": {
    "name": "ipython",
    "version": 3
   },
   "file_extension": ".py",
   "mimetype": "text/x-python",
   "name": "python",
   "nbconvert_exporter": "python",
   "pygments_lexer": "ipython3",
   "version": "3.10.2"
  },
  "toc-showcode": false
 },
 "nbformat": 4,
 "nbformat_minor": 5
}
