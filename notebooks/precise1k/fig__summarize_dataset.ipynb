{
 "cells": [
  {
   "cell_type": "markdown",
   "id": "e795b034-f2c5-48df-9f46-6cb1efacfda4",
   "metadata": {},
   "source": [
    "# Import Packages"
   ]
  },
  {
   "cell_type": "code",
   "execution_count": 1,
   "id": "6eb5f9f6-c541-44c3-a03f-2e678b8c9b14",
   "metadata": {},
   "outputs": [],
   "source": [
    "# built-in\n",
    "from datetime import datetime, timedelta\n",
    "import os.path\n",
    "\n",
    "# third-party (pip install required)\n",
    "import matplotlib\n",
    "from matplotlib.cm import get_cmap\n",
    "from matplotlib.lines import Line2D\n",
    "import matplotlib.pyplot as plt\n",
    "import pandas as pd\n",
    "from pymodulon.io import load_json_model\n",
    "\n",
    "# set matplotlib params\n",
    "matplotlib.rcParams['pdf.fonttype'] = 42\n",
    "matplotlib.rcParams['ps.fonttype'] = 42\n",
    "matplotlib.rcParams['text.color'] = 'black'\n",
    "matplotlib.rcParams['axes.labelcolor'] = 'black'\n",
    "matplotlib.rcParams['xtick.color'] = 'black'\n",
    "matplotlib.rcParams['ytick.color'] = 'black'\n",
    "matplotlib.rcParams['font.sans-serif'] = \"Arial\"\n",
    "matplotlib.rcParams['font.family'] = \"sans-serif\""
   ]
  },
  {
   "cell_type": "markdown",
   "id": "5c697a8b-0d94-43ef-9cdf-4a5590f8bc0b",
   "metadata": {},
   "source": [
    "# Load Data"
   ]
  },
  {
   "cell_type": "code",
   "execution_count": 2,
   "id": "69024c73-93a6-4708-9aa8-d8db86cc0ebc",
   "metadata": {},
   "outputs": [],
   "source": [
    "PRECISE_PATH = '../../data/precise/'\n",
    "P1K_PATH = '../../data/precise1k/'\n",
    "FIG_PATH =  'summarize_dataset_figs'"
   ]
  },
  {
   "cell_type": "code",
   "execution_count": 30,
   "id": "1a581418-c780-403b-b900-b5425a2f762e",
   "metadata": {},
   "outputs": [],
   "source": [
    "precise1 = load_json_model(os.path.join(PRECISE_PATH, 'precise.json.gz'))\n",
    "p1k = load_json_model(os.path.join(P1K_PATH, 'precise1k.json.gz'))"
   ]
  },
  {
   "cell_type": "markdown",
   "id": "c7897101-084e-4c62-924f-9f79fafd6f45",
   "metadata": {},
   "source": [
    "# Dataset Growth"
   ]
  },
  {
   "cell_type": "code",
   "execution_count": 4,
   "id": "f93f010b-d8d2-4fd2-98ac-152097555c9c",
   "metadata": {},
   "outputs": [
    {
     "name": "stderr",
     "output_type": "stream",
     "text": [
      "/var/folders/q2/bdjskmzs1n9fbb14bmvhdz500000gn/T/ipykernel_21164/2621842418.py:39: FutureWarning: The frame.append method is deprecated and will be removed from pandas in a future version. Use pandas.concat instead.\n",
      "  all_df = all_df.append({\n"
     ]
    }
   ],
   "source": [
    "precise_metadata_sorted = precise1.sample_table.sort_values('run_date')\n",
    "p1k_metadata_sorted = p1k.sample_table.sort_values('run_date')\n",
    "\n",
    "order = pd.DataFrame(precise_metadata_sorted.study.unique(), columns = ['study'])\n",
    "counts = pd.DataFrame(precise_metadata_sorted.groupby(['study']).count()['condition'])\n",
    "new_1= order.merge(counts, on = 'study')\n",
    "\n",
    "order = pd.DataFrame(p1k_metadata_sorted.study.unique(), columns = ['study'])\n",
    "counts = pd.DataFrame(p1k_metadata_sorted.groupby(['study']).count()['condition'])\n",
    "new_2 = order.merge(counts, on = 'study')\n",
    "\n",
    "precise_metadata_sorted[\"Version\"] = \"PRECISE\"\n",
    "p1k_metadata_sorted[\"Version\"] = \"PRECISE-1000\"\n",
    "\n",
    "all_df = pd.concat([precise_metadata_sorted, p1k_metadata_sorted])\n",
    "all_df['run_date']= pd.to_datetime(all_df['run_date'])\n",
    "all_df = all_df.sort_values('run_date')\n",
    "all_df['Cumulative_Condition_Count'] = [i+1 for i in range(len(all_df))]\n",
    "\n",
    "p1_cum = []\n",
    "counter = 0\n",
    "for i in all_df.Version:\n",
    "    if i == 'PRECISE':\n",
    "        counter += 1\n",
    "    p1_cum.append(counter)\n",
    "    \n",
    "all_df[\"cumulative_P1\"] = p1_cum\n",
    "\n",
    "p1k_cum = []\n",
    "counter = 0\n",
    "for i in all_df.Version:\n",
    "    if i == 'PRECISE-1000':\n",
    "        counter += 1\n",
    "    p1k_cum.append(counter)\n",
    "    \n",
    "all_df[\"cumulative_P1K\"] = p1k_cum\n",
    "\n",
    "# add a dummy row to get to 2021\n",
    "all_df = all_df.append({\n",
    "    'run_date': datetime(2021,6,1), 'cumulative_P1K': all_df['cumulative_P1K'].max(), 'cumulative_P1': all_df['cumulative_P1'].max()\n",
    "}, ignore_index=True)"
   ]
  },
  {
   "cell_type": "code",
   "execution_count": 5,
   "id": "87e47f39-2fed-415d-b05b-64dd2fd54d8f",
   "metadata": {},
   "outputs": [
    {
     "data": {
      "image/png": "[encoded data removed]",
      "text/plain": [
       "<Figure size 144x144 with 1 Axes>"
      ]
     },
     "metadata": {
      "needs_background": "light"
     },
     "output_type": "display_data"
    }
   ],
   "source": [
    "fig, ax = plt.subplots(figsize = (2,2))\n",
    "ax.set_ylim(0,1060)\n",
    "ax.set_xlim(min(all_df.run_date), max(all_df.run_date))\n",
    "plt.fill_between(all_df.run_date, all_df.cumulative_P1K, color = 'darkmagenta', alpha=0.5,lw=2)\n",
    "plt.fill_between(all_df.run_date, all_df.cumulative_P1, color = 'deepskyblue', alpha=0.5, lw=2)\n",
    "ax.set_ylabel('# of Samples', fontsize=9)\n",
    "ax.set_yticks([250, 500, 750, 1000])\n",
    "markerline, stemlines, baseline = ax.stem(\n",
    "    [datetime(2017, 3, 1), datetime(2019, 12, 4), datetime(2021, 1, 8)], [400, 600, 800]\n",
    ")\n",
    "plt.setp(stemlines, 'linewidth', 0.5)\n",
    "plt.setp(markerline, 'markersize', 2)\n",
    "plt.setp(markerline, 'color', 'k')\n",
    "plt.setp(stemlines, 'color', 'k')\n",
    "ax.text(datetime(2017, 3, 1)-timedelta(50), 400, 'First iModulons\\nComputed', ha='right', fontsize=8)\n",
    "ax.text(datetime(2019, 12, 4)-timedelta(50), 600, 'PRECISE Published', ha='right', fontsize=8)\n",
    "ax.text(datetime(2021, 1, 8)-timedelta(50), 800, 'iModulonDB', ha='right', fontsize=8)\n",
    "custom_lines = [Line2D([0], [0], color='#619fe1', lw=4),\n",
    "                Line2D([0], [0], color='#b763b7', lw=4)]\n",
    "name = ['PRECISE', 'P1K']\n",
    "args = {'handles':custom_lines,'labels':name,'loc':2,'ncol':2,\n",
    "        'bbox_to_anchor':(0,1.2),'fontsize':8}\n",
    "ax.legend(**args,  columnspacing=1, handletextpad=.4,\n",
    "          frameon=False, labelspacing=0.11)\n",
    "\n",
    "ax.axhline(y=(1035), xmax=1, color ='#b763b7', linestyle = '--', linewidth = 1)\n",
    "ax.text(all_df.run_date.iloc[15],960,s=' 1035', fontsize =8, color ='#b763b7')\n",
    "ax.axhline(y=(278), color ='#619fe1', linestyle = '--', linewidth = 1)\n",
    "ax.text(all_df.run_date.iloc[15],300,s=' 278', fontsize =8, color ='#619fe1')\n",
    "\n",
    "for s in ax.spines.values():\n",
    "    s.set_color('black')\n",
    "    s.set_linewidth(1.5)\n",
    "\n",
    "ax.tick_params(axis='x', rotation=90, labelsize=8)\n",
    "plt.savefig(os.path.join(FIG_PATH, 'dataset_growth.svg'), dpi = 400, bbox_inches = 'tight')\n",
    "plt.savefig(os.path.join(FIG_PATH, 'dataset_growth.png'), dpi = 400, bbox_inches = 'tight')"
   ]
  },
  {
   "cell_type": "markdown",
   "id": "8269c406-81d7-4a1d-951d-628a777a3e19",
   "metadata": {},
   "source": [
    "# Condition Overview"
   ]
  },
  {
   "cell_type": "markdown",
   "id": "e326c2ff-239d-4c63-bf66-8efb7851646c",
   "metadata": {},
   "source": [
    "## Figure"
   ]
  },
  {
   "cell_type": "code",
   "execution_count": 60,
   "id": "6de7b2dd-0835-4982-82ac-0ee901414b79",
   "metadata": {},
   "outputs": [
    {
     "data": {
      "image/png": "[encoded data removed]",
      "text/plain": [
       "<Figure size 288x216 with 1 Axes>"
      ]
     },
     "metadata": {
      "needs_background": "light"
     },
     "output_type": "display_data"
    }
   ],
   "source": [
    "sample_table_for_plot = p1k.sample_table.copy()\n",
    "\n",
    "sample_table_for_plot['Carbon Source'] = sample_table_for_plot['Carbon Source (g/L)'].apply(\n",
    "    lambda cs: cs.split('(')[0] if pd.notna(cs) else None\n",
    ")\n",
    "sample_table_for_plot['Carbon Source'] = sample_table_for_plot['Carbon Source'].fillna('rich')\n",
    "sample_table_for_plot['Nitrogen Source'] = sample_table_for_plot['Nitrogen Source (g/L)'].apply(\n",
    "    lambda cs: cs.split('(')[0] if pd.notna(cs) else None\n",
    ")\n",
    "sample_table_for_plot['Carbon Source'] = sample_table_for_plot['Carbon Source'].fillna('rich')\n",
    "sample_table_for_plot['Supplement'] = sample_table_for_plot['Supplement'].apply(\n",
    "    lambda sup: sup.split('(')[0].strip() if pd.notna(sup) else None\n",
    ")\n",
    "\n",
    "_, ax = plt.subplots(figsize=(4, 3))\n",
    "\n",
    "col_to_cmap = {\n",
    "    'Strain': 'Reds',\n",
    "    'Temperature (C)': 'Oranges',\n",
    "    'pH': 'Greens',\n",
    "    'Base Media': 'Blues',\n",
    "    'Carbon Source': 'Purples'\n",
    "}\n",
    "\n",
    "labs = []\n",
    "for i, (col, cmap_for_col) in enumerate(col_to_cmap.items()):\n",
    "\n",
    "    cmap_to_use = get_cmap(cmap_for_col)\n",
    "    bottom = 0\n",
    "    col_counts = sample_table_for_plot[col].value_counts()\n",
    "    labs.append(f'{col} (n={col_counts.shape[0]})')\n",
    "    min_col_i, max_col_i = 0.4, 1\n",
    "    inc = (max_col_i - min_col_i) / col_counts.shape[0]\n",
    "    for j, (col_val, col_count) in enumerate(col_counts.iteritems()):\n",
    "        ax.barh(len(col_to_cmap) - i, col_count, left=bottom, height=1, label=col_val, color=cmap_to_use(((min_col_i + j * inc))))\n",
    "        bottom += col_count\n",
    "\n",
    "ax.set_xlabel('Samples (n=1035)', fontsize=12)\n",
    "ax.set_yticks(range(1, len(col_to_cmap) + 1))\n",
    "ax.set_yticklabels(labs[::-1])\n",
    "ax.tick_params(axis='both', labelsize=12)\n",
    "for s in ax.spines.values():\n",
    "    s.set_visible(False)\n",
    "    \n",
    "plt.savefig(os.path.join(FIG_PATH, 'condition_bars.svg'), dpi = 400, bbox_inches = 'tight')\n",
    "plt.savefig(os.path.join(FIG_PATH, 'condition_bars.png'), dpi = 400, bbox_inches = 'tight')"
   ]
  },
  {
   "cell_type": "markdown",
   "id": "c46c99b2-53f9-4dcf-9910-4872279fe9d3",
   "metadata": {},
   "source": [
    "## Table"
   ]
  },
  {
   "cell_type": "code",
   "execution_count": 9,
   "id": "d3d30ef6-e5cd-44fd-a39c-8810ab7b5590",
   "metadata": {},
   "outputs": [
    {
     "data": {
      "text/plain": [
       "No          614\n",
       "Endpoint    368\n",
       "Midpoint     53\n",
       "Name: Evolved Sample, dtype: int64"
      ]
     },
     "execution_count": 9,
     "metadata": {},
     "output_type": "execute_result"
    }
   ],
   "source": [
    "p1k.sample_table['Evolved Sample'].value_counts()"
   ]
  },
  {
   "cell_type": "code",
   "execution_count": 10,
   "id": "aa63d41c-abee-4e45-97d9-97ae6c03a2a5",
   "metadata": {},
   "outputs": [
    {
     "data": {
      "text/plain": [
       "288"
      ]
     },
     "execution_count": 10,
     "metadata": {},
     "output_type": "execute_result"
    }
   ],
   "source": [
    "p1k.sample_table['Strain Description'].str.contains('del').sum()"
   ]
  },
  {
   "cell_type": "code",
   "execution_count": 11,
   "id": "db1ea6dd-66e6-432f-9c0c-c6653d9b95e0",
   "metadata": {},
   "outputs": [
    {
     "data": {
      "text/plain": [
       "M9            771\n",
       "Medium C      122\n",
       "LB             36\n",
       "W2             12\n",
       "RPMI+10%LB     10\n",
       "CAMHB          10\n",
       "01xLB           8\n",
       "TMA             8\n",
       "M9P             4\n",
       "Name: Base Media, dtype: int64"
      ]
     },
     "execution_count": 11,
     "metadata": {},
     "output_type": "execute_result"
    }
   ],
   "source": [
    "p1k.sample_table['Base Media'].value_counts()"
   ]
  },
  {
   "cell_type": "code",
   "execution_count": 12,
   "id": "1ff5f5e5-10d7-439d-9909-022cacb31957",
   "metadata": {},
   "outputs": [
    {
     "data": {
      "text/plain": [
       "Batch        948\n",
       "Fed-batch     82\n",
       "Chemostat      5\n",
       "Name: Culture Type, dtype: int64"
      ]
     },
     "execution_count": 12,
     "metadata": {},
     "output_type": "execute_result"
    }
   ],
   "source": [
    "p1k.sample_table['Culture Type'].value_counts()"
   ]
  },
  {
   "cell_type": "markdown",
   "id": "523f7963-f587-430d-a5a9-ba837e0c2e26",
   "metadata": {
    "tags": []
   },
   "source": [
    "## Bar Charts by Column"
   ]
  },
  {
   "cell_type": "code",
   "execution_count": 62,
   "id": "67ce8791-f008-4df6-9aac-90b867da63f5",
   "metadata": {},
   "outputs": [],
   "source": [
    "def col_bar_chart(col, filename):\n",
    "\n",
    "    val_counts = sample_table_for_plot[col].fillna('NA').value_counts().sort_values()\n",
    "    if len(val_counts) > 10:\n",
    "        figsize=(3, 4.5)\n",
    "    else:\n",
    "        figsize=(3, 3)\n",
    "    _, ax = plt.subplots(figsize=figsize)\n",
    "    \n",
    "    val_counts.plot(ax=ax, kind='barh')\n",
    "    for s in ax.spines.values():\n",
    "        s.set_linewidth(1)\n",
    "        s.set_color('k')\n",
    "\n",
    "    for i, (val, count) in enumerate(val_counts.iteritems()):\n",
    "        ax.text(x=count + 5, y=i, s=count, va='center', fontsize=10)\n",
    "\n",
    "    ax.set_xlim(left=0, right=p1k.sample_table.shape[0] + 25)\n",
    "    ax.set_xlabel('# Samples')\n",
    "    ax.set_ylabel(col)\n",
    "    \n",
    "    plt.savefig(os.path.join(FIG_PATH, f\"{filename}_bars.svg\"), dpi = 400, bbox_inches = 'tight')\n",
    "    plt.savefig(os.path.join(FIG_PATH, f\"{filename}_bars.png\"), dpi = 400, bbox_inches = 'tight')"
   ]
  },
  {
   "cell_type": "code",
   "execution_count": 63,
   "id": "62b08a34-a9e5-4195-8ba3-6bcd03f33608",
   "metadata": {},
   "outputs": [],
   "source": [
    "cols_to_plot = ['Strain', 'Culture Type', 'Evolved Sample', 'Base Media', 'Temperature (C)', 'pH', 'Carbon Source', 'Nitrogen Source']\n",
    "fnames = ['strain', 'culture_type', 'evolved', 'media', 'temp', 'ph', 'carbon_source', 'nitrogen_source']"
   ]
  },
  {
   "cell_type": "code",
   "execution_count": 64,
   "id": "b69fc0a1-cf00-4abe-a836-68eed1613024",
   "metadata": {},
   "outputs": [
    {
     "data": {
      "image/png": "[encoded data removed]",
      "text/plain": [
       "<Figure size 216x216 with 1 Axes>"
      ]
     },
     "metadata": {
      "needs_background": "light"
     },
     "output_type": "display_data"
    },
    {
     "data": {
      "image/png": "[encoded data removed]",
      "text/plain": [
       "<Figure size 216x216 with 1 Axes>"
      ]
     },
     "metadata": {
      "needs_background": "light"
     },
     "output_type": "display_data"
    },
    {
     "data": {
      "image/png": "[encoded data removed]",
      "text/plain": [
       "<Figure size 216x216 with 1 Axes>"
      ]
     },
     "metadata": {
      "needs_background": "light"
     },
     "output_type": "display_data"
    },
    {
     "data": {
      "image/png": "[encoded data removed]",
      "text/plain": [
       "<Figure size 216x216 with 1 Axes>"
      ]
     },
     "metadata": {
      "needs_background": "light"
     },
     "output_type": "display_data"
    },
    {
     "data": {
      "image/png": "[encoded data removed]",
      "text/plain": [
       "<Figure size 216x216 with 1 Axes>"
      ]
     },
     "metadata": {
      "needs_background": "light"
     },
     "output_type": "display_data"
    },
    {
     "data": {
      "image/png": "[encoded data removed]",
      "text/plain": [
       "<Figure size 216x216 with 1 Axes>"
      ]
     },
     "metadata": {
      "needs_background": "light"
     },
     "output_type": "display_data"
    },
    {
     "data": {
      "image/png": "[encoded data removed]",
      "text/plain": [
       "<Figure size 216x324 with 1 Axes>"
      ]
     },
     "metadata": {
      "needs_background": "light"
     },
     "output_type": "display_data"
    },
    {
     "data": {
      "image/png": "[encoded data removed]",
      "text/plain": [
       "<Figure size 216x216 with 1 Axes>"
      ]
     },
     "metadata": {
      "needs_background": "light"
     },
     "output_type": "display_data"
    }
   ],
   "source": [
    "for col, fname in zip(cols_to_plot, fnames):\n",
    "    col_bar_chart(col, fname)"
   ]
  },
  {
   "cell_type": "code",
   "execution_count": null,
   "id": "8a8c195c-dafd-4629-a478-6c11c7aa77f9",
   "metadata": {},
   "outputs": [],
   "source": []
  }
 ],
 "metadata": {
  "kernelspec": {
   "display_name": "Python 3 (ipykernel)",
   "language": "python",
   "name": "python3"
  },
  "language_info": {
   "codemirror_mode": {
    "name": "ipython",
    "version": 3
   },
   "file_extension": ".py",
   "mimetype": "text/x-python",
   "name": "python",
   "nbconvert_exporter": "python",
   "pygments_lexer": "ipython3",
   "version": "3.10.2"
  }
 },
 "nbformat": 4,
 "nbformat_minor": 5
}
