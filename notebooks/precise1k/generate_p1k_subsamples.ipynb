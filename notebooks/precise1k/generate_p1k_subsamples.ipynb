{
 "cells": [
  {
   "cell_type": "markdown",
   "id": "a7bb0e68-b207-4df8-a0bd-5537cb31a46a",
   "metadata": {},
   "source": [
    "# Import Packages"
   ]
  },
  {
   "cell_type": "code",
   "execution_count": 25,
   "id": "b98bdde9-ca41-4ba5-b5ae-5b9686f9efae",
   "metadata": {},
   "outputs": [],
   "source": [
    "# built-in\n",
    "import os\n",
    "\n",
    "# third-party\n",
    "import numpy as np\n",
    "import pandas as pd\n",
    "from sklearn.model_selection import KFold"
   ]
  },
  {
   "cell_type": "markdown",
   "id": "93011889-a4fe-4a92-9e37-4330f761f9cf",
   "metadata": {},
   "source": [
    "# Load Data"
   ]
  },
  {
   "cell_type": "code",
   "execution_count": 8,
   "id": "2099e0fb-e179-495a-a382-b9e14539efbf",
   "metadata": {},
   "outputs": [],
   "source": [
    "PRECISE_PATH = '../../data/precise/'\n",
    "P1K_PATH = '../../data/precise1k/'\n",
    "SUBSAMPLE_PATH = os.path.join(P1K_PATH, 'subsamples')\n",
    "FIG_PATH = 'subsample_sets_figs'\n",
    "ANNOTATION_PATH = '../../data/annotation/'"
   ]
  },
  {
   "cell_type": "code",
   "execution_count": 49,
   "id": "4237f7b6-b15f-4f73-b372-bed2a1dfac2d",
   "metadata": {},
   "outputs": [],
   "source": [
    "p1k_log_tpm_norm = pd.read_csv(os.path.join(P1K_PATH, 'log_tpm_norm_qc.csv'), index_col=0)"
   ]
  },
  {
   "cell_type": "markdown",
   "id": "11747892-73a4-4937-a511-9c7954f4c33b",
   "metadata": {},
   "source": [
    "# Generate Subsamples"
   ]
  },
  {
   "cell_type": "code",
   "execution_count": 56,
   "id": "07d1f0ec-2854-4cc0-8183-2895c6533d72",
   "metadata": {},
   "outputs": [],
   "source": [
    "fracs_per_try = [0.8, 0.6, 0.4, 0.2]\n",
    "\n",
    "fracs_from_prev = np.array(fracs_per_try) / np.array([1] + fracs_per_try[:-1])\n",
    "\n",
    "n_tries = 5\n",
    "\n",
    "name_frac_df_dict = {}\n",
    "\n",
    "for i in range(n_tries):\n",
    "\n",
    "    frac_sample = p1k_log_tpm_norm.copy()\n",
    "    for frac_abs, frac_prev in zip(fracs_per_try, fracs_from_prev):\n",
    "        \n",
    "        frac_sample = frac_sample.sample(frac=frac_prev, axis=1, random_state=42 + i)\n",
    "        name_frac_df_dict[f'trial{i}_frac{frac_abs}_n{frac_sample.shape[1]}'] = frac_sample\n",
    "        \n",
    "for name, df in name_frac_df_dict.items():\n",
    "    \n",
    "    dl_temp_path = os.path.join('/Users/cam/Downloads/subsamples', name)\n",
    "    os.mkdir(dl_temp_path)\n",
    "    df.to_csv(os.path.join(dl_temp_path, 'log_tpm_norm.csv'))\n",
    "    # just write the indices to save space\n",
    "    pd.Series(df.columns).to_csv(os.path.join(SUBSAMPLE_PATH, name))"
   ]
  }
 ],
 "metadata": {
  "kernelspec": {
   "display_name": "Python 3 (ipykernel)",
   "language": "python",
   "name": "python3"
  },
  "language_info": {
   "codemirror_mode": {
    "name": "ipython",
    "version": 3
   },
   "file_extension": ".py",
   "mimetype": "text/x-python",
   "name": "python",
   "nbconvert_exporter": "python",
   "pygments_lexer": "ipython3",
   "version": "3.10.10"
  }
 },
 "nbformat": 4,
 "nbformat_minor": 5
}
