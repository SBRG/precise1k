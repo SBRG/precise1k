{
 "cells": [
  {
   "cell_type": "markdown",
   "id": "e795b034-f2c5-48df-9f46-6cb1efacfda4",
   "metadata": {},
   "source": [
    "# Import Packages"
   ]
  },
  {
   "cell_type": "code",
   "execution_count": 47,
   "id": "6eb5f9f6-c541-44c3-a03f-2e678b8c9b14",
   "metadata": {},
   "outputs": [],
   "source": [
    "# built-in\n",
    "from datetime import datetime, timedelta\n",
    "import os.path\n",
    "import subprocess\n",
    "\n",
    "# third-party (pip install required)\n",
    "import matplotlib\n",
    "from matplotlib.cm import get_cmap\n",
    "from matplotlib.lines import Line2D\n",
    "import matplotlib.pyplot as plt\n",
    "import pandas as pd\n",
    "from pymodulon.io import load_json_model\n",
    "\n",
    "# set matplotlib params\n",
    "matplotlib.rcParams['pdf.fonttype'] = 42\n",
    "matplotlib.rcParams['ps.fonttype'] = 42\n",
    "matplotlib.rcParams['text.color'] = 'black'\n",
    "matplotlib.rcParams['axes.labelcolor'] = 'black'\n",
    "matplotlib.rcParams['xtick.color'] = 'black'\n",
    "matplotlib.rcParams['ytick.color'] = 'black'\n",
    "matplotlib.rcParams['font.sans-serif'] = \"Arial\"\n",
    "matplotlib.rcParams['font.family'] = \"sans-serif\""
   ]
  },
  {
   "cell_type": "markdown",
   "id": "5c697a8b-0d94-43ef-9cdf-4a5590f8bc0b",
   "metadata": {},
   "source": [
    "# Load Data"
   ]
  },
  {
   "cell_type": "code",
   "execution_count": 48,
   "id": "69024c73-93a6-4708-9aa8-d8db86cc0ebc",
   "metadata": {},
   "outputs": [],
   "source": [
    "PRECISE_PATH = '../../data/precise/'\n",
    "P1K_PATH = '../../data/precise1k/'\n",
    "FIG_PATH =  'summarize_dataset_figs'"
   ]
  },
  {
   "cell_type": "code",
   "execution_count": 49,
   "id": "1a581418-c780-403b-b900-b5425a2f762e",
   "metadata": {},
   "outputs": [],
   "source": [
    "precise1 = load_json_model(os.path.join(PRECISE_PATH, 'precise.json.gz'))\n",
    "p1k = load_json_model(os.path.join(P1K_PATH, 'precise1k.json.gz'))"
   ]
  },
  {
   "cell_type": "code",
   "execution_count": 50,
   "id": "80241934-c554-4822-85d6-c33338296b33",
   "metadata": {},
   "outputs": [],
   "source": [
    "p1k_log_tpm = pd.read_csv(os.path.join(P1K_PATH, 'log_tpm.csv'), index_col=0)\n",
    "p1k_counts = pd.read_csv(os.path.join(P1K_PATH, 'counts.csv'), index_col=0)"
   ]
  },
  {
   "cell_type": "code",
   "execution_count": 53,
   "id": "d835d569-ea22-4b0e-9a43-5320ab4c5fd6",
   "metadata": {},
   "outputs": [],
   "source": [
    "proj = 'tcs'"
   ]
  },
  {
   "cell_type": "code",
   "execution_count": 56,
   "id": "49752138-a024-48d8-a7d5-3e8848769efd",
   "metadata": {},
   "outputs": [],
   "source": [
    "sub_folder = f'/Users/cam/Downloads/{proj}_geo_submission_feb092023'\n",
    "p1k_megafolder = '/Users/cam/Downloads/p1k_geo_submission_dec162022'"
   ]
  },
  {
   "cell_type": "code",
   "execution_count": 57,
   "id": "d0779017-3685-4d84-8475-cae03a68dd3c",
   "metadata": {},
   "outputs": [
    {
     "data": {
      "text/plain": [
       "'/Users/cam/Downloads/tcs_geo_submission_feb092023'"
      ]
     },
     "execution_count": 57,
     "metadata": {},
     "output_type": "execute_result"
    }
   ],
   "source": [
    "sub_folder"
   ]
  },
  {
   "cell_type": "code",
   "execution_count": 64,
   "id": "f9332500-9238-4871-b445-a4b63d32695a",
   "metadata": {},
   "outputs": [
    {
     "data": {
      "text/html": [
       "<div>\n",
       "<style scoped>\n",
       "    .dataframe tbody tr th:only-of-type {\n",
       "        vertical-align: middle;\n",
       "    }\n",
       "\n",
       "    .dataframe tbody tr th {\n",
       "        vertical-align: top;\n",
       "    }\n",
       "\n",
       "    .dataframe thead th {\n",
       "        text-align: right;\n",
       "    }\n",
       "</style>\n",
       "<table border=\"1\" class=\"dataframe\">\n",
       "  <thead>\n",
       "    <tr style=\"text-align: right;\">\n",
       "      <th></th>\n",
       "      <th>geo_title</th>\n",
       "      <th>r1</th>\n",
       "      <th>r2</th>\n",
       "    </tr>\n",
       "  </thead>\n",
       "  <tbody>\n",
       "    <tr>\n",
       "      <th>0</th>\n",
       "      <td>del atoC, M9, LiCl/acetoacetate, rep 1</td>\n",
       "      <td>2CS_CHX_AtoCKO10mMLi-AcetR1_S7_R1_001.fastq.gz</td>\n",
       "      <td>2CS_CHX_AtoCKO10mMLi-AcetR1_S7_R2_001.fastq.gz</td>\n",
       "    </tr>\n",
       "    <tr>\n",
       "      <th>1</th>\n",
       "      <td>del atoC, M9, LiCl/acetoacetate, rep 1</td>\n",
       "      <td>2CS_CHX_AtoCKO10mMLi-AcetR2_S8_R1_001.fastq.gz</td>\n",
       "      <td>2CS_CHX_AtoCKO10mMLi-AcetR2_S8_R2_001.fastq.gz</td>\n",
       "    </tr>\n",
       "    <tr>\n",
       "      <th>2</th>\n",
       "      <td>del atoC, M9, LiCl, rep1</td>\n",
       "      <td>2CS_CHX_AtoCKO10mMLiCl2R1_S9_R1_001.fastq.gz</td>\n",
       "      <td>2CS_CHX_AtoCKO10mMLiCl2R1_S9_R2_001.fastq.gz</td>\n",
       "    </tr>\n",
       "    <tr>\n",
       "      <th>3</th>\n",
       "      <td>del atoC, M9, LiCl, rep2</td>\n",
       "      <td>2CS_CHX_AtoCKO10mMLiCl2R2_S10_R1_001.fastq.gz</td>\n",
       "      <td>2CS_CHX_AtoCKO10mMLiCl2R2_S10_R2_001.fastq.gz</td>\n",
       "    </tr>\n",
       "    <tr>\n",
       "      <th>4</th>\n",
       "      <td>del atoC, M9, rep1</td>\n",
       "      <td>2CS_CHX_AtoCKOM9R1_S5_R1_001.fastq.gz</td>\n",
       "      <td>2CS_CHX_AtoCKOM9R1_S5_R2_001.fastq.gz</td>\n",
       "    </tr>\n",
       "  </tbody>\n",
       "</table>\n",
       "</div>"
      ],
      "text/plain": [
       "                                geo_title  \\\n",
       "0  del atoC, M9, LiCl/acetoacetate, rep 1   \n",
       "1  del atoC, M9, LiCl/acetoacetate, rep 1   \n",
       "2                del atoC, M9, LiCl, rep1   \n",
       "3                del atoC, M9, LiCl, rep2   \n",
       "4                      del atoC, M9, rep1   \n",
       "\n",
       "                                               r1  \\\n",
       "0  2CS_CHX_AtoCKO10mMLi-AcetR1_S7_R1_001.fastq.gz   \n",
       "1  2CS_CHX_AtoCKO10mMLi-AcetR2_S8_R1_001.fastq.gz   \n",
       "2    2CS_CHX_AtoCKO10mMLiCl2R1_S9_R1_001.fastq.gz   \n",
       "3   2CS_CHX_AtoCKO10mMLiCl2R2_S10_R1_001.fastq.gz   \n",
       "4           2CS_CHX_AtoCKOM9R1_S5_R1_001.fastq.gz   \n",
       "\n",
       "                                               r2  \n",
       "0  2CS_CHX_AtoCKO10mMLi-AcetR1_S7_R2_001.fastq.gz  \n",
       "1  2CS_CHX_AtoCKO10mMLi-AcetR2_S8_R2_001.fastq.gz  \n",
       "2    2CS_CHX_AtoCKO10mMLiCl2R1_S9_R2_001.fastq.gz  \n",
       "3   2CS_CHX_AtoCKO10mMLiCl2R2_S10_R2_001.fastq.gz  \n",
       "4           2CS_CHX_AtoCKOM9R1_S5_R2_001.fastq.gz  "
      ]
     },
     "execution_count": 64,
     "metadata": {},
     "output_type": "execute_result"
    }
   ],
   "source": [
    "proj_geo_meta = pd.read_csv('/Users/cam/Downloads/proj_geo.csv')\n",
    "proj_geo_meta.head()"
   ]
  },
  {
   "cell_type": "code",
   "execution_count": 32,
   "id": "38d01074-c94d-46bb-94ae-f3332f382f83",
   "metadata": {},
   "outputs": [],
   "source": [
    "samp_ids_ordered = p1k.sample_table[p1k.sample_table['project'] == proj].index\n",
    "proj_log_tpm = p1k_log_tpm[samp_ids_ordered]\n",
    "proj_log_tpm.columns = proj_geo_meta['geo_title']\n",
    "proj_counts = p1k_counts[samp_ids_ordered]\n",
    "proj_counts.columns = proj_geo_meta['geo_title']\n",
    "\n",
    "proj_log_tpm.to_csv(os.path.join(sub_folder, f'{proj}_log_tpm.csv'))\n",
    "proj_counts.to_csv(os.path.join(sub_folder, f'{proj}_counts.csv'))"
   ]
  },
  {
   "cell_type": "code",
   "execution_count": 73,
   "id": "a7c0db24-d7c8-4415-846b-80b0d7af237d",
   "metadata": {},
   "outputs": [],
   "source": [
    "# move files to submission folder; also get checksums\n",
    "checksum_dict = {}\n",
    "for _, row in proj_geo_meta.iterrows():\n",
    "    r1_file = os.path.join(p1k_megafolder, row['r1'])\n",
    "    r2_file = os.path.join(p1k_megafolder, row['r2'])\n",
    "    \n",
    "    checksum_dict[row['r1']] = subprocess.check_output(['md5', r1_file]).decode('utf-8').split(' = ')[1].strip()\n",
    "    checksum_dict[row['r2']] = subprocess.check_output(['md5', r1_file]).decode('utf-8').split(' = ')[1].strip()\n",
    "    \n",
    "    subprocess.check_output(['mv', r1_file, sub_folder])\n",
    "    subprocess.check_output(['mv', r2_file, sub_folder])"
   ]
  },
  {
   "cell_type": "code",
   "execution_count": 75,
   "id": "5bc95620-bdb7-4353-bd4a-ff324eca49d7",
   "metadata": {},
   "outputs": [],
   "source": [
    "pd.Series(checksum_dict).to_csv('/Users/cam/Downloads/checksum.csv')"
   ]
  },
  {
   "cell_type": "markdown",
   "id": "0ba7cea2-cb02-4dcb-a05d-8f83cef09e9a",
   "metadata": {},
   "source": [
    "## TCS Temp "
   ]
  },
  {
   "cell_type": "code",
   "execution_count": 62,
   "id": "d076eb66-5d77-466d-82eb-717050842cb6",
   "metadata": {},
   "outputs": [],
   "source": [
    "tcs_no_geo = p1k.sample_table[(p1k.sample_table['project'] == 'tcs') & (p1k.sample_table['GEO'].isna())]"
   ]
  },
  {
   "cell_type": "code",
   "execution_count": 63,
   "id": "ff33aca4-36c9-42ff-b58f-c78a224eeb04",
   "metadata": {},
   "outputs": [],
   "source": [
    "tcs_no_geo.to_csv('/Users/cam/Downloads/tcs_no_geo_md.csv')"
   ]
  },
  {
   "cell_type": "code",
   "execution_count": 65,
   "id": "05d3913b-0ce0-4a89-8cdc-4a57cdce3a10",
   "metadata": {},
   "outputs": [],
   "source": [
    "samp_ids_ordered = tcs_no_geo.index\n",
    "proj_log_tpm = p1k_log_tpm[samp_ids_ordered]\n",
    "proj_log_tpm.columns = proj_geo_meta['geo_title']\n",
    "proj_counts = p1k_counts[samp_ids_ordered]\n",
    "proj_counts.columns = proj_geo_meta['geo_title']\n",
    "\n",
    "proj_log_tpm.to_csv(os.path.join(sub_folder, f'{proj}_log_tpm.csv'))\n",
    "proj_counts.to_csv(os.path.join(sub_folder, f'{proj}_counts.csv'))"
   ]
  },
  {
   "cell_type": "markdown",
   "id": "701e9b9d-aa9f-4fe1-8d46-003d71dbd40c",
   "metadata": {},
   "source": [
    "## lab meet temp"
   ]
  },
  {
   "cell_type": "code",
   "execution_count": 143,
   "id": "99e7f6c0-8d61-4061-bb35-1458dcd5e72a",
   "metadata": {},
   "outputs": [
    {
     "data": {
      "text/plain": [
       "(45,)"
      ]
     },
     "execution_count": 143,
     "metadata": {},
     "output_type": "execute_result"
    }
   ],
   "source": [
    "p1k.sample_table['project'].value_counts().shape"
   ]
  },
  {
   "cell_type": "code",
   "execution_count": null,
   "id": "b225c149-aac8-4c20-9cb5-e2b77161b24c",
   "metadata": {},
   "outputs": [],
   "source": []
  }
 ],
 "metadata": {
  "kernelspec": {
   "display_name": "Python 3 (ipykernel)",
   "language": "python",
   "name": "python3"
  },
  "language_info": {
   "codemirror_mode": {
    "name": "ipython",
    "version": 3
   },
   "file_extension": ".py",
   "mimetype": "text/x-python",
   "name": "python",
   "nbconvert_exporter": "python",
   "pygments_lexer": "ipython3",
   "version": "3.10.8"
  }
 },
 "nbformat": 4,
 "nbformat_minor": 5
}
