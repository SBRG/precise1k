{
 "cells": [
  {
   "cell_type": "markdown",
   "id": "b2f6bab9-c009-4036-8c4b-b84d7096144d",
   "metadata": {},
   "source": [
    "# Import Packages"
   ]
  },
  {
   "cell_type": "code",
   "execution_count": 1,
   "id": "9c9edb5a-8b28-4408-84a7-baf3f9078ecd",
   "metadata": {},
   "outputs": [],
   "source": [
    "# built-in\n",
    "import os.path\n",
    "\n",
    "# third-party (pip install required)\n",
    "import pandas as pd"
   ]
  },
  {
   "cell_type": "markdown",
   "id": "fc1f0314-38af-4466-bab9-ee1c30eddecd",
   "metadata": {},
   "source": [
    "# Load PRECISE-1K Data/Metadata"
   ]
  },
  {
   "cell_type": "code",
   "execution_count": 2,
   "id": "b3522909-8fe6-42f4-a175-52b274b6e16c",
   "metadata": {},
   "outputs": [],
   "source": [
    "PRECISE1K_PATH = '../../data/precise1k/'\n",
    "PURE_PRECISE_PATH = '../../data/pure_precise'"
   ]
  },
  {
   "cell_type": "code",
   "execution_count": 3,
   "id": "105f22eb-0ec7-429e-ae01-7bf104b689f9",
   "metadata": {},
   "outputs": [],
   "source": [
    "log_tpm_norm = pd.read_csv(os.path.join(PRECISE1K_PATH, 'log_tpm_norm_qc.csv'), index_col=0)\n",
    "metadata = pd.read_csv(os.path.join(PRECISE1K_PATH, 'metadata_qc.csv'), index_col=0)"
   ]
  },
  {
   "cell_type": "markdown",
   "id": "22ae1fbf-cd43-407a-a13d-48274f896dfe",
   "metadata": {},
   "source": [
    "# Select Pure PRECISE Samples\n",
    "\n",
    "`pure_precise` column previously populated based on ALE status, strain, etc."
   ]
  },
  {
   "cell_type": "code",
   "execution_count": 16,
   "id": "1035c4e0-17a7-48be-928a-554026d30c3e",
   "metadata": {},
   "outputs": [
    {
     "data": {
      "text/plain": [
       "(401, 41)"
      ]
     },
     "execution_count": 16,
     "metadata": {},
     "output_type": "execute_result"
    }
   ],
   "source": [
    "pure_metadata = metadata[\n",
    "    # should be MG1655\n",
    "    (metadata['Strain'] == 'MG1655') &\n",
    "    # not an ALE\n",
    "    (metadata['Evolved Sample'] == 'No') &\n",
    "    # no knock-in mutants (only project with this)\n",
    "    (metadata['project'] != 'rpoB')\n",
    "]\n",
    "pure_metadata.shape"
   ]
  },
  {
   "cell_type": "code",
   "execution_count": 17,
   "id": "42b0b312-4e9a-4209-98d0-5f8b0aafca81",
   "metadata": {},
   "outputs": [
    {
     "data": {
      "text/html": [
       "<div>\n",
       "<style scoped>\n",
       "    .dataframe tbody tr th:only-of-type {\n",
       "        vertical-align: middle;\n",
       "    }\n",
       "\n",
       "    .dataframe tbody tr th {\n",
       "        vertical-align: top;\n",
       "    }\n",
       "\n",
       "    .dataframe thead th {\n",
       "        text-align: right;\n",
       "    }\n",
       "</style>\n",
       "<table border=\"1\" class=\"dataframe\">\n",
       "  <thead>\n",
       "    <tr style=\"text-align: right;\">\n",
       "      <th></th>\n",
       "      <th>p1k_00001</th>\n",
       "      <th>p1k_00002</th>\n",
       "      <th>p1k_00003</th>\n",
       "      <th>p1k_00004</th>\n",
       "      <th>p1k_00005</th>\n",
       "      <th>p1k_00006</th>\n",
       "      <th>p1k_00007</th>\n",
       "      <th>p1k_00008</th>\n",
       "      <th>p1k_00009</th>\n",
       "      <th>p1k_00010</th>\n",
       "      <th>...</th>\n",
       "      <th>p1k_00931</th>\n",
       "      <th>p1k_00932</th>\n",
       "      <th>p1k_00933</th>\n",
       "      <th>p1k_00996</th>\n",
       "      <th>p1k_00997</th>\n",
       "      <th>p1k_00998</th>\n",
       "      <th>p1k_00999</th>\n",
       "      <th>p1k_01000</th>\n",
       "      <th>p1k_01001</th>\n",
       "      <th>p1k_01002</th>\n",
       "    </tr>\n",
       "  </thead>\n",
       "  <tbody>\n",
       "    <tr>\n",
       "      <th>b0002</th>\n",
       "      <td>-0.053993</td>\n",
       "      <td>0.053993</td>\n",
       "      <td>0.879043</td>\n",
       "      <td>1.089600</td>\n",
       "      <td>0.182453</td>\n",
       "      <td>-0.078873</td>\n",
       "      <td>-0.837092</td>\n",
       "      <td>-0.502703</td>\n",
       "      <td>0.421312</td>\n",
       "      <td>0.412354</td>\n",
       "      <td>...</td>\n",
       "      <td>0.088470</td>\n",
       "      <td>0.416804</td>\n",
       "      <td>0.534056</td>\n",
       "      <td>-0.697199</td>\n",
       "      <td>-0.924242</td>\n",
       "      <td>-1.007605</td>\n",
       "      <td>-1.966273</td>\n",
       "      <td>-2.315296</td>\n",
       "      <td>-1.392678</td>\n",
       "      <td>-1.657532</td>\n",
       "    </tr>\n",
       "    <tr>\n",
       "      <th>b0003</th>\n",
       "      <td>-0.061973</td>\n",
       "      <td>0.061973</td>\n",
       "      <td>1.063330</td>\n",
       "      <td>1.477889</td>\n",
       "      <td>0.392573</td>\n",
       "      <td>0.234671</td>\n",
       "      <td>-0.763015</td>\n",
       "      <td>-0.120989</td>\n",
       "      <td>0.546181</td>\n",
       "      <td>0.520841</td>\n",
       "      <td>...</td>\n",
       "      <td>0.123530</td>\n",
       "      <td>0.265976</td>\n",
       "      <td>0.293635</td>\n",
       "      <td>-0.906501</td>\n",
       "      <td>-1.480570</td>\n",
       "      <td>-1.611782</td>\n",
       "      <td>-2.347079</td>\n",
       "      <td>-2.556515</td>\n",
       "      <td>-1.902349</td>\n",
       "      <td>-2.047218</td>\n",
       "    </tr>\n",
       "    <tr>\n",
       "      <th>b0004</th>\n",
       "      <td>-0.036972</td>\n",
       "      <td>0.036972</td>\n",
       "      <td>0.003132</td>\n",
       "      <td>0.356702</td>\n",
       "      <td>-0.096756</td>\n",
       "      <td>-0.334913</td>\n",
       "      <td>-1.714913</td>\n",
       "      <td>-1.322707</td>\n",
       "      <td>-0.234147</td>\n",
       "      <td>-0.250669</td>\n",
       "      <td>...</td>\n",
       "      <td>-0.208322</td>\n",
       "      <td>0.027819</td>\n",
       "      <td>0.048412</td>\n",
       "      <td>-0.622002</td>\n",
       "      <td>-0.656278</td>\n",
       "      <td>-0.426456</td>\n",
       "      <td>-1.636470</td>\n",
       "      <td>-1.794331</td>\n",
       "      <td>-1.142186</td>\n",
       "      <td>-1.362590</td>\n",
       "    </tr>\n",
       "    <tr>\n",
       "      <th>b0005</th>\n",
       "      <td>-0.104967</td>\n",
       "      <td>0.104967</td>\n",
       "      <td>-1.118145</td>\n",
       "      <td>-1.277963</td>\n",
       "      <td>-0.181546</td>\n",
       "      <td>-0.364057</td>\n",
       "      <td>-2.121475</td>\n",
       "      <td>-1.994770</td>\n",
       "      <td>-0.386684</td>\n",
       "      <td>-0.634659</td>\n",
       "      <td>...</td>\n",
       "      <td>-0.683207</td>\n",
       "      <td>-0.327142</td>\n",
       "      <td>-0.797425</td>\n",
       "      <td>-1.962306</td>\n",
       "      <td>-3.202620</td>\n",
       "      <td>-3.540791</td>\n",
       "      <td>-4.812958</td>\n",
       "      <td>-4.923028</td>\n",
       "      <td>-3.567054</td>\n",
       "      <td>-3.813611</td>\n",
       "    </tr>\n",
       "    <tr>\n",
       "      <th>b0006</th>\n",
       "      <td>0.042242</td>\n",
       "      <td>-0.042242</td>\n",
       "      <td>-0.123592</td>\n",
       "      <td>-0.107778</td>\n",
       "      <td>-0.173177</td>\n",
       "      <td>-0.089888</td>\n",
       "      <td>-0.208133</td>\n",
       "      <td>-0.003044</td>\n",
       "      <td>-0.034707</td>\n",
       "      <td>-0.027806</td>\n",
       "      <td>...</td>\n",
       "      <td>0.216189</td>\n",
       "      <td>0.338973</td>\n",
       "      <td>0.352111</td>\n",
       "      <td>-0.231449</td>\n",
       "      <td>-0.450277</td>\n",
       "      <td>-0.331951</td>\n",
       "      <td>-0.963102</td>\n",
       "      <td>-1.143969</td>\n",
       "      <td>-0.988175</td>\n",
       "      <td>-0.856031</td>\n",
       "    </tr>\n",
       "  </tbody>\n",
       "</table>\n",
       "<p>5 rows × 401 columns</p>\n",
       "</div>"
      ],
      "text/plain": [
       "       p1k_00001  p1k_00002  p1k_00003  p1k_00004  p1k_00005  p1k_00006  \\\n",
       "b0002  -0.053993   0.053993   0.879043   1.089600   0.182453  -0.078873   \n",
       "b0003  -0.061973   0.061973   1.063330   1.477889   0.392573   0.234671   \n",
       "b0004  -0.036972   0.036972   0.003132   0.356702  -0.096756  -0.334913   \n",
       "b0005  -0.104967   0.104967  -1.118145  -1.277963  -0.181546  -0.364057   \n",
       "b0006   0.042242  -0.042242  -0.123592  -0.107778  -0.173177  -0.089888   \n",
       "\n",
       "       p1k_00007  p1k_00008  p1k_00009  p1k_00010  ...  p1k_00931  p1k_00932  \\\n",
       "b0002  -0.837092  -0.502703   0.421312   0.412354  ...   0.088470   0.416804   \n",
       "b0003  -0.763015  -0.120989   0.546181   0.520841  ...   0.123530   0.265976   \n",
       "b0004  -1.714913  -1.322707  -0.234147  -0.250669  ...  -0.208322   0.027819   \n",
       "b0005  -2.121475  -1.994770  -0.386684  -0.634659  ...  -0.683207  -0.327142   \n",
       "b0006  -0.208133  -0.003044  -0.034707  -0.027806  ...   0.216189   0.338973   \n",
       "\n",
       "       p1k_00933  p1k_00996  p1k_00997  p1k_00998  p1k_00999  p1k_01000  \\\n",
       "b0002   0.534056  -0.697199  -0.924242  -1.007605  -1.966273  -2.315296   \n",
       "b0003   0.293635  -0.906501  -1.480570  -1.611782  -2.347079  -2.556515   \n",
       "b0004   0.048412  -0.622002  -0.656278  -0.426456  -1.636470  -1.794331   \n",
       "b0005  -0.797425  -1.962306  -3.202620  -3.540791  -4.812958  -4.923028   \n",
       "b0006   0.352111  -0.231449  -0.450277  -0.331951  -0.963102  -1.143969   \n",
       "\n",
       "       p1k_01001  p1k_01002  \n",
       "b0002  -1.392678  -1.657532  \n",
       "b0003  -1.902349  -2.047218  \n",
       "b0004  -1.142186  -1.362590  \n",
       "b0005  -3.567054  -3.813611  \n",
       "b0006  -0.988175  -0.856031  \n",
       "\n",
       "[5 rows x 401 columns]"
      ]
     },
     "execution_count": 17,
     "metadata": {},
     "output_type": "execute_result"
    }
   ],
   "source": [
    "pure_log_tpm_norm = log_tpm_norm[pure_metadata.index]\n",
    "pure_log_tpm_norm.head()"
   ]
  },
  {
   "cell_type": "markdown",
   "id": "2372b184-32a6-486a-b9ff-a20442c57497",
   "metadata": {},
   "source": [
    "# Save Pure PRECISE Tables"
   ]
  },
  {
   "cell_type": "code",
   "execution_count": 18,
   "id": "1c665003-568f-4a03-8608-965a8d1279de",
   "metadata": {},
   "outputs": [],
   "source": [
    "pure_metadata.to_csv(os.path.join(PURE_PRECISE_PATH, 'metadata.csv'))\n",
    "pure_log_tpm_norm.to_csv(os.path.join(PURE_PRECISE_PATH, 'log_tpm_norm.csv'))"
   ]
  },
  {
   "cell_type": "code",
   "execution_count": null,
   "id": "7b52751b-b060-4e2c-8c03-0a250bc6efe3",
   "metadata": {},
   "outputs": [],
   "source": []
  }
 ],
 "metadata": {
  "kernelspec": {
   "display_name": "Python 3 (ipykernel)",
   "language": "python",
   "name": "python3"
  },
  "language_info": {
   "codemirror_mode": {
    "name": "ipython",
    "version": 3
   },
   "file_extension": ".py",
   "mimetype": "text/x-python",
   "name": "python",
   "nbconvert_exporter": "python",
   "pygments_lexer": "ipython3",
   "version": "3.10.2"
  }
 },
 "nbformat": 4,
 "nbformat_minor": 5
}
