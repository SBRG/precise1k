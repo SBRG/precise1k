{
 "cells": [
  {
   "cell_type": "markdown",
   "metadata": {},
   "source": [
    "# Import Packages"
   ]
  },
  {
   "cell_type": "code",
   "execution_count": 20,
   "metadata": {},
   "outputs": [],
   "source": [
    "# built-in\n",
    "from os import path\n",
    "\n",
    "# third-party (pip install required)\n",
    "import numpy as np\n",
    "import pandas as pd\n",
    "from pymodulon.compare import compare_ica\n",
    "from pymodulon.core import IcaData\n",
    "from pymodulon.io import load_json_model, save_to_json\n",
    "from pymodulon.util import explained_variance\n",
    "from tqdm.notebook import tqdm"
   ]
  },
  {
   "cell_type": "code",
   "execution_count": 2,
   "metadata": {},
   "outputs": [],
   "source": [
    "# Enter the location of your data here\n",
    "data_dir = '../../data/pure_precise/'\n",
    "annotation_dir = '../../data/annotation'"
   ]
  },
  {
   "cell_type": "markdown",
   "metadata": {},
   "source": [
    "# QC Tables"
   ]
  },
  {
   "cell_type": "markdown",
   "metadata": {},
   "source": [
    "## Metadata"
   ]
  },
  {
   "cell_type": "markdown",
   "metadata": {},
   "source": [
    "Your metadata file will probably have a lot of columns, most of which you may not care about. Feel free to save a secondary copy of your metadata file with only columns that seem relevant to you. The two most important columns are:\n",
    "1. `project`\n",
    "2. `condition`\n",
    "\n",
    "Make sure that these columns exist in your metadata file"
   ]
  },
  {
   "cell_type": "code",
   "execution_count": 3,
   "metadata": {},
   "outputs": [
    {
     "data": {
      "text/html": [
       "<div>\n",
       "<style scoped>\n",
       "    .dataframe tbody tr th:only-of-type {\n",
       "        vertical-align: middle;\n",
       "    }\n",
       "\n",
       "    .dataframe tbody tr th {\n",
       "        vertical-align: top;\n",
       "    }\n",
       "\n",
       "    .dataframe thead th {\n",
       "        text-align: right;\n",
       "    }\n",
       "</style>\n",
       "<table border=\"1\" class=\"dataframe\">\n",
       "  <thead>\n",
       "    <tr style=\"text-align: right;\">\n",
       "      <th></th>\n",
       "      <th>project</th>\n",
       "      <th>condition</th>\n",
       "    </tr>\n",
       "  </thead>\n",
       "  <tbody>\n",
       "    <tr>\n",
       "      <th>ecoli_00001</th>\n",
       "      <td>control</td>\n",
       "      <td>wt_glc</td>\n",
       "    </tr>\n",
       "    <tr>\n",
       "      <th>ecoli_00002</th>\n",
       "      <td>control</td>\n",
       "      <td>wt_glc</td>\n",
       "    </tr>\n",
       "    <tr>\n",
       "      <th>ecoli_00003</th>\n",
       "      <td>fur</td>\n",
       "      <td>wt_dpd</td>\n",
       "    </tr>\n",
       "    <tr>\n",
       "      <th>ecoli_00004</th>\n",
       "      <td>fur</td>\n",
       "      <td>wt_dpd</td>\n",
       "    </tr>\n",
       "    <tr>\n",
       "      <th>ecoli_00005</th>\n",
       "      <td>fur</td>\n",
       "      <td>wt_fe</td>\n",
       "    </tr>\n",
       "  </tbody>\n",
       "</table>\n",
       "</div>"
      ],
      "text/plain": [
       "             project condition\n",
       "ecoli_00001  control    wt_glc\n",
       "ecoli_00002  control    wt_glc\n",
       "ecoli_00003      fur    wt_dpd\n",
       "ecoli_00004      fur    wt_dpd\n",
       "ecoli_00005      fur     wt_fe"
      ]
     },
     "execution_count": 3,
     "metadata": {},
     "output_type": "execute_result"
    }
   ],
   "source": [
    "df_metadata = pd.read_csv(path.join(data_dir,'metadata.csv'),index_col=0)\n",
    "df_metadata[['project','condition']].head()"
   ]
  },
  {
   "cell_type": "code",
   "execution_count": 4,
   "metadata": {},
   "outputs": [
    {
     "name": "stdout",
     "output_type": "stream",
     "text": [
      "True\n",
      "True\n"
     ]
    }
   ],
   "source": [
    "print(df_metadata.project.notnull().all())\n",
    "print(df_metadata.condition.notnull().all())"
   ]
  },
  {
   "cell_type": "markdown",
   "metadata": {},
   "source": [
    "## TRN"
   ]
  },
  {
   "cell_type": "markdown",
   "metadata": {},
   "source": [
    "Each row of the TRN file represents a regulatory interaction.  \n",
    "**Your TRN file must have the following columns:**\n",
    "1. `regulator` - Name of regulator (`/` or `+` characters will be converted to `;`)\n",
    "1. `gene_id` - Locus tag of gene being regulated\n",
    "\n",
    "The following columns are optional, but are helpful to have:\n",
    "1. `regulator_id` - Locus tag of regulator\n",
    "1. `gene_name` - Name of gene (can automatically update this using `name2num`)\n",
    "1. `direction` - Direction of regulation ('+' for activation, '-' for repression, '?' or NaN for unknown)\n",
    "1. `evidence` - Evidence of regulation (e.g. ChIP-exo, qRT-PCR, SELEX, Motif search)\n",
    "1. `PMID` - Reference for regulation\n",
    "\n",
    "You may add any other columns that could help you. TRNs may be saved as either CSV or TSV files. See below for an example:"
   ]
  },
  {
   "cell_type": "code",
   "execution_count": 5,
   "metadata": {},
   "outputs": [
    {
     "data": {
      "text/html": [
       "<div>\n",
       "<style scoped>\n",
       "    .dataframe tbody tr th:only-of-type {\n",
       "        vertical-align: middle;\n",
       "    }\n",
       "\n",
       "    .dataframe tbody tr th {\n",
       "        vertical-align: top;\n",
       "    }\n",
       "\n",
       "    .dataframe thead th {\n",
       "        text-align: right;\n",
       "    }\n",
       "</style>\n",
       "<table border=\"1\" class=\"dataframe\">\n",
       "  <thead>\n",
       "    <tr style=\"text-align: right;\">\n",
       "      <th></th>\n",
       "      <th>regulator</th>\n",
       "      <th>gene_name</th>\n",
       "      <th>gene_id</th>\n",
       "      <th>effect</th>\n",
       "      <th>evidence</th>\n",
       "      <th>source</th>\n",
       "    </tr>\n",
       "  </thead>\n",
       "  <tbody>\n",
       "    <tr>\n",
       "      <th>0</th>\n",
       "      <td>AccB</td>\n",
       "      <td>accB</td>\n",
       "      <td>b3255</td>\n",
       "      <td>-</td>\n",
       "      <td>0.0</td>\n",
       "      <td>RegulonDB_TF</td>\n",
       "    </tr>\n",
       "    <tr>\n",
       "      <th>1</th>\n",
       "      <td>RpoD</td>\n",
       "      <td>pheU</td>\n",
       "      <td>b4134</td>\n",
       "      <td>+</td>\n",
       "      <td>0.0</td>\n",
       "      <td>RegulonDB_sigma</td>\n",
       "    </tr>\n",
       "    <tr>\n",
       "      <th>2</th>\n",
       "      <td>RpoD</td>\n",
       "      <td>pheP</td>\n",
       "      <td>b0576</td>\n",
       "      <td>+</td>\n",
       "      <td>0.0</td>\n",
       "      <td>RegulonDB_sigma</td>\n",
       "    </tr>\n",
       "    <tr>\n",
       "      <th>3</th>\n",
       "      <td>RpoD</td>\n",
       "      <td>pheL</td>\n",
       "      <td>b2598</td>\n",
       "      <td>+</td>\n",
       "      <td>0.0</td>\n",
       "      <td>RegulonDB_sigma</td>\n",
       "    </tr>\n",
       "    <tr>\n",
       "      <th>4</th>\n",
       "      <td>RpoD</td>\n",
       "      <td>pheA</td>\n",
       "      <td>b2599</td>\n",
       "      <td>+</td>\n",
       "      <td>0.0</td>\n",
       "      <td>RegulonDB_sigma</td>\n",
       "    </tr>\n",
       "  </tbody>\n",
       "</table>\n",
       "</div>"
      ],
      "text/plain": [
       "  regulator gene_name gene_id effect  evidence           source\n",
       "0      AccB      accB   b3255      -       0.0     RegulonDB_TF\n",
       "1      RpoD      pheU   b4134      +       0.0  RegulonDB_sigma\n",
       "2      RpoD      pheP   b0576      +       0.0  RegulonDB_sigma\n",
       "3      RpoD      pheL   b2598      +       0.0  RegulonDB_sigma\n",
       "4      RpoD      pheA   b2599      +       0.0  RegulonDB_sigma"
      ]
     },
     "execution_count": 5,
     "metadata": {},
     "output_type": "execute_result"
    }
   ],
   "source": [
    "df_trn = pd.read_csv(path.join(annotation_dir,'TRN.csv'))\n",
    "df_trn.head()"
   ]
  },
  {
   "cell_type": "markdown",
   "metadata": {},
   "source": [
    "The `regulator` and `gene_id` must be filled in for each row"
   ]
  },
  {
   "cell_type": "code",
   "execution_count": 6,
   "metadata": {},
   "outputs": [
    {
     "name": "stdout",
     "output_type": "stream",
     "text": [
      "True\n",
      "True\n"
     ]
    }
   ],
   "source": [
    "print(df_trn.regulator.notnull().all())\n",
    "print(df_trn.gene_id.notnull().all())"
   ]
  },
  {
   "cell_type": "markdown",
   "metadata": {},
   "source": [
    "# Create IcaData"
   ]
  },
  {
   "cell_type": "code",
   "execution_count": 13,
   "metadata": {},
   "outputs": [
    {
     "name": "stderr",
     "output_type": "stream",
     "text": [
      "WARNING:root:The characters '+' and '/' are used for combining regulons and cannot be in regulator names. These characters will be replaced with ';'\n",
      "WARNING:root:The following genes are in the TRN but not in your M matrix: {'b2404', 'b2397', 'b3119', 'b2864', 'b3277', 'b4687', 'b4414', 'b4664', 'b3273', 'b1666', 'b4416', 'b4431', 'b3707', 'b4717', 'b4445', 'b4369', 'b0672', 'b1909', 'b3979', 'b2018', 'b4441', 'b3855', 'b0769', 'b0883', 'b4616', 'b3798', 'b2348', 'b3766', 'b2589', 'b2693', 'b2694', 'b2189', 'b4718', 'b1348', 'b0201', 'b4456', 'b3069', 'b3392', 'b0664', 'b3489', 'b4450', 'b2967', 'b0666', 'b4421', 'b4010', 'b2621', 'b3171', 'b0371', 'b2228', 'b4459', 'b4608', 'b1715', 'b2816', 'b4433', 'b1510', 'b1986', 'b3970', 'b4663', 'b3796', 'b4618', 'b0204', 'b3757', 'b3854', 'b3276', 'b1911', 'b0744', 'b4435', 'b2849', 'b0971', 'b0203', 'b0205', 'b4640', 'b3852', 'b4763', 'b4444', 'b4592', 'b4762', 'b1265', 'b1665', 'b1575', 'b0202', 'b4009', 'b2695', 'b4432', 'b1910', 'b4436', 'b0075', 'b3853', 'b1417', 'b4722', 'b2815', 'b0303', 'b4134', 'b4439', 'b3851', 'b4427', 'b2915', 'b4667', 'b2401', 'b4164', 'b4637', 'b0670', 'b4764', 'b4449', 'b1229', 'b4368', 'b4685', 'b4586', 'b4426', 'b4408', 'b3545', 'b3123', 'b4443', 'b4429', 'b4415', 'b0673', 'b4457', 'b0364', 'b2588', 'b3658', 'b3272', 'b4736', 'b0044', 'b4759', 'b4613', 'b1455', 'b1975', 'b2339', 'b1230', 'b3274', 'b4442', 'b4665', 'b4670', 'b3797', 'b4669', 'b4624', 'b3174', 'b4704', 'b4452', 'b3759', 'b1470', 'b1472', 'b4597', 'b4370', 'b4691', 'b4585', 'b3278', 'b3275', 'b4699', 'b4625', 'b4697', 'b4163', 'b4440', 'b4513', 'b3756', 'b4611', 'b3443', 'b0668', 'b0665', 'b0645', 'b4505', 'b3864', 'b3978', 'b0001', 'b1989', 'b2403', 'b1231', 'b4707', 'b2652', 'b3138', 'b2590', 'b4007', 'b4716', 'b2598', 'b0745', 'b4698', 'b4609', 'b2462', 'b1572', 'b4438', 'b3027', 'b4599', 'b2396', 'b0244', 'b3046', 'b3969', 'b0553', 'b4413', 'b3971', 'b1365', 'b3330', 'b4673', 'b3968', 'b1576', 'b2691', 'b2814', 'b0216', 'b3799', 'b2402', 'b3977', 'b4668', 'b3758', 'b3976', 'b4437', 'b4270', 'b2911', 'b4617', 'b4412', 'b4803', 'b0743', 'b4524', 'b3672', 'b4454', 'b1954', 'b4008', 'b1569', 'b4417', 'b4666', 'b4451', 'b4165', 'b2856', 'b4741', 'b4458', 'b4577', 'b3889', 'b1977', 'b2692', 'b4447', 'b0536', 'b1032', 'b2591', 'b4719', 'b4760', 'b4702'}\n",
      "WARNING:root:Using the default dagostino_cutoff of 550. This may not be optimal for your dataset. Use ica_data.reoptimize_thresholds() to find the optimal threshold.\n"
     ]
    }
   ],
   "source": [
    "ica_data = IcaData(\n",
    "    M=path.join(data_dir,'M.csv'),\n",
    "    A=path.join(data_dir,'A.csv'),\n",
    "    X=path.join(data_dir, 'log_tpm_norm.csv'),\n",
    "    gene_table=path.join(annotation_dir,'gene_info.csv'),\n",
    "    sample_table=path.join(data_dir,'metadata.csv'),\n",
    "    trn=path.join(annotation_dir,'TRN.csv'),\n",
    "    optimize_cutoff=True\n",
    ")"
   ]
  },
  {
   "cell_type": "markdown",
   "metadata": {},
   "source": [
    "# TRN Enrichment\n",
    "Use `compute_trn_enrichment` to automatically check for Regulatory iModulons. The more complete your TRN, the more regulatory iModulons you'll find.\n",
    "\n",
    "For this automated step, use strict cutoff for evidence required (can loosen later during manual annotation)"
   ]
  },
  {
   "cell_type": "code",
   "execution_count": 24,
   "metadata": {},
   "outputs": [
    {
     "name": "stderr",
     "output_type": "stream",
     "text": [
      "/Users/cam/.virtualenvs/ica/lib/python3.10/site-packages/pandas/core/indexes/base.py:6982: FutureWarning: In a future version, the Index constructor will not infer numeric dtypes when passed object-dtype sequences (matching Series behavior)\n",
      "  return Index(sequences[0], name=names)\n",
      "/Users/cam/.virtualenvs/ica/lib/python3.10/site-packages/pymodulon/core.py:610: FutureWarning: Passing a set as an indexer is deprecated and will raise in a future version. Use a list instead.\n",
      "  keep_cols = self.imodulon_table.loc[\n"
     ]
    },
    {
     "data": {
      "text/html": [
       "<div>\n",
       "<style scoped>\n",
       "    .dataframe tbody tr th:only-of-type {\n",
       "        vertical-align: middle;\n",
       "    }\n",
       "\n",
       "    .dataframe tbody tr th {\n",
       "        vertical-align: top;\n",
       "    }\n",
       "\n",
       "    .dataframe thead th {\n",
       "        text-align: right;\n",
       "    }\n",
       "</style>\n",
       "<table border=\"1\" class=\"dataframe\">\n",
       "  <thead>\n",
       "    <tr style=\"text-align: right;\">\n",
       "      <th></th>\n",
       "      <th>imodulon</th>\n",
       "      <th>regulator</th>\n",
       "      <th>pvalue</th>\n",
       "      <th>qvalue</th>\n",
       "      <th>precision</th>\n",
       "      <th>recall</th>\n",
       "      <th>f1score</th>\n",
       "      <th>TP</th>\n",
       "      <th>regulon_size</th>\n",
       "      <th>imodulon_size</th>\n",
       "      <th>n_regs</th>\n",
       "    </tr>\n",
       "  </thead>\n",
       "  <tbody>\n",
       "    <tr>\n",
       "      <th>0</th>\n",
       "      <td>1</td>\n",
       "      <td>NrdR/Fur</td>\n",
       "      <td>1.193362e-64</td>\n",
       "      <td>4.287035e-60</td>\n",
       "      <td>0.688525</td>\n",
       "      <td>0.552632</td>\n",
       "      <td>0.613139</td>\n",
       "      <td>42.0</td>\n",
       "      <td>76.0</td>\n",
       "      <td>61.0</td>\n",
       "      <td>2.0</td>\n",
       "    </tr>\n",
       "    <tr>\n",
       "      <th>1</th>\n",
       "      <td>1</td>\n",
       "      <td>NfeR/Fur</td>\n",
       "      <td>6.501981e-60</td>\n",
       "      <td>1.167886e-55</td>\n",
       "      <td>0.639344</td>\n",
       "      <td>0.565217</td>\n",
       "      <td>0.600000</td>\n",
       "      <td>39.0</td>\n",
       "      <td>69.0</td>\n",
       "      <td>61.0</td>\n",
       "      <td>2.0</td>\n",
       "    </tr>\n",
       "    <tr>\n",
       "      <th>2</th>\n",
       "      <td>1</td>\n",
       "      <td>Fur</td>\n",
       "      <td>2.937251e-58</td>\n",
       "      <td>3.517260e-54</td>\n",
       "      <td>0.622951</td>\n",
       "      <td>0.567164</td>\n",
       "      <td>0.593750</td>\n",
       "      <td>38.0</td>\n",
       "      <td>67.0</td>\n",
       "      <td>61.0</td>\n",
       "      <td>1.0</td>\n",
       "    </tr>\n",
       "    <tr>\n",
       "      <th>3</th>\n",
       "      <td>1</td>\n",
       "      <td>Fur/GadE</td>\n",
       "      <td>7.411942e-56</td>\n",
       "      <td>5.325332e-52</td>\n",
       "      <td>0.639344</td>\n",
       "      <td>0.475610</td>\n",
       "      <td>0.545455</td>\n",
       "      <td>39.0</td>\n",
       "      <td>82.0</td>\n",
       "      <td>61.0</td>\n",
       "      <td>2.0</td>\n",
       "    </tr>\n",
       "    <tr>\n",
       "      <th>4</th>\n",
       "      <td>1</td>\n",
       "      <td>RutR/Fur</td>\n",
       "      <td>7.411942e-56</td>\n",
       "      <td>5.325332e-52</td>\n",
       "      <td>0.639344</td>\n",
       "      <td>0.475610</td>\n",
       "      <td>0.545455</td>\n",
       "      <td>39.0</td>\n",
       "      <td>82.0</td>\n",
       "      <td>61.0</td>\n",
       "      <td>2.0</td>\n",
       "    </tr>\n",
       "    <tr>\n",
       "      <th>...</th>\n",
       "      <td>...</td>\n",
       "      <td>...</td>\n",
       "      <td>...</td>\n",
       "      <td>...</td>\n",
       "      <td>...</td>\n",
       "      <td>...</td>\n",
       "      <td>...</td>\n",
       "      <td>...</td>\n",
       "      <td>...</td>\n",
       "      <td>...</td>\n",
       "      <td>...</td>\n",
       "    </tr>\n",
       "    <tr>\n",
       "      <th>1019</th>\n",
       "      <td>105</td>\n",
       "      <td>Lrp/Fnr</td>\n",
       "      <td>1.283712e-08</td>\n",
       "      <td>6.406437e-06</td>\n",
       "      <td>0.260000</td>\n",
       "      <td>0.084967</td>\n",
       "      <td>0.128079</td>\n",
       "      <td>13.0</td>\n",
       "      <td>153.0</td>\n",
       "      <td>50.0</td>\n",
       "      <td>2.0</td>\n",
       "    </tr>\n",
       "    <tr>\n",
       "      <th>1020</th>\n",
       "      <td>105</td>\n",
       "      <td>Fnr</td>\n",
       "      <td>1.498567e-08</td>\n",
       "      <td>7.376236e-06</td>\n",
       "      <td>0.220000</td>\n",
       "      <td>0.108911</td>\n",
       "      <td>0.145695</td>\n",
       "      <td>11.0</td>\n",
       "      <td>101.0</td>\n",
       "      <td>50.0</td>\n",
       "      <td>1.0</td>\n",
       "    </tr>\n",
       "    <tr>\n",
       "      <th>1021</th>\n",
       "      <td>105</td>\n",
       "      <td>AdiY/OmpR</td>\n",
       "      <td>1.568017e-08</td>\n",
       "      <td>7.613784e-06</td>\n",
       "      <td>0.160000</td>\n",
       "      <td>0.195122</td>\n",
       "      <td>0.175824</td>\n",
       "      <td>8.0</td>\n",
       "      <td>41.0</td>\n",
       "      <td>50.0</td>\n",
       "      <td>2.0</td>\n",
       "    </tr>\n",
       "    <tr>\n",
       "      <th>1022</th>\n",
       "      <td>105</td>\n",
       "      <td>IHF</td>\n",
       "      <td>2.053558e-08</td>\n",
       "      <td>9.838459e-06</td>\n",
       "      <td>0.260000</td>\n",
       "      <td>0.081761</td>\n",
       "      <td>0.124402</td>\n",
       "      <td>13.0</td>\n",
       "      <td>159.0</td>\n",
       "      <td>50.0</td>\n",
       "      <td>1.0</td>\n",
       "    </tr>\n",
       "    <tr>\n",
       "      <th>1023</th>\n",
       "      <td>106</td>\n",
       "      <td>Fur</td>\n",
       "      <td>2.016183e-15</td>\n",
       "      <td>7.240517e-11</td>\n",
       "      <td>0.818182</td>\n",
       "      <td>0.134328</td>\n",
       "      <td>0.230769</td>\n",
       "      <td>9.0</td>\n",
       "      <td>67.0</td>\n",
       "      <td>11.0</td>\n",
       "      <td>1.0</td>\n",
       "    </tr>\n",
       "  </tbody>\n",
       "</table>\n",
       "<p>1024 rows × 11 columns</p>\n",
       "</div>"
      ],
      "text/plain": [
       "     imodulon  regulator        pvalue        qvalue  precision    recall  \\\n",
       "0           1   NrdR/Fur  1.193362e-64  4.287035e-60   0.688525  0.552632   \n",
       "1           1   NfeR/Fur  6.501981e-60  1.167886e-55   0.639344  0.565217   \n",
       "2           1        Fur  2.937251e-58  3.517260e-54   0.622951  0.567164   \n",
       "3           1   Fur/GadE  7.411942e-56  5.325332e-52   0.639344  0.475610   \n",
       "4           1   RutR/Fur  7.411942e-56  5.325332e-52   0.639344  0.475610   \n",
       "...       ...        ...           ...           ...        ...       ...   \n",
       "1019      105    Lrp/Fnr  1.283712e-08  6.406437e-06   0.260000  0.084967   \n",
       "1020      105        Fnr  1.498567e-08  7.376236e-06   0.220000  0.108911   \n",
       "1021      105  AdiY/OmpR  1.568017e-08  7.613784e-06   0.160000  0.195122   \n",
       "1022      105        IHF  2.053558e-08  9.838459e-06   0.260000  0.081761   \n",
       "1023      106        Fur  2.016183e-15  7.240517e-11   0.818182  0.134328   \n",
       "\n",
       "       f1score    TP  regulon_size  imodulon_size  n_regs  \n",
       "0     0.613139  42.0          76.0           61.0     2.0  \n",
       "1     0.600000  39.0          69.0           61.0     2.0  \n",
       "2     0.593750  38.0          67.0           61.0     1.0  \n",
       "3     0.545455  39.0          82.0           61.0     2.0  \n",
       "4     0.545455  39.0          82.0           61.0     2.0  \n",
       "...        ...   ...           ...            ...     ...  \n",
       "1019  0.128079  13.0         153.0           50.0     2.0  \n",
       "1020  0.145695  11.0         101.0           50.0     1.0  \n",
       "1021  0.175824   8.0          41.0           50.0     2.0  \n",
       "1022  0.124402  13.0         159.0           50.0     1.0  \n",
       "1023  0.230769   9.0          67.0           11.0     1.0  \n",
       "\n",
       "[1024 rows x 11 columns]"
      ]
     },
     "execution_count": 24,
     "metadata": {},
     "output_type": "execute_result"
    }
   ],
   "source": [
    "ica_data.compute_trn_enrichment(max_regs=2, evidence=[1, 2], save=True)"
   ]
  },
  {
   "cell_type": "markdown",
   "metadata": {},
   "source": [
    "# Single-Gene-Dominant iModulons"
   ]
  },
  {
   "cell_type": "code",
   "execution_count": 8,
   "metadata": {},
   "outputs": [],
   "source": [
    "sg_imods = ica_data.find_single_gene_imodulons(save=True)"
   ]
  },
  {
   "cell_type": "code",
   "execution_count": 9,
   "metadata": {},
   "outputs": [],
   "source": [
    "for sg_mod in sg_imods:\n",
    "    sg_name = ica_data.view_imodulon(sg_mod).sort_values(\n",
    "        by='gene_weight', ascending=False).iloc[0, :]['gene_name']\n",
    "    ica_data.rename_imodulons({sg_mod:f'{sg_name}'})"
   ]
  },
  {
   "cell_type": "markdown",
   "metadata": {
    "tags": []
   },
   "source": [
    "# iModulon Names\n",
    "\n",
    "Convenient to string-ify all names so as not to have a mix of strings and ints in the index"
   ]
  },
  {
   "cell_type": "code",
   "execution_count": 10,
   "metadata": {},
   "outputs": [],
   "source": [
    "rename_dict = {}\n",
    "for im_name in ica_data.imodulon_names:\n",
    "    if isinstance(im_name, int):\n",
    "        rename_dict[im_name] = str(im_name)\n",
    "ica_data.rename_imodulons(rename_dict)"
   ]
  },
  {
   "cell_type": "markdown",
   "metadata": {},
   "source": [
    "# Explained Variance"
   ]
  },
  {
   "cell_type": "code",
   "execution_count": 14,
   "metadata": {},
   "outputs": [],
   "source": [
    "exp_vars = [explained_variance(ica_data, imodulons=[imod]) for imod in ica_data.imodulon_names]"
   ]
  },
  {
   "cell_type": "code",
   "execution_count": 15,
   "metadata": {},
   "outputs": [],
   "source": [
    "ica_data.imodulon_table['exp_var'] = exp_vars"
   ]
  },
  {
   "cell_type": "markdown",
   "metadata": {},
   "source": [
    "# iModulon Size"
   ]
  },
  {
   "cell_type": "code",
   "execution_count": 16,
   "metadata": {},
   "outputs": [],
   "source": [
    "ica_data.imodulon_table['imodulon_size'] = [ica_data.view_imodulon(imod).shape[0]\n",
    "                                            for imod in ica_data.imodulon_names]"
   ]
  },
  {
   "cell_type": "markdown",
   "metadata": {},
   "source": [
    "# PRECISE-1K Correlations"
   ]
  },
  {
   "cell_type": "markdown",
   "metadata": {
    "tags": []
   },
   "source": [
    "## Load PRECISE-1K"
   ]
  },
  {
   "cell_type": "code",
   "execution_count": 17,
   "metadata": {},
   "outputs": [],
   "source": [
    "precise1k = load_json_model('../../data/precise1k/precise1k.json.gz')"
   ]
  },
  {
   "cell_type": "markdown",
   "metadata": {
    "tags": []
   },
   "source": [
    "## Run Correlation Comparisons"
   ]
  },
  {
   "cell_type": "code",
   "execution_count": 18,
   "metadata": {},
   "outputs": [],
   "source": [
    "match_rows = []\n",
    "for match in compare_ica(precise1k.M, ica_data.M, method='pearson')[0]:\n",
    "    match_rows.append({\n",
    "        'dataset': 'PRECISE-1K',\n",
    "        'p1K_iM': match[0],\n",
    "        'pure_im': match[1],\n",
    "        'method': 'pearson',\n",
    "        'corr': match[2]\n",
    "    })\n",
    "for match in compare_ica(precise1k.M, ica_data.M, method='spearman')[0]:\n",
    "    match_rows.append({\n",
    "        'dataset': 'PRECISE-1K',\n",
    "        'p1K_iM': match[0],\n",
    "        'pure_im': match[1],\n",
    "        'method': 'spearman',\n",
    "        'corr': match[2]\n",
    "    })\n",
    "    \n",
    "match_df = pd.DataFrame(match_rows)"
   ]
  },
  {
   "cell_type": "code",
   "execution_count": 21,
   "metadata": {},
   "outputs": [],
   "source": [
    "for im, im_row in ica_data.imodulon_table.iterrows():\n",
    "    im_match = match_df[match_df['pure_im'] == im]\n",
    "    if not im_match.empty:\n",
    "        max_corr = np.argmax(im_match['corr'])\n",
    "        max_corr_im = im_match.iloc[max_corr]['p1K_iM']\n",
    "        max_corr_im_df = im_match[im_match['p1K_iM'] == max_corr_im]\n",
    "        for _, max_corr_row in max_corr_im_df.iterrows():\n",
    "            ica_data.imodulon_table.loc[im, 'PRECISE-1K'] = max_corr_row['p1K_iM']\n",
    "            ica_data.imodulon_table.loc[im, max_corr_row['method']] = max_corr_row['corr']"
   ]
  },
  {
   "cell_type": "markdown",
   "metadata": {},
   "source": [
    "# Re-Save M/A Matrices and iModulon Table"
   ]
  },
  {
   "cell_type": "code",
   "execution_count": 27,
   "metadata": {},
   "outputs": [],
   "source": [
    "ica_data.imodulon_table.to_csv(path.join(data_dir, 'imodulon_table.csv'))\n",
    "ica_data.A.to_csv(path.join(data_dir, 'A.csv'))\n",
    "ica_data.M.to_csv(path.join(data_dir, 'M.csv'))"
   ]
  },
  {
   "cell_type": "markdown",
   "metadata": {},
   "source": [
    "# Save IcaData object"
   ]
  },
  {
   "cell_type": "markdown",
   "metadata": {},
   "source": [
    "This will save your iModulon table, your thresholds, and any other information stored in the ica_data object."
   ]
  },
  {
   "cell_type": "code",
   "execution_count": 28,
   "metadata": {},
   "outputs": [],
   "source": [
    "save_to_json(ica_data, path.join(data_dir, 'pure_precise'), compress=True)"
   ]
  }
 ],
 "metadata": {
  "kernelspec": {
   "display_name": "Python 3 (ipykernel)",
   "language": "python",
   "name": "python3"
  },
  "language_info": {
   "codemirror_mode": {
    "name": "ipython",
    "version": 3
   },
   "file_extension": ".py",
   "mimetype": "text/x-python",
   "name": "python",
   "nbconvert_exporter": "python",
   "pygments_lexer": "ipython3",
   "version": "3.10.2"
  },
  "toc": {
   "base_numbering": 1,
   "nav_menu": {},
   "number_sections": true,
   "sideBar": true,
   "skip_h1_title": false,
   "title_cell": "Table of Contents",
   "title_sidebar": "Contents",
   "toc_cell": true,
   "toc_position": {},
   "toc_section_display": true,
   "toc_window_display": true
  }
 },
 "nbformat": 4,
 "nbformat_minor": 4
}
